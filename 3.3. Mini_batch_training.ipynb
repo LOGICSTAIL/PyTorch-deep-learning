{
  "nbformat": 4,
  "nbformat_minor": 0,
  "metadata": {
    "colab": {
      "name": "1. 2.1. MLP regression (3 Layers).ipynb",
      "provenance": [],
      "collapsed_sections": []
    },
    "kernelspec": {
      "display_name": "Python 3",
      "language": "python",
      "name": "python3"
    },
    "language_info": {
      "codemirror_mode": {
        "name": "ipython",
        "version": 3
      },
      "file_extension": ".py",
      "mimetype": "text/x-python",
      "name": "python",
      "nbconvert_exporter": "python",
      "pygments_lexer": "ipython3",
      "version": "3.6.10"
    },
    "accelerator": "GPU"
  },
  "cells": [
    {
      "cell_type": "code",
      "metadata": {
        "id": "__UqpfWmZk_M"
      },
      "source": [
        "import torch\n",
        "from torchsummary import summary\n",
        "import random\n",
        "import numpy as np\n",
        "from sklearn.model_selection import train_test_split\n",
        "import matplotlib.pyplot as plt\n",
        "import torch.nn as nn"
      ],
      "execution_count": 1,
      "outputs": []
    },
    {
      "cell_type": "code",
      "metadata": {
        "colab": {
          "base_uri": "https://localhost:8080/"
        },
        "id": "ABW0dcklZddi",
        "outputId": "aea1b6cb-a78f-4806-b62a-457a92622744"
      },
      "source": [
        "if(torch.cuda.is_available()):\n",
        "    device = torch.device(\"cuda\")\n",
        "    print(device, torch.cuda.get_device_name(0))\n",
        "else:\n",
        "    device= torch.device(\"cpu\")\n",
        "    print(device)"
      ],
      "execution_count": 2,
      "outputs": [
        {
          "output_type": "stream",
          "text": [
            "cuda Tesla T4\n"
          ],
          "name": "stdout"
        }
      ]
    },
    {
      "cell_type": "code",
      "metadata": {
        "colab": {
          "base_uri": "https://localhost:8080/"
        },
        "id": "-MvLGgYaQajy",
        "outputId": "0f03f063-6cc3-4434-ef36-9138c3cda195"
      },
      "source": [
        "MyNet = nn.Sequential(\n",
        "    nn.Linear(1, 50),\n",
        "    nn.ReLU(),\n",
        "    nn.Linear(50, 100),\n",
        "    nn.ReLU(),\n",
        "    nn.Linear(100, 50),\n",
        "    nn.ReLU(),\n",
        "    nn.Linear(50, 1),\n",
        ")\n",
        "MyNet.to(device)\n",
        "summary(MyNet, input_size=(32, 1))"
      ],
      "execution_count": 3,
      "outputs": [
        {
          "output_type": "stream",
          "text": [
            "----------------------------------------------------------------\n",
            "        Layer (type)               Output Shape         Param #\n",
            "================================================================\n",
            "            Linear-1               [-1, 32, 50]             100\n",
            "              ReLU-2               [-1, 32, 50]               0\n",
            "            Linear-3              [-1, 32, 100]           5,100\n",
            "              ReLU-4              [-1, 32, 100]               0\n",
            "            Linear-5               [-1, 32, 50]           5,050\n",
            "              ReLU-6               [-1, 32, 50]               0\n",
            "            Linear-7                [-1, 32, 1]              51\n",
            "================================================================\n",
            "Total params: 10,301\n",
            "Trainable params: 10,301\n",
            "Non-trainable params: 0\n",
            "----------------------------------------------------------------\n",
            "Input size (MB): 0.00\n",
            "Forward/backward pass size (MB): 0.10\n",
            "Params size (MB): 0.04\n",
            "Estimated Total Size (MB): 0.14\n",
            "----------------------------------------------------------------\n"
          ],
          "name": "stdout"
        }
      ]
    },
    {
      "cell_type": "code",
      "metadata": {
        "id": "TfDLpOKCQajk"
      },
      "source": [
        "loss_func = torch.nn.MSELoss()\n",
        "optimizer = torch.optim.Adam(MyNet.parameters(), lr=0.005)"
      ],
      "execution_count": 4,
      "outputs": []
    },
    {
      "cell_type": "markdown",
      "metadata": {
        "id": "WjLEA5plbPtq"
      },
      "source": [
        "# 40 data, with normalized x and y"
      ]
    },
    {
      "cell_type": "code",
      "metadata": {
        "id": "LMO1ranbDUr2"
      },
      "source": [
        "lstX1 = []\n",
        "lstY1 = []\n",
        "for x in range(-5000, 5000, 250):\n",
        "  lstX1.append(x)\n",
        "  y = 3*x*x*x + 2*x*x + 5*x + random.uniform(0,1)*5000\n",
        "  lstY1.append(y)\n",
        "\n",
        "#normalize x to [-1, 1]\n",
        "lstX = []\n",
        "for x in lstX1:\n",
        "  x = x/5000.0\n",
        "  lstX.append([x])\n",
        "\n",
        "#normalize y to [-1, 1]\n",
        "maxY = max(lstY1)\n",
        "minY = min(lstY1)\n",
        "r = maxY - minY\n",
        "lstY = []\n",
        "for y in lstY1:\n",
        "  y = y/r  #normalized to [-1, 1]\n",
        "  lstY.append([y])"
      ],
      "execution_count": 5,
      "outputs": []
    },
    {
      "cell_type": "code",
      "metadata": {
        "colab": {
          "base_uri": "https://localhost:8080/"
        },
        "id": "VfrEBnJ_uye6",
        "outputId": "4b07e461-bd14-489e-eaf7-c9680134d0c0"
      },
      "source": [
        "numpyX = np.array(lstX)\n",
        "numpyY = np.array(lstY)\n",
        "trainX, testX, trainY_hat, testY_hat = train_test_split(numpyX, numpyY, test_size=0.20, random_state=0)\n",
        "tensorX = torch.FloatTensor(trainX).to(device)\n",
        "tensorY_hat = torch.FloatTensor(trainY_hat).to(device)\n",
        "print(tensorX.shape, tensorY_hat.shape)"
      ],
      "execution_count": 6,
      "outputs": [
        {
          "output_type": "stream",
          "text": [
            "torch.Size([32, 1]) torch.Size([32, 1])\n"
          ],
          "name": "stdout"
        }
      ]
    },
    {
      "cell_type": "markdown",
      "metadata": {
        "id": "2IZQkGCj7GHi"
      },
      "source": [
        "# Train with all data"
      ]
    },
    {
      "cell_type": "code",
      "metadata": {
        "id": "oWCcW9lT6BWQ",
        "colab": {
          "base_uri": "https://localhost:8080/",
          "height": 228
        },
        "outputId": "595ecc1b-99bb-44f1-89f0-d52c6b2e725e"
      },
      "source": [
        "# initialize NN weights\n",
        "for name, param in MyNet.named_parameters():\n",
        "  if(param.requires_grad):\n",
        "    torch.nn.init.normal_(param, mean=0.0, std=0.02)\n",
        "\n",
        "lossLst = []\n",
        "for epoch in range(1, 500):\n",
        "  tensorY = MyNet(tensorX)\n",
        "  loss = loss_func(tensorY_hat, tensorY)\n",
        "  lossLst.append(float(loss))\n",
        "  optimizer.zero_grad()\n",
        "  loss.backward()\n",
        "  optimizer.step()\n",
        "fig=plt.figure(figsize=(12, 3))\n",
        "fig.add_subplot(1, 2, 1) \n",
        "plt.plot(lossLst)\n",
        "plt.grid()\n",
        "\n",
        "## take a look at training data performance\n",
        "tensorY = MyNet(tensorX)\n",
        "loss = loss_func(tensorY, tensorY_hat)\n",
        "print(\"Training loss: %.2f\" % (float(loss)))\n",
        "fig.add_subplot(1, 2, 2) \n",
        "trainY = tensorY.detach().cpu().numpy()\n",
        "plt.scatter(trainX, trainY, s=50, lw=0, color=\"blue\")\n",
        "plt.scatter(trainX, trainY_hat, s=50, lw=0, color=\"red\")\n",
        "plt.show()"
      ],
      "execution_count": 7,
      "outputs": [
        {
          "output_type": "stream",
          "text": [
            "Training loss: 0.00\n"
          ],
          "name": "stdout"
        },
        {
          "output_type": "display_data",
          "data": {
            "image/png": "[encoded data removed]",
            "text/plain": [
              "<Figure size 864x216 with 2 Axes>"
            ]
          },
          "metadata": {
            "tags": [],
            "needs_background": "light"
          }
        }
      ]
    },
    {
      "cell_type": "markdown",
      "metadata": {
        "id": "kzvpeJ0Yuhuv"
      },
      "source": [
        "# Define a data loader to load data in batches"
      ]
    },
    {
      "cell_type": "code",
      "metadata": {
        "id": "ynJMBp0BuoTy"
      },
      "source": [
        "import torch.utils.data as Data\n",
        "torch_dataset = Data.TensorDataset(tensorX, tensorY_hat)"
      ],
      "execution_count": 8,
      "outputs": []
    },
    {
      "cell_type": "code",
      "metadata": {
        "id": "yq7GbVtxsxBu"
      },
      "source": [
        "loader = Data.DataLoader(\n",
        "    dataset=torch_dataset,  \n",
        "    batch_size=15,      \n",
        "    shuffle=True,       \n",
        "    num_workers=0,    # subprocesses for loading data\n",
        ")"
      ],
      "execution_count": 9,
      "outputs": []
    },
    {
      "cell_type": "code",
      "metadata": {
        "colab": {
          "base_uri": "https://localhost:8080/"
        },
        "id": "P0GEGhJq3HJ3",
        "outputId": "f190bfd7-a75f-4a51-bbef-c28defd36d9f"
      },
      "source": [
        "for (batchX, batchY_hat) in loader:\n",
        "  print(batchX.shape,\", \", batchY_hat.shape)"
      ],
      "execution_count": 10,
      "outputs": [
        {
          "output_type": "stream",
          "text": [
            "torch.Size([15, 1]) ,  torch.Size([15, 1])\n",
            "torch.Size([15, 1]) ,  torch.Size([15, 1])\n",
            "torch.Size([2, 1]) ,  torch.Size([2, 1])\n"
          ],
          "name": "stdout"
        }
      ]
    },
    {
      "cell_type": "code",
      "metadata": {
        "colab": {
          "base_uri": "https://localhost:8080/"
        },
        "id": "QQ6x58wewPq5",
        "outputId": "8edb2d7b-180d-48f5-93c6-6ec6ed6fc060"
      },
      "source": [
        "for (batchX, batchY_hat) in loader:\n",
        "  break\n",
        "print(batchX.shape,\", \", batchY_hat.shape)"
      ],
      "execution_count": 11,
      "outputs": [
        {
          "output_type": "stream",
          "text": [
            "torch.Size([15, 1]) ,  torch.Size([15, 1])\n"
          ],
          "name": "stdout"
        }
      ]
    },
    {
      "cell_type": "code",
      "metadata": {
        "id": "Tm4mZPfDyhYN"
      },
      "source": [
        "tensorY = MyNet(batchX)"
      ],
      "execution_count": 12,
      "outputs": []
    },
    {
      "cell_type": "code",
      "metadata": {
        "id": "Qd3nEvBDyktD"
      },
      "source": [
        "loss = loss_func(batchY_hat, tensorY)"
      ],
      "execution_count": 13,
      "outputs": []
    },
    {
      "cell_type": "markdown",
      "metadata": {
        "id": "OvMjbanty0Dq"
      },
      "source": [
        "# Train with mini-batch"
      ]
    },
    {
      "cell_type": "code",
      "metadata": {
        "colab": {
          "base_uri": "https://localhost:8080/",
          "height": 228
        },
        "id": "cu8gM7chwT7t",
        "outputId": "4e707aa6-0cb2-444a-d353-4430dee16af2"
      },
      "source": [
        "# initialize NN weights\n",
        "for name, param in MyNet.named_parameters():\n",
        "  if(param.requires_grad):\n",
        "    torch.nn.init.normal_(param, mean=0.0, std=0.02)\n",
        "\n",
        "lossLst = []\n",
        "for epoch in range(1, 500):\n",
        "  for (batchX, batchY_hat) in loader:\n",
        "    tensorY = MyNet(batchX)\n",
        "    loss = loss_func(batchY_hat, tensorY)\n",
        "    lossLst.append(float(loss))\n",
        "    optimizer.zero_grad()\n",
        "    loss.backward()\n",
        "    optimizer.step()\n",
        "fig=plt.figure(figsize=(12, 3))\n",
        "fig.add_subplot(1, 2, 1) \n",
        "plt.plot(lossLst)\n",
        "plt.grid()\n",
        "\n",
        "## take a look at training data performance\n",
        "tensorY = MyNet(tensorX)\n",
        "loss = loss_func(tensorY, tensorY_hat)\n",
        "print(\"Training loss: %.2f\" % (float(loss)))\n",
        "fig.add_subplot(1, 2, 2) \n",
        "trainY = tensorY.detach().cpu().numpy()\n",
        "plt.scatter(trainX, trainY, s=50, lw=0, color=\"blue\")\n",
        "plt.scatter(trainX, trainY_hat, s=50, lw=0, color=\"red\")\n",
        "plt.show()"
      ],
      "execution_count": 14,
      "outputs": [
        {
          "output_type": "stream",
          "text": [
            "Training loss: 0.00\n"
          ],
          "name": "stdout"
        },
        {
          "output_type": "display_data",
          "data": {
            "image/png": "[encoded data removed]",
            "text/plain": [
              "<Figure size 864x216 with 2 Axes>"
            ]
          },
          "metadata": {
            "tags": [],
            "needs_background": "light"
          }
        }
      ]
    },
    {
      "cell_type": "markdown",
      "metadata": {
        "id": "OlXn8Uu20hN_"
      },
      "source": [
        "# Experiment with different mini-batch size"
      ]
    },
    {
      "cell_type": "code",
      "metadata": {
        "id": "1gAdH8uVzPB6"
      },
      "source": [
        "loader = Data.DataLoader(\n",
        "    dataset=torch_dataset,  \n",
        "    batch_size=10,      \n",
        "    shuffle=True,       \n",
        "    num_workers=0,    # subprocesses for loading data\n",
        ")"
      ],
      "execution_count": 16,
      "outputs": []
    },
    {
      "cell_type": "code",
      "metadata": {
        "colab": {
          "base_uri": "https://localhost:8080/",
          "height": 230
        },
        "id": "EqIwJ3HH1McJ",
        "outputId": "86834eca-d4ca-47e2-ca67-4c8398290f9a"
      },
      "source": [
        "# initialize NN weights\n",
        "for name, param in MyNet.named_parameters():\n",
        "  if(param.requires_grad):\n",
        "    torch.nn.init.normal_(param, mean=0.0, std=0.02)\n",
        "\n",
        "lossLst = []\n",
        "for epoch in range(1, 500):\n",
        "  for (batchX, batchY_hat) in loader:\n",
        "    tensorY = MyNet(batchX)\n",
        "    loss = loss_func(batchY_hat, tensorY)\n",
        "    lossLst.append(float(loss))\n",
        "    optimizer.zero_grad()\n",
        "    loss.backward()\n",
        "    optimizer.step()\n",
        "fig=plt.figure(figsize=(12, 3))\n",
        "fig.add_subplot(1, 2, 1) \n",
        "plt.plot(lossLst)\n",
        "plt.grid()\n",
        "\n",
        "## take a look at training data performance\n",
        "tensorY = MyNet(tensorX)\n",
        "loss = loss_func(tensorY, tensorY_hat)\n",
        "print(\"Training loss: %.2f\" % (float(loss)))\n",
        "fig.add_subplot(1, 2, 2) \n",
        "trainY = tensorY.detach().cpu().numpy()\n",
        "plt.scatter(trainX, trainY, s=50, lw=0, color=\"blue\")\n",
        "plt.scatter(trainX, trainY_hat, s=50, lw=0, color=\"red\")\n",
        "plt.show()"
      ],
      "execution_count": 17,
      "outputs": [
        {
          "output_type": "stream",
          "text": [
            "Training loss: 0.00\n"
          ],
          "name": "stdout"
        },
        {
          "output_type": "display_data",
          "data": {
            "image/png": "[encoded data removed]",
            "text/plain": [
              "<Figure size 864x216 with 2 Axes>"
            ]
          },
          "metadata": {
            "tags": [],
            "needs_background": "light"
          }
        }
      ]
    },
    {
      "cell_type": "code",
      "metadata": {
        "id": "XtDPqVKb2PQF"
      },
      "source": [
        "loader = Data.DataLoader(\n",
        "    dataset=torch_dataset,  \n",
        "    batch_size=5,      \n",
        "    shuffle=True,       \n",
        "    num_workers=0,    # subprocesses for loading data\n",
        ")"
      ],
      "execution_count": 18,
      "outputs": []
    },
    {
      "cell_type": "code",
      "metadata": {
        "colab": {
          "base_uri": "https://localhost:8080/",
          "height": 228
        },
        "id": "AIfe36Vj2jrl",
        "outputId": "0af420e3-8b33-48a2-aba9-007874ed5cd8"
      },
      "source": [
        "# initialize NN weights\n",
        "for name, param in MyNet.named_parameters():\n",
        "  if(param.requires_grad):\n",
        "    torch.nn.init.normal_(param, mean=0.0, std=0.02)\n",
        "\n",
        "lossLst = []\n",
        "for epoch in range(1, 500):\n",
        "  for (batchX, batchY_hat) in loader:\n",
        "    tensorY = MyNet(batchX)\n",
        "    loss = loss_func(batchY_hat, tensorY)\n",
        "    lossLst.append(float(loss))\n",
        "    optimizer.zero_grad()\n",
        "    loss.backward()\n",
        "    optimizer.step()\n",
        "fig=plt.figure(figsize=(12, 3))\n",
        "fig.add_subplot(1, 2, 1) \n",
        "plt.plot(lossLst)\n",
        "plt.grid()\n",
        "\n",
        "## take a look at training data performance\n",
        "tensorY = MyNet(tensorX)\n",
        "loss = loss_func(tensorY, tensorY_hat)\n",
        "print(\"Training loss: %.2f\" % (float(loss)))\n",
        "fig.add_subplot(1, 2, 2) \n",
        "trainY = tensorY.detach().cpu().numpy()\n",
        "plt.scatter(trainX, trainY, s=50, lw=0, color=\"blue\")\n",
        "plt.scatter(trainX, trainY_hat, s=50, lw=0, color=\"red\")\n",
        "plt.show()"
      ],
      "execution_count": 19,
      "outputs": [
        {
          "output_type": "stream",
          "text": [
            "Training loss: 0.00\n"
          ],
          "name": "stdout"
        },
        {
          "output_type": "display_data",
          "data": {
            "image/png": "[encoded data removed]",
            "text/plain": [
              "<Figure size 864x216 with 2 Axes>"
            ]
          },
          "metadata": {
            "tags": [],
            "needs_background": "light"
          }
        }
      ]
    },
    {
      "cell_type": "code",
      "metadata": {
        "id": "dmzXy7kB4D8u"
      },
      "source": [
        ""
      ],
      "execution_count": null,
      "outputs": []
    }
  ]
}