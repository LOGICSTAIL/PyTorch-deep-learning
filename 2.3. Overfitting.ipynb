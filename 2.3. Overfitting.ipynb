{
  "nbformat": 4,
  "nbformat_minor": 0,
  "metadata": {
    "colab": {
      "name": "1. 2. MLP regression.ipynb",
      "provenance": [],
      "collapsed_sections": []
    },
    "kernelspec": {
      "display_name": "Python 3",
      "language": "python",
      "name": "python3"
    },
    "language_info": {
      "codemirror_mode": {
        "name": "ipython",
        "version": 3
      },
      "file_extension": ".py",
      "mimetype": "text/x-python",
      "name": "python",
      "nbconvert_exporter": "python",
      "pygments_lexer": "ipython3",
      "version": "3.6.10"
    },
    "accelerator": "GPU"
  },
  "cells": [
    {
      "cell_type": "code",
      "metadata": {
        "id": "__UqpfWmZk_M"
      },
      "source": [
        "import torch"
      ],
      "execution_count": 1,
      "outputs": []
    },
    {
      "cell_type": "code",
      "metadata": {
        "colab": {
          "base_uri": "https://localhost:8080/"
        },
        "id": "ABW0dcklZddi",
        "outputId": "1d9fc10a-98c9-45f4-a0bd-c0fe7f640b27"
      },
      "source": [
        "if(torch.cuda.is_available()):\n",
        "    device = torch.device(\"cuda\")\n",
        "    print(device, torch.cuda.get_device_name(0))\n",
        "else:\n",
        "    device= torch.device(\"cpu\")\n",
        "    print(device)"
      ],
      "execution_count": 2,
      "outputs": [
        {
          "output_type": "stream",
          "text": [
            "cuda Tesla T4\n"
          ],
          "name": "stdout"
        }
      ]
    },
    {
      "cell_type": "markdown",
      "metadata": {
        "id": "ECDyDJRDpTBX"
      },
      "source": [
        "#Generate data"
      ]
    },
    {
      "cell_type": "code",
      "metadata": {
        "id": "uJOamte-liVM"
      },
      "source": [
        "import random\n",
        "lstX = []\n",
        "lstY = []\n",
        "for x in range(-100, 100, 5):\n",
        "  lstX.append([x])\n",
        "  y = 3*x + random.uniform(0, 1)*100\n",
        "  lstY.append([y])"
      ],
      "execution_count": 3,
      "outputs": []
    },
    {
      "cell_type": "code",
      "metadata": {
        "id": "LEv62WfjaiMd",
        "colab": {
          "base_uri": "https://localhost:8080/"
        },
        "outputId": "eb508b85-dfec-4709-e84f-fc515decf73f"
      },
      "source": [
        "import numpy as np\n",
        "numpyX = np.array(lstX)\n",
        "numpyY = np.array(lstY)\n",
        "print(numpyX.shape, numpyY.shape)"
      ],
      "execution_count": 4,
      "outputs": [
        {
          "output_type": "stream",
          "text": [
            "(40, 1) (40, 1)\n"
          ],
          "name": "stdout"
        }
      ]
    },
    {
      "cell_type": "code",
      "metadata": {
        "id": "8ZHmrQS-84st",
        "colab": {
          "base_uri": "https://localhost:8080/"
        },
        "outputId": "6574c79e-0963-4744-f948-7594239c4060"
      },
      "source": [
        "from sklearn.model_selection import train_test_split\n",
        "trainX, testX, trainY_hat, testY_hat = train_test_split(numpyX, numpyY, test_size=0.20, random_state=0)\n",
        "print(trainX.shape, testX.shape, trainY_hat.shape, testY_hat.shape)"
      ],
      "execution_count": 5,
      "outputs": [
        {
          "output_type": "stream",
          "text": [
            "(32, 1) (8, 1) (32, 1) (8, 1)\n"
          ],
          "name": "stdout"
        }
      ]
    },
    {
      "cell_type": "code",
      "metadata": {
        "id": "GyMi6ytR9T18",
        "colab": {
          "base_uri": "https://localhost:8080/",
          "height": 265
        },
        "outputId": "2dc69a74-0c2f-41a7-fde4-24efbabd1908"
      },
      "source": [
        "import matplotlib.pyplot as plt\n",
        "plt.figure(figsize=(12, 4))\n",
        "plt.scatter(trainX, trainY_hat, color = \"blue\")\n",
        "plt.scatter(testX, testY_hat, color = \"red\")\n",
        "plt.show()"
      ],
      "execution_count": 6,
      "outputs": [
        {
          "output_type": "display_data",
          "data": {
            "image/png": "[encoded data removed]",
            "text/plain": [
              "<Figure size 864x288 with 1 Axes>"
            ]
          },
          "metadata": {
            "tags": [],
            "needs_background": "light"
          }
        }
      ]
    },
    {
      "cell_type": "markdown",
      "metadata": {
        "id": "4s4g_ujnQajv"
      },
      "source": [
        "# Build NN"
      ]
    },
    {
      "cell_type": "code",
      "metadata": {
        "id": "a1kFKiHzQajW"
      },
      "source": [
        "import torch.nn as nn"
      ],
      "execution_count": 7,
      "outputs": []
    },
    {
      "cell_type": "code",
      "metadata": {
        "colab": {
          "base_uri": "https://localhost:8080/"
        },
        "id": "-MvLGgYaQajy",
        "outputId": "7cb2a93e-35c1-4e45-959a-824681aad60b"
      },
      "source": [
        "MyNet = nn.Sequential(\n",
        "    nn.Linear(1, 100),\n",
        "    nn.ReLU(),\n",
        "    nn.Linear(100, 50),\n",
        "    nn.ReLU(),\n",
        "    nn.Linear(50, 1),\n",
        ")\n",
        "MyNet.to(device)\n",
        "print(MyNet)"
      ],
      "execution_count": 8,
      "outputs": [
        {
          "output_type": "stream",
          "text": [
            "Sequential(\n",
            "  (0): Linear(in_features=1, out_features=100, bias=True)\n",
            "  (1): ReLU()\n",
            "  (2): Linear(in_features=100, out_features=50, bias=True)\n",
            "  (3): ReLU()\n",
            "  (4): Linear(in_features=50, out_features=1, bias=True)\n",
            ")\n"
          ],
          "name": "stdout"
        }
      ]
    },
    {
      "cell_type": "code",
      "metadata": {
        "colab": {
          "base_uri": "https://localhost:8080/"
        },
        "id": "mHh2X1LtVZ5s",
        "outputId": "fc5a3685-970f-4925-fd59-8068f63f286b"
      },
      "source": [
        "from torchsummary import summary\n",
        "summary(MyNet, input_size=(10, 1))"
      ],
      "execution_count": 9,
      "outputs": [
        {
          "output_type": "stream",
          "text": [
            "----------------------------------------------------------------\n",
            "        Layer (type)               Output Shape         Param #\n",
            "================================================================\n",
            "            Linear-1              [-1, 10, 100]             200\n",
            "              ReLU-2              [-1, 10, 100]               0\n",
            "            Linear-3               [-1, 10, 50]           5,050\n",
            "              ReLU-4               [-1, 10, 50]               0\n",
            "            Linear-5                [-1, 10, 1]              51\n",
            "================================================================\n",
            "Total params: 5,301\n",
            "Trainable params: 5,301\n",
            "Non-trainable params: 0\n",
            "----------------------------------------------------------------\n",
            "Input size (MB): 0.00\n",
            "Forward/backward pass size (MB): 0.02\n",
            "Params size (MB): 0.02\n",
            "Estimated Total Size (MB): 0.04\n",
            "----------------------------------------------------------------\n"
          ],
          "name": "stdout"
        }
      ]
    },
    {
      "cell_type": "code",
      "metadata": {
        "id": "h9pgtjB2Qaj0"
      },
      "source": [
        "loss_func = torch.nn.MSELoss()"
      ],
      "execution_count": 10,
      "outputs": []
    },
    {
      "cell_type": "code",
      "metadata": {
        "id": "TfDLpOKCQajk"
      },
      "source": [
        "optimizer = torch.optim.Adam(MyNet.parameters(), lr=0.005)"
      ],
      "execution_count": 11,
      "outputs": []
    },
    {
      "cell_type": "markdown",
      "metadata": {
        "id": "yOKJidaQQakZ"
      },
      "source": [
        "# Train N epoches"
      ]
    },
    {
      "cell_type": "code",
      "metadata": {
        "id": "su8r11Ei_oKE"
      },
      "source": [
        "tensorX = torch.FloatTensor(trainX).to(device)\n",
        "tensorY_hat = torch.FloatTensor(trainY_hat).to(device)"
      ],
      "execution_count": 12,
      "outputs": []
    },
    {
      "cell_type": "code",
      "metadata": {
        "id": "zdpYknvbQaka"
      },
      "source": [
        "lossLst = []\n",
        "for epoch in range(1, 500):\n",
        "    tensorY = MyNet(tensorX)\n",
        "    loss = loss_func(tensorY_hat, tensorY)\n",
        "    loss1 = float(loss)\n",
        "    #print(\"%.2f\" % (loss1), end = \", \")\n",
        "    lossLst.append(loss1)\n",
        "    optimizer.zero_grad()\n",
        "    loss.backward()\n",
        "    optimizer.step()"
      ],
      "execution_count": 13,
      "outputs": []
    },
    {
      "cell_type": "code",
      "metadata": {
        "colab": {
          "base_uri": "https://localhost:8080/",
          "height": 377
        },
        "id": "wxUqhxTRQakc",
        "outputId": "680c5fa1-9b49-4e4d-aa88-f22ebb440845"
      },
      "source": [
        "plt.figure(figsize=(12, 6))\n",
        "plt.plot(lossLst)\n",
        "plt.show()"
      ],
      "execution_count": 14,
      "outputs": [
        {
          "output_type": "display_data",
          "data": {
            "image/png": "[encoded data removed]",
            "text/plain": [
              "<Figure size 864x432 with 1 Axes>"
            ]
          },
          "metadata": {
            "tags": [],
            "needs_background": "light"
          }
        }
      ]
    },
    {
      "cell_type": "markdown",
      "metadata": {
        "id": "kedZymCMuu8t"
      },
      "source": [
        "##Training data performance"
      ]
    },
    {
      "cell_type": "code",
      "metadata": {
        "colab": {
          "base_uri": "https://localhost:8080/"
        },
        "id": "60OD3A_Vu0i1",
        "outputId": "191d7c8a-b1e8-44b9-f225-039233ee6028"
      },
      "source": [
        "tensorY = MyNet(tensorX)\n",
        "loss = loss_func(tensorY, tensorY_hat)\n",
        "print(\"%.2f\" % (float(loss)))"
      ],
      "execution_count": 15,
      "outputs": [
        {
          "output_type": "stream",
          "text": [
            "601.34\n"
          ],
          "name": "stdout"
        }
      ]
    },
    {
      "cell_type": "code",
      "metadata": {
        "id": "S67p9ZD6umyZ"
      },
      "source": [
        "trainY = tensorY.detach().cpu().numpy()"
      ],
      "execution_count": 16,
      "outputs": []
    },
    {
      "cell_type": "code",
      "metadata": {
        "colab": {
          "base_uri": "https://localhost:8080/",
          "height": 347
        },
        "id": "sz4hiopOuii4",
        "outputId": "85d33e9a-440a-4c21-df6e-716b7c8ccda8"
      },
      "source": [
        "plt.figure(figsize=(18, 6))\n",
        "plt.scatter(trainX, trainY, s=50, lw=0, color=\"red\")\n",
        "plt.scatter(trainX, trainY_hat, s=50, lw=0, color=\"green\")\n",
        "plt.show()"
      ],
      "execution_count": 17,
      "outputs": [
        {
          "output_type": "display_data",
          "data": {
            "image/png": "[encoded data removed]",
            "text/plain": [
              "<Figure size 1296x432 with 1 Axes>"
            ]
          },
          "metadata": {
            "tags": [],
            "needs_background": "light"
          }
        }
      ]
    },
    {
      "cell_type": "markdown",
      "metadata": {
        "id": "Rbj87PXpcWcM"
      },
      "source": [
        "# Test "
      ]
    },
    {
      "cell_type": "code",
      "metadata": {
        "id": "f7X3c7_veV_t",
        "colab": {
          "base_uri": "https://localhost:8080/"
        },
        "outputId": "961c9030-30ec-4a2b-b234-7ec33298ae69"
      },
      "source": [
        "tensorX = torch.FloatTensor(testX).to(device)\n",
        "tensorY_hat = torch.FloatTensor(testY_hat).to(device)\n",
        "tensorY = MyNet(tensorX)\n",
        "loss = loss_func(tensorY, tensorY_hat)\n",
        "print(\"%.2f\" % (float(loss)))"
      ],
      "execution_count": 18,
      "outputs": [
        {
          "output_type": "stream",
          "text": [
            "1302.25\n"
          ],
          "name": "stdout"
        }
      ]
    },
    {
      "cell_type": "code",
      "metadata": {
        "id": "UtPQOTEx-ZqI"
      },
      "source": [
        "testY = tensorY.detach().cpu().numpy()"
      ],
      "execution_count": 19,
      "outputs": []
    },
    {
      "cell_type": "code",
      "metadata": {
        "colab": {
          "base_uri": "https://localhost:8080/",
          "height": 347
        },
        "id": "xlIi1nADdMkY",
        "outputId": "9f40ccaf-dace-49bb-f3c6-b989be497204"
      },
      "source": [
        "plt.figure(figsize=(18, 6))\n",
        "plt.scatter(testX, testY, s=50, lw=0, color=\"red\")\n",
        "plt.scatter(testX, testY_hat, s=50, lw=0, color=\"green\")\n",
        "plt.show()"
      ],
      "execution_count": 20,
      "outputs": [
        {
          "output_type": "display_data",
          "data": {
            "image/png": "[encoded data removed]",
            "text/plain": [
              "<Figure size 1296x432 with 1 Axes>"
            ]
          },
          "metadata": {
            "tags": [],
            "needs_background": "light"
          }
        }
      ]
    },
    {
      "cell_type": "markdown",
      "metadata": {
        "id": "wlN9q2aN4WYr"
      },
      "source": [
        "# Train with early stop"
      ]
    },
    {
      "cell_type": "markdown",
      "metadata": {
        "id": "L0N5M-ra6d8e"
      },
      "source": [
        "1. Generate data\n",
        "2. Build NN\n",
        "3. Train N epoches (modify training loop)\n",
        "4. Training data performance\n",
        "5. Test"
      ]
    },
    {
      "cell_type": "code",
      "metadata": {
        "id": "Z3BnQQbi4pBS"
      },
      "source": [
        "tensor_trainX = torch.FloatTensor(trainX).to(device)\n",
        "tensor_trainY_hat = torch.FloatTensor(trainY_hat).to(device)\n",
        "tensor_validX = torch.FloatTensor(validX).to(device)\n",
        "tensor_validY_hat = torch.FloatTensor(validY_hat).to(device)"
      ],
      "execution_count": null,
      "outputs": []
    },
    {
      "cell_type": "code",
      "metadata": {
        "id": "VoC4Ru9y4sI9"
      },
      "source": [
        "# Early stopping\n",
        "the_last_loss = 100000\n",
        "patience = 2\n",
        "trigger_times = 0\n",
        "trainLossLst = []\n",
        "validLossLst = []\n",
        "for epoch in range(1, 500):\n",
        "    tensor_trainY = MyNet(tensor_trainX)\n",
        "    train_loss = loss_func(tensor_trainY, tensor_trainY_hat)\n",
        "    trainLossLst.append(float(train_loss))\n",
        "    optimizer.zero_grad()\n",
        "    train_loss.backward()\n",
        "    optimizer.step()\n",
        "\n",
        "    tensor_validY = MyNet(tensor_validX)\n",
        "    valid_loss = loss_func(tensor_validY, tensor_validY_hat)\n",
        "    validLossLst.append(float(valid_loss))\n",
        "\n",
        "    #early stop\n",
        "    the_current_loss = float(valid_loss)\n",
        "    if(the_current_loss > the_last_loss):\n",
        "      trigger_times += 1\n",
        "      print('trigger times:', trigger_times)\n",
        "      if trigger_times >= patience:\n",
        "        print('Early stopping!')\n",
        "        break  # early stop when valid loss drops 2 consective times\n",
        "    elif(trigger_times >0):\n",
        "      print('trigger times reset to 0')\n",
        "      trigger_times = 0\n",
        "    the_last_loss = the_current_loss"
      ],
      "execution_count": null,
      "outputs": []
    },
    {
      "cell_type": "code",
      "metadata": {
        "id": "3S_NomZF4xAk"
      },
      "source": [
        "plt.figure(figsize=(12, 6))\n",
        "plt.plot(trainLossLst, color=\"blue\")\n",
        "plt.plot(validLossLst, color=\"green\")\n",
        "plt.show()"
      ],
      "execution_count": null,
      "outputs": []
    },
    {
      "cell_type": "markdown",
      "metadata": {
        "id": "MiNfnt0V477s"
      },
      "source": [
        "#Add L2 regularization to NN parameters"
      ]
    },
    {
      "cell_type": "markdown",
      "metadata": {
        "id": "aVHv4SZZ667u"
      },
      "source": [
        "1. Generate data\n",
        "2. Build NN (modify optimizer)\n",
        "3. Train N epoches \n",
        "4. Training data performance\n",
        "5. Test"
      ]
    },
    {
      "cell_type": "code",
      "metadata": {
        "id": "KBUA_I_a5G-a"
      },
      "source": [
        "optimizer = torch.optim.Adam(MyNet.parameters(), lr=0.005, weight_decay=0.0001)"
      ],
      "execution_count": null,
      "outputs": []
    },
    {
      "cell_type": "markdown",
      "metadata": {
        "id": "41XKkEnN5OIT"
      },
      "source": [
        "# Add L1 regularization to NN parameters"
      ]
    },
    {
      "cell_type": "markdown",
      "metadata": {
        "id": "U9m8AnCt7MKe"
      },
      "source": [
        ""
      ]
    },
    {
      "cell_type": "markdown",
      "metadata": {
        "id": "gHdmnkyu7Qa-"
      },
      "source": [
        "1. Generate data\n",
        "2. Build NN \n",
        "3. Train N epoches (add L1 regularization to training loop)\n",
        "4. Training data performance\n",
        "5. Test"
      ]
    },
    {
      "cell_type": "code",
      "metadata": {
        "id": "rKQeFs-65R3T"
      },
      "source": [
        "tensorX = torch.FloatTensor(trainX).to(device)\n",
        "tensorY_hat = torch.FloatTensor(trainY_hat).to(device)"
      ],
      "execution_count": null,
      "outputs": []
    },
    {
      "cell_type": "code",
      "metadata": {
        "id": "_hPwe0Bl5dfl"
      },
      "source": [
        "lamda = 0.001"
      ],
      "execution_count": null,
      "outputs": []
    },
    {
      "cell_type": "code",
      "metadata": {
        "id": "-1ZGUeo95g7k"
      },
      "source": [
        "lossLst = []\n",
        "for epoch in range(1, 500):\n",
        "    tensorY = MyNet(tensorX)\n",
        "    loss = loss_func(tensorY_hat, tensorY)\n",
        "    loss1 = float(loss)\n",
        "    #print(\"%.2f\" % (loss1), end = \", \")\n",
        "    lossLst.append(loss1)\n",
        "\n",
        "    # add L1 regularization\n",
        "    regularization_loss = 0\n",
        "    for name, param in MyNet.named_parameters():\n",
        "      if('weight' in name):\n",
        "        regularization_loss += torch.sum(abs(param))\n",
        "\n",
        "    loss = loss + lamda * regularization_loss\n",
        "    optimizer.zero_grad()\n",
        "    loss.backward()\n",
        "    optimizer.step()"
      ],
      "execution_count": null,
      "outputs": []
    },
    {
      "cell_type": "markdown",
      "metadata": {
        "id": "wbKjkkj-5nvu"
      },
      "source": [
        "#Initialize NN with small weights"
      ]
    },
    {
      "cell_type": "markdown",
      "metadata": {
        "id": "xohRZAxy7aKl"
      },
      "source": [
        "1. Generate data\n",
        "2. Build NN (initialize NN with small weights)\n",
        "3. Train N epoches \n",
        "4. Training data performance\n",
        "5. Test"
      ]
    },
    {
      "cell_type": "code",
      "metadata": {
        "id": "iYIuUoH85rYb"
      },
      "source": [
        "for param in MyNet.parameters():\n",
        "  if param.requires_grad:\n",
        "    print(param.data)"
      ],
      "execution_count": null,
      "outputs": []
    },
    {
      "cell_type": "code",
      "metadata": {
        "id": "GgDXDUKx5whU"
      },
      "source": [
        "for name, param in MyNet.named_parameters():\n",
        "  if(param.requires_grad):\n",
        "    torch.nn.init.normal_(param, mean=0.0, std=0.002)\n",
        "    print(param)"
      ],
      "execution_count": null,
      "outputs": []
    },
    {
      "cell_type": "markdown",
      "metadata": {
        "id": "D5QRkffg50D_"
      },
      "source": [
        "#Drop out"
      ]
    },
    {
      "cell_type": "markdown",
      "metadata": {
        "id": "wjCtn55t7j19"
      },
      "source": [
        "1. Generate data\n",
        "2. Build NN (with drop out)\n",
        "3. Train N epoches\n",
        "4. Training data performance (turn NN to eval mode)\n",
        "5. Test (turn NN to eval mode)"
      ]
    },
    {
      "cell_type": "code",
      "metadata": {
        "id": "bEzH0sDr57Kq"
      },
      "source": [
        "MyNet = nn.Sequential(\n",
        "    nn.Linear(1, 100),\n",
        "    nn.ReLU(),\n",
        "    nn.Dropout(p=0.5),\n",
        "    nn.Linear(100, 50),\n",
        "    nn.ReLU(),\n",
        "    nn.Dropout(p=0.2),\n",
        "    nn.Linear(50, 1),\n",
        ")\n",
        "MyNet.to(device)\n",
        "print(MyNet)"
      ],
      "execution_count": null,
      "outputs": []
    },
    {
      "cell_type": "markdown",
      "metadata": {
        "id": "c28Lavwn6DaF"
      },
      "source": [
        "### model.eval() will turn model to test mode and PyTorch will automatically handle weight scaling of the dropout layer"
      ]
    },
    {
      "cell_type": "code",
      "metadata": {
        "id": "0nSp4iyG6GFq"
      },
      "source": [
        "MyNet.eval()"
      ],
      "execution_count": null,
      "outputs": []
    }
  ]
}