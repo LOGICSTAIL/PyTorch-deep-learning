{
 "cells": [
  {
   "cell_type": "code",
   "execution_count": 1,
   "metadata": {
    "id": "__UqpfWmZk_M"
   },
   "outputs": [],
   "source": [
    "import torch\n",
    "import torch.nn as nn\n",
    "import torch.utils.data as Data\n",
    "import numpy as np\n",
    "from sklearn.model_selection import train_test_split\n",
    "import matplotlib.pyplot as plt"
   ]
  },
  {
   "cell_type": "code",
   "execution_count": 2,
   "metadata": {
    "colab": {
     "base_uri": "https://localhost:8080/"
    },
    "id": "ABW0dcklZddi",
    "outputId": "4ce7877f-46a7-4b58-e1bc-d1d25140d2eb"
   },
   "outputs": [
    {
     "name": "stdout",
     "output_type": "stream",
     "text": [
      "cuda NVIDIA GeForce RTX 3060\n"
     ]
    }
   ],
   "source": [
    "if(torch.cuda.is_available()):\n",
    "    device = torch.device(\"cuda\")\n",
    "    print(device, torch.cuda.get_device_name(0))\n",
    "else:\n",
    "    device= torch.device(\"cpu\")\n",
    "    print(device)"
   ]
  },
  {
   "cell_type": "markdown",
   "metadata": {
    "id": "9IKumQZJbtg8"
   },
   "source": [
    "# Generate data"
   ]
  },
  {
   "cell_type": "code",
   "execution_count": 3,
   "metadata": {
    "id": "eDKfqZTSYA6D"
   },
   "outputs": [],
   "source": [
    "# y without noises \n",
    "lstX=[]\n",
    "lstY=[]\n",
    "for i in range(5000):\n",
    "  x1 = np.random.normal(0.5, 0.3) # mean and standard deviation\n",
    "  x2 = np.random.normal(0, 0.3)\n",
    "  x3 = np.random.normal(0.8, 0.5)\n",
    "  x4 = np.random.normal(0.3, 0.8)\n",
    "  x5 = np.random.normal(0.6, 0.5)\n",
    "  x6 = np.random.normal(0.5, 0.3)\n",
    "  x7 = np.random.normal(0, 0.6)\n",
    "  # y = 0.323*x1^2 + 0.586*x1x2 + 0.4*x3 + 0.8972x5^3 + 0.267*x3^2x5x6 + 0.78*x7^2\n",
    "  y = 0.323*pow(x1,2)+0.586*x1*x2+0.4*x3+0.8972*pow(x5,3)+0.267*pow(x3,2)*x5*x6+0.78*pow(x7,2)\n",
    "  lstX.append([x1, x2, x3, x4, x5, x6, x7])\n",
    "  lstY.append([y])"
   ]
  },
  {
   "cell_type": "code",
   "execution_count": 4,
   "metadata": {
    "colab": {
     "base_uri": "https://localhost:8080/"
    },
    "id": "KyPxI--48wJe",
    "outputId": "e1752b28-ba06-4a8a-b879-81acde21e221"
   },
   "outputs": [
    {
     "name": "stdout",
     "output_type": "stream",
     "text": [
      "(5000, 7) (5000, 1)\n"
     ]
    }
   ],
   "source": [
    "#convert data to numpy array\n",
    "numpyX = np.array(lstX)\n",
    "numpyY = np.array(lstY)\n",
    "print(numpyX.shape, numpyY.shape)"
   ]
  },
  {
   "cell_type": "code",
   "execution_count": 8,
   "metadata": {},
   "outputs": [
    {
     "name": "stdout",
     "output_type": "stream",
     "text": [
      "13.072980495540195 -1.4913245531612465 1.382467409922907 1.2216046432923093\n"
     ]
    }
   ],
   "source": [
    "print(np.max(numpyY), np.min(numpyY), np.mean(numpyY), np.std(numpyY))"
   ]
  },
  {
   "cell_type": "code",
   "execution_count": 13,
   "metadata": {},
   "outputs": [],
   "source": [
    "lstX=[]\n",
    "lstY=[]\n",
    "for i in range(5000):\n",
    "  x1 = np.random.normal(0.5, 0.3) # mean and standard deviation\n",
    "  x2 = np.random.normal(0, 0.3)\n",
    "  x3 = np.random.normal(0.8, 0.5)\n",
    "  x4 = np.random.normal(0.3, 0.8)\n",
    "  x5 = np.random.normal(0.6, 0.5)\n",
    "  x6 = np.random.normal(0.5, 0.3)\n",
    "  x7 = np.random.normal(0, 0.6)\n",
    "  # y = 0.323*x1^2 + 0.586*x1x2 + 0.4*x3 + 0.8972x5^3 + 0.267*x3^2x5x6 + 0.78*x7^2\n",
    "  y = 0.323*pow(x1,2)+0.586*x1*x2+0.4*x3+0.8972*pow(x5,3)+0.267*pow(x3,2)*x5*x6+0.78*pow(x7,2)\n",
    "  y = y +  np.random.normal(2, 3)\n",
    "  lstX.append([x1, x2, x3, x4, x5, x6, x7])\n",
    "  lstY.append([y])"
   ]
  },
  {
   "cell_type": "code",
   "execution_count": 14,
   "metadata": {},
   "outputs": [
    {
     "name": "stdout",
     "output_type": "stream",
     "text": [
      "18.115853999327765 -7.263791568475197 3.287005104565261 3.2099039037869366\n"
     ]
    }
   ],
   "source": [
    "numpyX = np.array(lstX)\n",
    "numpyY = np.array(lstY)\n",
    "print(np.max(numpyY), np.min(numpyY), np.mean(numpyY), np.std(numpyY))"
   ]
  },
  {
   "cell_type": "markdown",
   "metadata": {
    "id": "4s4g_ujnQajv"
   },
   "source": [
    "# Build NN"
   ]
  },
  {
   "cell_type": "code",
   "execution_count": 17,
   "metadata": {
    "colab": {
     "base_uri": "https://localhost:8080/"
    },
    "id": "-MvLGgYaQajy",
    "outputId": "47de0197-727c-4c03-baab-8d98b567dd27"
   },
   "outputs": [
    {
     "name": "stdout",
     "output_type": "stream",
     "text": [
      "Sequential(\n",
      "  (0): Linear(in_features=7, out_features=1024, bias=True)\n",
      "  (1): ReLU()\n",
      "  (2): Linear(in_features=1024, out_features=1024, bias=True)\n",
      "  (3): ReLU()\n",
      "  (4): Linear(in_features=1024, out_features=1024, bias=True)\n",
      "  (5): ReLU()\n",
      "  (6): Linear(in_features=1024, out_features=1024, bias=True)\n",
      "  (7): ReLU()\n",
      "  (8): Linear(in_features=1024, out_features=1024, bias=True)\n",
      "  (9): ReLU()\n",
      "  (10): Linear(in_features=1024, out_features=1, bias=True)\n",
      ")\n"
     ]
    }
   ],
   "source": [
    "MyNet = nn.Sequential(\n",
    "    nn.Linear(7, 1024),\n",
    "    nn.ReLU(),\n",
    "    nn.Linear(1024, 1024),\n",
    "    nn.ReLU(),\n",
    "    nn.Linear(1024, 1024),\n",
    "    nn.ReLU(),\n",
    "    nn.Linear(1024, 1024),\n",
    "    nn.ReLU(),\n",
    "    nn.Linear(1024, 1024),\n",
    "    nn.ReLU(),\n",
    "    nn.Linear(1024, 1),\n",
    ")\n",
    "MyNet.to(device)\n",
    "print(MyNet)"
   ]
  },
  {
   "cell_type": "code",
   "execution_count": 18,
   "metadata": {
    "id": "h9pgtjB2Qaj0"
   },
   "outputs": [],
   "source": [
    "loss_func = torch.nn.MSELoss()\n",
    "optimizer = torch.optim.Adam(MyNet.parameters(), lr=0.0003)"
   ]
  },
  {
   "cell_type": "markdown",
   "metadata": {
    "id": "yOKJidaQQakZ"
   },
   "source": [
    "# Training Loop"
   ]
  },
  {
   "cell_type": "code",
   "execution_count": 22,
   "metadata": {},
   "outputs": [],
   "source": [
    "trainX, testX, trainY, testY = train_test_split(numpyX, numpyY, test_size=0.20, random_state=0)\n",
    "tensorX = torch.FloatTensor(trainX).to(device)\n",
    "tensorY = torch.FloatTensor(trainY).to(device)\n",
    "torch_dataset = Data.TensorDataset(tensorX, tensorY)\n",
    "loader = Data.DataLoader(\n",
    "      dataset=torch_dataset,  \n",
    "      batch_size=500,      \n",
    "      shuffle=True,       \n",
    "      num_workers=0,    # subprocesses for loading data\n",
    "  )"
   ]
  },
  {
   "cell_type": "code",
   "execution_count": 23,
   "metadata": {
    "colab": {
     "base_uri": "https://localhost:8080/"
    },
    "id": "zdpYknvbQaka",
    "outputId": "1e6152e5-c9b7-4921-9c37-91b79fe24da6"
   },
   "outputs": [
    {
     "name": "stdout",
     "output_type": "stream",
     "text": [
      "200,400,600,800,"
     ]
    }
   ],
   "source": [
    "lossLst = []\n",
    "for epoch in range(1, 1000):\n",
    "  if(epoch% 200 == 0):\n",
    "      print(epoch, end=\",\")\n",
    "  for (batchX, batchY) in loader:\n",
    "    batchY_hat = MyNet(batchX)\n",
    "    loss = loss_func(batchY_hat, batchY)\n",
    "    lossLst.append(float(loss))\n",
    "    optimizer.zero_grad()\n",
    "    loss.backward()\n",
    "    optimizer.step()"
   ]
  },
  {
   "cell_type": "code",
   "execution_count": 24,
   "metadata": {
    "colab": {
     "base_uri": "https://localhost:8080/",
     "height": 385
    },
    "id": "wxUqhxTRQakc",
    "outputId": "f5a66d7c-4335-4583-df7d-cc14a90bd070"
   },
   "outputs": [
    {
     "data": {
      "image/png": "[encoded data removed]",
      "text/plain": [
       "<Figure size 864x432 with 1 Axes>"
      ]
     },
     "metadata": {
      "needs_background": "light"
     },
     "output_type": "display_data"
    }
   ],
   "source": [
    "import matplotlib.pyplot as plt\n",
    "plt.figure(figsize=(12, 6))\n",
    "plt.plot(lossLst)\n",
    "plt.show()"
   ]
  },
  {
   "cell_type": "markdown",
   "metadata": {
    "id": "Rbj87PXpcWcM"
   },
   "source": [
    "# Test to check generalized prediction performance"
   ]
  },
  {
   "cell_type": "code",
   "execution_count": 25,
   "metadata": {
    "colab": {
     "base_uri": "https://localhost:8080/"
    },
    "id": "f7X3c7_veV_t",
    "outputId": "7fad2b77-ba4b-458e-b76d-d40bd180f09c"
   },
   "outputs": [
    {
     "name": "stdout",
     "output_type": "stream",
     "text": [
      "14.51, "
     ]
    }
   ],
   "source": [
    "tensorX = torch.FloatTensor(testX).to(device)\n",
    "tensorY = torch.FloatTensor(testY).to(device)\n",
    "tensorY_hat = MyNet(tensorX)\n",
    "loss = loss_func(tensorY, tensorY_hat)\n",
    "print(\"%.2f\" % (float(loss)), end = \", \")"
   ]
  },
  {
   "cell_type": "markdown",
   "metadata": {
    "id": "WRJcGtluJ4B5"
   },
   "source": [
    "# Run training-test N times to collect performance data"
   ]
  },
  {
   "cell_type": "code",
   "execution_count": 26,
   "metadata": {
    "colab": {
     "base_uri": "https://localhost:8080/"
    },
    "id": "_K7liTwGJzSh",
    "outputId": "a45dffe8-2443-4c63-a1af-03741b4f5c4c"
   },
   "outputs": [
    {
     "name": "stdout",
     "output_type": "stream",
     "text": [
      "\n",
      "Train-test  1 epoch: 100,200,300,400,\n",
      "Train-test  2 epoch: 100,200,300,400,\n",
      "Train-test  3 epoch: 100,200,300,400,\n",
      "Train-test  4 epoch: 100,200,300,400,\n",
      "Train-test  5 epoch: 100,200,300,400,\n",
      "Train-test  6 epoch: 100,200,300,400,\n",
      "Train-test  7 epoch: 100,200,300,400,\n",
      "Train-test  8 epoch: 100,200,300,400,\n",
      "Train-test  9 epoch: 100,200,300,400,\n",
      "Train-test  10 epoch: 100,200,300,400,\n",
      "Train-test  11 epoch: 100,200,300,400,\n",
      "Train-test  12 epoch: 100,200,300,400,\n",
      "Train-test  13 epoch: 100,200,300,400,\n",
      "Train-test  14 epoch: 100,200,300,400,\n",
      "Train-test  15 epoch: 100,200,300,400,\n",
      "Train-test  16 epoch: 100,200,300,400,\n",
      "Train-test  17 epoch: 100,200,300,400,\n",
      "Train-test  18 epoch: 100,200,300,400,\n",
      "Train-test  19 epoch: 100,200,300,400,\n",
      "Train-test  20 epoch: 100,200,300,400,"
     ]
    }
   ],
   "source": [
    "test_lossLst = []\n",
    "for i in range(1, 21):\n",
    "  print(\"\\nTrain-test \", i, end= \" \")\n",
    "  trainX, testX, trainY, testY = train_test_split(numpyX, numpyY, test_size=0.20, random_state=0)\n",
    "  torch_dataset = Data.TensorDataset(tensorX, tensorY)\n",
    "  loader = Data.DataLoader(\n",
    "      dataset=torch_dataset,  \n",
    "      batch_size=200,      \n",
    "      shuffle=True,       \n",
    "      num_workers=0,    # subprocesses for loading data\n",
    "  )\n",
    "\n",
    "  # initialize NN weights\n",
    "  for name, param in MyNet.named_parameters():\n",
    "    if(param.requires_grad):\n",
    "      torch.nn.init.normal_(param, mean=0.0, std=0.02)\n",
    "\n",
    "  # train NN \n",
    "  print(\"epoch\", end=\": \")\n",
    "  for epoch in range(1, 500):\n",
    "    if(epoch%100 == 0):\n",
    "      print(epoch, end=\",\")\n",
    "    for (batchX, batchY) in loader:\n",
    "      batchY_hat = MyNet(batchX)\n",
    "      loss = loss_func(batchY_hat, batchY)\n",
    "      optimizer.zero_grad()\n",
    "      loss.backward()\n",
    "      optimizer.step()\n",
    "\n",
    "  tensorX = torch.FloatTensor(testX).to(device)\n",
    "  tensorY = torch.FloatTensor(testY).to(device)\n",
    "  tensorY_hat = MyNet(tensorX)\n",
    "  loss = loss_func(tensorY, tensorY_hat)\n",
    "  test_lossLst.append(float(loss))"
   ]
  },
  {
   "cell_type": "code",
   "execution_count": 27,
   "metadata": {
    "colab": {
     "base_uri": "https://localhost:8080/",
     "height": 276
    },
    "id": "GqB5MPYTNhcL",
    "outputId": "11719f98-1586-452d-e8c6-86827a95f50e"
   },
   "outputs": [
    {
     "data": {
      "image/png": "[encoded data removed]",
      "text/plain": [
       "<Figure size 432x288 with 1 Axes>"
      ]
     },
     "metadata": {
      "needs_background": "light"
     },
     "output_type": "display_data"
    }
   ],
   "source": [
    "#take a look at the performance\n",
    "plt.boxplot(test_lossLst)\n",
    "plt.grid()"
   ]
  }
 ],
 "metadata": {
  "accelerator": "GPU",
  "colab": {
   "collapsed_sections": [],
   "name": "1. 2. MLP regression.ipynb",
   "provenance": []
  },
  "kernelspec": {
   "display_name": "Python 3",
   "language": "python",
   "name": "python3"
  },
  "language_info": {
   "codemirror_mode": {
    "name": "ipython",
    "version": 3
   },
   "file_extension": ".py",
   "mimetype": "text/x-python",
   "name": "python",
   "nbconvert_exporter": "python",
   "pygments_lexer": "ipython3",
   "version": "3.8.8"
  }
 },
 "nbformat": 4,
 "nbformat_minor": 1
}
