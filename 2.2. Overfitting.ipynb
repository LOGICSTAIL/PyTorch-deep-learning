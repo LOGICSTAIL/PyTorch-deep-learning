{
  "cells": [
    {
      "cell_type": "markdown",
      "metadata": {
        "id": "view-in-github",
        "colab_type": "text"
      },
      "source": [
        "<a href=\"https://colab.research.google.com/github/TienLungSun/PyTorch-deep-learning/blob/main/2.2.%20Overfitting.ipynb\" target=\"_parent\"><img src=\"https://colab.research.google.com/assets/colab-badge.svg\" alt=\"Open In Colab\"/></a>"
      ]
    },
    {
      "cell_type": "code",
      "execution_count": 1,
      "metadata": {
        "id": "__UqpfWmZk_M"
      },
      "outputs": [],
      "source": [
        "import torch\n",
        "import torch.nn as nn\n",
        "import torch.utils.data as Data\n",
        "import numpy as np\n",
        "from sklearn.model_selection import train_test_split\n",
        "import matplotlib.pyplot as plt"
      ]
    },
    {
      "cell_type": "code",
      "execution_count": 2,
      "metadata": {
        "colab": {
          "base_uri": "https://localhost:8080/"
        },
        "id": "ABW0dcklZddi",
        "outputId": "45df08db-f4de-4449-ffb2-667ae7abf4b9"
      },
      "outputs": [
        {
          "output_type": "stream",
          "name": "stdout",
          "text": [
            "cuda Tesla T4\n"
          ]
        }
      ],
      "source": [
        "if(torch.cuda.is_available()):\n",
        "    device = torch.device(\"cuda\")\n",
        "    print(device, torch.cuda.get_device_name(0))\n",
        "else:\n",
        "    device= torch.device(\"cpu\")\n",
        "    print(device)"
      ]
    },
    {
      "cell_type": "markdown",
      "metadata": {
        "id": "9IKumQZJbtg8"
      },
      "source": [
        "# Generate data"
      ]
    },
    {
      "cell_type": "code",
      "execution_count": 3,
      "metadata": {
        "id": "eDKfqZTSYA6D"
      },
      "outputs": [],
      "source": [
        "# y without noises \n",
        "lstX=[]\n",
        "lstY=[]\n",
        "for i in range(5000):\n",
        "  x1 = np.random.normal(0.1, 0.5) # mean and standard deviation\n",
        "  x2 = np.random.normal(0.6, 0.8)\n",
        "  x3 = np.random.normal(0.5, 0.8)\n",
        "  x4 = np.random.normal(0.1, 0.5)\n",
        "  x5 = np.random.normal(0, 0.7)\n",
        "  x6 = np.random.normal(0.2, 0.3)\n",
        "  x7 = np.random.normal(0, 0.3)\n",
        "  y = 0.455*pow(x1,3)+0.111*x1*x2+0.222*pow(x3,4)+0.888*pow(x6,3)+0.222*pow(x1,2)*x5+0.777*pow(x4,2)\n",
        "  lstX.append([x1, x2, x3, x4, x5, x6, x7])\n",
        "  lstY.append([y])"
      ]
    },
    {
      "cell_type": "code",
      "execution_count": 4,
      "metadata": {
        "colab": {
          "base_uri": "https://localhost:8080/"
        },
        "id": "KyPxI--48wJe",
        "outputId": "8926bacf-a63d-49df-f44c-b39eb6ea3711"
      },
      "outputs": [
        {
          "output_type": "stream",
          "name": "stdout",
          "text": [
            "18.13292989010687 -2.7928050801221946 0.7350784273986293 1.2813641494807688\n"
          ]
        }
      ],
      "source": [
        "numpyX = np.array(lstX)\n",
        "numpyY = np.array(lstY)\n",
        "print(np.max(numpyY), np.min(numpyY), np.mean(numpyY), np.std(numpyY))"
      ]
    },
    {
      "cell_type": "code",
      "execution_count": 5,
      "metadata": {
        "id": "TFzAMmB7I17O"
      },
      "outputs": [],
      "source": [
        "# Add noises to y\n",
        "lstX=[]\n",
        "lstY=[]\n",
        "for i in range(5000):\n",
        "  x1 = np.random.normal(0.1, 0.5) # mean and standard deviation\n",
        "  x2 = np.random.normal(0.6, 0.8)\n",
        "  x3 = np.random.normal(0.5, 0.8)\n",
        "  x4 = np.random.normal(0.1, 0.5)\n",
        "  x5 = np.random.normal(0, 0.7)\n",
        "  x6 = np.random.normal(0.2, 0.3)\n",
        "  x7 = np.random.normal(0, 0.3)\n",
        "  y = 0.455*pow(x1,3)+0.111*x1*x2+0.222*pow(x3,4)+0.888*pow(x6,3)+0.222*pow(x1,2)*x5+0.777*pow(x4,2)\n",
        "  y = y +  np.random.normal(2, 3)\n",
        "  lstX.append([x1, x2, x3, x4, x5, x6, x7])\n",
        "  lstY.append([y])"
      ]
    },
    {
      "cell_type": "code",
      "execution_count": 6,
      "metadata": {
        "id": "zXDcM4IxI17O",
        "outputId": "813a399d-b752-4fdc-ff71-58e5f426fb3f",
        "colab": {
          "base_uri": "https://localhost:8080/"
        }
      },
      "outputs": [
        {
          "output_type": "stream",
          "name": "stdout",
          "text": [
            "29.814988946943856 -8.006155455874657 2.7807243819475618 3.3233578511235193\n"
          ]
        }
      ],
      "source": [
        "numpyX = np.array(lstX)\n",
        "numpyY = np.array(lstY)\n",
        "print(np.max(numpyY), np.min(numpyY), np.mean(numpyY), np.std(numpyY))"
      ]
    },
    {
      "cell_type": "markdown",
      "metadata": {
        "id": "4s4g_ujnQajv"
      },
      "source": [
        "# Build NN"
      ]
    },
    {
      "cell_type": "code",
      "execution_count": 7,
      "metadata": {
        "colab": {
          "base_uri": "https://localhost:8080/"
        },
        "id": "-MvLGgYaQajy",
        "outputId": "25ab4d9c-d986-42a3-ee2b-81e552790b5d"
      },
      "outputs": [
        {
          "output_type": "stream",
          "name": "stdout",
          "text": [
            "Sequential(\n",
            "  (0): Linear(in_features=7, out_features=1024, bias=True)\n",
            "  (1): ReLU()\n",
            "  (2): Linear(in_features=1024, out_features=1024, bias=True)\n",
            "  (3): ReLU()\n",
            "  (4): Linear(in_features=1024, out_features=1024, bias=True)\n",
            "  (5): ReLU()\n",
            "  (6): Linear(in_features=1024, out_features=1024, bias=True)\n",
            "  (7): ReLU()\n",
            "  (8): Linear(in_features=1024, out_features=1024, bias=True)\n",
            "  (9): ReLU()\n",
            "  (10): Linear(in_features=1024, out_features=1, bias=True)\n",
            ")\n"
          ]
        }
      ],
      "source": [
        "MyNet = nn.Sequential(\n",
        "    nn.Linear(7, 1024),\n",
        "    nn.ReLU(),\n",
        "    nn.Linear(1024, 1024),\n",
        "    nn.ReLU(),\n",
        "    nn.Linear(1024, 1024),\n",
        "    nn.ReLU(),\n",
        "    nn.Linear(1024, 1024),\n",
        "    nn.ReLU(),\n",
        "    nn.Linear(1024, 1024),\n",
        "    nn.ReLU(),\n",
        "    nn.Linear(1024, 1),\n",
        ")\n",
        "MyNet.to(device)\n",
        "print(MyNet)"
      ]
    },
    {
      "cell_type": "code",
      "execution_count": 8,
      "metadata": {
        "id": "h9pgtjB2Qaj0"
      },
      "outputs": [],
      "source": [
        "loss_func = torch.nn.MSELoss()\n",
        "optimizer = torch.optim.Adam(MyNet.parameters(), lr=0.0003)"
      ]
    },
    {
      "cell_type": "markdown",
      "source": [
        "# Prepare mini-batch data loader"
      ],
      "metadata": {
        "id": "up6XDX0qJVcF"
      }
    },
    {
      "cell_type": "code",
      "execution_count": 9,
      "metadata": {
        "id": "7OMtX556I17Q"
      },
      "outputs": [],
      "source": [
        "trainX, testX, trainY, testY = train_test_split(numpyX, numpyY, test_size=0.20, random_state=0)\n",
        "tensorX = torch.FloatTensor(trainX).to(device)\n",
        "tensorY = torch.FloatTensor(trainY).to(device)\n",
        "torch_dataset = Data.TensorDataset(tensorX, tensorY)\n",
        "loader = Data.DataLoader(\n",
        "      dataset=torch_dataset,  \n",
        "      batch_size=500,      \n",
        "      shuffle=True,       \n",
        "      num_workers=0,    # subprocesses for loading data\n",
        "  )"
      ]
    },
    {
      "cell_type": "markdown",
      "metadata": {
        "id": "yOKJidaQQakZ"
      },
      "source": [
        "# Training Loop"
      ]
    },
    {
      "cell_type": "code",
      "execution_count": 10,
      "metadata": {
        "colab": {
          "base_uri": "https://localhost:8080/"
        },
        "id": "zdpYknvbQaka",
        "outputId": "83db8988-8801-4db6-ed5a-6b58996daa06"
      },
      "outputs": [
        {
          "output_type": "stream",
          "name": "stdout",
          "text": [
            "200,400,600,800,"
          ]
        }
      ],
      "source": [
        "lossLst = []\n",
        "for epoch in range(1, 1000):\n",
        "  if(epoch% 200 == 0):\n",
        "      print(epoch, end=\",\")\n",
        "  for (batchX, batchY) in loader:\n",
        "    batchY_hat = MyNet(batchX)\n",
        "    loss = loss_func(batchY_hat, batchY)\n",
        "    lossLst.append(float(loss))\n",
        "    optimizer.zero_grad()\n",
        "    loss.backward()\n",
        "    optimizer.step()"
      ]
    },
    {
      "cell_type": "code",
      "execution_count": 11,
      "metadata": {
        "colab": {
          "base_uri": "https://localhost:8080/",
          "height": 374
        },
        "id": "wxUqhxTRQakc",
        "outputId": "92336564-4f10-49ad-b03c-6cc0a5b8d667"
      },
      "outputs": [
        {
          "output_type": "display_data",
          "data": {
            "image/png": "[encoded data removed]",
            "text/plain": [
              "<Figure size 864x432 with 1 Axes>"
            ]
          },
          "metadata": {
            "needs_background": "light"
          }
        }
      ],
      "source": [
        "import matplotlib.pyplot as plt\n",
        "plt.figure(figsize=(12, 6))\n",
        "plt.plot(lossLst)\n",
        "plt.show()"
      ]
    },
    {
      "cell_type": "markdown",
      "metadata": {
        "id": "Rbj87PXpcWcM"
      },
      "source": [
        "# Test to check generalized prediction performance"
      ]
    },
    {
      "cell_type": "code",
      "execution_count": 12,
      "metadata": {
        "colab": {
          "base_uri": "https://localhost:8080/"
        },
        "id": "f7X3c7_veV_t",
        "outputId": "b0c77e50-300b-42c4-fddc-be2596905c5a"
      },
      "outputs": [
        {
          "output_type": "stream",
          "name": "stdout",
          "text": [
            "12.68, "
          ]
        }
      ],
      "source": [
        "tensorX = torch.FloatTensor(testX).to(device)\n",
        "tensorY = torch.FloatTensor(testY).to(device)\n",
        "tensorY_hat = MyNet(tensorX)\n",
        "loss = loss_func(tensorY, tensorY_hat)\n",
        "print(\"%.2f\" % (float(loss)), end = \", \")"
      ]
    },
    {
      "cell_type": "markdown",
      "metadata": {
        "id": "WRJcGtluJ4B5"
      },
      "source": [
        "# Run training-test 20 times to collect performance data"
      ]
    },
    {
      "cell_type": "code",
      "execution_count": 15,
      "metadata": {
        "colab": {
          "base_uri": "https://localhost:8080/"
        },
        "id": "_K7liTwGJzSh",
        "outputId": "9fafc019-21d0-4c2f-c1b4-cd992140d272"
      },
      "outputs": [
        {
          "output_type": "stream",
          "name": "stdout",
          "text": [
            "\n",
            "Train-test  1 epoch: 100,200,\n",
            "Train-test  2 epoch: 100,200,\n",
            "Train-test  3 epoch: 100,200,\n",
            "Train-test  4 epoch: 100,200,\n",
            "Train-test  5 epoch: 100,200,\n",
            "Train-test  6 epoch: 100,200,\n",
            "Train-test  7 epoch: 100,200,\n",
            "Train-test  8 epoch: 100,200,\n",
            "Train-test  9 epoch: 100,200,\n",
            "Train-test  10 epoch: 100,200,\n",
            "Train-test  11 epoch: 100,200,\n",
            "Train-test  12 epoch: 100,200,\n",
            "Train-test  13 epoch: 100,200,\n",
            "Train-test  14 epoch: 100,200,\n",
            "Train-test  15 epoch: 100,200,\n",
            "Train-test  16 epoch: 100,200,\n",
            "Train-test  17 epoch: 100,200,\n",
            "Train-test  18 epoch: 100,200,\n",
            "Train-test  19 epoch: 100,200,\n",
            "Train-test  20 epoch: 100,200,"
          ]
        }
      ],
      "source": [
        "test_lossLst = []\n",
        "for i in range(1, 21):\n",
        "  print(\"\\nTrain-test \", i, end= \" \")\n",
        "  trainX, testX, trainY, testY = train_test_split(numpyX, numpyY, test_size=0.20, random_state=0)\n",
        "  tensorX = torch.FloatTensor(trainX).to(device)\n",
        "  tensorY = torch.FloatTensor(trainY).to(device)\n",
        "  torch_dataset = Data.TensorDataset(tensorX, tensorY)\n",
        "  loader = Data.DataLoader(\n",
        "      dataset=torch_dataset,  \n",
        "      batch_size=500,      \n",
        "      shuffle=True,       \n",
        "      num_workers=0,    # subprocesses for loading data\n",
        "  )\n",
        "\n",
        "  # initialize NN weights\n",
        "  for name, param in MyNet.named_parameters():\n",
        "    if(param.requires_grad):\n",
        "      torch.nn.init.normal_(param, mean=0.0, std=0.02)\n",
        "  loss_func = torch.nn.MSELoss()\n",
        "  optimizer = torch.optim.Adam(MyNet.parameters(), lr=0.0003)\n",
        "\n",
        "  # train NN \n",
        "  print(\"epoch\", end=\": \")\n",
        "  for epoch in range(1, 300):\n",
        "    if(epoch%100 == 0):\n",
        "      print(epoch, end=\",\")\n",
        "    for (batchX, batchY) in loader:\n",
        "      batchY_hat = MyNet(batchX)\n",
        "      loss = loss_func(batchY_hat, batchY)\n",
        "      optimizer.zero_grad()\n",
        "      loss.backward()\n",
        "      optimizer.step()\n",
        "\n",
        "  tensorX = torch.FloatTensor(testX).to(device)\n",
        "  tensorY = torch.FloatTensor(testY).to(device)\n",
        "  tensorY_hat = MyNet(tensorX)\n",
        "  loss = loss_func(tensorY, tensorY_hat)\n",
        "  test_lossLst.append(float(loss))"
      ]
    },
    {
      "cell_type": "code",
      "execution_count": 16,
      "metadata": {
        "colab": {
          "base_uri": "https://localhost:8080/",
          "height": 267
        },
        "id": "GqB5MPYTNhcL",
        "outputId": "967e0929-ed15-4dd4-ebcf-4c6d6a1684f8"
      },
      "outputs": [
        {
          "output_type": "display_data",
          "data": {
            "image/png": "[encoded data removed]",
            "text/plain": [
              "<Figure size 432x288 with 1 Axes>"
            ]
          },
          "metadata": {
            "needs_background": "light"
          }
        }
      ],
      "source": [
        "#take a look at the performance\n",
        "plt.boxplot(test_lossLst)\n",
        "plt.grid()"
      ]
    },
    {
      "cell_type": "markdown",
      "source": [
        "# Solve overfitting (1) - Early stop"
      ],
      "metadata": {
        "id": "jwRG9Ehl9pv1"
      }
    },
    {
      "cell_type": "code",
      "source": [
        "test_lossLst = []\n",
        "for i in range(1, 21):\n",
        "  print(\"\\nTrain-test \", i, end= \" \")\n",
        "  trainX, testX, trainY, testY = train_test_split(numpyX, numpyY, test_size=0.20, random_state=0)\n",
        "  trainX, validationX, trainY, validationY = train_test_split(trainX, trainY, test_size=0.10, random_state=0)\n",
        "  tensorX = torch.FloatTensor(trainX).to(device)\n",
        "  tensorY = torch.FloatTensor(trainY).to(device)\n",
        "  torch_dataset = Data.TensorDataset(tensorX, tensorY)\n",
        "  loader = Data.DataLoader(\n",
        "      dataset=torch_dataset,  \n",
        "      batch_size=500,      \n",
        "      shuffle=True,       \n",
        "      num_workers=0,    # subprocesses for loading data\n",
        "  )\n",
        "\n",
        "  # initialize NN weights\n",
        "  for name, param in MyNet.named_parameters():\n",
        "    if(param.requires_grad):\n",
        "      torch.nn.init.normal_(param, mean=0.0, std=0.02)\n",
        "  loss_func = torch.nn.MSELoss()\n",
        "  optimizer = torch.optim.Adam(MyNet.parameters(), lr=0.0003)\n",
        "\n",
        "  # train NN \n",
        "  # Early stopping parameters\n",
        "  the_last_loss = 100000\n",
        "  patience = 2\n",
        "  trigger_times = 0\n",
        "  print(\"epoch\", end=\": \")\n",
        "  for epoch in range(1, 300):\n",
        "    if(epoch%100 == 0):\n",
        "      print(epoch, end=\",\")\n",
        "    for (batchX, batchY) in loader:\n",
        "      batchY_hat = MyNet(batchX)\n",
        "      loss = loss_func(batchY_hat, batchY)\n",
        "      optimizer.zero_grad()\n",
        "      loss.backward()\n",
        "      optimizer.step()\n",
        "    \n",
        "    tensor_validationX = torch.FloatTensor(validationX).to(device)\n",
        "    tensor_validationY = torch.FloatTensor(validationY).to(device)\n",
        "    tensor_validationY_hat = MyNet(tensor_validationX)\n",
        "    validatiion_loss = loss_func(tensor_validationY, tensor_validationY_hat)\n",
        "\n",
        "    #early stop\n",
        "    the_current_loss = float(validatiion_loss)\n",
        "    if(the_current_loss > the_last_loss):\n",
        "      trigger_times += 1\n",
        "      print('trigger times:', trigger_times)\n",
        "      if(trigger_times >= patience):\n",
        "        print('Early stopping!')\n",
        "        break  # early stop when validation loss increases 2 consective times\n",
        "    elif(trigger_times >0):\n",
        "      print('trigger times reset to 0')\n",
        "      trigger_times = 0\n",
        "    the_last_loss = the_current_loss\n",
        "\n",
        "  tensorX = torch.FloatTensor(testX).to(device)\n",
        "  tensorY = torch.FloatTensor(testY).to(device)\n",
        "  tensorY_hat = MyNet(tensorX)\n",
        "  loss = loss_func(tensorY, tensorY_hat)\n",
        "  test_lossLst.append(float(loss))"
      ],
      "metadata": {
        "id": "47MHcyyUKsSy",
        "outputId": "b1a2638f-a41b-4e1c-853d-dd61ee17c603",
        "colab": {
          "base_uri": "https://localhost:8080/"
        }
      },
      "execution_count": 17,
      "outputs": [
        {
          "output_type": "stream",
          "name": "stdout",
          "text": [
            "\n",
            "Train-test  1 epoch: trigger times: 1\n",
            "trigger times: 2\n",
            "Early stopping!\n",
            "\n",
            "Train-test  2 epoch: trigger times: 1\n",
            "trigger times reset to 0\n",
            "trigger times: 1\n",
            "trigger times reset to 0\n",
            "trigger times: 1\n",
            "trigger times reset to 0\n",
            "trigger times: 1\n",
            "trigger times reset to 0\n",
            "trigger times: 1\n",
            "trigger times: 2\n",
            "Early stopping!\n",
            "\n",
            "Train-test  3 epoch: trigger times: 1\n",
            "trigger times reset to 0\n",
            "trigger times: 1\n",
            "trigger times reset to 0\n",
            "trigger times: 1\n",
            "trigger times reset to 0\n",
            "trigger times: 1\n",
            "trigger times reset to 0\n",
            "trigger times: 1\n",
            "trigger times: 2\n",
            "Early stopping!\n",
            "\n",
            "Train-test  4 epoch: trigger times: 1\n",
            "trigger times reset to 0\n",
            "trigger times: 1\n",
            "trigger times reset to 0\n",
            "trigger times: 1\n",
            "trigger times: 2\n",
            "Early stopping!\n",
            "\n",
            "Train-test  5 epoch: trigger times: 1\n",
            "trigger times reset to 0\n",
            "trigger times: 1\n",
            "trigger times reset to 0\n",
            "trigger times: 1\n",
            "trigger times: 2\n",
            "Early stopping!\n",
            "\n",
            "Train-test  6 epoch: trigger times: 1\n",
            "trigger times reset to 0\n",
            "trigger times: 1\n",
            "trigger times: 2\n",
            "Early stopping!\n",
            "\n",
            "Train-test  7 epoch: trigger times: 1\n",
            "trigger times reset to 0\n",
            "trigger times: 1\n",
            "trigger times reset to 0\n",
            "trigger times: 1\n",
            "trigger times reset to 0\n",
            "trigger times: 1\n",
            "trigger times reset to 0\n",
            "trigger times: 1\n",
            "trigger times reset to 0\n",
            "trigger times: 1\n",
            "trigger times: 2\n",
            "Early stopping!\n",
            "\n",
            "Train-test  8 epoch: trigger times: 1\n",
            "trigger times reset to 0\n",
            "trigger times: 1\n",
            "trigger times reset to 0\n",
            "trigger times: 1\n",
            "trigger times: 2\n",
            "Early stopping!\n",
            "\n",
            "Train-test  9 epoch: trigger times: 1\n",
            "trigger times reset to 0\n",
            "trigger times: 1\n",
            "trigger times reset to 0\n",
            "trigger times: 1\n",
            "trigger times reset to 0\n",
            "trigger times: 1\n",
            "trigger times reset to 0\n",
            "trigger times: 1\n",
            "trigger times reset to 0\n",
            "trigger times: 1\n",
            "trigger times: 2\n",
            "Early stopping!\n",
            "\n",
            "Train-test  10 epoch: trigger times: 1\n",
            "trigger times reset to 0\n",
            "trigger times: 1\n",
            "trigger times reset to 0\n",
            "trigger times: 1\n",
            "trigger times: 2\n",
            "Early stopping!\n",
            "\n",
            "Train-test  11 epoch: trigger times: 1\n",
            "trigger times reset to 0\n",
            "trigger times: 1\n",
            "trigger times reset to 0\n",
            "trigger times: 1\n",
            "trigger times reset to 0\n",
            "trigger times: 1\n",
            "trigger times reset to 0\n",
            "trigger times: 1\n",
            "trigger times reset to 0\n",
            "trigger times: 1\n",
            "trigger times reset to 0\n",
            "trigger times: 1\n",
            "trigger times: 2\n",
            "Early stopping!\n",
            "\n",
            "Train-test  12 epoch: trigger times: 1\n",
            "trigger times reset to 0\n",
            "trigger times: 1\n",
            "trigger times reset to 0\n",
            "trigger times: 1\n",
            "trigger times reset to 0\n",
            "trigger times: 1\n",
            "trigger times: 2\n",
            "Early stopping!\n",
            "\n",
            "Train-test  13 epoch: trigger times: 1\n",
            "trigger times reset to 0\n",
            "trigger times: 1\n",
            "trigger times reset to 0\n",
            "trigger times: 1\n",
            "trigger times reset to 0\n",
            "trigger times: 1\n",
            "trigger times reset to 0\n",
            "trigger times: 1\n",
            "trigger times reset to 0\n",
            "trigger times: 1\n",
            "trigger times: 2\n",
            "Early stopping!\n",
            "\n",
            "Train-test  14 epoch: trigger times: 1\n",
            "trigger times reset to 0\n",
            "trigger times: 1\n",
            "trigger times reset to 0\n",
            "trigger times: 1\n",
            "trigger times: 2\n",
            "Early stopping!\n",
            "\n",
            "Train-test  15 epoch: trigger times: 1\n",
            "trigger times reset to 0\n",
            "trigger times: 1\n",
            "trigger times reset to 0\n",
            "trigger times: 1\n",
            "trigger times: 2\n",
            "Early stopping!\n",
            "\n",
            "Train-test  16 epoch: trigger times: 1\n",
            "trigger times reset to 0\n",
            "trigger times: 1\n",
            "trigger times reset to 0\n",
            "trigger times: 1\n",
            "trigger times: 2\n",
            "Early stopping!\n",
            "\n",
            "Train-test  17 epoch: trigger times: 1\n",
            "trigger times reset to 0\n",
            "trigger times: 1\n",
            "trigger times reset to 0\n",
            "trigger times: 1\n",
            "trigger times: 2\n",
            "Early stopping!\n",
            "\n",
            "Train-test  18 epoch: trigger times: 1\n",
            "trigger times reset to 0\n",
            "trigger times: 1\n",
            "trigger times reset to 0\n",
            "trigger times: 1\n",
            "trigger times reset to 0\n",
            "trigger times: 1\n",
            "trigger times: 2\n",
            "Early stopping!\n",
            "\n",
            "Train-test  19 epoch: trigger times: 1\n",
            "trigger times reset to 0\n",
            "trigger times: 1\n",
            "trigger times reset to 0\n",
            "trigger times: 1\n",
            "trigger times reset to 0\n",
            "trigger times: 1\n",
            "trigger times reset to 0\n",
            "trigger times: 1\n",
            "trigger times reset to 0\n",
            "trigger times: 1\n",
            "trigger times reset to 0\n",
            "trigger times: 1\n",
            "trigger times: 2\n",
            "Early stopping!\n",
            "\n",
            "Train-test  20 epoch: trigger times: 1\n",
            "trigger times reset to 0\n",
            "trigger times: 1\n",
            "trigger times reset to 0\n",
            "trigger times: 1\n",
            "trigger times reset to 0\n",
            "trigger times: 1\n",
            "trigger times reset to 0\n",
            "trigger times: 1\n",
            "trigger times reset to 0\n",
            "trigger times: 1\n",
            "trigger times: 2\n",
            "Early stopping!\n"
          ]
        }
      ]
    },
    {
      "cell_type": "code",
      "source": [
        "#take a look at the performance\n",
        "plt.boxplot(test_lossLst)\n",
        "plt.grid()"
      ],
      "metadata": {
        "id": "gZFrnuecBA-9",
        "outputId": "52bff4f0-6191-4ca8-ec9e-aa4e8381d5b1",
        "colab": {
          "base_uri": "https://localhost:8080/",
          "height": 265
        }
      },
      "execution_count": 18,
      "outputs": [
        {
          "output_type": "display_data",
          "data": {
            "image/png": "[encoded data removed]",
            "text/plain": [
              "<Figure size 432x288 with 1 Axes>"
            ]
          },
          "metadata": {
            "needs_background": "light"
          }
        }
      ]
    },
    {
      "cell_type": "markdown",
      "source": [
        "# Solve overfitting (2) - L2 regularization"
      ],
      "metadata": {
        "id": "zADz_1x1BT8N"
      }
    },
    {
      "cell_type": "code",
      "source": [
        "test_lossLst = []\n",
        "for i in range(1, 21):\n",
        "  print(\"\\nTrain-test \", i, end= \" \")\n",
        "  trainX, testX, trainY, testY = train_test_split(numpyX, numpyY, test_size=0.20, random_state=0)\n",
        "  tensorX = torch.FloatTensor(trainX).to(device)\n",
        "  tensorY = torch.FloatTensor(trainY).to(device)\n",
        "  torch_dataset = Data.TensorDataset(tensorX, tensorY)\n",
        "  loader = Data.DataLoader(\n",
        "      dataset=torch_dataset,  \n",
        "      batch_size=500,      \n",
        "      shuffle=True,       \n",
        "      num_workers=0,    # subprocesses for loading data\n",
        "  )\n",
        "\n",
        "  # initialize NN weights\n",
        "  for name, param in MyNet.named_parameters():\n",
        "    if(param.requires_grad):\n",
        "      torch.nn.init.normal_(param, mean=0.0, std=0.02)\n",
        "  loss_func = torch.nn.MSELoss()\n",
        "  optimizer = torch.optim.Adam(MyNet.parameters(), lr=0.0003, weight_decay=0.0001)\n",
        "\n",
        "  # train NN \n",
        "  print(\"epoch\", end=\": \")\n",
        "  for epoch in range(1, 300):\n",
        "    if(epoch%100 == 0):\n",
        "      print(epoch, end=\",\")\n",
        "    for (batchX, batchY) in loader:\n",
        "      batchY_hat = MyNet(batchX)\n",
        "      loss = loss_func(batchY_hat, batchY)\n",
        "      optimizer.zero_grad()\n",
        "      loss.backward()\n",
        "      optimizer.step()\n",
        "\n",
        "  tensorX = torch.FloatTensor(testX).to(device)\n",
        "  tensorY = torch.FloatTensor(testY).to(device)\n",
        "  tensorY_hat = MyNet(tensorX)\n",
        "  loss = loss_func(tensorY, tensorY_hat)\n",
        "  test_lossLst.append(float(loss))"
      ],
      "metadata": {
        "id": "NMnYGvG9BLfk"
      },
      "execution_count": null,
      "outputs": []
    }
  ],
  "metadata": {
    "accelerator": "GPU",
    "colab": {
      "collapsed_sections": [],
      "name": "1. 2. MLP regression.ipynb",
      "provenance": [],
      "include_colab_link": true
    },
    "kernelspec": {
      "display_name": "Python 3",
      "language": "python",
      "name": "python3"
    },
    "language_info": {
      "codemirror_mode": {
        "name": "ipython",
        "version": 3
      },
      "file_extension": ".py",
      "mimetype": "text/x-python",
      "name": "python",
      "nbconvert_exporter": "python",
      "pygments_lexer": "ipython3",
      "version": "3.8.8"
    }
  },
  "nbformat": 4,
  "nbformat_minor": 0
}