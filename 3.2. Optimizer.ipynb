{
  "cells": [
    {
      "cell_type": "markdown",
      "metadata": {
        "id": "view-in-github",
        "colab_type": "text"
      },
      "source": [
        "<a href=\"https://colab.research.google.com/github/TienLungSun/PyTorch-deep-learning/blob/main/3.2.%20Optimizer.ipynb\" target=\"_parent\"><img src=\"https://colab.research.google.com/assets/colab-badge.svg\" alt=\"Open In Colab\"/></a>"
      ]
    },
    {
      "cell_type": "code",
      "execution_count": 3,
      "metadata": {
        "id": "__UqpfWmZk_M"
      },
      "outputs": [],
      "source": [
        "import torch\n",
        "import torch.nn as nn\n",
        "import torch.utils.data as Data\n",
        "import numpy as np\n",
        "from sklearn.model_selection import train_test_split\n",
        "import matplotlib.pyplot as plt\n",
        "from torchsummary import summary"
      ]
    },
    {
      "cell_type": "code",
      "execution_count": 4,
      "metadata": {
        "colab": {
          "base_uri": "https://localhost:8080/"
        },
        "id": "ABW0dcklZddi",
        "outputId": "911788ea-7a2a-4707-886d-8ac6662aba95"
      },
      "outputs": [
        {
          "output_type": "stream",
          "name": "stdout",
          "text": [
            "cuda Tesla K80\n"
          ]
        }
      ],
      "source": [
        "if(torch.cuda.is_available()):\n",
        "    device = torch.device(\"cuda\")\n",
        "    print(device, torch.cuda.get_device_name(0))\n",
        "else:\n",
        "    device= torch.device(\"cpu\")\n",
        "    print(device)"
      ]
    },
    {
      "cell_type": "markdown",
      "metadata": {
        "id": "9IKumQZJbtg8"
      },
      "source": [
        "# Generate data"
      ]
    },
    {
      "cell_type": "code",
      "execution_count": 5,
      "metadata": {
        "id": "eDKfqZTSYA6D"
      },
      "outputs": [],
      "source": [
        "# y without noises \n",
        "lstX=[]\n",
        "lstY=[]\n",
        "for i in range(5000):\n",
        "  x1 = np.random.normal(0.1, 0.5) # mean and standard deviation\n",
        "  x2 = np.random.normal(0.6, 0.8)\n",
        "  x3 = np.random.normal(0.5, 0.8)\n",
        "  x4 = np.random.normal(0.1, 0.5)\n",
        "  x5 = np.random.normal(0, 0.7)\n",
        "  x6 = np.random.normal(0.2, 0.3)\n",
        "  x7 = np.random.normal(0, 0.3)\n",
        "  y = 0.455*pow(x1,3)+0.111*x1*x2+0.222*pow(x3,4)+0.888*pow(x6,3)+0.222*pow(x1,2)*x5+0.777*pow(x4,2)\n",
        "  lstX.append([x1, x2, x3, x4, x5, x6, x7])\n",
        "  lstY.append([y])"
      ]
    },
    {
      "cell_type": "code",
      "execution_count": 6,
      "metadata": {
        "colab": {
          "base_uri": "https://localhost:8080/"
        },
        "id": "KyPxI--48wJe",
        "outputId": "3e1784fd-77de-483b-eb85-ab7b806fef47"
      },
      "outputs": [
        {
          "output_type": "stream",
          "name": "stdout",
          "text": [
            "43.88045028304302 -1.433089464920508 0.823978676666005 1.6978595234894935\n"
          ]
        }
      ],
      "source": [
        "numpyX = np.array(lstX)\n",
        "numpyY = np.array(lstY)\n",
        "print(np.max(numpyY), np.min(numpyY), np.mean(numpyY), np.std(numpyY))"
      ]
    },
    {
      "cell_type": "code",
      "execution_count": 7,
      "metadata": {
        "id": "TFzAMmB7I17O"
      },
      "outputs": [],
      "source": [
        "# Add noises to y\n",
        "lstX=[]\n",
        "lstY=[]\n",
        "for i in range(5000):\n",
        "  x1 = np.random.normal(0.1, 0.5) # mean and standard deviation\n",
        "  x2 = np.random.normal(0.6, 0.8)\n",
        "  x3 = np.random.normal(0.5, 0.8)\n",
        "  x4 = np.random.normal(0.1, 0.5)\n",
        "  x5 = np.random.normal(0, 0.7)\n",
        "  x6 = np.random.normal(0.2, 0.3)\n",
        "  x7 = np.random.normal(0, 0.3)\n",
        "  y = 0.455*pow(x1,3)+0.111*x1*x2+0.222*pow(x3,4)+0.888*pow(x6,3)+0.222*pow(x1,2)*x5+0.777*pow(x4,2)\n",
        "  y = y +  np.random.normal(2, 3)\n",
        "  lstX.append([x1, x2, x3, x4, x5, x6, x7])\n",
        "  lstY.append([y])"
      ]
    },
    {
      "cell_type": "code",
      "execution_count": 8,
      "metadata": {
        "id": "zXDcM4IxI17O",
        "outputId": "2576d24c-47ed-4bdc-c019-6e6d7d79d728",
        "colab": {
          "base_uri": "https://localhost:8080/"
        }
      },
      "outputs": [
        {
          "output_type": "stream",
          "name": "stdout",
          "text": [
            "23.257339993095275 -7.535140067622375 2.8449958590983866 3.347866597458333\n"
          ]
        }
      ],
      "source": [
        "numpyX = np.array(lstX)\n",
        "numpyY = np.array(lstY)\n",
        "print(np.max(numpyY), np.min(numpyY), np.mean(numpyY), np.std(numpyY))"
      ]
    },
    {
      "cell_type": "markdown",
      "metadata": {
        "id": "4s4g_ujnQajv"
      },
      "source": [
        "# Build NN"
      ]
    },
    {
      "cell_type": "code",
      "execution_count": 9,
      "metadata": {
        "colab": {
          "base_uri": "https://localhost:8080/"
        },
        "id": "-MvLGgYaQajy",
        "outputId": "b6cc05e5-c4e2-4785-b70b-31e1494534d2"
      },
      "outputs": [
        {
          "output_type": "stream",
          "name": "stdout",
          "text": [
            "----------------------------------------------------------------\n",
            "        Layer (type)               Output Shape         Param #\n",
            "================================================================\n",
            "            Linear-1             [-1, 500, 128]           1,024\n",
            "              ReLU-2             [-1, 500, 128]               0\n",
            "            Linear-3             [-1, 500, 128]          16,512\n",
            "              ReLU-4             [-1, 500, 128]               0\n",
            "            Linear-5               [-1, 500, 1]             129\n",
            "================================================================\n",
            "Total params: 17,665\n",
            "Trainable params: 17,665\n",
            "Non-trainable params: 0\n",
            "----------------------------------------------------------------\n",
            "Input size (MB): 0.01\n",
            "Forward/backward pass size (MB): 1.96\n",
            "Params size (MB): 0.07\n",
            "Estimated Total Size (MB): 2.04\n",
            "----------------------------------------------------------------\n"
          ]
        }
      ],
      "source": [
        "MyNet = nn.Sequential(\n",
        "    nn.Linear(7, 128),\n",
        "    nn.ReLU(),\n",
        "    nn.Linear(128, 128),\n",
        "    nn.ReLU(),\n",
        "    nn.Linear(128, 1),\n",
        ")\n",
        "MyNet.to(device)\n",
        "summary(MyNet, input_size=(500, 7))"
      ]
    },
    {
      "cell_type": "markdown",
      "metadata": {
        "id": "yOKJidaQQakZ"
      },
      "source": [
        "# Run training-test 10 times\n",
        "\n",
        "optimizer = torch.optim.SGD(...) <br>\n",
        "torch.optim.Adam"
      ]
    },
    {
      "cell_type": "code",
      "execution_count": null,
      "metadata": {
        "colab": {
          "base_uri": "https://localhost:8080/"
        },
        "id": "zdpYknvbQaka",
        "outputId": "fe61c3b4-07e4-48dc-d4f7-b597ffc7b4f6"
      },
      "outputs": [
        {
          "output_type": "stream",
          "name": "stdout",
          "text": [
            "\n",
            "Train-test  1 epoch: 100,200,\n",
            "Train-test  2 epoch: 100,200,\n",
            "Train-test  3 epoch: 100,200,\n",
            "Train-test  4 epoch: 100,200,\n",
            "Train-test  5 epoch: 100,200,\n",
            "Train-test  6 epoch: 100,200,\n",
            "Train-test  7 epoch: 100,200,\n",
            "Train-test  8 epoch: 100,200,\n",
            "Train-test  9 epoch: 100,200,\n",
            "Train-test  10 epoch: 100,200,"
          ]
        }
      ],
      "source": [
        "train_lossLst = []\n",
        "test_lossLst = []\n",
        "for i in range(1, 11):\n",
        "  print(\"\\nTrain-test \", i, end= \" \")\n",
        "  trainX, testX, trainY, testY = train_test_split(numpyX, numpyY, test_size=0.20, random_state=0)\n",
        "  tensorX = torch.FloatTensor(trainX).to(device)\n",
        "  tensorY = torch.FloatTensor(trainY).to(device)\n",
        "  torch_dataset = Data.TensorDataset(tensorX, tensorY)\n",
        "  loader = Data.DataLoader(\n",
        "      dataset=torch_dataset,  \n",
        "      batch_size=500,      \n",
        "      shuffle=True,       \n",
        "      num_workers=0,    # subprocesses for loading data\n",
        "  )\n",
        "\n",
        "  # initialize NN weights\n",
        "  for name, param in MyNet.named_parameters():\n",
        "    if(param.requires_grad):\n",
        "      torch.nn.init.normal_(param, mean=0.0, std=0.02)\n",
        "  loss_func = torch.nn.MSELoss()\n",
        "  optimizer = torch.optim.SGD(MyNet.parameters(), lr=0.0003)\n",
        "\n",
        "  # train NN \n",
        "  print(\"epoch\", end=\": \")\n",
        "  epoch_lossLst=[]\n",
        "  for epoch in range(1, 300):\n",
        "    if(epoch%100 == 0):\n",
        "      print(epoch, end=\",\")\n",
        "    for (batchX, batchY) in loader:\n",
        "      batchY_hat = MyNet(batchX)\n",
        "      loss = loss_func(batchY_hat, batchY)\n",
        "      epoch_lossLst.append(float(loss))\n",
        "      optimizer.zero_grad()\n",
        "      loss.backward()\n",
        "      optimizer.step()\n",
        "  train_lossLst.append(epoch_lossLst) \n",
        "\n",
        "  tensorX = torch.FloatTensor(testX).to(device)\n",
        "  tensorY = torch.FloatTensor(testY).to(device)\n",
        "  tensorY_hat = MyNet(tensorX)\n",
        "  loss = loss_func(tensorY, tensorY_hat)\n",
        "  test_lossLst.append(float(loss))"
      ]
    },
    {
      "cell_type": "code",
      "source": [
        "#take a look at the train loss plot and box plot of test lost\n",
        "fig=plt.figure(figsize=(16, 6))\n",
        "fig.add_subplot(1, 2, 1) #1 row, 2 cols\n",
        "for lst in train_lossLst:\n",
        "  plt.plot(lst)\n",
        "fig.add_subplot(1, 2, 2) \n",
        "plt.boxplot(test_lossLst)\n",
        "plt.grid()\n",
        "plt.show()"
      ],
      "metadata": {
        "id": "XlkLSmHBOFxv",
        "outputId": "a8365155-c938-44c2-f144-2659718c8eb2",
        "colab": {
          "base_uri": "https://localhost:8080/",
          "height": 359
        }
      },
      "execution_count": null,
      "outputs": [
        {
          "output_type": "display_data",
          "data": {
            "text/plain": [
              "<Figure size 1152x432 with 2 Axes>"
            ],
            "image/png": "[encoded data removed]"
          },
          "metadata": {
            "needs_background": "light"
          }
        }
      ]
    }
  ],
  "metadata": {
    "accelerator": "GPU",
    "colab": {
      "collapsed_sections": [],
      "name": "1. 2. MLP regression.ipynb",
      "provenance": [],
      "include_colab_link": true
    },
    "kernelspec": {
      "display_name": "Python 3",
      "language": "python",
      "name": "python3"
    },
    "language_info": {
      "codemirror_mode": {
        "name": "ipython",
        "version": 3
      },
      "file_extension": ".py",
      "mimetype": "text/x-python",
      "name": "python",
      "nbconvert_exporter": "python",
      "pygments_lexer": "ipython3",
      "version": "3.8.8"
    }
  },
  "nbformat": 4,
  "nbformat_minor": 0
}