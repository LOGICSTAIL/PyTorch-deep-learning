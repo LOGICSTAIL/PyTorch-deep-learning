{
  "nbformat": 4,
  "nbformat_minor": 0,
  "metadata": {
    "colab": {
      "name": "1. 1. Understand MLP .ipynb",
      "provenance": [],
      "collapsed_sections": [],
      "include_colab_link": true
    },
    "kernelspec": {
      "display_name": "Python 3",
      "language": "python",
      "name": "python3"
    },
    "language_info": {
      "codemirror_mode": {
        "name": "ipython",
        "version": 3
      },
      "file_extension": ".py",
      "mimetype": "text/x-python",
      "name": "python",
      "nbconvert_exporter": "python",
      "pygments_lexer": "ipython3",
      "version": "3.6.10"
    }
  },
  "cells": [
    {
      "cell_type": "markdown",
      "metadata": {
        "id": "view-in-github",
        "colab_type": "text"
      },
      "source": [
        "<a href=\"https://colab.research.google.com/github/TienLungSun/PyTorch-Colab/blob/main/1.1.%20Forward%20propagation.ipynb\" target=\"_parent\"><img src=\"https://colab.research.google.com/assets/colab-badge.svg\" alt=\"Open In Colab\"/></a>"
      ]
    },
    {
      "cell_type": "code",
      "metadata": {
        "id": "a1kFKiHzQajW"
      },
      "source": [
        "import torch\n",
        "import torch.nn as nn"
      ],
      "execution_count": null,
      "outputs": []
    },
    {
      "cell_type": "markdown",
      "metadata": {
        "id": "4s4g_ujnQajv"
      },
      "source": [
        "# Build NN"
      ]
    },
    {
      "cell_type": "code",
      "metadata": {
        "colab": {
          "base_uri": "https://localhost:8080/"
        },
        "id": "-MvLGgYaQajy",
        "outputId": "bcbe085b-a001-421c-c1ee-8754a55a43b8"
      },
      "source": [
        "MyNet = nn.Sequential(\n",
        "  nn.Linear(2, 3),\n",
        "  nn.Linear(3, 2),\n",
        "  nn.Linear(2, 1)\n",
        ")\n",
        "print(MyNet)"
      ],
      "execution_count": null,
      "outputs": [
        {
          "output_type": "stream",
          "text": [
            "Sequential(\n",
            "  (0): Linear(in_features=2, out_features=3, bias=True)\n",
            "  (1): Linear(in_features=3, out_features=2, bias=True)\n",
            "  (2): Linear(in_features=2, out_features=1, bias=True)\n",
            ")\n"
          ],
          "name": "stdout"
        }
      ]
    },
    {
      "cell_type": "code",
      "metadata": {
        "colab": {
          "base_uri": "https://localhost:8080/"
        },
        "id": "h9pgtjB2Qaj0",
        "outputId": "f01a0fbd-509c-485c-d4fb-0a73935266e5"
      },
      "source": [
        "for param in MyNet.parameters():\n",
        "    if param.requires_grad:\n",
        "        print(param.data)"
      ],
      "execution_count": null,
      "outputs": [
        {
          "output_type": "stream",
          "text": [
            "tensor([[ 0.4727, -0.5188],\n",
            "        [-0.5681, -0.6032],\n",
            "        [-0.0252, -0.3011]])\n",
            "tensor([-0.6986, -0.6602, -0.4860])\n",
            "tensor([[-0.5549,  0.2550,  0.4584],\n",
            "        [ 0.2930,  0.0849, -0.3146]])\n",
            "tensor([0.1677, 0.0736])\n",
            "tensor([[ 0.4106, -0.3618]])\n",
            "tensor([-0.2270])\n"
          ],
          "name": "stdout"
        }
      ]
    },
    {
      "cell_type": "markdown",
      "metadata": {
        "id": "kWycYWx1P3-D"
      },
      "source": [
        "# Prepare input data"
      ]
    },
    {
      "cell_type": "code",
      "metadata": {
        "colab": {
          "base_uri": "https://localhost:8080/"
        },
        "id": "TfDLpOKCQajk",
        "outputId": "007ce3d0-2392-441d-b701-018e0287bdec"
      },
      "source": [
        "lstX = [[1, 2], [2, 3], [10, 5]]\n",
        "tensorX = torch.FloatTensor(lstX)\n",
        "print(tensorX, \"\\n\", tensorX.shape)"
      ],
      "execution_count": null,
      "outputs": [
        {
          "output_type": "stream",
          "text": [
            "tensor([[ 1.,  2.],\n",
            "        [ 2.,  3.],\n",
            "        [10.,  5.]]) \n",
            " torch.Size([3, 2])\n"
          ],
          "name": "stdout"
        }
      ]
    },
    {
      "cell_type": "code",
      "metadata": {
        "colab": {
          "base_uri": "https://localhost:8080/"
        },
        "id": "ltYcOMMzQajp",
        "outputId": "072cb7b9-e3be-484e-eb79-731bf1d1bbcb"
      },
      "source": [
        "lstY = [[7], [12], [40]]  # y=3x1+2x2\n",
        "tensorY = torch.FloatTensor(lstY)\n",
        "print(tensorY, '\\n', tensorY.shape)"
      ],
      "execution_count": null,
      "outputs": [
        {
          "output_type": "stream",
          "text": [
            "tensor([[ 7.],\n",
            "        [12.],\n",
            "        [40.]]) \n",
            " torch.Size([3, 1])\n"
          ],
          "name": "stdout"
        }
      ]
    },
    {
      "cell_type": "markdown",
      "metadata": {
        "id": "9r8UKLpHQaj6"
      },
      "source": [
        "# Forward propagation"
      ]
    },
    {
      "cell_type": "markdown",
      "metadata": {
        "id": "IJzWbi_Nq2gZ"
      },
      "source": [
        "###Hidden layer 1: n3, n4, n5 "
      ]
    },
    {
      "cell_type": "code",
      "metadata": {
        "colab": {
          "base_uri": "https://localhost:8080/"
        },
        "id": "SOa9AGDkQaj9",
        "outputId": "7851ddfa-6410-4726-ec2c-9baafb51e81b"
      },
      "source": [
        "W1 = MyNet[0].weight\n",
        "b1 = MyNet[0].bias   \n",
        "print(W1, W1.shape, b1)"
      ],
      "execution_count": null,
      "outputs": [
        {
          "output_type": "stream",
          "text": [
            "Parameter containing:\n",
            "tensor([[ 0.4727, -0.5188],\n",
            "        [-0.5681, -0.6032],\n",
            "        [-0.0252, -0.3011]], requires_grad=True) torch.Size([3, 2]) Parameter containing:\n",
            "tensor([-0.6986, -0.6602, -0.4860], requires_grad=True)\n"
          ],
          "name": "stdout"
        }
      ]
    },
    {
      "cell_type": "code",
      "metadata": {
        "colab": {
          "base_uri": "https://localhost:8080/"
        },
        "id": "tan3fAtiQaj6",
        "outputId": "1c10c325-cbb4-4a70-a1dd-c98b0aeedd70"
      },
      "source": [
        "#Calculate n3, n4, n5\n",
        "HiddenLayer1 = MyNet[0](tensorX)  \n",
        "print(HiddenLayer1)"
      ],
      "execution_count": null,
      "outputs": [
        {
          "output_type": "stream",
          "text": [
            "tensor([[-1.2635, -2.4348, -1.1135],\n",
            "        [-1.3097, -3.6061, -1.4398],\n",
            "        [ 1.4340, -9.3577, -2.2441]], grad_fn=<AddmmBackward>)\n"
          ],
          "name": "stdout"
        }
      ]
    },
    {
      "cell_type": "code",
      "metadata": {
        "colab": {
          "base_uri": "https://localhost:8080/"
        },
        "id": "nLdkJ4COQaj_",
        "outputId": "4e1217f7-1610-4430-e318-8ccbe20264cf"
      },
      "source": [
        "#Calculate n3, n4, n5 using Pytorch matrix operation\n",
        "HiddenLayer1 = tensorX.mm(torch.transpose(W1, 1, 0)) + b1\n",
        "print(HiddenLayer1)"
      ],
      "execution_count": null,
      "outputs": [
        {
          "output_type": "stream",
          "text": [
            "tensor([[-1.2635, -2.4348, -1.1135],\n",
            "        [-1.3097, -3.6061, -1.4398],\n",
            "        [ 1.4340, -9.3577, -2.2441]], grad_fn=<AddBackward0>)\n"
          ],
          "name": "stdout"
        }
      ]
    },
    {
      "cell_type": "markdown",
      "metadata": {
        "id": "xfyfqEtEq-U4"
      },
      "source": [
        "###Hidden layer 2: n6, n7"
      ]
    },
    {
      "cell_type": "code",
      "metadata": {
        "colab": {
          "base_uri": "https://localhost:8080/"
        },
        "id": "huI72Ze6QakC",
        "outputId": "8b800935-4b3d-447d-d393-5423d5b8c282"
      },
      "source": [
        "#Calculate n6, n7\n",
        "HiddenLayer2 = MyNet[1](HiddenLayer1)\n",
        "print(HiddenLayer2)"
      ],
      "execution_count": null,
      "outputs": [
        {
          "output_type": "stream",
          "text": [
            "tensor([[-0.2625, -0.1530],\n",
            "        [-0.6852, -0.1632],\n",
            "        [-4.0429,  0.4054]], grad_fn=<AddmmBackward>)\n"
          ],
          "name": "stdout"
        }
      ]
    },
    {
      "cell_type": "code",
      "metadata": {
        "colab": {
          "base_uri": "https://localhost:8080/"
        },
        "id": "pGw5IXeiQakE",
        "outputId": "a16397d3-c4ee-45dd-eb6d-e4739d3b50d2"
      },
      "source": [
        "#Calculate n6, n7 using PyTorch matrix operation\n",
        "W2 = MyNet[1].weight\n",
        "b2 = MyNet[1].bias  \n",
        "HiddenLayer2 = HiddenLayer1.mm(torch.transpose(W2, 1, 0)) +b2\n",
        "print(HiddenLayer2)"
      ],
      "execution_count": null,
      "outputs": [
        {
          "output_type": "stream",
          "text": [
            "tensor([[-0.2625, -0.1530],\n",
            "        [-0.6852, -0.1632],\n",
            "        [-4.0429,  0.4054]], grad_fn=<AddBackward0>)\n"
          ],
          "name": "stdout"
        }
      ]
    },
    {
      "cell_type": "markdown",
      "metadata": {
        "id": "6diNvzFQrEPg"
      },
      "source": [
        "###Output layer"
      ]
    },
    {
      "cell_type": "code",
      "metadata": {
        "colab": {
          "base_uri": "https://localhost:8080/"
        },
        "id": "csq95L-dT-KF",
        "outputId": "fbc16214-1ff6-4c18-81ba-4e3b0b371ebf"
      },
      "source": [
        "#Calculate y\n",
        "tensorY1= MyNet[2](HiddenLayer2)\n",
        "print(tensorY1)"
      ],
      "execution_count": null,
      "outputs": [
        {
          "output_type": "stream",
          "text": [
            "tensor([[-0.2795],\n",
            "        [-0.4493],\n",
            "        [-2.0335]], grad_fn=<AddmmBackward>)\n"
          ],
          "name": "stdout"
        }
      ]
    },
    {
      "cell_type": "code",
      "metadata": {
        "colab": {
          "base_uri": "https://localhost:8080/"
        },
        "id": "9R2ciSdmUG4C",
        "outputId": "2fe433c6-d7f7-4961-bdce-c08046da7078"
      },
      "source": [
        "#Calculate y\n",
        "W3 = MyNet[2].weight\n",
        "b3 = MyNet[2].bias  \n",
        "tensorY1 = HiddenLayer2.mm(torch.transpose(W3, 1, 0)) +b3\n",
        "print(tensorY1)"
      ],
      "execution_count": null,
      "outputs": [
        {
          "output_type": "stream",
          "text": [
            "tensor([[-0.2795],\n",
            "        [-0.4493],\n",
            "        [-2.0335]], grad_fn=<AddBackward0>)\n"
          ],
          "name": "stdout"
        }
      ]
    },
    {
      "cell_type": "markdown",
      "metadata": {
        "id": "oHGnIlWnrKbp"
      },
      "source": [
        "#y=NN(x)"
      ]
    },
    {
      "cell_type": "code",
      "metadata": {
        "colab": {
          "base_uri": "https://localhost:8080/"
        },
        "id": "8flPoiKRUR5h",
        "outputId": "32d337eb-b7d1-45b0-da25-ad874ad17fe1"
      },
      "source": [
        "#Directly calculate y\n",
        "tensorY= MyNet(tensorX)\n",
        "print(tensorY)"
      ],
      "execution_count": null,
      "outputs": [
        {
          "output_type": "stream",
          "text": [
            "tensor([[-0.2795],\n",
            "        [-0.4493],\n",
            "        [-2.0335]], grad_fn=<AddmmBackward>)\n"
          ],
          "name": "stdout"
        }
      ]
    },
    {
      "cell_type": "code",
      "metadata": {
        "id": "far_fuhNrVCe"
      },
      "source": [
        ""
      ],
      "execution_count": null,
      "outputs": []
    }
  ]
}