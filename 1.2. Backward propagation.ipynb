{
  "nbformat": 4,
  "nbformat_minor": 0,
  "metadata": {
    "colab": {
      "name": "1. 1. Understand MLP .ipynb",
      "provenance": [],
      "collapsed_sections": [],
      "include_colab_link": true
    },
    "kernelspec": {
      "display_name": "Python 3",
      "language": "python",
      "name": "python3"
    },
    "language_info": {
      "codemirror_mode": {
        "name": "ipython",
        "version": 3
      },
      "file_extension": ".py",
      "mimetype": "text/x-python",
      "name": "python",
      "nbconvert_exporter": "python",
      "pygments_lexer": "ipython3",
      "version": "3.6.10"
    }
  },
  "cells": [
    {
      "cell_type": "markdown",
      "metadata": {
        "id": "view-in-github",
        "colab_type": "text"
      },
      "source": [
        "<a href=\"https://colab.research.google.com/github/TienLungSun/PyTorch-Colab/blob/main/1.2.%20Backward%20propagation.ipynb\" target=\"_parent\"><img src=\"https://colab.research.google.com/assets/colab-badge.svg\" alt=\"Open In Colab\"/></a>"
      ]
    },
    {
      "cell_type": "code",
      "metadata": {
        "id": "a1kFKiHzQajW"
      },
      "source": [
        "import torch\n",
        "import torch.nn as nn"
      ],
      "execution_count": 1,
      "outputs": []
    },
    {
      "cell_type": "code",
      "metadata": {
        "colab": {
          "base_uri": "https://localhost:8080/"
        },
        "id": "-MvLGgYaQajy",
        "outputId": "75bcf80b-daa8-446b-e91f-e3e8ec26307a"
      },
      "source": [
        "MyNet = nn.Sequential(\n",
        "  nn.Linear(2, 3),\n",
        "  nn.Linear(3, 2),\n",
        "  nn.Linear(2, 1)\n",
        ")\n",
        "print(MyNet)"
      ],
      "execution_count": 3,
      "outputs": [
        {
          "output_type": "stream",
          "name": "stdout",
          "text": [
            "Sequential(\n",
            "  (0): Linear(in_features=2, out_features=3, bias=True)\n",
            "  (1): Linear(in_features=3, out_features=2, bias=True)\n",
            "  (2): Linear(in_features=2, out_features=1, bias=True)\n",
            ")\n"
          ]
        }
      ]
    },
    {
      "cell_type": "code",
      "metadata": {
        "id": "TfDLpOKCQajk"
      },
      "source": [
        "lstX = [[1, 2], [2, 3], [10, 5]]\n",
        "lstY = [[7], [12], [40]]  # y=3x1+2x2\n",
        "tensorX = torch.FloatTensor(lstX)\n",
        "tensorY_hat = torch.FloatTensor(lstY)"
      ],
      "execution_count": 7,
      "outputs": []
    },
    {
      "cell_type": "code",
      "metadata": {
        "colab": {
          "base_uri": "https://localhost:8080/"
        },
        "id": "8flPoiKRUR5h",
        "outputId": "fc67ff84-fe0f-4cce-d672-db63003333d8"
      },
      "source": [
        "tensorY= MyNet(tensorX)\n",
        "print(tensorY)"
      ],
      "execution_count": 8,
      "outputs": [
        {
          "output_type": "stream",
          "name": "stdout",
          "text": [
            "tensor([[-1.3899],\n",
            "        [-1.7719],\n",
            "        [-2.9620]], grad_fn=<AddmmBackward>)\n"
          ]
        }
      ]
    },
    {
      "cell_type": "code",
      "metadata": {
        "id": "far_fuhNrVCe"
      },
      "source": [
        "loss_func = torch.nn.MSELoss()"
      ],
      "execution_count": 9,
      "outputs": []
    },
    {
      "cell_type": "code",
      "metadata": {
        "id": "o-r6uGuASYB4",
        "outputId": "689108ce-2d77-4c08-94c7-56fa01fc3fb8",
        "colab": {
          "base_uri": "https://localhost:8080/"
        }
      },
      "source": [
        "loss = loss_func(tensorY , tensorY_hat)\n",
        "print(loss)"
      ],
      "execution_count": 10,
      "outputs": [
        {
          "output_type": "stream",
          "name": "stdout",
          "text": [
            "tensor(701.9309, grad_fn=<MseLossBackward>)\n"
          ]
        }
      ]
    },
    {
      "cell_type": "code",
      "metadata": {
        "id": "s2o9dPxJUsYX"
      },
      "source": [
        "MyNet.zero_grad()"
      ],
      "execution_count": 11,
      "outputs": []
    },
    {
      "cell_type": "code",
      "metadata": {
        "id": "d_Ocof33VKZG"
      },
      "source": [
        "loss.backward()"
      ],
      "execution_count": 12,
      "outputs": []
    },
    {
      "cell_type": "code",
      "metadata": {
        "id": "s2CEVTCDVpx4"
      },
      "source": [
        "pv=[] #parameter values\n",
        "pgrad = [] #parameter values gradient\n",
        "pvg = [] #parameter values transposed"
      ],
      "execution_count": 14,
      "outputs": []
    },
    {
      "cell_type": "code",
      "metadata": {
        "id": "ulwMLC6EWCto"
      },
      "source": [
        "learning_rate=0.5"
      ],
      "execution_count": 26,
      "outputs": []
    },
    {
      "cell_type": "code",
      "metadata": {
        "id": "QcFZK1NvYTWo",
        "outputId": "f708fa4e-f7d4-472f-8f99-ea1a8bcdd53c",
        "colab": {
          "base_uri": "https://localhost:8080/"
        }
      },
      "source": [
        "old_params = {}\n",
        "for name, params in MyNet.named_parameters():\n",
        "  if params.requires_grad:\n",
        "    print(name)\n",
        "    old_params[name] = params.clone()"
      ],
      "execution_count": 41,
      "outputs": [
        {
          "output_type": "stream",
          "name": "stdout",
          "text": [
            "0.weight\n",
            "0.bias\n",
            "1.weight\n",
            "1.bias\n",
            "2.weight\n",
            "2.bias\n"
          ]
        }
      ]
    },
    {
      "cell_type": "code",
      "metadata": {
        "id": "5ZzRFiVOYc1h"
      },
      "source": [
        "for name, params in MyNet.named_parameters():\n",
        "  if params.requires_grad:\n",
        "    old_params[name] = old_params[name] - params.grad"
      ],
      "execution_count": 42,
      "outputs": []
    },
    {
      "cell_type": "code",
      "metadata": {
        "id": "7dyxhieybfCh"
      },
      "source": [
        "for name, params in MyNet.named_parameters():\n",
        "  params.data.copy_(old_params[name])"
      ],
      "execution_count": 44,
      "outputs": []
    },
    {
      "cell_type": "code",
      "metadata": {
        "id": "Ifb2ut20Xx6h",
        "outputId": "272747dc-f197-42e6-d4dc-8f9a12f73181",
        "colab": {
          "base_uri": "https://localhost:8080/"
        }
      },
      "source": [
        "loss = loss_func(tensorY , tensorY_hat)\n",
        "print(loss)"
      ],
      "execution_count": 45,
      "outputs": [
        {
          "output_type": "stream",
          "name": "stdout",
          "text": [
            "tensor(701.9309, grad_fn=<MseLossBackward>)\n"
          ]
        }
      ]
    },
    {
      "cell_type": "code",
      "metadata": {
        "id": "g4GG6ps1XRLW"
      },
      "source": [
        ""
      ],
      "execution_count": null,
      "outputs": []
    }
  ]
}