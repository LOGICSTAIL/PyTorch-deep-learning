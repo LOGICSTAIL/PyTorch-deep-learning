{
  "nbformat": 4,
  "nbformat_minor": 0,
  "metadata": {
    "colab": {
      "name": "8.1. GAN.ipynb",
      "provenance": [],
      "collapsed_sections": []
    },
    "kernelspec": {
      "name": "python3",
      "display_name": "Python 3"
    },
    "accelerator": "GPU"
  },
  "cells": [
    {
      "cell_type": "markdown",
      "metadata": {
        "id": "5HQw0kKzh3mt"
      },
      "source": [
        "Modified from:https://github.com/Lornatang/CycleGAN-PyTorch\n",
        "\n",
        "I change the code from a set of py files to one Ipynb file that can be run at Colab. \n",
        "\n",
        "Please refer to my ppt for how to organize training images on your Google drive."
      ]
    },
    {
      "cell_type": "code",
      "metadata": {
        "id": "WeSD_gv1NJr5"
      },
      "source": [
        "import torch\n",
        "import torch.nn as nn\n",
        "import torch.nn.functional as F\n",
        "import torchvision.transforms as transforms\n",
        "from torchvision import datasets\n",
        "import torchvision.utils as vutils\n",
        "import torch.utils.data as Data\n",
        "from torch.utils.data import Dataset\n",
        "\n",
        "from PIL import Image\n",
        "import random\n",
        "import itertools\n",
        "import glob\n",
        "import os"
      ],
      "execution_count": 1,
      "outputs": []
    },
    {
      "cell_type": "code",
      "metadata": {
        "id": "QDeNCYYzlMXy",
        "colab": {
          "base_uri": "https://localhost:8080/"
        },
        "outputId": "f4ed8e34-dfad-49e9-c5ec-19bcc509ccef"
      },
      "source": [
        "if(torch.cuda.is_available()):\n",
        "  device = torch.device(\"cuda\")\n",
        "  print(device, torch.cuda.get_device_name(0))\n",
        "else:\n",
        "  device= torch.device(\"cpu\")\n",
        "  print(device)"
      ],
      "execution_count": 2,
      "outputs": [
        {
          "output_type": "stream",
          "text": [
            "cuda Tesla T4\n"
          ],
          "name": "stdout"
        }
      ]
    },
    {
      "cell_type": "markdown",
      "metadata": {
        "id": "ms8ZwYl8KTUd"
      },
      "source": [
        "Connect to Google drive to generate data loader. \n",
        "\n",
        "If you train using your own PC with Anaconda\n",
        "1. do not run drive.mount (\"/content/gdrive\", force_remount=True)\n",
        "2. train_dataset = datasets.ImageFolder(root = \"C:/Users/ADMIN/Google 雲端硬碟/Image folders/train\", transform = transformer) "
      ]
    },
    {
      "cell_type": "code",
      "metadata": {
        "colab": {
          "base_uri": "https://localhost:8080/"
        },
        "id": "yi5yHsIRKTU-",
        "outputId": "6e5dd68d-0f80-40d4-f08f-4f712a29ce48"
      },
      "source": [
        "from google.colab import drive\n",
        "drive.mount(\"/content/gdrive\", force_remount=True)"
      ],
      "execution_count": 3,
      "outputs": [
        {
          "output_type": "stream",
          "text": [
            "Mounted at /content/gdrive\n"
          ],
          "name": "stdout"
        }
      ]
    },
    {
      "cell_type": "markdown",
      "metadata": {
        "id": "kmrcg_1TOkAB"
      },
      "source": [
        "Define customized dataset"
      ]
    },
    {
      "cell_type": "code",
      "metadata": {
        "id": "Ixz3rTYjRpdo"
      },
      "source": [
        "image_size = 256 \n",
        "batch_size = 4"
      ],
      "execution_count": 4,
      "outputs": []
    },
    {
      "cell_type": "code",
      "metadata": {
        "id": "2cIcpHjKEWP1"
      },
      "source": [
        "class ImageDataset(Dataset):\n",
        "  def __init__(self, root, transform=None, unaligned=False, mode=\"train\"):\n",
        "    self.transform = transform\n",
        "    self.unaligned = unaligned\n",
        "\n",
        "    self.files_A = sorted(glob.glob(os.path.join(root, f\"{mode}/A\") + \"/*.*\"))\n",
        "    self.files_B = sorted(glob.glob(os.path.join(root, f\"{mode}/B\") + \"/*.*\"))\n",
        "\n",
        "  def __getitem__(self, index):\n",
        "    item_A = self.transform(Image.open(self.files_A[index % len(self.files_A)]))\n",
        "\n",
        "    if self.unaligned:\n",
        "        item_B = self.transform(Image.open(self.files_B[random.randint(0, len(self.files_B) - 1)]))\n",
        "    else:\n",
        "        item_B = self.transform(Image.open(self.files_B[index % len(self.files_B)]))\n",
        "\n",
        "    return {\"A\": item_A, \"B\": item_B}\n",
        "\n",
        "  def __len__(self):\n",
        "      return max(len(self.files_A), len(self.files_B))"
      ],
      "execution_count": 5,
      "outputs": []
    },
    {
      "cell_type": "code",
      "metadata": {
        "id": "jXe0_ovEKm0q",
        "colab": {
          "base_uri": "https://localhost:8080/"
        },
        "outputId": "ec683ea5-b591-4847-d8c5-d89ac80eeacf"
      },
      "source": [
        "transformer = transforms.Compose([\n",
        "  transforms.Resize(int(image_size*1.12), Image.BICUBIC),\n",
        "  transforms.RandomCrop(image_size),\n",
        "  transforms.RandomHorizontalFlip(),     \n",
        "  transforms.ToTensor(),                     \n",
        "  transforms.Normalize(mean=[0.5, 0.5, 0.5], std=[0.5, 0.5, 0.5] )])"
      ],
      "execution_count": 6,
      "outputs": [
        {
          "output_type": "stream",
          "text": [
            "/usr/local/lib/python3.7/dist-packages/torchvision/transforms/transforms.py:258: UserWarning: Argument interpolation should be of type InterpolationMode instead of int. Please, use InterpolationMode enum.\n",
            "  \"Argument interpolation should be of type InterpolationMode instead of int. \"\n"
          ],
          "name": "stderr"
        }
      ]
    },
    {
      "cell_type": "code",
      "metadata": {
        "id": "9MOlnnzOEnlq"
      },
      "source": [
        "dataset = ImageDataset(\"/content/gdrive/MyDrive/CycleGAN Img folder\", transform = transformer, unaligned=True)"
      ],
      "execution_count": 7,
      "outputs": []
    },
    {
      "cell_type": "code",
      "metadata": {
        "id": "lP83c9uXEg2T"
      },
      "source": [
        "dataloader = Data.DataLoader(dataset, batch_size=batch_size, shuffle=True, pin_memory=True)"
      ],
      "execution_count": 8,
      "outputs": []
    },
    {
      "cell_type": "markdown",
      "metadata": {
        "id": "BnRSMPUXbooE"
      },
      "source": [
        "understand code: load a batch of images from dataset"
      ]
    },
    {
      "cell_type": "code",
      "metadata": {
        "id": "DQEDi_OEIbT1"
      },
      "source": [
        "for i, data in enumerate(dataloader):\n",
        "  break;"
      ],
      "execution_count": 9,
      "outputs": []
    },
    {
      "cell_type": "code",
      "metadata": {
        "colab": {
          "base_uri": "https://localhost:8080/"
        },
        "id": "O8HIPHNCIbUS",
        "outputId": "62ab3e41-2604-4f49-e96d-1205011df153"
      },
      "source": [
        "print(data[\"A\"].shape,data[\"B\"].shape)"
      ],
      "execution_count": 10,
      "outputs": [
        {
          "output_type": "stream",
          "text": [
            "torch.Size([4, 3, 256, 256]) torch.Size([4, 3, 256, 256])\n"
          ],
          "name": "stdout"
        }
      ]
    },
    {
      "cell_type": "markdown",
      "metadata": {
        "id": "6SKW6XPlySQp"
      },
      "source": [
        "Utilities functions"
      ]
    },
    {
      "cell_type": "code",
      "metadata": {
        "id": "py9OF9VSH_mB"
      },
      "source": [
        "class ReplayBuffer:\n",
        "  def __init__(self, max_size=50):\n",
        "    assert (max_size > 0), \"Empty buffer or trying to create a black hole. Be careful.\"\n",
        "    self.max_size = max_size\n",
        "    self.data = []\n",
        "\n",
        "  def push_and_pop(self, data):\n",
        "    to_return = []\n",
        "    for element in data.data:\n",
        "      element = torch.unsqueeze(element, 0)\n",
        "      if len(self.data) < self.max_size:\n",
        "        self.data.append(element)\n",
        "        to_return.append(element)\n",
        "      else:\n",
        "        if random.uniform(0, 1) > 0.5:\n",
        "          i = random.randint(0, self.max_size - 1)\n",
        "          to_return.append(self.data[i].clone())\n",
        "          self.data[i] = element\n",
        "        else:\n",
        "          to_return.append(element)\n",
        "    return torch.cat(to_return)"
      ],
      "execution_count": 11,
      "outputs": []
    },
    {
      "cell_type": "code",
      "metadata": {
        "id": "VyM8YwPiPMQK"
      },
      "source": [
        "# custom weights initialization called on netG and netD\n",
        "def weights_init(m):\n",
        "  classname = m.__class__.__name__\n",
        "  if classname.find(\"Conv\") != -1:\n",
        "      torch.nn.init.normal_(m.weight, 0.0, 0.02)\n",
        "  elif classname.find(\"BatchNorm\") != -1:\n",
        "      torch.nn.init.normal_(m.weight, 1.0, 0.02)\n",
        "      torch.nn.init.zeros_(m.bias)"
      ],
      "execution_count": 12,
      "outputs": []
    },
    {
      "cell_type": "markdown",
      "metadata": {
        "id": "DUvA9USnQvab"
      },
      "source": [
        "Define CycleGAN NN"
      ]
    },
    {
      "cell_type": "code",
      "metadata": {
        "id": "CtvFe5ohRmUD"
      },
      "source": [
        "class Discriminator(nn.Module):\n",
        "  def __init__(self):\n",
        "    super(Discriminator, self).__init__()\n",
        "    self.main = nn.Sequential(\n",
        "      nn.Conv2d(3, 64, 4, stride=2, padding=1),\n",
        "      nn.LeakyReLU(0.2, inplace=True),\n",
        "\n",
        "      nn.Conv2d(64, 128, 4, stride=2, padding=1),\n",
        "      nn.InstanceNorm2d(128),\n",
        "      nn.LeakyReLU(0.2, inplace=True),\n",
        "\n",
        "      nn.Conv2d(128, 256, 4, stride=2, padding=1),\n",
        "      nn.InstanceNorm2d(256),\n",
        "      nn.LeakyReLU(0.2, inplace=True),\n",
        "\n",
        "      nn.Conv2d(256, 512, 4, padding=1),\n",
        "      nn.InstanceNorm2d(512),\n",
        "      nn.LeakyReLU(0.2, inplace=True),\n",
        "\n",
        "      nn.Conv2d(512, 1, 4, padding=1),\n",
        "    )\n",
        "\n",
        "  def forward(self, x):\n",
        "    x = self.main(x)\n",
        "    x = F.avg_pool2d(x, x.size()[2:])\n",
        "    x = torch.flatten(x, 1)\n",
        "    return x"
      ],
      "execution_count": 13,
      "outputs": []
    },
    {
      "cell_type": "code",
      "metadata": {
        "id": "eYQpEktI0vGG"
      },
      "source": [
        "class Generator(nn.Module):\n",
        "  def __init__(self):\n",
        "    super(Generator, self).__init__()\n",
        "    self.main = nn.Sequential(\n",
        "      # Initial convolution block\n",
        "      nn.ReflectionPad2d(3),\n",
        "      nn.Conv2d(3, 64, 7),\n",
        "      nn.InstanceNorm2d(64),\n",
        "      nn.ReLU(inplace=True),\n",
        "\n",
        "      # Downsampling\n",
        "      nn.Conv2d(64, 128, 3, stride=2, padding=1),\n",
        "      nn.InstanceNorm2d(128),\n",
        "      nn.ReLU(inplace=True),\n",
        "      nn.Conv2d(128, 256, 3, stride=2, padding=1),\n",
        "      nn.InstanceNorm2d(256),\n",
        "      nn.ReLU(inplace=True),\n",
        "\n",
        "      # Residual blocks\n",
        "      ResidualBlock(256),\n",
        "      ResidualBlock(256),\n",
        "      ResidualBlock(256),\n",
        "      ResidualBlock(256),\n",
        "      ResidualBlock(256),\n",
        "      ResidualBlock(256),\n",
        "      ResidualBlock(256),\n",
        "      ResidualBlock(256),\n",
        "      ResidualBlock(256),\n",
        "\n",
        "      # Upsampling\n",
        "      nn.ConvTranspose2d(256, 128, 3, stride=2, padding=1, output_padding=1),\n",
        "      nn.InstanceNorm2d(128),\n",
        "      nn.ReLU(inplace=True),\n",
        "      nn.ConvTranspose2d(128, 64, 3, stride=2, padding=1, output_padding=1),\n",
        "      nn.InstanceNorm2d(64),\n",
        "      nn.ReLU(inplace=True),\n",
        "\n",
        "      # Output layer\n",
        "      nn.ReflectionPad2d(3),\n",
        "      nn.Conv2d(64, 3, 7),\n",
        "      nn.Tanh()\n",
        "    )\n",
        "\n",
        "  def forward(self, x):\n",
        "    return self.main(x)"
      ],
      "execution_count": 14,
      "outputs": []
    },
    {
      "cell_type": "code",
      "metadata": {
        "id": "aauM3vUax6FS"
      },
      "source": [
        "class ResidualBlock(nn.Module):\n",
        "  def __init__(self, in_channels):\n",
        "    super(ResidualBlock, self).__init__()\n",
        "\n",
        "    self.res = nn.Sequential(nn.ReflectionPad2d(1),\n",
        "      nn.Conv2d(in_channels, in_channels, 3),\n",
        "      nn.InstanceNorm2d(in_channels),\n",
        "      nn.ReLU(inplace=True),\n",
        "      nn.ReflectionPad2d(1),\n",
        "      nn.Conv2d(in_channels, in_channels, 3),\n",
        "      nn.InstanceNorm2d(in_channels))\n",
        "\n",
        "  def forward(self, x):\n",
        "      return x + self.res(x)"
      ],
      "execution_count": 15,
      "outputs": []
    },
    {
      "cell_type": "markdown",
      "metadata": {
        "id": "hVFz_acdImgD"
      },
      "source": [
        "prepare for taining"
      ]
    },
    {
      "cell_type": "code",
      "metadata": {
        "id": "sOfDVT1To1EU"
      },
      "source": [
        "# create model\n",
        "netG_A2B = Generator().to(device)\n",
        "netG_B2A = Generator().to(device)\n",
        "netD_A = Discriminator().to(device)\n",
        "netD_B = Discriminator().to(device)"
      ],
      "execution_count": 16,
      "outputs": []
    },
    {
      "cell_type": "code",
      "metadata": {
        "colab": {
          "base_uri": "https://localhost:8080/"
        },
        "id": "LQNrjCyV-9ZD",
        "outputId": "465954ed-0adb-45f3-a1d5-0e38abb8d21b"
      },
      "source": [
        "from torchsummary import summary\n",
        "summary(netG_A2B,(3,256,256),batch_size=4, device='cuda')"
      ],
      "execution_count": 17,
      "outputs": [
        {
          "output_type": "stream",
          "text": [
            "----------------------------------------------------------------\n",
            "        Layer (type)               Output Shape         Param #\n",
            "================================================================\n",
            "   ReflectionPad2d-1           [4, 3, 262, 262]               0\n",
            "            Conv2d-2          [4, 64, 256, 256]           9,472\n",
            "    InstanceNorm2d-3          [4, 64, 256, 256]               0\n",
            "              ReLU-4          [4, 64, 256, 256]               0\n",
            "            Conv2d-5         [4, 128, 128, 128]          73,856\n",
            "    InstanceNorm2d-6         [4, 128, 128, 128]               0\n",
            "              ReLU-7         [4, 128, 128, 128]               0\n",
            "            Conv2d-8           [4, 256, 64, 64]         295,168\n",
            "    InstanceNorm2d-9           [4, 256, 64, 64]               0\n",
            "             ReLU-10           [4, 256, 64, 64]               0\n",
            "  ReflectionPad2d-11           [4, 256, 66, 66]               0\n",
            "           Conv2d-12           [4, 256, 64, 64]         590,080\n",
            "   InstanceNorm2d-13           [4, 256, 64, 64]               0\n",
            "             ReLU-14           [4, 256, 64, 64]               0\n",
            "  ReflectionPad2d-15           [4, 256, 66, 66]               0\n",
            "           Conv2d-16           [4, 256, 64, 64]         590,080\n",
            "   InstanceNorm2d-17           [4, 256, 64, 64]               0\n",
            "    ResidualBlock-18           [4, 256, 64, 64]               0\n",
            "  ReflectionPad2d-19           [4, 256, 66, 66]               0\n",
            "           Conv2d-20           [4, 256, 64, 64]         590,080\n",
            "   InstanceNorm2d-21           [4, 256, 64, 64]               0\n",
            "             ReLU-22           [4, 256, 64, 64]               0\n",
            "  ReflectionPad2d-23           [4, 256, 66, 66]               0\n",
            "           Conv2d-24           [4, 256, 64, 64]         590,080\n",
            "   InstanceNorm2d-25           [4, 256, 64, 64]               0\n",
            "    ResidualBlock-26           [4, 256, 64, 64]               0\n",
            "  ReflectionPad2d-27           [4, 256, 66, 66]               0\n",
            "           Conv2d-28           [4, 256, 64, 64]         590,080\n",
            "   InstanceNorm2d-29           [4, 256, 64, 64]               0\n",
            "             ReLU-30           [4, 256, 64, 64]               0\n",
            "  ReflectionPad2d-31           [4, 256, 66, 66]               0\n",
            "           Conv2d-32           [4, 256, 64, 64]         590,080\n",
            "   InstanceNorm2d-33           [4, 256, 64, 64]               0\n",
            "    ResidualBlock-34           [4, 256, 64, 64]               0\n",
            "  ReflectionPad2d-35           [4, 256, 66, 66]               0\n",
            "           Conv2d-36           [4, 256, 64, 64]         590,080\n",
            "   InstanceNorm2d-37           [4, 256, 64, 64]               0\n",
            "             ReLU-38           [4, 256, 64, 64]               0\n",
            "  ReflectionPad2d-39           [4, 256, 66, 66]               0\n",
            "           Conv2d-40           [4, 256, 64, 64]         590,080\n",
            "   InstanceNorm2d-41           [4, 256, 64, 64]               0\n",
            "    ResidualBlock-42           [4, 256, 64, 64]               0\n",
            "  ReflectionPad2d-43           [4, 256, 66, 66]               0\n",
            "           Conv2d-44           [4, 256, 64, 64]         590,080\n",
            "   InstanceNorm2d-45           [4, 256, 64, 64]               0\n",
            "             ReLU-46           [4, 256, 64, 64]               0\n",
            "  ReflectionPad2d-47           [4, 256, 66, 66]               0\n",
            "           Conv2d-48           [4, 256, 64, 64]         590,080\n",
            "   InstanceNorm2d-49           [4, 256, 64, 64]               0\n",
            "    ResidualBlock-50           [4, 256, 64, 64]               0\n",
            "  ReflectionPad2d-51           [4, 256, 66, 66]               0\n",
            "           Conv2d-52           [4, 256, 64, 64]         590,080\n",
            "   InstanceNorm2d-53           [4, 256, 64, 64]               0\n",
            "             ReLU-54           [4, 256, 64, 64]               0\n",
            "  ReflectionPad2d-55           [4, 256, 66, 66]               0\n",
            "           Conv2d-56           [4, 256, 64, 64]         590,080\n",
            "   InstanceNorm2d-57           [4, 256, 64, 64]               0\n",
            "    ResidualBlock-58           [4, 256, 64, 64]               0\n",
            "  ReflectionPad2d-59           [4, 256, 66, 66]               0\n",
            "           Conv2d-60           [4, 256, 64, 64]         590,080\n",
            "   InstanceNorm2d-61           [4, 256, 64, 64]               0\n",
            "             ReLU-62           [4, 256, 64, 64]               0\n",
            "  ReflectionPad2d-63           [4, 256, 66, 66]               0\n",
            "           Conv2d-64           [4, 256, 64, 64]         590,080\n",
            "   InstanceNorm2d-65           [4, 256, 64, 64]               0\n",
            "    ResidualBlock-66           [4, 256, 64, 64]               0\n",
            "  ReflectionPad2d-67           [4, 256, 66, 66]               0\n",
            "           Conv2d-68           [4, 256, 64, 64]         590,080\n",
            "   InstanceNorm2d-69           [4, 256, 64, 64]               0\n",
            "             ReLU-70           [4, 256, 64, 64]               0\n",
            "  ReflectionPad2d-71           [4, 256, 66, 66]               0\n",
            "           Conv2d-72           [4, 256, 64, 64]         590,080\n",
            "   InstanceNorm2d-73           [4, 256, 64, 64]               0\n",
            "    ResidualBlock-74           [4, 256, 64, 64]               0\n",
            "  ReflectionPad2d-75           [4, 256, 66, 66]               0\n",
            "           Conv2d-76           [4, 256, 64, 64]         590,080\n",
            "   InstanceNorm2d-77           [4, 256, 64, 64]               0\n",
            "             ReLU-78           [4, 256, 64, 64]               0\n",
            "  ReflectionPad2d-79           [4, 256, 66, 66]               0\n",
            "           Conv2d-80           [4, 256, 64, 64]         590,080\n",
            "   InstanceNorm2d-81           [4, 256, 64, 64]               0\n",
            "    ResidualBlock-82           [4, 256, 64, 64]               0\n",
            "  ConvTranspose2d-83         [4, 128, 128, 128]         295,040\n",
            "   InstanceNorm2d-84         [4, 128, 128, 128]               0\n",
            "             ReLU-85         [4, 128, 128, 128]               0\n",
            "  ConvTranspose2d-86          [4, 64, 256, 256]          73,792\n",
            "   InstanceNorm2d-87          [4, 64, 256, 256]               0\n",
            "             ReLU-88          [4, 64, 256, 256]               0\n",
            "  ReflectionPad2d-89          [4, 64, 262, 262]               0\n",
            "           Conv2d-90           [4, 3, 256, 256]           9,411\n",
            "             Tanh-91           [4, 3, 256, 256]               0\n",
            "================================================================\n",
            "Total params: 11,378,179\n",
            "Trainable params: 11,378,179\n",
            "Non-trainable params: 0\n",
            "----------------------------------------------------------------\n",
            "Input size (MB): 3.00\n",
            "Forward/backward pass size (MB): 3740.92\n",
            "Params size (MB): 43.40\n",
            "Estimated Total Size (MB): 3787.32\n",
            "----------------------------------------------------------------\n"
          ],
          "name": "stdout"
        }
      ]
    },
    {
      "cell_type": "code",
      "metadata": {
        "id": "crH70nd1hHd7",
        "colab": {
          "base_uri": "https://localhost:8080/"
        },
        "outputId": "8e7fe0de-00c6-427b-ed9e-ba59af4292b2"
      },
      "source": [
        "netG_A2B.apply(weights_init)\n",
        "netG_B2A.apply(weights_init)\n",
        "netD_A.apply(weights_init)\n",
        "netD_B.apply(weights_init)\n",
        "print()"
      ],
      "execution_count": 18,
      "outputs": [
        {
          "output_type": "stream",
          "text": [
            "\n"
          ],
          "name": "stdout"
        }
      ]
    },
    {
      "cell_type": "code",
      "metadata": {
        "id": "8cIhy0hxP4_e"
      },
      "source": [
        "g_losses = []\n",
        "d_losses = []\n",
        "\n",
        "identity_losses = []\n",
        "gan_losses = []\n",
        "cycle_losses = []"
      ],
      "execution_count": 19,
      "outputs": []
    },
    {
      "cell_type": "code",
      "metadata": {
        "id": "oA8bVCpXy4e-"
      },
      "source": [
        "fake_A_buffer = ReplayBuffer()\n",
        "fake_B_buffer = ReplayBuffer()"
      ],
      "execution_count": 20,
      "outputs": []
    },
    {
      "cell_type": "code",
      "metadata": {
        "id": "YIkKAW3niw26"
      },
      "source": [
        "outf = \"out\"\n",
        "dataset = \"TomJerry\""
      ],
      "execution_count": 21,
      "outputs": []
    },
    {
      "cell_type": "code",
      "metadata": {
        "id": "tye89YGUilWZ"
      },
      "source": [
        "try:\n",
        "  os.makedirs(os.path.join(outf, dataset, \"A\"))\n",
        "  os.makedirs(os.path.join(outf, dataset, \"B\"))\n",
        "except OSError:\n",
        "  pass"
      ],
      "execution_count": 22,
      "outputs": []
    },
    {
      "cell_type": "code",
      "metadata": {
        "id": "4GSy5XzWjJ7k"
      },
      "source": [
        "try:\n",
        "  os.makedirs(os.path.join(\"weights\", dataset))\n",
        "except OSError:\n",
        "  pass"
      ],
      "execution_count": 23,
      "outputs": []
    },
    {
      "cell_type": "markdown",
      "metadata": {
        "id": "aDGKNT1HPYmf"
      },
      "source": [
        "Optimizor"
      ]
    },
    {
      "cell_type": "code",
      "metadata": {
        "id": "pSMM6QyoPXvh"
      },
      "source": [
        "class DecayLR:\n",
        "  def __init__(self, epochs, offset, decay_epochs):\n",
        "    epoch_flag = epochs - decay_epochs\n",
        "    assert (epoch_flag > 0), \"Decay must start before the training session ends!\"\n",
        "    self.epochs = epochs\n",
        "    self.offset = offset\n",
        "    self.decay_epochs = decay_epochs\n",
        "\n",
        "  def step(self, epoch):\n",
        "    return 1.0 - max(0, epoch + self.offset - self.decay_epochs) / (\n",
        "            self.epochs - self.decay_epochs)"
      ],
      "execution_count": 24,
      "outputs": []
    },
    {
      "cell_type": "code",
      "metadata": {
        "id": "xLV9zQgSwmQL"
      },
      "source": [
        "lr = 0.0001\n",
        "optimizer_G = torch.optim.Adam(itertools.chain(netG_A2B.parameters(), netG_B2A.parameters()),lr=lr, betas=(0.5, 0.999))\n",
        "optimizer_D_A = torch.optim.Adam(netD_A.parameters(), lr=lr, betas=(0.5, 0.999))\n",
        "optimizer_D_B = torch.optim.Adam(netD_B.parameters(), lr=lr, betas=(0.5, 0.999))"
      ],
      "execution_count": 25,
      "outputs": []
    },
    {
      "cell_type": "code",
      "metadata": {
        "id": "hslFsNxgx538"
      },
      "source": [
        "# define loss function (adversarial_loss) and optimizer\n",
        "cycle_loss = torch.nn.L1Loss().to(device)\n",
        "identity_loss = torch.nn.L1Loss().to(device)\n",
        "adversarial_loss = torch.nn.MSELoss().to(device)"
      ],
      "execution_count": 26,
      "outputs": []
    },
    {
      "cell_type": "markdown",
      "metadata": {
        "id": "8cRJuDzq3F6S"
      },
      "source": [
        "Understand code: train one batch\n",
        "\n",
        "You can skip this section and jump to Main training loop"
      ]
    },
    {
      "cell_type": "code",
      "metadata": {
        "id": "6p1RaVvZ3MBK"
      },
      "source": [
        "for i, data in enumerate(dataloader):\n",
        "  break;"
      ],
      "execution_count": 27,
      "outputs": []
    },
    {
      "cell_type": "code",
      "metadata": {
        "id": "NCN-1bx53ceK"
      },
      "source": [
        "# get batch size data\n",
        "real_image_A = data['A'].to(device)\n",
        "real_image_B = data['B'].to(device)\n",
        "batch_size = real_image_A.size(0)"
      ],
      "execution_count": 28,
      "outputs": []
    },
    {
      "cell_type": "code",
      "metadata": {
        "id": "erpmQ9rYzaJr"
      },
      "source": [
        "# real data label is 1, fake data label is 0.\n",
        "real_label = torch.full((batch_size, 1), 1, device=device, dtype=torch.float32)\n",
        "fake_label = torch.full((batch_size, 1), 0, device=device, dtype=torch.float32)"
      ],
      "execution_count": 29,
      "outputs": []
    },
    {
      "cell_type": "markdown",
      "metadata": {
        "id": "2G3Ag_yGd1b2"
      },
      "source": [
        "(1) Update G network: Generators A2B and B2A"
      ]
    },
    {
      "cell_type": "code",
      "metadata": {
        "id": "ZJDEA-53Bfcr"
      },
      "source": [
        "# Set G_A and G_B's gradients to zero\n",
        "optimizer_G.zero_grad()"
      ],
      "execution_count": 30,
      "outputs": []
    },
    {
      "cell_type": "code",
      "metadata": {
        "id": "e8vlrDMRBjOq",
        "colab": {
          "base_uri": "https://localhost:8080/"
        },
        "outputId": "51518d70-e6fd-472a-e2f2-0c354a9e4de4"
      },
      "source": [
        "# Identity loss\n",
        "# G_B2A(A) should equal A if real A is fed\n",
        "identity_image_A = netG_B2A(real_image_A)\n",
        "loss_identity_A = identity_loss(identity_image_A, real_image_A) * 5.0\n",
        "print(real_image_A.shape, identity_image_A.shape, loss_identity_A)"
      ],
      "execution_count": 31,
      "outputs": [
        {
          "output_type": "stream",
          "text": [
            "torch.Size([4, 3, 256, 256]) torch.Size([4, 3, 256, 256]) tensor(3.2448, device='cuda:0', grad_fn=<MulBackward0>)\n"
          ],
          "name": "stdout"
        }
      ]
    },
    {
      "cell_type": "code",
      "metadata": {
        "id": "DpNSL9pZsxSu",
        "colab": {
          "base_uri": "https://localhost:8080/"
        },
        "outputId": "8635ccee-0276-45d1-f235-517216052565"
      },
      "source": [
        "# G_A2B(B) should equal B if real B is fed\n",
        "identity_image_B = netG_A2B(real_image_B)\n",
        "loss_identity_B = identity_loss(identity_image_B, real_image_B) * 5.0\n",
        "print(real_image_B.shape, identity_image_B.shape, loss_identity_B)"
      ],
      "execution_count": 32,
      "outputs": [
        {
          "output_type": "stream",
          "text": [
            "torch.Size([4, 3, 256, 256]) torch.Size([4, 3, 256, 256]) tensor(3.1646, device='cuda:0', grad_fn=<MulBackward0>)\n"
          ],
          "name": "stdout"
        }
      ]
    },
    {
      "cell_type": "code",
      "metadata": {
        "id": "BQJTLSW2KTx0"
      },
      "source": [
        "# GAN loss\n",
        "# GAN loss D_A(G_A(A))\n",
        "fake_image_A = netG_B2A(real_image_B)\n",
        "fake_output_A = netD_A(fake_image_A)\n",
        "loss_GAN_B2A = adversarial_loss(fake_output_A, real_label)\n",
        "# GAN loss D_B(G_B(B))\n",
        "fake_image_B = netG_A2B(real_image_A)\n",
        "fake_output_B = netD_B(fake_image_B)\n",
        "loss_GAN_A2B = adversarial_loss(fake_output_B, real_label)"
      ],
      "execution_count": 33,
      "outputs": []
    },
    {
      "cell_type": "code",
      "metadata": {
        "id": "Jl-BzW6pc-Vm"
      },
      "source": [
        "# Cycle loss\n",
        "recovered_image_A = netG_B2A(fake_image_B)\n",
        "loss_cycle_ABA = cycle_loss(recovered_image_A, real_image_A) * 10.0\n",
        "\n",
        "recovered_image_B = netG_A2B(fake_image_A)\n",
        "loss_cycle_BAB = cycle_loss(recovered_image_B, real_image_B) * 10.0"
      ],
      "execution_count": 34,
      "outputs": []
    },
    {
      "cell_type": "code",
      "metadata": {
        "id": "FJZhVobtdkYv"
      },
      "source": [
        "# Combined loss and calculate gradients\n",
        "errG = loss_identity_A + loss_identity_B + loss_GAN_A2B + loss_GAN_B2A + loss_cycle_ABA + loss_cycle_BAB\n",
        "\n",
        "# Calculate gradients for G_A and G_B\n",
        "errG.backward()\n",
        "# Update G_A and G_B's weights\n",
        "optimizer_G.step()"
      ],
      "execution_count": 35,
      "outputs": []
    },
    {
      "cell_type": "markdown",
      "metadata": {
        "id": "aIYfgM2kdvV2"
      },
      "source": [
        "(2) Update D network: Discriminator A"
      ]
    },
    {
      "cell_type": "code",
      "metadata": {
        "id": "DYfWbCIDdkcM"
      },
      "source": [
        "# Set D_A gradients to zero\n",
        "optimizer_D_A.zero_grad()"
      ],
      "execution_count": 36,
      "outputs": []
    },
    {
      "cell_type": "code",
      "metadata": {
        "id": "69V0R_icdkgF"
      },
      "source": [
        "# Real A image loss\n",
        "real_output_A = netD_A(real_image_A)\n",
        "errD_real_A = adversarial_loss(real_output_A, real_label)"
      ],
      "execution_count": 37,
      "outputs": []
    },
    {
      "cell_type": "code",
      "metadata": {
        "id": "IWIj5KKeeAQ-"
      },
      "source": [
        "# Fake A image loss\n",
        "fake_image_A = fake_A_buffer.push_and_pop(fake_image_A)\n",
        "fake_output_A = netD_A(fake_image_A.detach())\n",
        "errD_fake_A = adversarial_loss(fake_output_A, fake_label)"
      ],
      "execution_count": 38,
      "outputs": []
    },
    {
      "cell_type": "code",
      "metadata": {
        "id": "erm1zMfeeAUV"
      },
      "source": [
        "# Combined loss and calculate gradients\n",
        "errD_A = (errD_real_A + errD_fake_A) / 2\n",
        "\n",
        "# Calculate gradients for D_A\n",
        "errD_A.backward()\n",
        "# Update D_A weights\n",
        "optimizer_D_A.step()"
      ],
      "execution_count": 39,
      "outputs": []
    },
    {
      "cell_type": "markdown",
      "metadata": {
        "id": "Z5yaf3c4eKH3"
      },
      "source": [
        "(3) Update D network: Discriminator B"
      ]
    },
    {
      "cell_type": "code",
      "metadata": {
        "id": "AYw77Gk9eAX1"
      },
      "source": [
        "# Set D_B gradients to zero\n",
        "optimizer_D_B.zero_grad()\n",
        "\n",
        "# Real B image loss\n",
        "real_output_B = netD_B(real_image_B)\n",
        "errD_real_B = adversarial_loss(real_output_B, real_label)\n",
        "\n",
        "# Fake B image loss\n",
        "fake_image_B = fake_B_buffer.push_and_pop(fake_image_B)\n",
        "fake_output_B = netD_B(fake_image_B.detach())\n",
        "errD_fake_B = adversarial_loss(fake_output_B, fake_label)\n",
        "\n",
        "# Combined loss and calculate gradients\n",
        "errD_B = (errD_real_B + errD_fake_B) / 2\n",
        "\n",
        "# Calculate gradients for D_B\n",
        "errD_B.backward()\n",
        "# Update D_B weights\n",
        "optimizer_D_B.step()"
      ],
      "execution_count": 40,
      "outputs": []
    },
    {
      "cell_type": "code",
      "metadata": {
        "id": "ETnkG1iVeIC_"
      },
      "source": [
        "vutils.save_image(real_image_A, f\"{outf}/{dataset}/A/real_samples.png\",normalize=True)"
      ],
      "execution_count": 41,
      "outputs": []
    },
    {
      "cell_type": "code",
      "metadata": {
        "id": "cqNj5T9geIGn"
      },
      "source": [
        "vutils.save_image(real_image_B, f\"{outf}/{dataset}/B/real_samples.png\",normalize=True)"
      ],
      "execution_count": 42,
      "outputs": []
    },
    {
      "cell_type": "code",
      "metadata": {
        "id": "u-qxfdERjhO8"
      },
      "source": [
        "epoch=0"
      ],
      "execution_count": 43,
      "outputs": []
    },
    {
      "cell_type": "code",
      "metadata": {
        "id": "2DGe96U4gHwh"
      },
      "source": [
        "fake_image_A = 0.5 * (netG_B2A(real_image_B).data + 1.0)\n",
        "fake_image_B = 0.5 * (netG_A2B(real_image_A).data + 1.0)\n",
        "vutils.save_image(fake_image_A.detach(), f\"{outf}/{dataset}/A/fake_samples_epoch_{epoch}.png\",normalize=True)\n",
        "vutils.save_image(fake_image_B.detach(),f\"{outf}/{dataset}/B/fake_samples_epoch_{epoch}.png\",normalize=True)"
      ],
      "execution_count": 44,
      "outputs": []
    },
    {
      "cell_type": "code",
      "metadata": {
        "id": "7KlpozRDhNuR"
      },
      "source": [
        "# save NN\n",
        "torch.save(netG_A2B.state_dict(), f\"weights/{dataset}/netG_A2B_epoch_{epoch}.pth\")\n",
        "torch.save(netG_B2A.state_dict(), f\"weights/{dataset}/netG_B2A_epoch_{epoch}.pth\")\n",
        "torch.save(netD_A.state_dict(), f\"weights/{dataset}/netD_A_epoch_{epoch}.pth\")\n",
        "torch.save(netD_B.state_dict(), f\"weights/{dataset}/netD_B_epoch_{epoch}.pth\")"
      ],
      "execution_count": 45,
      "outputs": []
    },
    {
      "cell_type": "markdown",
      "metadata": {
        "id": "6RArk_Nzjv_N"
      },
      "source": [
        "#The main training loop"
      ]
    },
    {
      "cell_type": "code",
      "metadata": {
        "id": "sC5Uup8Fj0W0"
      },
      "source": [
        "##############################################\n",
        "# (1) Update G network: Generators A2B and B2A\n",
        "##############################################\n",
        "def UpdateG (real_image_A,real_image_B,real_label,fake_label):\n",
        "  # Set G_A and G_B's gradients to zero\n",
        "  optimizer_G.zero_grad()\n",
        "\n",
        "  # Identity loss\n",
        "  # G_B2A(A) should equal A if real A is fed\n",
        "  identity_image_A = netG_B2A(real_image_A)\n",
        "  loss_identity_A = identity_loss(identity_image_A, real_image_A) * 5.0\n",
        "  # G_A2B(B) should equal B if real B is fed\n",
        "  identity_image_B = netG_A2B(real_image_B)\n",
        "  loss_identity_B = identity_loss(identity_image_B, real_image_B) * 5.0\n",
        "\n",
        "  # GAN loss\n",
        "  # GAN loss D_A(G_A(A))\n",
        "  fake_image_A = netG_B2A(real_image_B)\n",
        "  fake_output_A = netD_A(fake_image_A)\n",
        "  loss_GAN_B2A = adversarial_loss(fake_output_A, real_label)\n",
        "  # GAN loss D_B(G_B(B))\n",
        "  fake_image_B = netG_A2B(real_image_A)\n",
        "  fake_output_B = netD_B(fake_image_B)\n",
        "  loss_GAN_A2B = adversarial_loss(fake_output_B, real_label)\n",
        "\n",
        "  # Cycle loss\n",
        "  recovered_image_A = netG_B2A(fake_image_B)\n",
        "  loss_cycle_ABA = cycle_loss(recovered_image_A, real_image_A) * 10.0\n",
        "\n",
        "  recovered_image_B = netG_A2B(fake_image_A)\n",
        "  loss_cycle_BAB = cycle_loss(recovered_image_B, real_image_B) * 10.0\n",
        "\n",
        "  # Combined loss and calculate gradients\n",
        "  errG = loss_identity_A + loss_identity_B + loss_GAN_A2B + loss_GAN_B2A + loss_cycle_ABA + loss_cycle_BAB\n",
        "\n",
        "  # Calculate gradients for G_A and G_B\n",
        "  errG.backward()\n",
        "  # Update G_A and G_B's weights\n",
        "  optimizer_G.step()\n",
        "\n",
        "  return fake_image_A, fake_image_B"
      ],
      "execution_count": 46,
      "outputs": []
    },
    {
      "cell_type": "code",
      "metadata": {
        "id": "pvhz4fl2kHiL"
      },
      "source": [
        "##############################################\n",
        "# (2) Update D network: Discriminator A\n",
        "##############################################\n",
        "def UpdateD_A (fake_image_A):\n",
        "  # Set D_A gradients to zero\n",
        "  optimizer_D_A.zero_grad()\n",
        "\n",
        "  # Real A image loss\n",
        "  real_output_A = netD_A(real_image_A)\n",
        "  errD_real_A = adversarial_loss(real_output_A, real_label)\n",
        "\n",
        "  # Fake A image loss\n",
        "  fake_image_A = fake_A_buffer.push_and_pop(fake_image_A)\n",
        "  fake_output_A = netD_A(fake_image_A.detach())\n",
        "  errD_fake_A = adversarial_loss(fake_output_A, fake_label)\n",
        "\n",
        "  # Combined loss and calculate gradients\n",
        "  errD_A = (errD_real_A + errD_fake_A) / 2\n",
        "\n",
        "  # Calculate gradients for D_A\n",
        "  errD_A.backward()\n",
        "  # Update D_A weights\n",
        "  optimizer_D_A.step()"
      ],
      "execution_count": 47,
      "outputs": []
    },
    {
      "cell_type": "code",
      "metadata": {
        "id": "oz924gEckSZ1"
      },
      "source": [
        "##############################################\n",
        "# (3) Update D network: Discriminator B\n",
        "##############################################\n",
        "def UpdateD_B(fake_image_B):\n",
        "  # Set D_B gradients to zero\n",
        "  optimizer_D_B.zero_grad()\n",
        "\n",
        "  # Real B image loss\n",
        "  real_output_B = netD_B(real_image_B)\n",
        "  errD_real_B = adversarial_loss(real_output_B, real_label)\n",
        "\n",
        "  # Fake B image loss\n",
        "  fake_image_B = fake_B_buffer.push_and_pop(fake_image_B)\n",
        "  fake_output_B = netD_B(fake_image_B.detach())\n",
        "  errD_fake_B = adversarial_loss(fake_output_B, fake_label)\n",
        "\n",
        "  # Combined loss and calculate gradients\n",
        "  errD_B = (errD_real_B + errD_fake_B) / 2\n",
        "\n",
        "  # Calculate gradients for D_B\n",
        "  errD_B.backward()\n",
        "  # Update D_B weights\n",
        "  optimizer_D_B.step()"
      ],
      "execution_count": 48,
      "outputs": []
    },
    {
      "cell_type": "code",
      "metadata": {
        "id": "zXnrlJsdyT8d"
      },
      "source": [
        "epochs = 500 # change to larger number, 3000, for real training\n",
        "decay_epochs = 50 #change to 100 for real training\n",
        "print_freq = 20 #change to 100"
      ],
      "execution_count": 49,
      "outputs": []
    },
    {
      "cell_type": "code",
      "metadata": {
        "id": "BcjrZR2s3_Vj"
      },
      "source": [
        "lr_lambda = DecayLR(epochs, 0, decay_epochs).step\n",
        "lr_scheduler_G = torch.optim.lr_scheduler.LambdaLR(optimizer_G, lr_lambda=lr_lambda)\n",
        "lr_scheduler_D_A = torch.optim.lr_scheduler.LambdaLR(optimizer_D_A, lr_lambda=lr_lambda)\n",
        "lr_scheduler_D_B = torch.optim.lr_scheduler.LambdaLR(optimizer_D_B, lr_lambda=lr_lambda)"
      ],
      "execution_count": 50,
      "outputs": []
    },
    {
      "cell_type": "code",
      "metadata": {
        "colab": {
          "base_uri": "https://localhost:8080/",
          "height": 452
        },
        "id": "yNexmIYKkenU",
        "outputId": "e15eb7ab-86e3-46d4-dd0f-de1fa9632222"
      },
      "source": [
        "for epoch in range(0, epochs):\n",
        "  for i, data in enumerate(dataloader):\n",
        "    # get batch size data\n",
        "    real_image_A = data[\"A\"].to(device)\n",
        "    real_image_B = data[\"B\"].to(device)\n",
        "    #batch_size = real_image_A.size(0)\n",
        "\n",
        "    # real data label is 1, fake data label is 0.\n",
        "    real_label = torch.full((batch_size, 1), 1, device=device, dtype=torch.float32)\n",
        "    fake_label = torch.full((batch_size, 1), 0, device=device, dtype=torch.float32)\n",
        "\n",
        "    # (1) Update G network: Generators A2B and B2A\n",
        "    fake_image_A, fake_image_B = UpdateG(real_image_A,real_image_B,real_label,fake_label)\n",
        "\n",
        "    #(2) Update D network: Discriminator A\n",
        "    UpdateD_A(fake_image_A)\n",
        "\n",
        "    #(3) Update D network: Discriminator B\n",
        "    UpdateD_B(fake_image_B)\n",
        "\n",
        "  if(epoch % print_freq ==0):\n",
        "    vutils.save_image(real_image_A, f\"{outf}/{dataset}/A/real_samples.png\",normalize=True)\n",
        "    vutils.save_image(real_image_B, f\"{outf}/{dataset}/B/real_samples.png\",normalize=True)\n",
        "    fake_image_A = 0.5 * (netG_B2A(real_image_B).data + 1.0)\n",
        "    fake_image_B = 0.5 * (netG_A2B(real_image_A).data + 1.0)\n",
        "    vutils.save_image(fake_image_A.detach(), f\"{outf}/{dataset}/A/fake_samples_epoch_{epoch}.png\",normalize=True)\n",
        "    vutils.save_image(fake_image_B.detach(),f\"{outf}/{dataset}/B/fake_samples_epoch_{epoch}.png\",normalize=True)\n",
        "\n",
        "    torch.save(netG_A2B.state_dict(), f\"weights/{dataset}/netG_A2B_epoch_{epoch}.pth\")\n",
        "    torch.save(netG_B2A.state_dict(), f\"weights/{dataset}/netG_B2A_epoch_{epoch}.pth\")\n",
        "    torch.save(netD_A.state_dict(), f\"weights/{dataset}/netD_A_epoch_{epoch}.pth\")\n",
        "    torch.save(netD_B.state_dict(), f\"weights/{dataset}/netD_B_epoch_{epoch}.pth\")\n",
        "\n",
        "  # Update learning rates\n",
        "  lr_scheduler_G.step()\n",
        "  lr_scheduler_D_A.step()\n",
        "  lr_scheduler_D_B.step()\n",
        "\n",
        "# save last check pointing\n",
        "torch.save(netG_A2B.state_dict(), f\"weights/{dataset}/netG_A2B.pth\")\n",
        "torch.save(netG_B2A.state_dict(), f\"weights/{dataset}/netG_B2A.pth\")\n",
        "torch.save(netD_A.state_dict(), f\"weights/{dataset}/netD_A.pth\")\n",
        "torch.save(netD_B.state_dict(), f\"weights/{dataset}/netD_B.pth\")"
      ],
      "execution_count": 51,
      "outputs": [
        {
          "output_type": "stream",
          "text": [
            "/usr/local/lib/python3.7/dist-packages/torch/nn/modules/loss.py:528: UserWarning: Using a target size (torch.Size([4, 1])) that is different to the input size (torch.Size([1, 1])). This will likely lead to incorrect results due to broadcasting. Please ensure they have the same size.\n",
            "  return F.mse_loss(input, target, reduction=self.reduction)\n"
          ],
          "name": "stderr"
        },
        {
          "output_type": "error",
          "ename": "KeyboardInterrupt",
          "evalue": "ignored",
          "traceback": [
            "\u001b[0;31m---------------------------------------------------------------------------\u001b[0m",
            "\u001b[0;31mKeyboardInterrupt\u001b[0m                         Traceback (most recent call last)",
            "\u001b[0;32m<ipython-input-51-b9e0f377c491>\u001b[0m in \u001b[0;36m<module>\u001b[0;34m()\u001b[0m\n\u001b[1;32m     11\u001b[0m \u001b[0;34m\u001b[0m\u001b[0m\n\u001b[1;32m     12\u001b[0m     \u001b[0;31m# (1) Update G network: Generators A2B and B2A\u001b[0m\u001b[0;34m\u001b[0m\u001b[0;34m\u001b[0m\u001b[0;34m\u001b[0m\u001b[0m\n\u001b[0;32m---> 13\u001b[0;31m     \u001b[0mfake_image_A\u001b[0m\u001b[0;34m,\u001b[0m \u001b[0mfake_image_B\u001b[0m \u001b[0;34m=\u001b[0m \u001b[0mUpdateG\u001b[0m\u001b[0;34m(\u001b[0m\u001b[0mreal_image_A\u001b[0m\u001b[0;34m,\u001b[0m\u001b[0mreal_image_B\u001b[0m\u001b[0;34m,\u001b[0m\u001b[0mreal_label\u001b[0m\u001b[0;34m,\u001b[0m\u001b[0mfake_label\u001b[0m\u001b[0;34m)\u001b[0m\u001b[0;34m\u001b[0m\u001b[0;34m\u001b[0m\u001b[0m\n\u001b[0m\u001b[1;32m     14\u001b[0m \u001b[0;34m\u001b[0m\u001b[0m\n\u001b[1;32m     15\u001b[0m     \u001b[0;31m#(2) Update D network: Discriminator A\u001b[0m\u001b[0;34m\u001b[0m\u001b[0;34m\u001b[0m\u001b[0;34m\u001b[0m\u001b[0m\n",
            "\u001b[0;32m<ipython-input-46-2f06852ef8c5>\u001b[0m in \u001b[0;36mUpdateG\u001b[0;34m(real_image_A, real_image_B, real_label, fake_label)\u001b[0m\n\u001b[1;32m     37\u001b[0m   \u001b[0merrG\u001b[0m\u001b[0;34m.\u001b[0m\u001b[0mbackward\u001b[0m\u001b[0;34m(\u001b[0m\u001b[0;34m)\u001b[0m\u001b[0;34m\u001b[0m\u001b[0;34m\u001b[0m\u001b[0m\n\u001b[1;32m     38\u001b[0m   \u001b[0;31m# Update G_A and G_B's weights\u001b[0m\u001b[0;34m\u001b[0m\u001b[0;34m\u001b[0m\u001b[0;34m\u001b[0m\u001b[0m\n\u001b[0;32m---> 39\u001b[0;31m   \u001b[0moptimizer_G\u001b[0m\u001b[0;34m.\u001b[0m\u001b[0mstep\u001b[0m\u001b[0;34m(\u001b[0m\u001b[0;34m)\u001b[0m\u001b[0;34m\u001b[0m\u001b[0;34m\u001b[0m\u001b[0m\n\u001b[0m\u001b[1;32m     40\u001b[0m \u001b[0;34m\u001b[0m\u001b[0m\n\u001b[1;32m     41\u001b[0m   \u001b[0;32mreturn\u001b[0m \u001b[0mfake_image_A\u001b[0m\u001b[0;34m,\u001b[0m \u001b[0mfake_image_B\u001b[0m\u001b[0;34m\u001b[0m\u001b[0;34m\u001b[0m\u001b[0m\n",
            "\u001b[0;32m/usr/local/lib/python3.7/dist-packages/torch/optim/lr_scheduler.py\u001b[0m in \u001b[0;36mwrapper\u001b[0;34m(*args, **kwargs)\u001b[0m\n\u001b[1;32m     63\u001b[0m                 \u001b[0minstance\u001b[0m\u001b[0;34m.\u001b[0m\u001b[0m_step_count\u001b[0m \u001b[0;34m+=\u001b[0m \u001b[0;36m1\u001b[0m\u001b[0;34m\u001b[0m\u001b[0;34m\u001b[0m\u001b[0m\n\u001b[1;32m     64\u001b[0m                 \u001b[0mwrapped\u001b[0m \u001b[0;34m=\u001b[0m \u001b[0mfunc\u001b[0m\u001b[0;34m.\u001b[0m\u001b[0m__get__\u001b[0m\u001b[0;34m(\u001b[0m\u001b[0minstance\u001b[0m\u001b[0;34m,\u001b[0m \u001b[0mcls\u001b[0m\u001b[0;34m)\u001b[0m\u001b[0;34m\u001b[0m\u001b[0;34m\u001b[0m\u001b[0m\n\u001b[0;32m---> 65\u001b[0;31m                 \u001b[0;32mreturn\u001b[0m \u001b[0mwrapped\u001b[0m\u001b[0;34m(\u001b[0m\u001b[0;34m*\u001b[0m\u001b[0margs\u001b[0m\u001b[0;34m,\u001b[0m \u001b[0;34m**\u001b[0m\u001b[0mkwargs\u001b[0m\u001b[0;34m)\u001b[0m\u001b[0;34m\u001b[0m\u001b[0;34m\u001b[0m\u001b[0m\n\u001b[0m\u001b[1;32m     66\u001b[0m \u001b[0;34m\u001b[0m\u001b[0m\n\u001b[1;32m     67\u001b[0m             \u001b[0;31m# Note that the returned function here is no longer a bound method,\u001b[0m\u001b[0;34m\u001b[0m\u001b[0;34m\u001b[0m\u001b[0;34m\u001b[0m\u001b[0m\n",
            "\u001b[0;32m/usr/local/lib/python3.7/dist-packages/torch/optim/optimizer.py\u001b[0m in \u001b[0;36mwrapper\u001b[0;34m(*args, **kwargs)\u001b[0m\n\u001b[1;32m     87\u001b[0m                 \u001b[0mprofile_name\u001b[0m \u001b[0;34m=\u001b[0m \u001b[0;34m\"Optimizer.step#{}.step\"\u001b[0m\u001b[0;34m.\u001b[0m\u001b[0mformat\u001b[0m\u001b[0;34m(\u001b[0m\u001b[0mobj\u001b[0m\u001b[0;34m.\u001b[0m\u001b[0m__class__\u001b[0m\u001b[0;34m.\u001b[0m\u001b[0m__name__\u001b[0m\u001b[0;34m)\u001b[0m\u001b[0;34m\u001b[0m\u001b[0;34m\u001b[0m\u001b[0m\n\u001b[1;32m     88\u001b[0m                 \u001b[0;32mwith\u001b[0m \u001b[0mtorch\u001b[0m\u001b[0;34m.\u001b[0m\u001b[0mautograd\u001b[0m\u001b[0;34m.\u001b[0m\u001b[0mprofiler\u001b[0m\u001b[0;34m.\u001b[0m\u001b[0mrecord_function\u001b[0m\u001b[0;34m(\u001b[0m\u001b[0mprofile_name\u001b[0m\u001b[0;34m)\u001b[0m\u001b[0;34m:\u001b[0m\u001b[0;34m\u001b[0m\u001b[0;34m\u001b[0m\u001b[0m\n\u001b[0;32m---> 89\u001b[0;31m                     \u001b[0;32mreturn\u001b[0m \u001b[0mfunc\u001b[0m\u001b[0;34m(\u001b[0m\u001b[0;34m*\u001b[0m\u001b[0margs\u001b[0m\u001b[0;34m,\u001b[0m \u001b[0;34m**\u001b[0m\u001b[0mkwargs\u001b[0m\u001b[0;34m)\u001b[0m\u001b[0;34m\u001b[0m\u001b[0;34m\u001b[0m\u001b[0m\n\u001b[0m\u001b[1;32m     90\u001b[0m             \u001b[0;32mreturn\u001b[0m \u001b[0mwrapper\u001b[0m\u001b[0;34m\u001b[0m\u001b[0;34m\u001b[0m\u001b[0m\n\u001b[1;32m     91\u001b[0m \u001b[0;34m\u001b[0m\u001b[0m\n",
            "\u001b[0;32m/usr/local/lib/python3.7/dist-packages/torch/autograd/grad_mode.py\u001b[0m in \u001b[0;36mdecorate_context\u001b[0;34m(*args, **kwargs)\u001b[0m\n\u001b[1;32m     25\u001b[0m         \u001b[0;32mdef\u001b[0m \u001b[0mdecorate_context\u001b[0m\u001b[0;34m(\u001b[0m\u001b[0;34m*\u001b[0m\u001b[0margs\u001b[0m\u001b[0;34m,\u001b[0m \u001b[0;34m**\u001b[0m\u001b[0mkwargs\u001b[0m\u001b[0;34m)\u001b[0m\u001b[0;34m:\u001b[0m\u001b[0;34m\u001b[0m\u001b[0;34m\u001b[0m\u001b[0m\n\u001b[1;32m     26\u001b[0m             \u001b[0;32mwith\u001b[0m \u001b[0mself\u001b[0m\u001b[0;34m.\u001b[0m\u001b[0m__class__\u001b[0m\u001b[0;34m(\u001b[0m\u001b[0;34m)\u001b[0m\u001b[0;34m:\u001b[0m\u001b[0;34m\u001b[0m\u001b[0;34m\u001b[0m\u001b[0m\n\u001b[0;32m---> 27\u001b[0;31m                 \u001b[0;32mreturn\u001b[0m \u001b[0mfunc\u001b[0m\u001b[0;34m(\u001b[0m\u001b[0;34m*\u001b[0m\u001b[0margs\u001b[0m\u001b[0;34m,\u001b[0m \u001b[0;34m**\u001b[0m\u001b[0mkwargs\u001b[0m\u001b[0;34m)\u001b[0m\u001b[0;34m\u001b[0m\u001b[0;34m\u001b[0m\u001b[0m\n\u001b[0m\u001b[1;32m     28\u001b[0m         \u001b[0;32mreturn\u001b[0m \u001b[0mcast\u001b[0m\u001b[0;34m(\u001b[0m\u001b[0mF\u001b[0m\u001b[0;34m,\u001b[0m \u001b[0mdecorate_context\u001b[0m\u001b[0;34m)\u001b[0m\u001b[0;34m\u001b[0m\u001b[0;34m\u001b[0m\u001b[0m\n\u001b[1;32m     29\u001b[0m \u001b[0;34m\u001b[0m\u001b[0m\n",
            "\u001b[0;32m/usr/local/lib/python3.7/dist-packages/torch/optim/adam.py\u001b[0m in \u001b[0;36mstep\u001b[0;34m(self, closure)\u001b[0m\n\u001b[1;32m    117\u001b[0m                    \u001b[0mgroup\u001b[0m\u001b[0;34m[\u001b[0m\u001b[0;34m'lr'\u001b[0m\u001b[0;34m]\u001b[0m\u001b[0;34m,\u001b[0m\u001b[0;34m\u001b[0m\u001b[0;34m\u001b[0m\u001b[0m\n\u001b[1;32m    118\u001b[0m                    \u001b[0mgroup\u001b[0m\u001b[0;34m[\u001b[0m\u001b[0;34m'weight_decay'\u001b[0m\u001b[0;34m]\u001b[0m\u001b[0;34m,\u001b[0m\u001b[0;34m\u001b[0m\u001b[0;34m\u001b[0m\u001b[0m\n\u001b[0;32m--> 119\u001b[0;31m                    group['eps'])\n\u001b[0m\u001b[1;32m    120\u001b[0m         \u001b[0;32mreturn\u001b[0m \u001b[0mloss\u001b[0m\u001b[0;34m\u001b[0m\u001b[0;34m\u001b[0m\u001b[0m\n",
            "\u001b[0;32m/usr/local/lib/python3.7/dist-packages/torch/optim/_functional.py\u001b[0m in \u001b[0;36madam\u001b[0;34m(params, grads, exp_avgs, exp_avg_sqs, max_exp_avg_sqs, state_steps, amsgrad, beta1, beta2, lr, weight_decay, eps)\u001b[0m\n\u001b[1;32m     82\u001b[0m \u001b[0;34m\u001b[0m\u001b[0m\n\u001b[1;32m     83\u001b[0m         \u001b[0;31m# Decay the first and second moment running average coefficient\u001b[0m\u001b[0;34m\u001b[0m\u001b[0;34m\u001b[0m\u001b[0;34m\u001b[0m\u001b[0m\n\u001b[0;32m---> 84\u001b[0;31m         \u001b[0mexp_avg\u001b[0m\u001b[0;34m.\u001b[0m\u001b[0mmul_\u001b[0m\u001b[0;34m(\u001b[0m\u001b[0mbeta1\u001b[0m\u001b[0;34m)\u001b[0m\u001b[0;34m.\u001b[0m\u001b[0madd_\u001b[0m\u001b[0;34m(\u001b[0m\u001b[0mgrad\u001b[0m\u001b[0;34m,\u001b[0m \u001b[0malpha\u001b[0m\u001b[0;34m=\u001b[0m\u001b[0;36m1\u001b[0m \u001b[0;34m-\u001b[0m \u001b[0mbeta1\u001b[0m\u001b[0;34m)\u001b[0m\u001b[0;34m\u001b[0m\u001b[0;34m\u001b[0m\u001b[0m\n\u001b[0m\u001b[1;32m     85\u001b[0m         \u001b[0mexp_avg_sq\u001b[0m\u001b[0;34m.\u001b[0m\u001b[0mmul_\u001b[0m\u001b[0;34m(\u001b[0m\u001b[0mbeta2\u001b[0m\u001b[0;34m)\u001b[0m\u001b[0;34m.\u001b[0m\u001b[0maddcmul_\u001b[0m\u001b[0;34m(\u001b[0m\u001b[0mgrad\u001b[0m\u001b[0;34m,\u001b[0m \u001b[0mgrad\u001b[0m\u001b[0;34m,\u001b[0m \u001b[0mvalue\u001b[0m\u001b[0;34m=\u001b[0m\u001b[0;36m1\u001b[0m \u001b[0;34m-\u001b[0m \u001b[0mbeta2\u001b[0m\u001b[0;34m)\u001b[0m\u001b[0;34m\u001b[0m\u001b[0;34m\u001b[0m\u001b[0m\n\u001b[1;32m     86\u001b[0m         \u001b[0;32mif\u001b[0m \u001b[0mamsgrad\u001b[0m\u001b[0;34m:\u001b[0m\u001b[0;34m\u001b[0m\u001b[0;34m\u001b[0m\u001b[0m\n",
            "\u001b[0;31mKeyboardInterrupt\u001b[0m: "
          ]
        }
      ]
    },
    {
      "cell_type": "code",
      "metadata": {
        "id": "SCOiLOo_l_uT"
      },
      "source": [
        ""
      ],
      "execution_count": null,
      "outputs": []
    }
  ]
}