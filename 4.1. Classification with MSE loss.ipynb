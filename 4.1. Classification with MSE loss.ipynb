{
  "nbformat": 4,
  "nbformat_minor": 0,
  "metadata": {
    "colab": {
      "name": "1. 2.1. MLP regression (3 Layers).ipynb",
      "provenance": [],
      "collapsed_sections": []
    },
    "kernelspec": {
      "display_name": "Python 3",
      "language": "python",
      "name": "python3"
    },
    "language_info": {
      "codemirror_mode": {
        "name": "ipython",
        "version": 3
      },
      "file_extension": ".py",
      "mimetype": "text/x-python",
      "name": "python",
      "nbconvert_exporter": "python",
      "pygments_lexer": "ipython3",
      "version": "3.6.10"
    },
    "accelerator": "GPU"
  },
  "cells": [
    {
      "cell_type": "code",
      "metadata": {
        "id": "__UqpfWmZk_M"
      },
      "source": [
        "import torch\n",
        "import torch.nn as nn\n",
        "import torch.utils.data as Data\n",
        "from torchsummary import summary\n",
        "import random\n",
        "import numpy as np\n",
        "from sklearn.model_selection import train_test_split\n",
        "import matplotlib.pyplot as plt"
      ],
      "execution_count": 1,
      "outputs": []
    },
    {
      "cell_type": "code",
      "metadata": {
        "colab": {
          "base_uri": "https://localhost:8080/"
        },
        "id": "ABW0dcklZddi",
        "outputId": "c70dd0d2-4e2c-4448-ade5-9f78c9a7df4f"
      },
      "source": [
        "if(torch.cuda.is_available()):\n",
        "    device = torch.device(\"cuda\")\n",
        "    print(device, torch.cuda.get_device_name(0))\n",
        "else:\n",
        "    device= torch.device(\"cpu\")\n",
        "    print(device)"
      ],
      "execution_count": 2,
      "outputs": [
        {
          "output_type": "stream",
          "text": [
            "cuda Tesla P100-PCIE-16GB\n"
          ],
          "name": "stdout"
        }
      ]
    },
    {
      "cell_type": "markdown",
      "metadata": {
        "id": "i76WN5NAuZh6"
      },
      "source": [
        "#Generate data list X1, Y, X20, X21"
      ]
    },
    {
      "cell_type": "code",
      "metadata": {
        "colab": {
          "base_uri": "https://localhost:8080/"
        },
        "id": "TMjkMMh8qXpL",
        "outputId": "0cdb56d7-2e4f-4029-bc23-af0d173f1693"
      },
      "source": [
        "# x1: -10 to 10, step 0.25, 80 data points\n",
        "# y = cubic function of x1\n",
        "lstX1 = []\n",
        "lstY1 = []\n",
        "x = -10\n",
        "while(x<10):\n",
        "  y=3*x*x*x + 2*x*x + 5*x\n",
        "  lstY1.append(y)\n",
        "  lstX1.append(x)\n",
        "  x = x + 0.25\n",
        "print(len(lstX1), len(lstY1))\n",
        "\n",
        "#normalized to [0,1]\n",
        "lstX1= [(float(i)-min(lstX1))/(max(lstX1)-min(lstX1)) for i in lstX1]\n",
        "lstY1= [(float(i)-min(lstY1))/(max(lstY1)-min(lstY1)) for i in lstY1]"
      ],
      "execution_count": 3,
      "outputs": [
        {
          "output_type": "stream",
          "text": [
            "80 80\n"
          ],
          "name": "stdout"
        }
      ]
    },
    {
      "cell_type": "code",
      "metadata": {
        "id": "tPoP01sEqi2p",
        "outputId": "6360fb64-f645-4f12-aaab-e8a4984f9af6",
        "colab": {
          "base_uri": "https://localhost:8080/",
          "height": 374
        }
      },
      "source": [
        "#for each x1, generate one data for class 0 and one data for class 1\n",
        "#class 0: x2=y+random (above the cubic curve, green)\n",
        "#class 1: x2=y-random (below the cubic curve, red)\n",
        "lstX20 = []\n",
        "lstX21 = []\n",
        "for i in range(len(lstX1)): \n",
        "  lstX20.append(lstY1[i] + random.uniform(-0.1, 0.3))\n",
        "  lstX21.append(lstY1[i] - random.uniform(-0.1, 0.3))\n",
        "  \n",
        "fig=plt.figure(figsize=(12, 6))\n",
        "plt.scatter(lstX1, lstY1, color = \"blue\")\n",
        "plt.scatter(lstX1, lstX20, color = \"green\")\n",
        "plt.scatter(lstX1, lstX21, color = \"red\")\n",
        "plt.show()"
      ],
      "execution_count": 4,
      "outputs": [
        {
          "output_type": "display_data",
          "data": {
            "image/png": "[encoded data removed]",
            "text/plain": [
              "<Figure size 864x432 with 1 Axes>"
            ]
          },
          "metadata": {
            "tags": [],
            "needs_background": "light"
          }
        }
      ]
    },
    {
      "cell_type": "markdown",
      "metadata": {
        "id": "lko6arfGA7Iv"
      },
      "source": [
        "#Combine (x1, x20), (x1, x21) to generate X"
      ]
    },
    {
      "cell_type": "code",
      "metadata": {
        "colab": {
          "base_uri": "https://localhost:8080/"
        },
        "id": "bQlvAYEar3vw",
        "outputId": "dad34ce5-6d79-4b1e-fecf-c9da8450241b"
      },
      "source": [
        "lstX=[]\n",
        "lstY=[]\n",
        "for i in range(len(lstX1)):\n",
        "  lstX.append([lstX1[i],lstX20[i]])\n",
        "  lstY.append([0])\n",
        "  lstX.append([lstX1[i],lstX21[i]])\n",
        "  lstY.append([1])\n",
        "numpyX = np.array(lstX)\n",
        "numpyY = np.array(lstY)\n",
        "print(numpyX.shape, numpyY.shape)"
      ],
      "execution_count": 5,
      "outputs": [
        {
          "output_type": "stream",
          "text": [
            "(160, 2) (160, 1)\n"
          ],
          "name": "stdout"
        }
      ]
    },
    {
      "cell_type": "code",
      "metadata": {
        "colab": {
          "base_uri": "https://localhost:8080/"
        },
        "id": "VfrEBnJ_uye6",
        "outputId": "adbe3544-7e4c-48a1-f868-13e9180e337d"
      },
      "source": [
        "trainX, testX, trainY_hat, testY_hat = train_test_split(numpyX, numpyY, test_size=0.20, random_state=0)\n",
        "print(trainX.shape, trainY_hat.shape, testX.shape, testY_hat.shape)"
      ],
      "execution_count": 6,
      "outputs": [
        {
          "output_type": "stream",
          "text": [
            "(128, 2) (128, 1) (32, 2) (32, 1)\n"
          ],
          "name": "stdout"
        }
      ]
    },
    {
      "cell_type": "markdown",
      "metadata": {
        "id": "V63Q2YBS5ahw"
      },
      "source": [
        "# Define NN"
      ]
    },
    {
      "cell_type": "code",
      "metadata": {
        "id": "GODxPLay5d2e"
      },
      "source": [
        "MyNet = nn.Sequential(\n",
        "    nn.Linear(2, 50),\n",
        "    nn.ReLU(),\n",
        "    nn.Linear(50, 100),\n",
        "    nn.ReLU(),\n",
        "    nn.Linear(100, 50),\n",
        "    nn.ReLU(),\n",
        "    nn.Linear(50, 1),\n",
        ")\n",
        "MyNet.to(device)\n",
        "loss_func = nn.MSELoss()\n",
        "optimizer = torch.optim.Adam(MyNet.parameters(), lr=0.005)"
      ],
      "execution_count": 7,
      "outputs": []
    },
    {
      "cell_type": "code",
      "metadata": {
        "id": "Ox36L9TS5eVQ",
        "outputId": "7863f59d-7c94-420d-ac73-daa731f9730b",
        "colab": {
          "base_uri": "https://localhost:8080/"
        }
      },
      "source": [
        "BATCH_SIZE = 30\n",
        "summary(MyNet, input_size=(BATCH_SIZE, 2))"
      ],
      "execution_count": 8,
      "outputs": [
        {
          "output_type": "stream",
          "text": [
            "----------------------------------------------------------------\n",
            "        Layer (type)               Output Shape         Param #\n",
            "================================================================\n",
            "            Linear-1               [-1, 30, 50]             150\n",
            "              ReLU-2               [-1, 30, 50]               0\n",
            "            Linear-3              [-1, 30, 100]           5,100\n",
            "              ReLU-4              [-1, 30, 100]               0\n",
            "            Linear-5               [-1, 30, 50]           5,050\n",
            "              ReLU-6               [-1, 30, 50]               0\n",
            "            Linear-7                [-1, 30, 1]              51\n",
            "================================================================\n",
            "Total params: 10,351\n",
            "Trainable params: 10,351\n",
            "Non-trainable params: 0\n",
            "----------------------------------------------------------------\n",
            "Input size (MB): 0.00\n",
            "Forward/backward pass size (MB): 0.09\n",
            "Params size (MB): 0.04\n",
            "Estimated Total Size (MB): 0.13\n",
            "----------------------------------------------------------------\n"
          ],
          "name": "stdout"
        }
      ]
    },
    {
      "cell_type": "markdown",
      "metadata": {
        "id": "OvMjbanty0Dq"
      },
      "source": [
        "# Train with mini-batches"
      ]
    },
    {
      "cell_type": "code",
      "metadata": {
        "id": "zQVRfcnq5tot",
        "outputId": "4d048ab3-e703-4748-d39e-47b78e035375",
        "colab": {
          "base_uri": "https://localhost:8080/"
        }
      },
      "source": [
        "tensorX = torch.FloatTensor(trainX).to(device)\n",
        "tensorY_hat = torch.FloatTensor(trainY_hat).to(device)\n",
        "print(tensorX.shape, tensorY_hat.shape)"
      ],
      "execution_count": 9,
      "outputs": [
        {
          "output_type": "stream",
          "text": [
            "torch.Size([128, 2]) torch.Size([128, 1])\n"
          ],
          "name": "stdout"
        }
      ]
    },
    {
      "cell_type": "code",
      "metadata": {
        "id": "ynJMBp0BuoTy"
      },
      "source": [
        "torch_dataset = Data.TensorDataset(tensorX, tensorY_hat)"
      ],
      "execution_count": 10,
      "outputs": []
    },
    {
      "cell_type": "code",
      "metadata": {
        "id": "yq7GbVtxsxBu"
      },
      "source": [
        "loader = Data.DataLoader(\n",
        "    dataset=torch_dataset,  \n",
        "    batch_size=BATCH_SIZE,      \n",
        "    shuffle=True,       \n",
        "    num_workers=0,    # subprocesses for loading data\n",
        ")"
      ],
      "execution_count": 11,
      "outputs": []
    },
    {
      "cell_type": "code",
      "metadata": {
        "colab": {
          "base_uri": "https://localhost:8080/",
          "height": 374
        },
        "id": "cu8gM7chwT7t",
        "outputId": "cb7c58ab-cbd4-417a-c7d3-9879a6f443d2"
      },
      "source": [
        "# initialize NN weights\n",
        "for name, param in MyNet.named_parameters():\n",
        "  if(param.requires_grad):\n",
        "    torch.nn.init.normal_(param, mean=0.0, std=0.02)\n",
        "\n",
        "lossLst = []\n",
        "for epoch in range(1, 500):\n",
        "  for (batchX, batchY_hat) in loader:\n",
        "    tensorY = MyNet(batchX)\n",
        "    loss = loss_func(batchY_hat, tensorY)\n",
        "    lossLst.append(float(loss))\n",
        "    optimizer.zero_grad()\n",
        "    loss.backward()\n",
        "    optimizer.step()\n",
        "fig=plt.figure(figsize=(12, 6))\n",
        "plt.plot(lossLst)\n",
        "plt.grid()\n",
        "plt.show()"
      ],
      "execution_count": 12,
      "outputs": [
        {
          "output_type": "display_data",
          "data": {
            "image/png": "[encoded data removed]",
            "text/plain": [
              "<Figure size 864x432 with 1 Axes>"
            ]
          },
          "metadata": {
            "tags": [],
            "needs_background": "light"
          }
        }
      ]
    },
    {
      "cell_type": "markdown",
      "metadata": {
        "id": "FjJ9hWD8CCMl"
      },
      "source": [
        "# Test performance"
      ]
    },
    {
      "cell_type": "code",
      "metadata": {
        "colab": {
          "base_uri": "https://localhost:8080/"
        },
        "id": "meL0DKYmyQ_1",
        "outputId": "7c3d4877-a47c-40ab-cfd2-c406e0cc2782"
      },
      "source": [
        "tensorX = torch.FloatTensor(testX).to(device)\n",
        "tensorY_hat = torch.FloatTensor(testY_hat).to(device)\n",
        "tensorY = MyNet(tensorX)\n",
        "loss = loss_func(tensorY, tensorY_hat)\n",
        "print(\"Test loss: %.2f\" % (float(loss)))\n",
        "Y = tensorY.detach().cpu().numpy()\n",
        "print(\"min y = \", np.min(Y), \", max y =\", np.max(Y))"
      ],
      "execution_count": 13,
      "outputs": [
        {
          "output_type": "stream",
          "text": [
            "Test loss: 0.15\n",
            "min y =  -0.018741965 , max y = 1.0456767\n"
          ],
          "name": "stdout"
        }
      ]
    },
    {
      "cell_type": "code",
      "metadata": {
        "id": "dmzXy7kB4D8u",
        "colab": {
          "base_uri": "https://localhost:8080/",
          "height": 347
        },
        "outputId": "212cdff4-492f-41a9-c4c0-04ebfabd0635"
      },
      "source": [
        "# show original classification\n",
        "fig=plt.figure(figsize=(18, 6))\n",
        "lstColor = []\n",
        "for i in range(testY_hat.size):\n",
        "  if(testY_hat[i][0]==0):\n",
        "    lstColor.append(\"green\")\n",
        "  else:\n",
        "    lstColor.append(\"red\")\n",
        "fig.add_subplot(1, 2, 1) \n",
        "plt.scatter(lstX1, lstY1, color = \"blue\")\n",
        "plt.scatter(testX[:, 0], testX[:, 1], c=lstColor)\n",
        "\n",
        "# show model predicted classification\n",
        "lstColor = []\n",
        "correctNo = 0\n",
        "for i in range(Y.size):\n",
        "  if(Y[i][0]<=0.5):\n",
        "    lstColor.append(\"green\")\n",
        "    if(testY_hat[i][0]==0):\n",
        "      correctNo = correctNo + 1\n",
        "  else:\n",
        "    lstColor.append(\"red\")\n",
        "    if(testY_hat[i][0]==1):\n",
        "      correctNo = correctNo + 1  \n",
        "accuracy = correctNo/Y.size\n",
        "fig.add_subplot(1, 2, 2) \n",
        "plt.scatter(lstX1, lstY1, color = \"blue\")\n",
        "plt.scatter(testX[:, 0], testX[:, 1], c=lstColor)\n",
        "plt.show()\n",
        "print(\"correct No.=\", correctNo, \", accuracy = \", accuracy)"
      ],
      "execution_count": 14,
      "outputs": [
        {
          "output_type": "display_data",
          "data": {
            "image/png": "[encoded data removed]",
            "text/plain": [
              "<Figure size 1296x432 with 2 Axes>"
            ]
          },
          "metadata": {
            "tags": [],
            "needs_background": "light"
          }
        },
        {
          "output_type": "stream",
          "text": [
            "correct No.= 22 , accuracy =  0.6875\n"
          ],
          "name": "stdout"
        }
      ]
    },
    {
      "cell_type": "markdown",
      "metadata": {
        "id": "ekEZoWR_Nt0x"
      },
      "source": [
        "# Collect variance of model's predicting errors"
      ]
    },
    {
      "cell_type": "code",
      "metadata": {
        "id": "OkxmRxfPNiGS",
        "colab": {
          "base_uri": "https://localhost:8080/"
        },
        "outputId": "3d81c618-e31d-4105-84ef-e0610ca07b7a"
      },
      "source": [
        "lossLst = []\n",
        "accuracyLst = []\n",
        "\n",
        "for i in range(10): #randomly split data N times\n",
        "  print(i+1, end = \" ,\")\n",
        "  trainX, testX, trainY_hat, testY_hat = train_test_split(numpyX, numpyY, test_size=0.20, random_state=0)\n",
        "  tensorX = torch.FloatTensor(trainX).to(device)\n",
        "  tensorY_hat = torch.FloatTensor(trainY_hat).to(device)\n",
        "\n",
        "  # define loader for mini-batch training\n",
        "  torch_dataset = Data.TensorDataset(tensorX, tensorY_hat)\n",
        "  loader = Data.DataLoader(\n",
        "      dataset=torch_dataset,  \n",
        "      batch_size=BATCH_SIZE,      \n",
        "      shuffle=True,       \n",
        "      num_workers=0,    \n",
        "  )\n",
        "\n",
        "  # initialize NN weights\n",
        "  for name, param in MyNet.named_parameters():\n",
        "    if(param.requires_grad):\n",
        "      torch.nn.init.normal_(param, mean=0.0, std=0.02)\n",
        "\n",
        "  # train NN\n",
        "  for epoch in range(1, 200):\n",
        "    for (batchX, batchY_hat) in loader:\n",
        "      tensorY = MyNet(batchX)\n",
        "      loss = loss_func(batchY_hat, tensorY)\n",
        "      optimizer.zero_grad()\n",
        "      loss.backward()\n",
        "      optimizer.step()\n",
        "\n",
        "  # after training, get test performance\n",
        "  tensorX = torch.FloatTensor(testX).to(device)\n",
        "  tensorY_hat = torch.FloatTensor(testY_hat).to(device)\n",
        "  tensorY = MyNet(tensorX)\n",
        "  loss = loss_func(tensorY, tensorY_hat)\n",
        "  lossLst.append(float(loss))\n",
        "\n",
        "  Y = tensorY.detach().cpu().numpy()\n",
        "  correctNo = 0\n",
        "  for i in range(Y.size):\n",
        "    if((Y[i][0]<=0.5 and testY_hat[i][0]==0) or\n",
        "      (Y[i][0]>0.5 and testY_hat[i][0]==1)):\n",
        "      correctNo = correctNo + 1  \n",
        "  accuracy = correctNo/tensorY.shape[0]\n",
        "  accuracyLst.append(accuracy)"
      ],
      "execution_count": 15,
      "outputs": [
        {
          "output_type": "stream",
          "text": [
            "1 ,2 ,3 ,4 ,5 ,6 ,7 ,8 ,9 ,10 ,"
          ],
          "name": "stdout"
        }
      ]
    },
    {
      "cell_type": "code",
      "metadata": {
        "id": "e94O5k23zZKK",
        "colab": {
          "base_uri": "https://localhost:8080/",
          "height": 326
        },
        "outputId": "d0e1e42b-ae8b-4385-fa04-99f7745efd88"
      },
      "source": [
        "fig=plt.figure(figsize=(18, 6))\n",
        "fig.add_subplot(1, 2, 1) \n",
        "plt.boxplot(lossLst)\n",
        "plt.grid()\n",
        "\n",
        "fig.add_subplot(1, 2, 2) \n",
        "plt.boxplot(accuracyLst)\n",
        "plt.grid()\n",
        "plt.show()"
      ],
      "execution_count": 16,
      "outputs": [
        {
          "output_type": "display_data",
          "data": {
            "image/png": "[encoded data removed]",
            "text/plain": [
              "<Figure size 1296x432 with 2 Axes>"
            ]
          },
          "metadata": {
            "tags": [],
            "needs_background": "light"
          }
        }
      ]
    },
    {
      "cell_type": "code",
      "metadata": {
        "id": "X9t6V4rHXEWR"
      },
      "source": [
        ""
      ],
      "execution_count": null,
      "outputs": []
    }
  ]
}