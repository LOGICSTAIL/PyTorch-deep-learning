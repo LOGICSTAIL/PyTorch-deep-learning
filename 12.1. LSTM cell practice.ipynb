{
 "cells": [
  {
   "cell_type": "code",
   "execution_count": 1,
   "metadata": {},
   "outputs": [],
   "source": [
    "import torch"
   ]
  },
  {
   "attachments": {},
   "cell_type": "markdown",
   "metadata": {},
   "source": [
    "### Prepare input x and initialize h, and c\n",
    "    x = [Time steps, batch size, No. of features]\n",
    "    h0, c0= [batch, hidden state features], 0: t-1"
   ]
  },
  {
   "cell_type": "code",
   "execution_count": 2,
   "metadata": {},
   "outputs": [],
   "source": [
    "ts = 4 #time_steps\n",
    "bs = 2 # batch_size\n",
    "f  = 3 # No. of input_features\n",
    "hf = 5 # No. of hidden_state_features"
   ]
  },
  {
   "cell_type": "code",
   "execution_count": 3,
   "metadata": {},
   "outputs": [
    {
     "name": "stdout",
     "output_type": "stream",
     "text": [
      "torch.Size([4, 2, 3]) torch.Size([2, 5]) torch.Size([2, 5])\n"
     ]
    }
   ],
   "source": [
    "x = torch.randn(ts, bs, f) # (time step, batch, input_size)\n",
    "h0 = torch.randn(bs, hf)  # (batch, hidden_size)\n",
    "c0 = torch.randn(bs, hf) # (batch, hidden_size)\n",
    "print(x.shape, h0.shape, c0.shape)"
   ]
  },
  {
   "attachments": {},
   "cell_type": "markdown",
   "metadata": {},
   "source": [
    "### Send x, h0, c0 to a LSTMCell and manually calculate results"
   ]
  },
  {
   "cell_type": "code",
   "execution_count": 4,
   "metadata": {},
   "outputs": [],
   "source": [
    "lstm = torch.nn.LSTMCell(f, hf) # LSTMCell(input_size, hidden_size)"
   ]
  },
  {
   "cell_type": "code",
   "execution_count": 5,
   "metadata": {},
   "outputs": [
    {
     "name": "stdout",
     "output_type": "stream",
     "text": [
      "weight_ih torch.Size([20, 3])\n",
      "weight_hh torch.Size([20, 5])\n",
      "bias_ih torch.Size([20])\n",
      "bias_hh torch.Size([20])\n"
     ]
    }
   ],
   "source": [
    "for name, param in lstm.named_parameters():\n",
    "    if param.requires_grad:\n",
    "        print (name, param.data.shape)  #[4*hidden_size, features]"
   ]
  },
  {
   "cell_type": "code",
   "execution_count": 6,
   "metadata": {},
   "outputs": [
    {
     "name": "stdout",
     "output_type": "stream",
     "text": [
      "torch.Size([20, 3]) torch.Size([20]) torch.Size([20, 5]) torch.Size([20])\n"
     ]
    }
   ],
   "source": [
    "Wi = lstm.weight_ih  #(4*hidden_size, input_size)\n",
    "bi = lstm.bias_ih    #(4*hidden_size)\n",
    "Wh = lstm.weight_hh  #(4*hidden_size, hidden_size)\n",
    "bh = lstm.bias_hh    #(4*hidden_size)\n",
    "print(Wi.shape, bi.shape, Wh.shape, bh.shape)"
   ]
  },
  {
   "cell_type": "code",
   "execution_count": 7,
   "metadata": {},
   "outputs": [
    {
     "name": "stdout",
     "output_type": "stream",
     "text": [
      "Wi = Parameter containing:\n",
      "tensor([[-0.2745,  0.4400, -0.0736],\n",
      "        [-0.3925, -0.2507, -0.2603],\n",
      "        [-0.0934, -0.4146, -0.4326],\n",
      "        [ 0.3296, -0.1157,  0.3513],\n",
      "        [-0.1616, -0.3468,  0.1701],\n",
      "        [ 0.2664, -0.1276, -0.2257],\n",
      "        [ 0.2496,  0.1825, -0.1656],\n",
      "        [ 0.0864,  0.4458,  0.2742],\n",
      "        [-0.0738, -0.3542,  0.0487],\n",
      "        [ 0.2419,  0.2591, -0.1359],\n",
      "        [-0.3917,  0.2219, -0.0305],\n",
      "        [ 0.4172, -0.4117,  0.4065],\n",
      "        [-0.0749,  0.1374, -0.3787],\n",
      "        [ 0.2996,  0.1550,  0.3194],\n",
      "        [-0.3594, -0.4053,  0.0205],\n",
      "        [ 0.3538, -0.0367, -0.1031],\n",
      "        [ 0.3749, -0.4251, -0.0114],\n",
      "        [-0.1979, -0.0537, -0.2694],\n",
      "        [ 0.1589, -0.2054, -0.4468],\n",
      "        [ 0.4054,  0.2035, -0.3869]], requires_grad=True)\n",
      "Wii =  tensor([[-0.2745,  0.4400, -0.0736],\n",
      "        [-0.3925, -0.2507, -0.2603],\n",
      "        [-0.0934, -0.4146, -0.4326],\n",
      "        [ 0.3296, -0.1157,  0.3513],\n",
      "        [-0.1616, -0.3468,  0.1701]], grad_fn=<SliceBackward0>)\n"
     ]
    }
   ],
   "source": [
    "Wii=Wi[0:5, :]   #row 1, 5, 9, ..., 1+(hidden_size-1)*4\n",
    "print(\"Wi =\", Wi)\n",
    "print(\"Wii = \", Wii)"
   ]
  },
  {
   "cell_type": "code",
   "execution_count": 8,
   "metadata": {},
   "outputs": [],
   "source": [
    "Wif=Wi[5:10, :] \n",
    "Wig=Wi[10:15, :]   \n",
    "Wio=Wi[15:20, :]"
   ]
  },
  {
   "cell_type": "code",
   "execution_count": 9,
   "metadata": {},
   "outputs": [],
   "source": [
    "bii=bi[0:5]\n",
    "bif=bi[5:10]\n",
    "big=bi[10:15]\n",
    "bio=bi[15:20]\n",
    "\n",
    "Whi=Wh[0:5, :]\n",
    "Whf=Wh[5:10, :] \n",
    "Whg=Wh[10:15, :]   \n",
    "Who=Wh[15:20, :]   \n",
    "\n",
    "bhi=bh[0:5]\n",
    "bhf=bh[5:10]\n",
    "bhg=bh[10:15]\n",
    "bho=bh[15:20]"
   ]
  },
  {
   "attachments": {},
   "cell_type": "markdown",
   "metadata": {},
   "source": [
    "### f(t) = Sigmod( x(t)*Wif + bif + h(t-1)*Whf + bhf )"
   ]
  },
  {
   "cell_type": "code",
   "execution_count": 10,
   "metadata": {},
   "outputs": [
    {
     "name": "stdout",
     "output_type": "stream",
     "text": [
      "torch.Size([2, 3]) torch.Size([3, 5])\n"
     ]
    }
   ],
   "source": [
    "print(x[0].shape, torch.transpose(Wif, 1, 0).shape) #x= (time step, batch, input_size), so x[0]= x time 0"
   ]
  },
  {
   "cell_type": "code",
   "execution_count": 11,
   "metadata": {},
   "outputs": [
    {
     "name": "stdout",
     "output_type": "stream",
     "text": [
      "torch.Size([2, 5])\n"
     ]
    }
   ],
   "source": [
    "tmp1 = x[0].mm(torch.transpose(Wif, 1, 0))  # x*Wif\n",
    "print(tmp1.shape)"
   ]
  },
  {
   "cell_type": "code",
   "execution_count": 12,
   "metadata": {},
   "outputs": [
    {
     "name": "stdout",
     "output_type": "stream",
     "text": [
      "tensor([[ 0.2799,  0.2298, -0.2043],\n",
      "        [ 0.7609, -0.3234,  0.2615]])\n",
      "tensor([[ 0.2664,  0.2496,  0.0864, -0.0738,  0.2419],\n",
      "        [-0.1276,  0.1825,  0.4458, -0.3542,  0.2591],\n",
      "        [-0.2257, -0.1656,  0.2742,  0.0487, -0.1359]],\n",
      "       grad_fn=<TransposeBackward0>)\n",
      "tensor([[ 0.0914,  0.1457,  0.0706, -0.1120,  0.1550],\n",
      "        [ 0.1849,  0.0876, -0.0067,  0.0712,  0.0647]], grad_fn=<MmBackward0>)\n"
     ]
    }
   ],
   "source": [
    "# verification\n",
    "print(x[0])\n",
    "print(torch.transpose(Wif, 1, 0))\n",
    "print(tmp1)"
   ]
  },
  {
   "cell_type": "code",
   "execution_count": 13,
   "metadata": {},
   "outputs": [
    {
     "name": "stdout",
     "output_type": "stream",
     "text": [
      "torch.Size([2, 5])\n"
     ]
    }
   ],
   "source": [
    "tmp1 = x[0].mm(torch.transpose(Wif, 1, 0)) + bif  # x1*Wif + bif\n",
    "print(tmp1.shape)"
   ]
  },
  {
   "cell_type": "code",
   "execution_count": 14,
   "metadata": {},
   "outputs": [
    {
     "name": "stdout",
     "output_type": "stream",
     "text": [
      "tensor([-0.4280, -0.0322,  0.0799, -0.4301, -0.0775], grad_fn=<SliceBackward0>)\n",
      "tensor([[-0.3366,  0.1135,  0.1505, -0.5421,  0.0775],\n",
      "        [-0.2430,  0.0555,  0.0732, -0.3590, -0.0128]], grad_fn=<AddBackward0>)\n"
     ]
    }
   ],
   "source": [
    "# verification\n",
    "print(bif)\n",
    "print(tmp1)"
   ]
  },
  {
   "cell_type": "code",
   "execution_count": 15,
   "metadata": {},
   "outputs": [
    {
     "name": "stdout",
     "output_type": "stream",
     "text": [
      "torch.Size([2, 5]) torch.Size([5, 5])\n"
     ]
    }
   ],
   "source": [
    "print(h0.shape, Whf.shape)"
   ]
  },
  {
   "cell_type": "code",
   "execution_count": 16,
   "metadata": {},
   "outputs": [
    {
     "name": "stdout",
     "output_type": "stream",
     "text": [
      "torch.Size([2, 5])\n"
     ]
    }
   ],
   "source": [
    "tmp1 = x[0].mm(torch.transpose(Wif, 1, 0)) + bif  # x1*Wif + bif\n",
    "tmp2 = h0.mm(Whf) + bhf                            # h0*Whf + bhf\n",
    "ft = torch.sigmoid(tmp1 + tmp2)\n",
    "print(ft.shape)"
   ]
  },
  {
   "attachments": {},
   "cell_type": "markdown",
   "metadata": {},
   "source": [
    "### Similar formula to calculate i(t), g(t), and o(t)"
   ]
  },
  {
   "cell_type": "code",
   "execution_count": 17,
   "metadata": {},
   "outputs": [
    {
     "name": "stdout",
     "output_type": "stream",
     "text": [
      "torch.Size([2, 5]) torch.Size([2, 5]) torch.Size([2, 5])\n"
     ]
    }
   ],
   "source": [
    "it = torch.sigmoid(x[0].mm(torch.transpose(Wii, 1, 0)) + bii + h0.mm(Whi) + bhi)\n",
    "gt = torch.tanh(x[0].mm(torch.transpose(Wig, 1, 0)) + big + h0.mm(Whg) + bhg)\n",
    "ot = torch.sigmoid(x[0].mm(torch.transpose(Wio, 1, 0)) + bio + h0.mm(Who) + bho)\n",
    "print(it.shape, gt.shape, ot.shape)"
   ]
  },
  {
   "attachments": {},
   "cell_type": "markdown",
   "metadata": {},
   "source": [
    "### c(t) = f(t) * c(t-1) + i(t) * g(t), where * is element wise multiplication\n",
    "### h(t) = o(t) * tanh(c(t))"
   ]
  },
  {
   "cell_type": "code",
   "execution_count": 18,
   "metadata": {},
   "outputs": [
    {
     "name": "stdout",
     "output_type": "stream",
     "text": [
      "tensor([[0.4840, 0.3736, 0.7973, 0.7003, 0.2937],\n",
      "        [0.3410, 0.3391, 0.6164, 0.4643, 0.3648]], grad_fn=<SigmoidBackward0>)\n",
      "tensor([[-0.1870, -1.2337,  0.1734,  1.2796, -0.4159],\n",
      "        [ 1.3566,  0.4784, -0.3568,  0.8162,  0.3545]])\n",
      "tensor([[-0.0905, -0.4609,  0.1383,  0.8961, -0.1221],\n",
      "        [ 0.4627,  0.1622, -0.2199,  0.3790,  0.1293]], grad_fn=<MulBackward0>)\n"
     ]
    }
   ],
   "source": [
    "print(ft)\n",
    "print(c0)\n",
    "print(ft*c0)"
   ]
  },
  {
   "cell_type": "code",
   "execution_count": 19,
   "metadata": {},
   "outputs": [
    {
     "name": "stdout",
     "output_type": "stream",
     "text": [
      "tensor([[-0.2456, -0.7379,  0.3514,  1.1914, -0.0920],\n",
      "        [ 0.2266,  0.4258, -0.4611,  0.3840, -0.1103]], grad_fn=<AddBackward0>)\n"
     ]
    }
   ],
   "source": [
    "c1=ft*c0 + it*gt\n",
    "print(c1)"
   ]
  },
  {
   "cell_type": "code",
   "execution_count": 20,
   "metadata": {},
   "outputs": [
    {
     "name": "stdout",
     "output_type": "stream",
     "text": [
      "tensor([[-0.1761, -0.4754,  0.2014,  0.1065, -0.0617],\n",
      "        [ 0.0975,  0.2281, -0.1628,  0.1815, -0.0651]], grad_fn=<MulBackward0>)\n"
     ]
    }
   ],
   "source": [
    "h1 = ot* torch.tanh(c1)\n",
    "print(h1)"
   ]
  },
  {
   "attachments": {},
   "cell_type": "markdown",
   "metadata": {},
   "source": [
    "### Compare with the results directly calculated using PyTorch"
   ]
  },
  {
   "cell_type": "code",
   "execution_count": 21,
   "metadata": {},
   "outputs": [
    {
     "name": "stdout",
     "output_type": "stream",
     "text": [
      "tensor([[-0.5593, -0.7867, -0.7200,  0.5888, -0.2741],\n",
      "        [ 0.5804,  0.6134, -0.5927,  0.3886,  0.3732]], grad_fn=<AddBackward0>)\n",
      "tensor([[-0.1720, -0.2963, -0.2549,  0.3150, -0.1921],\n",
      "        [ 0.2362,  0.2789, -0.3515,  0.1758,  0.1658]], grad_fn=<MulBackward0>)\n"
     ]
    }
   ],
   "source": [
    "h, c = lstm(x[0], (h0, c0)) # time 0's input\n",
    "print(c)\n",
    "print(h)"
   ]
  },
  {
   "attachments": {},
   "cell_type": "markdown",
   "metadata": {},
   "source": [
    "### Recursive pass time_steps"
   ]
  },
  {
   "cell_type": "code",
   "execution_count": 22,
   "metadata": {},
   "outputs": [],
   "source": [
    "# from time 1 to time step\n",
    "output = []\n",
    "for i in range(x.size(0)):\n",
    "    h, c = lstm(x[i], (h, c))\n",
    "    output.append(h)"
   ]
  },
  {
   "cell_type": "code",
   "execution_count": 23,
   "metadata": {},
   "outputs": [
    {
     "data": {
      "text/plain": [
       "[tensor([[-0.1191, -0.2082, -0.1956,  0.0527, -0.2274],\n",
       "         [ 0.0793,  0.3053, -0.2101,  0.0822,  0.0775]], grad_fn=<MulBackward0>),\n",
       " tensor([[ 0.0480, -0.1115, -0.2015, -0.0053, -0.1540],\n",
       "         [ 0.0207,  0.2526, -0.2246,  0.0178,  0.0247]], grad_fn=<MulBackward0>),\n",
       " tensor([[ 0.0549, -0.0785, -0.2713, -0.1881,  0.1372],\n",
       "         [ 0.1010, -0.1009, -0.0771, -0.1715,  0.1587]], grad_fn=<MulBackward0>),\n",
       " tensor([[-0.0055,  0.2523, -0.2716, -0.1943,  0.2038],\n",
       "         [ 0.0560, -0.0208, -0.1274, -0.2811,  0.1693]], grad_fn=<MulBackward0>)]"
      ]
     },
     "execution_count": 23,
     "metadata": {},
     "output_type": "execute_result"
    }
   ],
   "source": [
    "output"
   ]
  }
 ],
 "metadata": {
  "kernelspec": {
   "display_name": "Python 3",
   "language": "python",
   "name": "python3"
  },
  "language_info": {
   "codemirror_mode": {
    "name": "ipython",
    "version": 3
   },
   "file_extension": ".py",
   "mimetype": "text/x-python",
   "name": "python",
   "nbconvert_exporter": "python",
   "pygments_lexer": "ipython3",
   "version": "3.10.11"
  }
 },
 "nbformat": 4,
 "nbformat_minor": 2
}
