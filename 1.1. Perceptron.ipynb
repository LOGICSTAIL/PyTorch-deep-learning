{
  "nbformat": 4,
  "nbformat_minor": 0,
  "metadata": {
    "colab": {
      "name": "1. 1. Understand MLP .ipynb",
      "provenance": [],
      "collapsed_sections": [],
      "include_colab_link": true
    },
    "kernelspec": {
      "display_name": "Python 3",
      "language": "python",
      "name": "python3"
    },
    "language_info": {
      "codemirror_mode": {
        "name": "ipython",
        "version": 3
      },
      "file_extension": ".py",
      "mimetype": "text/x-python",
      "name": "python",
      "nbconvert_exporter": "python",
      "pygments_lexer": "ipython3",
      "version": "3.6.10"
    }
  },
  "cells": [
    {
      "cell_type": "markdown",
      "metadata": {
        "id": "view-in-github",
        "colab_type": "text"
      },
      "source": [
        "<a href=\"https://colab.research.google.com/github/TienLungSun/PyTorch-Colab/blob/main/1.1.%20Perceptron.ipynb\" target=\"_parent\"><img src=\"https://colab.research.google.com/assets/colab-badge.svg\" alt=\"Open In Colab\"/></a>"
      ]
    },
    {
      "cell_type": "code",
      "metadata": {
        "id": "a1kFKiHzQajW"
      },
      "source": [
        "import torch\n",
        "import torch.nn as nn"
      ],
      "execution_count": 1,
      "outputs": []
    },
    {
      "cell_type": "markdown",
      "metadata": {
        "id": "9r8UKLpHQaj6"
      },
      "source": [
        "# Examine how the neuron perceive data (takes input data and generate output)"
      ]
    },
    {
      "cell_type": "code",
      "metadata": {
        "colab": {
          "base_uri": "https://localhost:8080/"
        },
        "id": "-MvLGgYaQajy",
        "outputId": "d65ecab2-0307-4fe9-f064-224851a66c28"
      },
      "source": [
        "MyNet = nn.Sequential(\n",
        "  nn.Linear(3, 1),\n",
        "  nn.ReLU(),\n",
        ")\n",
        "print(MyNet)"
      ],
      "execution_count": 2,
      "outputs": [
        {
          "output_type": "stream",
          "name": "stdout",
          "text": [
            "Sequential(\n",
            "  (0): Linear(in_features=3, out_features=1, bias=True)\n",
            "  (1): ReLU()\n",
            ")\n"
          ]
        }
      ]
    },
    {
      "cell_type": "markdown",
      "metadata": {
        "id": "kWycYWx1P3-D"
      },
      "source": [
        "# Prepare input data"
      ]
    },
    {
      "cell_type": "code",
      "metadata": {
        "colab": {
          "base_uri": "https://localhost:8080/"
        },
        "id": "TfDLpOKCQajk",
        "outputId": "084babf0-9538-4f7a-889f-a894bebc9026"
      },
      "source": [
        "lstX = [[1,2,3]]\n",
        "tensorX = torch.FloatTensor(lstX)\n",
        "print(tensorX, \"\\n\", tensorX.shape)"
      ],
      "execution_count": 3,
      "outputs": [
        {
          "output_type": "stream",
          "name": "stdout",
          "text": [
            "tensor([[1., 2., 3.]]) \n",
            " torch.Size([1, 3])\n"
          ]
        }
      ]
    },
    {
      "cell_type": "code",
      "metadata": {
        "colab": {
          "base_uri": "https://localhost:8080/"
        },
        "id": "h9pgtjB2Qaj0",
        "outputId": "bc0a8294-99e0-4905-9cb1-36c0d2fa3409"
      },
      "source": [
        "for name, params in MyNet.named_parameters():\n",
        "    if params.requires_grad:\n",
        "        print(name, params.data)"
      ],
      "execution_count": 4,
      "outputs": [
        {
          "output_type": "stream",
          "name": "stdout",
          "text": [
            "0.weight tensor([[ 0.0380, -0.4209, -0.2855]])\n",
            "0.bias tensor([0.4196])\n"
          ]
        }
      ]
    },
    {
      "cell_type": "code",
      "metadata": {
        "colab": {
          "base_uri": "https://localhost:8080/"
        },
        "id": "Xv0bRAIqPsvh",
        "outputId": "2293474a-1a19-4235-b6ca-65dbf627a585"
      },
      "source": [
        "W0 = MyNet[0].weight\n",
        "print(W0, W0.shape)"
      ],
      "execution_count": 5,
      "outputs": [
        {
          "output_type": "stream",
          "name": "stdout",
          "text": [
            "Parameter containing:\n",
            "tensor([[ 0.0380, -0.4209, -0.2855]], requires_grad=True) torch.Size([1, 3])\n"
          ]
        }
      ]
    },
    {
      "cell_type": "code",
      "metadata": {
        "colab": {
          "base_uri": "https://localhost:8080/"
        },
        "id": "i7-i1v03RaVA",
        "outputId": "113d5121-9a29-46c8-9d08-c4be1f03e7c2"
      },
      "source": [
        "W0t = torch.transpose(W0, 1, 0)\n",
        "print(W0t, W0t.shape)"
      ],
      "execution_count": 6,
      "outputs": [
        {
          "output_type": "stream",
          "name": "stdout",
          "text": [
            "tensor([[ 0.0380],\n",
            "        [-0.4209],\n",
            "        [-0.2855]], grad_fn=<TransposeBackward0>) torch.Size([3, 1])\n"
          ]
        }
      ]
    },
    {
      "cell_type": "code",
      "metadata": {
        "colab": {
          "base_uri": "https://localhost:8080/"
        },
        "id": "_7k43QsrPIHJ",
        "outputId": "f293352e-e9b1-499a-cdff-979639bd2f80"
      },
      "source": [
        "tensorX.mm(W0t)"
      ],
      "execution_count": 7,
      "outputs": [
        {
          "output_type": "execute_result",
          "data": {
            "text/plain": [
              "tensor([[-1.6602]], grad_fn=<MmBackward>)"
            ]
          },
          "metadata": {},
          "execution_count": 7
        }
      ]
    },
    {
      "cell_type": "code",
      "metadata": {
        "colab": {
          "base_uri": "https://localhost:8080/"
        },
        "id": "csq95L-dT-KF",
        "outputId": "a7219506-bf04-4d0c-b08b-e2e060b42d4a"
      },
      "source": [
        "tensorX.mm(W0t)+MyNet[0].bias"
      ],
      "execution_count": 8,
      "outputs": [
        {
          "output_type": "execute_result",
          "data": {
            "text/plain": [
              "tensor([[-1.2406]], grad_fn=<AddBackward0>)"
            ]
          },
          "metadata": {},
          "execution_count": 8
        }
      ]
    },
    {
      "cell_type": "code",
      "metadata": {
        "colab": {
          "base_uri": "https://localhost:8080/"
        },
        "id": "F_GSlqgcUvkJ",
        "outputId": "369ff30c-d5a0-4617-b588-bd66110b8479"
      },
      "source": [
        "# test Relu activatio function\n",
        "relu = nn.ReLU()\n",
        "x = torch.FloatTensor([-0.23, -56.7, 34])\n",
        "relu(x)"
      ],
      "execution_count": 10,
      "outputs": [
        {
          "output_type": "execute_result",
          "data": {
            "text/plain": [
              "tensor([ 0.,  0., 34.])"
            ]
          },
          "metadata": {},
          "execution_count": 10
        }
      ]
    },
    {
      "cell_type": "code",
      "metadata": {
        "colab": {
          "base_uri": "https://localhost:8080/"
        },
        "id": "9R2ciSdmUG4C",
        "outputId": "84542751-1e97-499d-9c04-962ad777deb9"
      },
      "source": [
        "relu(tensorX.mm(W0t)+MyNet[0].bias)"
      ],
      "execution_count": 12,
      "outputs": [
        {
          "output_type": "execute_result",
          "data": {
            "text/plain": [
              "tensor([[0.]], grad_fn=<ReluBackward0>)"
            ]
          },
          "metadata": {},
          "execution_count": 12
        }
      ]
    },
    {
      "cell_type": "code",
      "metadata": {
        "id": "QkWnyuPLSG8t"
      },
      "source": [
        ""
      ],
      "execution_count": null,
      "outputs": []
    }
  ]
}