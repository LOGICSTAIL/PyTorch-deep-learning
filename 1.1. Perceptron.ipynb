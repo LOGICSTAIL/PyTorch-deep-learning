{
  "nbformat": 4,
  "nbformat_minor": 0,
  "metadata": {
    "colab": {
      "name": "1. 1. Understand MLP .ipynb",
      "provenance": [],
      "collapsed_sections": [],
      "include_colab_link": true
    },
    "kernelspec": {
      "display_name": "Python 3",
      "language": "python",
      "name": "python3"
    },
    "language_info": {
      "codemirror_mode": {
        "name": "ipython",
        "version": 3
      },
      "file_extension": ".py",
      "mimetype": "text/x-python",
      "name": "python",
      "nbconvert_exporter": "python",
      "pygments_lexer": "ipython3",
      "version": "3.6.10"
    }
  },
  "cells": [
    {
      "cell_type": "markdown",
      "metadata": {
        "id": "view-in-github",
        "colab_type": "text"
      },
      "source": [
        "<a href=\"https://colab.research.google.com/github/TienLungSun/PyTorch-deep-learning/blob/main/1.1.%20Perceptron.ipynb\" target=\"_parent\"><img src=\"https://colab.research.google.com/assets/colab-badge.svg\" alt=\"Open In Colab\"/></a>"
      ]
    },
    {
      "cell_type": "code",
      "metadata": {
        "id": "a1kFKiHzQajW"
      },
      "source": [
        "import torch\n",
        "import torch.nn as nn"
      ],
      "execution_count": 1,
      "outputs": []
    },
    {
      "cell_type": "code",
      "metadata": {
        "colab": {
          "base_uri": "https://localhost:8080/"
        },
        "id": "-MvLGgYaQajy",
        "outputId": "5b44e813-dad6-4cf1-9cc1-bfdf1472319a"
      },
      "source": [
        "MyNet = nn.Sequential(\n",
        "  nn.Linear(3, 1),\n",
        "  nn.ReLU(),\n",
        ")\n",
        "print(MyNet)"
      ],
      "execution_count": 2,
      "outputs": [
        {
          "output_type": "stream",
          "name": "stdout",
          "text": [
            "Sequential(\n",
            "  (0): Linear(in_features=3, out_features=1, bias=True)\n",
            "  (1): ReLU()\n",
            ")\n"
          ]
        }
      ]
    },
    {
      "cell_type": "code",
      "metadata": {
        "colab": {
          "base_uri": "https://localhost:8080/"
        },
        "id": "F_GSlqgcUvkJ",
        "outputId": "0d96a8c5-6520-44d5-e8fb-5a8bc1d23156"
      },
      "source": [
        "# test Relu activatio function\n",
        "relu = nn.ReLU()\n",
        "x = torch.FloatTensor([-0.23, -56.7, 34])\n",
        "relu(x)"
      ],
      "execution_count": 3,
      "outputs": [
        {
          "output_type": "execute_result",
          "data": {
            "text/plain": [
              "tensor([ 0.,  0., 34.])"
            ]
          },
          "metadata": {},
          "execution_count": 3
        }
      ]
    },
    {
      "cell_type": "markdown",
      "metadata": {
        "id": "kWycYWx1P3-D"
      },
      "source": [
        "### Prepare input data"
      ]
    },
    {
      "cell_type": "code",
      "metadata": {
        "colab": {
          "base_uri": "https://localhost:8080/"
        },
        "id": "TfDLpOKCQajk",
        "outputId": "dbd80932-ffd8-4e1b-995c-e22e62777ae2"
      },
      "source": [
        "lstX = [[1,2,3]]\n",
        "tensorX = torch.FloatTensor(lstX)\n",
        "print(tensorX, \"\\n\", tensorX.shape)"
      ],
      "execution_count": 4,
      "outputs": [
        {
          "output_type": "stream",
          "name": "stdout",
          "text": [
            "tensor([[1., 2., 3.]]) \n",
            " torch.Size([1, 3])\n"
          ]
        }
      ]
    },
    {
      "cell_type": "code",
      "metadata": {
        "colab": {
          "base_uri": "https://localhost:8080/"
        },
        "id": "h9pgtjB2Qaj0",
        "outputId": "ce096ad3-2019-47c5-bd65-ec6dda294049"
      },
      "source": [
        "for name, params in MyNet.named_parameters():\n",
        "    if params.requires_grad:\n",
        "        print(name, params.data)"
      ],
      "execution_count": 5,
      "outputs": [
        {
          "output_type": "stream",
          "name": "stdout",
          "text": [
            "0.weight tensor([[0.0633, 0.2253, 0.2754]])\n",
            "0.bias tensor([0.4866])\n"
          ]
        }
      ]
    },
    {
      "cell_type": "markdown",
      "metadata": {
        "id": "e7NVj_EXMKZ3"
      },
      "source": [
        "1. Use Pytorch matrix multiplcation: tensor1.mm(tensor2) to calculate answer"
      ]
    },
    {
      "cell_type": "markdown",
      "metadata": {
        "id": "gky1aPX5Y5ic"
      },
      "source": [
        "$W0=(w1, w2, w3)$"
      ]
    },
    {
      "cell_type": "code",
      "metadata": {
        "colab": {
          "base_uri": "https://localhost:8080/"
        },
        "id": "Xv0bRAIqPsvh",
        "outputId": "a2312bdf-20ae-4e8c-c23a-47b9239d61b6"
      },
      "source": [
        "W0 = MyNet[0].weight\n",
        "print(W0, W0.shape)"
      ],
      "execution_count": 6,
      "outputs": [
        {
          "output_type": "stream",
          "name": "stdout",
          "text": [
            "Parameter containing:\n",
            "tensor([[0.0633, 0.2253, 0.2754]], requires_grad=True) torch.Size([1, 3])\n"
          ]
        }
      ]
    },
    {
      "cell_type": "markdown",
      "metadata": {
        "id": "1sDCu3vjZAlk"
      },
      "source": [
        "$W0T=(w1, w2, w3)T$"
      ]
    },
    {
      "cell_type": "code",
      "metadata": {
        "colab": {
          "base_uri": "https://localhost:8080/"
        },
        "id": "i7-i1v03RaVA",
        "outputId": "950c3d77-7354-4b94-8761-fb106b99ca75"
      },
      "source": [
        "# transpose of W0\n",
        "W0t = torch.transpose(W0, 1, 0)\n",
        "print(W0t, W0t.shape)"
      ],
      "execution_count": 7,
      "outputs": [
        {
          "output_type": "stream",
          "name": "stdout",
          "text": [
            "tensor([[0.0633],\n",
            "        [0.2253],\n",
            "        [0.2754]], grad_fn=<TransposeBackward0>) torch.Size([3, 1])\n"
          ]
        }
      ]
    },
    {
      "cell_type": "markdown",
      "metadata": {
        "id": "sCPLHiQbZJp8"
      },
      "source": [
        "$x*W0T=(x1, x2, x3)(w1, w2, w3)T$"
      ]
    },
    {
      "cell_type": "code",
      "metadata": {
        "colab": {
          "base_uri": "https://localhost:8080/"
        },
        "id": "_7k43QsrPIHJ",
        "outputId": "768d25dd-4708-4b18-f1df-24db4a8bf386"
      },
      "source": [
        "tensorX.mm(W0t)"
      ],
      "execution_count": 8,
      "outputs": [
        {
          "output_type": "execute_result",
          "data": {
            "text/plain": [
              "tensor([[1.3401]], grad_fn=<MmBackward0>)"
            ]
          },
          "metadata": {},
          "execution_count": 8
        }
      ]
    },
    {
      "cell_type": "markdown",
      "metadata": {
        "id": "6LshT2nuZUYE"
      },
      "source": [
        "$x*W0T + b=(x1, x2, x3)(w1, w2, w3)T+b$"
      ]
    },
    {
      "cell_type": "code",
      "metadata": {
        "colab": {
          "base_uri": "https://localhost:8080/"
        },
        "id": "csq95L-dT-KF",
        "outputId": "1e320256-d58a-4a59-daa9-fda7e1393020"
      },
      "source": [
        "tensorX.mm(W0t)+MyNet[0].bias"
      ],
      "execution_count": 9,
      "outputs": [
        {
          "output_type": "execute_result",
          "data": {
            "text/plain": [
              "tensor([[1.8267]], grad_fn=<AddBackward0>)"
            ]
          },
          "metadata": {},
          "execution_count": 9
        }
      ]
    },
    {
      "cell_type": "markdown",
      "metadata": {
        "id": "QB_quVFEZbYi"
      },
      "source": [
        "$Relu(x*W0T + b)=Relu((x1, x2, x3)(w1, w2, w3)T+b)$"
      ]
    },
    {
      "cell_type": "code",
      "metadata": {
        "colab": {
          "base_uri": "https://localhost:8080/"
        },
        "id": "9R2ciSdmUG4C",
        "outputId": "5027c5bd-1e2c-4b36-ba6f-4ff51bb3086f"
      },
      "source": [
        "relu(tensorX.mm(W0t)+MyNet[0].bias)"
      ],
      "execution_count": 10,
      "outputs": [
        {
          "output_type": "execute_result",
          "data": {
            "text/plain": [
              "tensor([[1.8267]], grad_fn=<ReluBackward0>)"
            ]
          },
          "metadata": {},
          "execution_count": 10
        }
      ]
    },
    {
      "cell_type": "markdown",
      "metadata": {
        "id": "d9VaI_EJLGTO"
      },
      "source": [
        "2. Using Excel to verify"
      ]
    },
    {
      "cell_type": "markdown",
      "metadata": {
        "id": "TECmUyoqLWWf"
      },
      "source": [
        "$Relu (w1*x1 + w2*x2 + w3*x3 + b)$"
      ]
    }
  ]
}