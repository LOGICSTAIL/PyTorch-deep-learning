{
  "nbformat": 4,
  "nbformat_minor": 0,
  "metadata": {
    "colab": {
      "name": "1. 1. Understand MLP .ipynb",
      "provenance": [],
      "collapsed_sections": [],
      "include_colab_link": true
    },
    "kernelspec": {
      "display_name": "Python 3",
      "language": "python",
      "name": "python3"
    },
    "language_info": {
      "codemirror_mode": {
        "name": "ipython",
        "version": 3
      },
      "file_extension": ".py",
      "mimetype": "text/x-python",
      "name": "python",
      "nbconvert_exporter": "python",
      "pygments_lexer": "ipython3",
      "version": "3.6.10"
    }
  },
  "cells": [
    {
      "cell_type": "markdown",
      "metadata": {
        "id": "view-in-github",
        "colab_type": "text"
      },
      "source": [
        "<a href=\"https://colab.research.google.com/github/TienLungSun/PyTorch-Colab/blob/main/1.1.%20Perceptron.ipynb\" target=\"_parent\"><img src=\"https://colab.research.google.com/assets/colab-badge.svg\" alt=\"Open In Colab\"/></a>"
      ]
    },
    {
      "cell_type": "code",
      "metadata": {
        "id": "a1kFKiHzQajW"
      },
      "source": [
        "import torch\n",
        "import torch.nn as nn"
      ],
      "execution_count": 2,
      "outputs": []
    },
    {
      "cell_type": "markdown",
      "metadata": {
        "id": "4s4g_ujnQajv"
      },
      "source": [
        "# Input -> One neuron -> output"
      ]
    },
    {
      "cell_type": "code",
      "metadata": {
        "colab": {
          "base_uri": "https://localhost:8080/"
        },
        "id": "-MvLGgYaQajy",
        "outputId": "8be4eafd-e16c-4f05-b5e0-f3364591e297"
      },
      "source": [
        "MyNet = nn.Sequential(\n",
        "  nn.Linear(3, 1),\n",
        "  nn.ReLU(),\n",
        "  nn.Linear(1, 1)\n",
        ")\n",
        "print(MyNet)"
      ],
      "execution_count": 8,
      "outputs": [
        {
          "output_type": "stream",
          "name": "stdout",
          "text": [
            "Sequential(\n",
            "  (0): Linear(in_features=3, out_features=1, bias=True)\n",
            "  (1): ReLU()\n",
            "  (2): Linear(in_features=1, out_features=1, bias=True)\n",
            ")\n"
          ]
        }
      ]
    },
    {
      "cell_type": "markdown",
      "metadata": {
        "id": "kWycYWx1P3-D"
      },
      "source": [
        "# Prepare input data"
      ]
    },
    {
      "cell_type": "code",
      "metadata": {
        "colab": {
          "base_uri": "https://localhost:8080/"
        },
        "id": "TfDLpOKCQajk",
        "outputId": "ffc18aba-f684-4f8c-80d7-1cdbdef96a8d"
      },
      "source": [
        "lstX = [[1,2,3]]\n",
        "tensorX = torch.FloatTensor(lstX)\n",
        "print(tensorX, \"\\n\", tensorX.shape)"
      ],
      "execution_count": 29,
      "outputs": [
        {
          "output_type": "stream",
          "name": "stdout",
          "text": [
            "tensor([[1., 2., 3.]]) \n",
            " torch.Size([1, 3])\n"
          ]
        }
      ]
    },
    {
      "cell_type": "code",
      "metadata": {
        "colab": {
          "base_uri": "https://localhost:8080/"
        },
        "id": "ltYcOMMzQajp",
        "outputId": "cb4881a5-1150-4874-ca6c-d6aaee4fbb63"
      },
      "source": [
        "lstY = [22]  # y=3x1+2x2+5x3\n",
        "tensorY = torch.FloatTensor(lstY)\n",
        "print(tensorY, '\\n', tensorY.shape)"
      ],
      "execution_count": 30,
      "outputs": [
        {
          "output_type": "stream",
          "name": "stdout",
          "text": [
            "tensor([22.]) \n",
            " torch.Size([1])\n"
          ]
        }
      ]
    },
    {
      "cell_type": "markdown",
      "metadata": {
        "id": "9r8UKLpHQaj6"
      },
      "source": [
        "# Examine how the neuron perceive (takes input data and generate output)"
      ]
    },
    {
      "cell_type": "code",
      "metadata": {
        "colab": {
          "base_uri": "https://localhost:8080/"
        },
        "id": "h9pgtjB2Qaj0",
        "outputId": "4df04cbf-5311-4af3-ab14-e95ce59f7c95"
      },
      "source": [
        "for name, params in MyNet.named_parameters():\n",
        "    if params.requires_grad:\n",
        "        print(name, params.data)"
      ],
      "execution_count": 31,
      "outputs": [
        {
          "output_type": "stream",
          "name": "stdout",
          "text": [
            "0.weight tensor([[-0.3854,  0.1630,  0.3004]])\n",
            "0.bias tensor([0.5214])\n",
            "2.weight tensor([[-0.7900]])\n",
            "2.bias tensor([0.4422])\n"
          ]
        }
      ]
    },
    {
      "cell_type": "code",
      "metadata": {
        "id": "Xv0bRAIqPsvh",
        "outputId": "09d15c43-550e-4c20-83c9-aa073c7067e6",
        "colab": {
          "base_uri": "https://localhost:8080/"
        }
      },
      "source": [
        "W1 = MyNet[0].weight\n",
        "print(W1, W1.shape)"
      ],
      "execution_count": 32,
      "outputs": [
        {
          "output_type": "stream",
          "name": "stdout",
          "text": [
            "Parameter containing:\n",
            "tensor([[-0.3854,  0.1630,  0.3004]], requires_grad=True) torch.Size([1, 3])\n"
          ]
        }
      ]
    },
    {
      "cell_type": "code",
      "metadata": {
        "id": "i7-i1v03RaVA",
        "outputId": "f1cac730-5d0b-43ee-9360-24a5aee7ae5e",
        "colab": {
          "base_uri": "https://localhost:8080/"
        }
      },
      "source": [
        "W1t = torch.transpose(W1, 1, 0)\n",
        "print(W1t, W1t.shape)"
      ],
      "execution_count": 33,
      "outputs": [
        {
          "output_type": "stream",
          "name": "stdout",
          "text": [
            "tensor([[-0.3854],\n",
            "        [ 0.1630],\n",
            "        [ 0.3004]], grad_fn=<TransposeBackward0>) torch.Size([3, 1])\n"
          ]
        }
      ]
    },
    {
      "cell_type": "code",
      "metadata": {
        "id": "_7k43QsrPIHJ",
        "outputId": "1b075ad3-de66-468d-8e3c-ce89932c03b3",
        "colab": {
          "base_uri": "https://localhost:8080/"
        }
      },
      "source": [
        "tensorX.mm(W1t)"
      ],
      "execution_count": 35,
      "outputs": [
        {
          "output_type": "execute_result",
          "data": {
            "text/plain": [
              "tensor([[0.8416]], grad_fn=<MmBackward>)"
            ]
          },
          "metadata": {},
          "execution_count": 35
        }
      ]
    },
    {
      "cell_type": "code",
      "metadata": {
        "colab": {
          "base_uri": "https://localhost:8080/"
        },
        "id": "csq95L-dT-KF",
        "outputId": "47917cfc-43d8-4e87-834a-9cb2fc341b76"
      },
      "source": [
        "tensorX.mm(W1t)+MyNet[0].bias"
      ],
      "execution_count": 36,
      "outputs": [
        {
          "output_type": "execute_result",
          "data": {
            "text/plain": [
              "tensor([[1.3630]], grad_fn=<AddBackward0>)"
            ]
          },
          "metadata": {},
          "execution_count": 36
        }
      ]
    },
    {
      "cell_type": "code",
      "metadata": {
        "id": "yrf5zBxGSi3x",
        "outputId": "6026ad6b-f425-48eb-b384-7f65acf9e3ea",
        "colab": {
          "base_uri": "https://localhost:8080/"
        }
      },
      "source": [
        "x = torch.FloatTensor([[-0.23]])\n",
        "nn.ReLU(x)"
      ],
      "execution_count": 46,
      "outputs": [
        {
          "output_type": "execute_result",
          "data": {
            "text/plain": [
              "ReLU(inplace=True)"
            ]
          },
          "metadata": {},
          "execution_count": 46
        }
      ]
    },
    {
      "cell_type": "code",
      "metadata": {
        "id": "F_GSlqgcUvkJ",
        "outputId": "cb05bc47-84dd-4ec8-f66c-4c6e558e7eaf",
        "colab": {
          "base_uri": "https://localhost:8080/"
        }
      },
      "source": [
        "m = nn.ReLU()\n",
        "x = torch.FloatTensor([-0.23, -56.7, 34])\n",
        "m(x)"
      ],
      "execution_count": 51,
      "outputs": [
        {
          "output_type": "execute_result",
          "data": {
            "text/plain": [
              "tensor([ 0.,  0., 34.])"
            ]
          },
          "metadata": {},
          "execution_count": 51
        }
      ]
    },
    {
      "cell_type": "code",
      "metadata": {
        "colab": {
          "base_uri": "https://localhost:8080/"
        },
        "id": "9R2ciSdmUG4C",
        "outputId": "03afb8e0-e49b-4831-ff85-ec36325c9dcb"
      },
      "source": [
        "m(tensorX.mm(W1t)+MyNet[0].bias)"
      ],
      "execution_count": 52,
      "outputs": [
        {
          "output_type": "execute_result",
          "data": {
            "text/plain": [
              "tensor([[1.3630]], grad_fn=<ReluBackward0>)"
            ]
          },
          "metadata": {},
          "execution_count": 52
        }
      ]
    },
    {
      "cell_type": "code",
      "metadata": {
        "id": "QkWnyuPLSG8t"
      },
      "source": [
        ""
      ],
      "execution_count": null,
      "outputs": []
    }
  ]
}