{
  "cells": [
    {
      "cell_type": "markdown",
      "metadata": {
        "id": "view-in-github",
        "colab_type": "text"
      },
      "source": [
        "<a href=\"https://colab.research.google.com/github/TienLungSun/PyTorch-deep-learning/blob/main/2.1.%20MLP%20regression(new%20version).ipynb\" target=\"_parent\"><img src=\"https://colab.research.google.com/assets/colab-badge.svg\" alt=\"Open In Colab\"/></a>"
      ]
    },
    {
      "cell_type": "code",
      "execution_count": 1,
      "metadata": {
        "id": "__UqpfWmZk_M"
      },
      "outputs": [],
      "source": [
        "import numpy as np\n",
        "import pandas as pd\n",
        "from sklearn.model_selection import train_test_split\n",
        "import matplotlib.pyplot as plt\n",
        "import datetime"
      ]
    },
    {
      "cell_type": "code",
      "source": [
        "import torch\n",
        "import torch.utils.data as Data\n",
        "import torch.nn as nn"
      ],
      "metadata": {
        "id": "nGDlDueLRc6S"
      },
      "execution_count": 2,
      "outputs": []
    },
    {
      "cell_type": "code",
      "execution_count": 3,
      "metadata": {
        "colab": {
          "base_uri": "https://localhost:8080/"
        },
        "id": "ABW0dcklZddi",
        "outputId": "ed2ea4bd-2763-44e0-ac11-ba836742b432"
      },
      "outputs": [
        {
          "output_type": "stream",
          "name": "stdout",
          "text": [
            "cuda Tesla T4\n"
          ]
        }
      ],
      "source": [
        "if(torch.cuda.is_available()):\n",
        "    device = torch.device(\"cuda\")\n",
        "    print(device, torch.cuda.get_device_name(0))\n",
        "else:\n",
        "    device= torch.device(\"cpu\")\n",
        "    print(device)"
      ]
    },
    {
      "cell_type": "markdown",
      "metadata": {
        "id": "9IKumQZJbtg8"
      },
      "source": [
        "# Upload excel data file to Colab\n",
        "# Read data file to dataframe --> convert to numpy array"
      ]
    },
    {
      "cell_type": "code",
      "source": [
        "fname = \"diabetes_dataset_regression_practice.xlsx\"\n",
        "df=pd.read_excel(fname)"
      ],
      "metadata": {
        "id": "VfkVfEQT1KO0"
      },
      "execution_count": 4,
      "outputs": []
    },
    {
      "cell_type": "code",
      "source": [
        "df.head(3)"
      ],
      "metadata": {
        "id": "8JOo5U5l1P4R",
        "outputId": "67903604-a0c2-4458-d2a8-fcc305942a82",
        "colab": {
          "base_uri": "https://localhost:8080/",
          "height": 163
        }
      },
      "execution_count": 5,
      "outputs": [
        {
          "output_type": "execute_result",
          "data": {
            "text/plain": [
              "   Feature_1  Feature_2  Feature_3  Feature_4  Feature_5  Feature_6  \\\n",
              "0   0.038076   0.050680   0.061696   0.021872  -0.044223  -0.034821   \n",
              "1  -0.001882  -0.044642  -0.051474  -0.026328  -0.008449  -0.019163   \n",
              "2   0.085299   0.050680   0.044451  -0.005670  -0.045599  -0.034194   \n",
              "\n",
              "   Feature_7  Feature_8  Feature_9  Feature_10  Target  \n",
              "0  -0.043401  -0.002592   0.019907   -0.017646     151  \n",
              "1   0.074412  -0.039493  -0.068332   -0.092204      75  \n",
              "2  -0.032356  -0.002592   0.002861   -0.025930     141  "
            ],
            "text/html": [
              "\n",
              "  <div id=\"df-e2a88025-eb44-4588-aea1-4300e1d8c32e\" class=\"colab-df-container\">\n",
              "    <div>\n",
              "<style scoped>\n",
              "    .dataframe tbody tr th:only-of-type {\n",
              "        vertical-align: middle;\n",
              "    }\n",
              "\n",
              "    .dataframe tbody tr th {\n",
              "        vertical-align: top;\n",
              "    }\n",
              "\n",
              "    .dataframe thead th {\n",
              "        text-align: right;\n",
              "    }\n",
              "</style>\n",
              "<table border=\"1\" class=\"dataframe\">\n",
              "  <thead>\n",
              "    <tr style=\"text-align: right;\">\n",
              "      <th></th>\n",
              "      <th>Feature_1</th>\n",
              "      <th>Feature_2</th>\n",
              "      <th>Feature_3</th>\n",
              "      <th>Feature_4</th>\n",
              "      <th>Feature_5</th>\n",
              "      <th>Feature_6</th>\n",
              "      <th>Feature_7</th>\n",
              "      <th>Feature_8</th>\n",
              "      <th>Feature_9</th>\n",
              "      <th>Feature_10</th>\n",
              "      <th>Target</th>\n",
              "    </tr>\n",
              "  </thead>\n",
              "  <tbody>\n",
              "    <tr>\n",
              "      <th>0</th>\n",
              "      <td>0.038076</td>\n",
              "      <td>0.050680</td>\n",
              "      <td>0.061696</td>\n",
              "      <td>0.021872</td>\n",
              "      <td>-0.044223</td>\n",
              "      <td>-0.034821</td>\n",
              "      <td>-0.043401</td>\n",
              "      <td>-0.002592</td>\n",
              "      <td>0.019907</td>\n",
              "      <td>-0.017646</td>\n",
              "      <td>151</td>\n",
              "    </tr>\n",
              "    <tr>\n",
              "      <th>1</th>\n",
              "      <td>-0.001882</td>\n",
              "      <td>-0.044642</td>\n",
              "      <td>-0.051474</td>\n",
              "      <td>-0.026328</td>\n",
              "      <td>-0.008449</td>\n",
              "      <td>-0.019163</td>\n",
              "      <td>0.074412</td>\n",
              "      <td>-0.039493</td>\n",
              "      <td>-0.068332</td>\n",
              "      <td>-0.092204</td>\n",
              "      <td>75</td>\n",
              "    </tr>\n",
              "    <tr>\n",
              "      <th>2</th>\n",
              "      <td>0.085299</td>\n",
              "      <td>0.050680</td>\n",
              "      <td>0.044451</td>\n",
              "      <td>-0.005670</td>\n",
              "      <td>-0.045599</td>\n",
              "      <td>-0.034194</td>\n",
              "      <td>-0.032356</td>\n",
              "      <td>-0.002592</td>\n",
              "      <td>0.002861</td>\n",
              "      <td>-0.025930</td>\n",
              "      <td>141</td>\n",
              "    </tr>\n",
              "  </tbody>\n",
              "</table>\n",
              "</div>\n",
              "    <div class=\"colab-df-buttons\">\n",
              "\n",
              "  <div class=\"colab-df-container\">\n",
              "    <button class=\"colab-df-convert\" onclick=\"convertToInteractive('df-e2a88025-eb44-4588-aea1-4300e1d8c32e')\"\n",
              "            title=\"Convert this dataframe to an interactive table.\"\n",
              "            style=\"display:none;\">\n",
              "\n",
              "  <svg xmlns=\"http://www.w3.org/2000/svg\" height=\"24px\" viewBox=\"0 -960 960 960\">\n",
              "    <path d=\"M120-120v-720h720v720H120Zm60-500h600v-160H180v160Zm220 220h160v-160H400v160Zm0 220h160v-160H400v160ZM180-400h160v-160H180v160Zm440 0h160v-160H620v160ZM180-180h160v-160H180v160Zm440 0h160v-160H620v160Z\"/>\n",
              "  </svg>\n",
              "    </button>\n",
              "\n",
              "  <style>\n",
              "    .colab-df-container {\n",
              "      display:flex;\n",
              "      gap: 12px;\n",
              "    }\n",
              "\n",
              "    .colab-df-convert {\n",
              "      background-color: #E8F0FE;\n",
              "      border: none;\n",
              "      border-radius: 50%;\n",
              "      cursor: pointer;\n",
              "      display: none;\n",
              "      fill: #1967D2;\n",
              "      height: 32px;\n",
              "      padding: 0 0 0 0;\n",
              "      width: 32px;\n",
              "    }\n",
              "\n",
              "    .colab-df-convert:hover {\n",
              "      background-color: #E2EBFA;\n",
              "      box-shadow: 0px 1px 2px rgba(60, 64, 67, 0.3), 0px 1px 3px 1px rgba(60, 64, 67, 0.15);\n",
              "      fill: #174EA6;\n",
              "    }\n",
              "\n",
              "    .colab-df-buttons div {\n",
              "      margin-bottom: 4px;\n",
              "    }\n",
              "\n",
              "    [theme=dark] .colab-df-convert {\n",
              "      background-color: #3B4455;\n",
              "      fill: #D2E3FC;\n",
              "    }\n",
              "\n",
              "    [theme=dark] .colab-df-convert:hover {\n",
              "      background-color: #434B5C;\n",
              "      box-shadow: 0px 1px 3px 1px rgba(0, 0, 0, 0.15);\n",
              "      filter: drop-shadow(0px 1px 2px rgba(0, 0, 0, 0.3));\n",
              "      fill: #FFFFFF;\n",
              "    }\n",
              "  </style>\n",
              "\n",
              "    <script>\n",
              "      const buttonEl =\n",
              "        document.querySelector('#df-e2a88025-eb44-4588-aea1-4300e1d8c32e button.colab-df-convert');\n",
              "      buttonEl.style.display =\n",
              "        google.colab.kernel.accessAllowed ? 'block' : 'none';\n",
              "\n",
              "      async function convertToInteractive(key) {\n",
              "        const element = document.querySelector('#df-e2a88025-eb44-4588-aea1-4300e1d8c32e');\n",
              "        const dataTable =\n",
              "          await google.colab.kernel.invokeFunction('convertToInteractive',\n",
              "                                                    [key], {});\n",
              "        if (!dataTable) return;\n",
              "\n",
              "        const docLinkHtml = 'Like what you see? Visit the ' +\n",
              "          '<a target=\"_blank\" href=https://colab.research.google.com/notebooks/data_table.ipynb>data table notebook</a>'\n",
              "          + ' to learn more about interactive tables.';\n",
              "        element.innerHTML = '';\n",
              "        dataTable['output_type'] = 'display_data';\n",
              "        await google.colab.output.renderOutput(dataTable, element);\n",
              "        const docLink = document.createElement('div');\n",
              "        docLink.innerHTML = docLinkHtml;\n",
              "        element.appendChild(docLink);\n",
              "      }\n",
              "    </script>\n",
              "  </div>\n",
              "\n",
              "\n",
              "<div id=\"df-3c393b48-38fb-4afe-9444-a626dca906c5\">\n",
              "  <button class=\"colab-df-quickchart\" onclick=\"quickchart('df-3c393b48-38fb-4afe-9444-a626dca906c5')\"\n",
              "            title=\"Suggest charts\"\n",
              "            style=\"display:none;\">\n",
              "\n",
              "<svg xmlns=\"http://www.w3.org/2000/svg\" height=\"24px\"viewBox=\"0 0 24 24\"\n",
              "     width=\"24px\">\n",
              "    <g>\n",
              "        <path d=\"M19 3H5c-1.1 0-2 .9-2 2v14c0 1.1.9 2 2 2h14c1.1 0 2-.9 2-2V5c0-1.1-.9-2-2-2zM9 17H7v-7h2v7zm4 0h-2V7h2v10zm4 0h-2v-4h2v4z\"/>\n",
              "    </g>\n",
              "</svg>\n",
              "  </button>\n",
              "\n",
              "<style>\n",
              "  .colab-df-quickchart {\n",
              "      --bg-color: #E8F0FE;\n",
              "      --fill-color: #1967D2;\n",
              "      --hover-bg-color: #E2EBFA;\n",
              "      --hover-fill-color: #174EA6;\n",
              "      --disabled-fill-color: #AAA;\n",
              "      --disabled-bg-color: #DDD;\n",
              "  }\n",
              "\n",
              "  [theme=dark] .colab-df-quickchart {\n",
              "      --bg-color: #3B4455;\n",
              "      --fill-color: #D2E3FC;\n",
              "      --hover-bg-color: #434B5C;\n",
              "      --hover-fill-color: #FFFFFF;\n",
              "      --disabled-bg-color: #3B4455;\n",
              "      --disabled-fill-color: #666;\n",
              "  }\n",
              "\n",
              "  .colab-df-quickchart {\n",
              "    background-color: var(--bg-color);\n",
              "    border: none;\n",
              "    border-radius: 50%;\n",
              "    cursor: pointer;\n",
              "    display: none;\n",
              "    fill: var(--fill-color);\n",
              "    height: 32px;\n",
              "    padding: 0;\n",
              "    width: 32px;\n",
              "  }\n",
              "\n",
              "  .colab-df-quickchart:hover {\n",
              "    background-color: var(--hover-bg-color);\n",
              "    box-shadow: 0 1px 2px rgba(60, 64, 67, 0.3), 0 1px 3px 1px rgba(60, 64, 67, 0.15);\n",
              "    fill: var(--button-hover-fill-color);\n",
              "  }\n",
              "\n",
              "  .colab-df-quickchart-complete:disabled,\n",
              "  .colab-df-quickchart-complete:disabled:hover {\n",
              "    background-color: var(--disabled-bg-color);\n",
              "    fill: var(--disabled-fill-color);\n",
              "    box-shadow: none;\n",
              "  }\n",
              "\n",
              "  .colab-df-spinner {\n",
              "    border: 2px solid var(--fill-color);\n",
              "    border-color: transparent;\n",
              "    border-bottom-color: var(--fill-color);\n",
              "    animation:\n",
              "      spin 1s steps(1) infinite;\n",
              "  }\n",
              "\n",
              "  @keyframes spin {\n",
              "    0% {\n",
              "      border-color: transparent;\n",
              "      border-bottom-color: var(--fill-color);\n",
              "      border-left-color: var(--fill-color);\n",
              "    }\n",
              "    20% {\n",
              "      border-color: transparent;\n",
              "      border-left-color: var(--fill-color);\n",
              "      border-top-color: var(--fill-color);\n",
              "    }\n",
              "    30% {\n",
              "      border-color: transparent;\n",
              "      border-left-color: var(--fill-color);\n",
              "      border-top-color: var(--fill-color);\n",
              "      border-right-color: var(--fill-color);\n",
              "    }\n",
              "    40% {\n",
              "      border-color: transparent;\n",
              "      border-right-color: var(--fill-color);\n",
              "      border-top-color: var(--fill-color);\n",
              "    }\n",
              "    60% {\n",
              "      border-color: transparent;\n",
              "      border-right-color: var(--fill-color);\n",
              "    }\n",
              "    80% {\n",
              "      border-color: transparent;\n",
              "      border-right-color: var(--fill-color);\n",
              "      border-bottom-color: var(--fill-color);\n",
              "    }\n",
              "    90% {\n",
              "      border-color: transparent;\n",
              "      border-bottom-color: var(--fill-color);\n",
              "    }\n",
              "  }\n",
              "</style>\n",
              "\n",
              "  <script>\n",
              "    async function quickchart(key) {\n",
              "      const quickchartButtonEl =\n",
              "        document.querySelector('#' + key + ' button');\n",
              "      quickchartButtonEl.disabled = true;  // To prevent multiple clicks.\n",
              "      quickchartButtonEl.classList.add('colab-df-spinner');\n",
              "      try {\n",
              "        const charts = await google.colab.kernel.invokeFunction(\n",
              "            'suggestCharts', [key], {});\n",
              "      } catch (error) {\n",
              "        console.error('Error during call to suggestCharts:', error);\n",
              "      }\n",
              "      quickchartButtonEl.classList.remove('colab-df-spinner');\n",
              "      quickchartButtonEl.classList.add('colab-df-quickchart-complete');\n",
              "    }\n",
              "    (() => {\n",
              "      let quickchartButtonEl =\n",
              "        document.querySelector('#df-3c393b48-38fb-4afe-9444-a626dca906c5 button');\n",
              "      quickchartButtonEl.style.display =\n",
              "        google.colab.kernel.accessAllowed ? 'block' : 'none';\n",
              "    })();\n",
              "  </script>\n",
              "</div>\n",
              "    </div>\n",
              "  </div>\n"
            ]
          },
          "metadata": {},
          "execution_count": 5
        }
      ]
    },
    {
      "cell_type": "code",
      "source": [
        "df.columns"
      ],
      "metadata": {
        "id": "kqA10DcW1QE5",
        "outputId": "fc6d7960-7c68-4d43-ed8f-8a0ab4956ec2",
        "colab": {
          "base_uri": "https://localhost:8080/"
        }
      },
      "execution_count": 6,
      "outputs": [
        {
          "output_type": "execute_result",
          "data": {
            "text/plain": [
              "Index(['Feature_1', 'Feature_2', 'Feature_3', 'Feature_4', 'Feature_5',\n",
              "       'Feature_6', 'Feature_7', 'Feature_8', 'Feature_9', 'Feature_10',\n",
              "       'Target'],\n",
              "      dtype='object')"
            ]
          },
          "metadata": {},
          "execution_count": 6
        }
      ]
    },
    {
      "cell_type": "code",
      "source": [
        "dfX = df[['Feature_1', 'Feature_2', 'Feature_3', 'Feature_4', 'Feature_5',\n",
        "       'Feature_6', 'Feature_7', 'Feature_8', 'Feature_9', 'Feature_10']]\n",
        "dfY = df[['Target']]"
      ],
      "metadata": {
        "id": "CxDkAe9m1VXQ"
      },
      "execution_count": 7,
      "outputs": []
    },
    {
      "cell_type": "code",
      "execution_count": 8,
      "metadata": {
        "colab": {
          "base_uri": "https://localhost:8080/"
        },
        "id": "KyPxI--48wJe",
        "outputId": "54fed6eb-4300-40af-b274-54bde2d9338b"
      },
      "outputs": [
        {
          "output_type": "stream",
          "name": "stdout",
          "text": [
            "(442, 10) (442, 1)\n"
          ]
        }
      ],
      "source": [
        "#convert data to numpy array\n",
        "numpyX = np.array(dfX.values)\n",
        "numpyY = np.array(dfY.values)\n",
        "print(numpyX.shape, numpyY.shape)"
      ]
    },
    {
      "cell_type": "markdown",
      "source": [
        "#Split input data to train and test data"
      ],
      "metadata": {
        "id": "F39RQy-XRGmR"
      }
    },
    {
      "cell_type": "code",
      "source": [
        "trainX, testX, trainY, testY = train_test_split(numpyX, numpyY, test_size=0.20, random_state=0)\n",
        "print(trainX.shape, testX.shape, trainY.shape, testY.shape)"
      ],
      "metadata": {
        "id": "rWEbO3cDRLRP",
        "outputId": "6f217428-3bed-43de-edc0-30190bb23d2b",
        "colab": {
          "base_uri": "https://localhost:8080/"
        }
      },
      "execution_count": 9,
      "outputs": [
        {
          "output_type": "stream",
          "name": "stdout",
          "text": [
            "(353, 10) (89, 10) (353, 1) (89, 1)\n"
          ]
        }
      ]
    },
    {
      "cell_type": "markdown",
      "metadata": {
        "id": "4s4g_ujnQajv"
      },
      "source": [
        "# Build NN"
      ]
    },
    {
      "cell_type": "code",
      "execution_count": 10,
      "metadata": {
        "colab": {
          "base_uri": "https://localhost:8080/"
        },
        "id": "-MvLGgYaQajy",
        "outputId": "5469fd28-e0c7-4b49-eb7c-e7b42cf98f1f"
      },
      "outputs": [
        {
          "output_type": "stream",
          "name": "stdout",
          "text": [
            "Sequential(\n",
            "  (0): Linear(in_features=10, out_features=128, bias=True)\n",
            "  (1): Sigmoid()\n",
            "  (2): Linear(in_features=128, out_features=56, bias=True)\n",
            "  (3): Sigmoid()\n",
            "  (4): Linear(in_features=56, out_features=1, bias=True)\n",
            ")\n"
          ]
        }
      ],
      "source": [
        "MyNet = nn.Sequential(\n",
        "    nn.Linear(10, 128),\n",
        "    nn.Sigmoid(),\n",
        "    nn.Linear(128, 56),\n",
        "    nn.Sigmoid(),\n",
        "    nn.Linear(56, 1),\n",
        ")\n",
        "MyNet.to(device)\n",
        "print(MyNet)"
      ]
    },
    {
      "cell_type": "markdown",
      "source": [
        "# Train NN"
      ],
      "metadata": {
        "id": "E30t74dvQabo"
      }
    },
    {
      "cell_type": "code",
      "source": [
        "train_lossLst = []\n",
        "validation_lossLst = []"
      ],
      "metadata": {
        "id": "wftH0QJwQcvA"
      },
      "execution_count": 19,
      "outputs": []
    },
    {
      "cell_type": "code",
      "execution_count": 20,
      "metadata": {
        "id": "8ZHmrQS-84st"
      },
      "outputs": [],
      "source": [
        "# split training data to train and validation\n",
        "trainX, validationX, trainY, validationY = train_test_split(trainX, trainY, test_size=0.20, random_state=0)\n",
        "tensor_trainX = torch.FloatTensor(trainX).to(device)\n",
        "tensor_trainY = torch.FloatTensor(trainY).to(device)\n",
        "\n",
        "tensor_validationX = torch.FloatTensor(validationX).to(device)\n",
        "tensor_validationY = torch.FloatTensor(validationY).to(device)"
      ]
    },
    {
      "cell_type": "code",
      "source": [
        "print(tensor_trainX.shape, tensor_trainY.shape, tensor_validationX.shape, tensor_validationY.shape)"
      ],
      "metadata": {
        "id": "OCBbDwtERs5R",
        "outputId": "f9fb3d0a-8af9-4aa4-e995-a01683afa56b",
        "colab": {
          "base_uri": "https://localhost:8080/"
        }
      },
      "execution_count": 21,
      "outputs": [
        {
          "output_type": "stream",
          "name": "stdout",
          "text": [
            "torch.Size([225, 10]) torch.Size([225, 1]) torch.Size([57, 10]) torch.Size([57, 1])\n"
          ]
        }
      ]
    },
    {
      "cell_type": "code",
      "execution_count": 22,
      "metadata": {
        "id": "LQSbQ2eaHmrJ"
      },
      "outputs": [],
      "source": [
        "# Generate mini-batches of training data\n",
        "BATCH_SIZE = 64   #try 1/5, 1/10, 1/15 of the training data\n",
        "torch_dataset = Data.TensorDataset(tensor_trainX, tensor_trainY)\n",
        "loader = Data.DataLoader(\n",
        "    dataset=torch_dataset,\n",
        "    batch_size=BATCH_SIZE,\n",
        "    shuffle=True,\n",
        "    num_workers=0,\n",
        ")"
      ]
    },
    {
      "cell_type": "code",
      "execution_count": 23,
      "metadata": {
        "id": "TpHanGbjHuW6"
      },
      "outputs": [],
      "source": [
        "# initialize NN weights\n",
        "for name, param in MyNet.named_parameters():\n",
        "  if(param.requires_grad):\n",
        "    torch.nn.init.normal_(param, mean=0.0, std=0.02)\n",
        "loss_func = torch.nn.MSELoss()\n",
        "optimizer = torch.optim.Adam(MyNet.parameters(), lr=0.00003)"
      ]
    },
    {
      "cell_type": "code",
      "source": [
        "# training loop\n",
        "epoch_lossLst=[]\n",
        "for epoch in range(1, 5000):\n",
        "  if(epoch%100 == 0):\n",
        "    print(epoch, end=\",\")\n",
        "  for (batchX, batchY) in loader:\n",
        "    batchY_hat = MyNet(batchX)\n",
        "    loss = loss_func(batchY_hat, batchY)\n",
        "    epoch_lossLst.append(float(loss))\n",
        "    optimizer.zero_grad()\n",
        "    loss.backward()\n",
        "    optimizer.step()\n",
        "  avg = sum(epoch_lossLst)/len(epoch_lossLst)\n",
        "  train_lossLst.append(avg)\n",
        "  with torch.no_grad():\n",
        "      tensor_validationY_hat = MyNet(tensor_validationX)\n",
        "      validatiion_loss = loss_func(tensor_validationY_hat, tensor_validationY)\n",
        "      validation_lossLst.append(float(validatiion_loss))"
      ],
      "metadata": {
        "id": "AbynFyNlSX8Z",
        "outputId": "cd803628-95c7-4b6a-aed6-6d41e568ca7f",
        "colab": {
          "base_uri": "https://localhost:8080/"
        }
      },
      "execution_count": 29,
      "outputs": [
        {
          "output_type": "stream",
          "name": "stdout",
          "text": [
            "100,200,300,400,500,600,700,800,900,1000,1100,1200,1300,1400,1500,1600,1700,1800,1900,2000,2100,2200,2300,2400,2500,2600,2700,2800,2900,3000,3100,3200,3300,3400,3500,3600,3700,3800,3900,4000,4100,4200,4300,4400,4500,4600,4700,4800,4900,"
          ]
        }
      ]
    },
    {
      "cell_type": "code",
      "execution_count": 30,
      "metadata": {
        "colab": {
          "base_uri": "https://localhost:8080/",
          "height": 423
        },
        "id": "wxUqhxTRQakc",
        "outputId": "a40d277e-d53e-4657-b81e-99d5402064ec"
      },
      "outputs": [
        {
          "output_type": "display_data",
          "data": {
            "text/plain": [
              "<Figure size 1200x600 with 1 Axes>"
            ],
            "image/png": "[encoded data removed]"
          },
          "metadata": {}
        }
      ],
      "source": [
        "fig=plt.figure(figsize=(12, 6))\n",
        "plt.plot(train_lossLst, color='blue')\n",
        "plt.plot(validation_lossLst, color='orange')\n",
        "plt.show()"
      ]
    },
    {
      "cell_type": "code",
      "source": [
        "# save model of this training\n",
        "current_time = datetime.datetime.now()\n",
        "formatted_time = current_time.strftime(\"%m-%d-%H-%M-%S\")\n",
        "print(formatted_time)\n",
        "fname = formatted_time + \".pth\"\n",
        "torch.save(MyNet.state_dict(), fname)"
      ],
      "metadata": {
        "id": "2r8l0py7TptY",
        "outputId": "e6caeab8-77f5-4aca-9fd9-cb3de978760a",
        "colab": {
          "base_uri": "https://localhost:8080/"
        }
      },
      "execution_count": 26,
      "outputs": [
        {
          "output_type": "stream",
          "name": "stdout",
          "text": [
            "11-25-02-55-50\n"
          ]
        }
      ]
    },
    {
      "cell_type": "markdown",
      "source": [
        "# Go back to Train NN and repeat N times."
      ],
      "metadata": {
        "id": "_UMihi_wTem6"
      }
    },
    {
      "cell_type": "markdown",
      "source": [
        "# Load the model with best performance and test."
      ],
      "metadata": {
        "id": "dWMZXsVDTnG4"
      }
    },
    {
      "cell_type": "code",
      "source": [
        "MyNet.load_state_dict(torch.load('11-25-02-55-50.pth'))"
      ],
      "metadata": {
        "id": "F1a3fZN3XqJh",
        "outputId": "2353708e-8c60-40f5-d1a4-086275cff252",
        "colab": {
          "base_uri": "https://localhost:8080/"
        }
      },
      "execution_count": 27,
      "outputs": [
        {
          "output_type": "execute_result",
          "data": {
            "text/plain": [
              "<All keys matched successfully>"
            ]
          },
          "metadata": {},
          "execution_count": 27
        }
      ]
    },
    {
      "cell_type": "code",
      "execution_count": 28,
      "metadata": {
        "colab": {
          "base_uri": "https://localhost:8080/"
        },
        "id": "f7X3c7_veV_t",
        "outputId": "6b2573f6-4d1a-4222-c312-f86839310395"
      },
      "outputs": [
        {
          "output_type": "stream",
          "name": "stdout",
          "text": [
            "24718.75, "
          ]
        }
      ],
      "source": [
        "# Test to check generalized prediction performance\n",
        "tensorX = torch.FloatTensor(testX).to(device)\n",
        "tensorY = torch.FloatTensor(testY).to(device)\n",
        "tensorY_hat = MyNet(tensorX)\n",
        "loss = loss_func(tensorY, tensorY_hat)\n",
        "print(\"%.2f\" % (float(loss)), end = \", \")"
      ]
    }
  ],
  "metadata": {
    "accelerator": "GPU",
    "colab": {
      "name": "1. 2. MLP regression.ipynb",
      "provenance": [],
      "include_colab_link": true
    },
    "kernelspec": {
      "display_name": "Python 3",
      "language": "python",
      "name": "python3"
    },
    "language_info": {
      "codemirror_mode": {
        "name": "ipython",
        "version": 3
      },
      "file_extension": ".py",
      "mimetype": "text/x-python",
      "name": "python",
      "nbconvert_exporter": "python",
      "pygments_lexer": "ipython3",
      "version": "3.8.8"
    }
  },
  "nbformat": 4,
  "nbformat_minor": 0
}