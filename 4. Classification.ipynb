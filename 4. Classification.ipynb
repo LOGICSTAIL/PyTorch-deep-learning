{
  "nbformat": 4,
  "nbformat_minor": 0,
  "metadata": {
    "colab": {
      "name": "1. 2.1. MLP regression (3 Layers).ipynb",
      "provenance": [],
      "collapsed_sections": [],
      "include_colab_link": true
    },
    "kernelspec": {
      "display_name": "Python 3",
      "language": "python",
      "name": "python3"
    },
    "language_info": {
      "codemirror_mode": {
        "name": "ipython",
        "version": 3
      },
      "file_extension": ".py",
      "mimetype": "text/x-python",
      "name": "python",
      "nbconvert_exporter": "python",
      "pygments_lexer": "ipython3",
      "version": "3.6.10"
    },
    "accelerator": "GPU"
  },
  "cells": [
    {
      "cell_type": "markdown",
      "metadata": {
        "id": "view-in-github",
        "colab_type": "text"
      },
      "source": [
        "<a href=\"https://colab.research.google.com/github/TienLungSun/PyTorch-deep-learning/blob/main/4.%20Classification.ipynb\" target=\"_parent\"><img src=\"https://colab.research.google.com/assets/colab-badge.svg\" alt=\"Open In Colab\"/></a>"
      ]
    },
    {
      "cell_type": "code",
      "metadata": {
        "id": "__UqpfWmZk_M"
      },
      "source": [
        "import torch\n",
        "import torch.nn as nn\n",
        "import torch.utils.data as Data\n",
        "from torchsummary import summary\n",
        "import random\n",
        "import numpy as np\n",
        "from sklearn.model_selection import train_test_split\n",
        "import matplotlib.pyplot as plt"
      ],
      "execution_count": 1,
      "outputs": []
    },
    {
      "cell_type": "code",
      "metadata": {
        "colab": {
          "base_uri": "https://localhost:8080/"
        },
        "id": "ABW0dcklZddi",
        "outputId": "ac43e1c6-fa35-42d9-b722-d420738bec30"
      },
      "source": [
        "if(torch.cuda.is_available()):\n",
        "    device = torch.device(\"cuda\")\n",
        "    print(device, torch.cuda.get_device_name(0))\n",
        "else:\n",
        "    device= torch.device(\"cpu\")\n",
        "    print(device)"
      ],
      "execution_count": 2,
      "outputs": [
        {
          "output_type": "stream",
          "name": "stdout",
          "text": [
            "cuda Tesla K80\n"
          ]
        }
      ]
    },
    {
      "cell_type": "markdown",
      "metadata": {
        "id": "i76WN5NAuZh6"
      },
      "source": [
        "# Generate data"
      ]
    },
    {
      "cell_type": "code",
      "metadata": {
        "id": "TMjkMMh8qXpL"
      },
      "source": [
        "# Class 0\n",
        "lstX=[]\n",
        "lstY=[]\n",
        "for i in range(1000):\n",
        "  x1 = np.random.normal(0.5, 0.3) # mean and standard deviation\n",
        "  x2 = np.random.normal(0, 0.3)\n",
        "  x3 = np.random.normal(0.8, 0.3)\n",
        "  x4 = np.random.normal(0.3, 0.8)\n",
        "  x5 = np.random.normal(0.6, 0.5)\n",
        "  x6 = np.random.normal(0.5, 0.3)\n",
        "  x7 = np.random.normal(0, 0.6)\n",
        "  lstX.append([x1, x2, x3, x4, x5, x6, x7])\n",
        "  lstY.append(0)"
      ],
      "execution_count": 19,
      "outputs": []
    },
    {
      "cell_type": "code",
      "metadata": {
        "id": "tPoP01sEqi2p"
      },
      "source": [
        "# Class 1\n",
        "for i in range(1200):\n",
        "  x1 = np.random.normal(0.1, 0.6) \n",
        "  x2 = np.random.normal(0.5, 0.3)\n",
        "  x3 = np.random.normal(0.6, 0.4)\n",
        "  x4 = np.random.normal(0.1, 0.2)\n",
        "  x5 = np.random.normal(0.4, 0.3)\n",
        "  x6 = np.random.normal(0.35, 0.6)\n",
        "  x7 = np.random.normal(-0.1, 0.3)\n",
        "  lstX.append([x1, x2, x3, x4, x5, x6, x7])\n",
        "  lstY.append(1)"
      ],
      "execution_count": 20,
      "outputs": []
    },
    {
      "cell_type": "code",
      "source": [
        "#convert data to numpy array\n",
        "numpyX = np.array(lstX)\n",
        "numpyY = np.array(lstY)\n",
        "print(numpyX.shape, numpyY.shape)"
      ],
      "metadata": {
        "id": "_Wav6p_iWoYd",
        "outputId": "024539d3-160e-431e-c0b2-825da5677574",
        "colab": {
          "base_uri": "https://localhost:8080/"
        }
      },
      "execution_count": 21,
      "outputs": [
        {
          "output_type": "stream",
          "name": "stdout",
          "text": [
            "(2200, 7) (2200,)\n"
          ]
        }
      ]
    },
    {
      "cell_type": "markdown",
      "metadata": {
        "id": "86h5UOo6pLTc"
      },
      "source": [
        "# Define NN"
      ]
    },
    {
      "cell_type": "code",
      "metadata": {
        "id": "tZfGzjhKo7hU",
        "outputId": "da5ee42d-1676-4538-b416-2c0db36e22d2",
        "colab": {
          "base_uri": "https://localhost:8080/"
        }
      },
      "source": [
        "MyNet = nn.Sequential(\n",
        "    nn.Linear(7, 56),\n",
        "    nn.ReLU(),\n",
        "    nn.Linear(56, 56),\n",
        "    nn.ReLU(),\n",
        "    nn.Linear(56, 2),\n",
        ")\n",
        "MyNet.to(device)"
      ],
      "execution_count": 22,
      "outputs": [
        {
          "output_type": "execute_result",
          "data": {
            "text/plain": [
              "Sequential(\n",
              "  (0): Linear(in_features=7, out_features=56, bias=True)\n",
              "  (1): ReLU()\n",
              "  (2): Linear(in_features=56, out_features=56, bias=True)\n",
              "  (3): ReLU()\n",
              "  (4): Linear(in_features=56, out_features=2, bias=True)\n",
              ")"
            ]
          },
          "metadata": {},
          "execution_count": 22
        }
      ]
    },
    {
      "cell_type": "code",
      "metadata": {
        "colab": {
          "base_uri": "https://localhost:8080/"
        },
        "id": "BxFApqudo8O8",
        "outputId": "7475402f-ef4f-4f9e-e09a-7b92ff480f87"
      },
      "source": [
        "BATCH_SIZE = 500\n",
        "summary(MyNet, input_size=(BATCH_SIZE, 7))"
      ],
      "execution_count": 23,
      "outputs": [
        {
          "output_type": "stream",
          "name": "stdout",
          "text": [
            "----------------------------------------------------------------\n",
            "        Layer (type)               Output Shape         Param #\n",
            "================================================================\n",
            "            Linear-1              [-1, 500, 56]             448\n",
            "              ReLU-2              [-1, 500, 56]               0\n",
            "            Linear-3              [-1, 500, 56]           3,192\n",
            "              ReLU-4              [-1, 500, 56]               0\n",
            "            Linear-5               [-1, 500, 2]             114\n",
            "================================================================\n",
            "Total params: 3,754\n",
            "Trainable params: 3,754\n",
            "Non-trainable params: 0\n",
            "----------------------------------------------------------------\n",
            "Input size (MB): 0.01\n",
            "Forward/backward pass size (MB): 0.86\n",
            "Params size (MB): 0.01\n",
            "Estimated Total Size (MB): 0.89\n",
            "----------------------------------------------------------------\n"
          ]
        }
      ]
    },
    {
      "cell_type": "markdown",
      "source": [
        "# Run training-test N times"
      ],
      "metadata": {
        "id": "Z6k46RM6YKls"
      }
    },
    {
      "cell_type": "code",
      "source": [
        "train_lossLst = []\n",
        "test_accuracyLst = []\n",
        "for i in range(1, 6):\n",
        "  print(\"\\nTrain-test \", i, end= \" \")\n",
        "  trainX, testX, trainY, testY = train_test_split(numpyX, numpyY, test_size=0.20, random_state=0)\n",
        "  tensorX = torch.FloatTensor(trainX).to(device)\n",
        "  tensorY = torch.LongTensor(trainY).to(device)\n",
        "  torch_dataset = Data.TensorDataset(tensorX, tensorY)\n",
        "  loader = Data.DataLoader(\n",
        "      dataset=torch_dataset,  \n",
        "      batch_size=BATCH_SIZE,      \n",
        "      shuffle=True,       \n",
        "      num_workers=0,   \n",
        "  )\n",
        "\n",
        "  # initialize NN weights\n",
        "  for name, param in MyNet.named_parameters():\n",
        "    if(param.requires_grad):\n",
        "      torch.nn.init.normal_(param, mean=0.0, std=0.02)\n",
        "  loss_func = torch.nn.CrossEntropyLoss()\n",
        "  optimizer = torch.optim.Adam(MyNet.parameters(), lr=0.0003)\n",
        "\n",
        "  # train NN \n",
        "  print(\"epoch\", end=\": \")\n",
        "  epoch_lossLst=[]\n",
        "  for epoch in range(1, 200):\n",
        "    if(epoch%100 == 0):\n",
        "      print(epoch, end=\",\")\n",
        "    for (batchX, batchY) in loader:\n",
        "      batchY_hat = MyNet(batchX)\n",
        "      loss = loss_func(batchY_hat, batchY)\n",
        "      epoch_lossLst.append(float(loss))\n",
        "      optimizer.zero_grad()\n",
        "      loss.backward()\n",
        "      optimizer.step()\n",
        "  train_lossLst.append(epoch_lossLst) \n",
        "\n",
        "  tensorX = torch.FloatTensor(testX).to(device)\n",
        "  tensorY = torch.LongTensor(testY).to(device)\n",
        "  tensorY_hat = MyNet(tensorX)\n",
        "\n",
        "  #calculate accuracy\n",
        "  correct = 0\n",
        "  tensorY_hat = torch.softmax(tensorY_hat, 1)\n",
        "  MaxIdxOfEachRow = torch.max(tensorY_hat, 1)[1]\n",
        "  for i in range(tensorY.shape[0]):\n",
        "    if (int(MaxIdxOfEachRow[i]) == int(tensorY[i])):\n",
        "      correct += 1\n",
        "  accuracy = correct/tensorY.shape[0]\n",
        "  print(\"%.2f\" % accuracy)\n",
        "  test_accuracyLst.append(accuracy)"
      ],
      "metadata": {
        "id": "ZDy-wfC0YQ4O",
        "outputId": "34e80f74-9fa1-4870-99c2-a978fe862209",
        "colab": {
          "base_uri": "https://localhost:8080/"
        }
      },
      "execution_count": 24,
      "outputs": [
        {
          "output_type": "stream",
          "name": "stdout",
          "text": [
            "\n",
            "Train-test  1 epoch: 100,0.95\n",
            "\n",
            "Train-test  2 epoch: 100,0.95\n",
            "\n",
            "Train-test  3 epoch: 100,0.94\n",
            "\n",
            "Train-test  4 epoch: 100,0.95\n",
            "\n",
            "Train-test  5 epoch: 100,0.94\n"
          ]
        }
      ]
    },
    {
      "cell_type": "code",
      "metadata": {
        "id": "RbrJwQT3G1g-",
        "outputId": "a6603f42-2fb0-46f6-8d46-90615babdd5e",
        "colab": {
          "base_uri": "https://localhost:8080/",
          "height": 374
        }
      },
      "source": [
        "fig=plt.figure(figsize=(16, 6))\n",
        "fig.add_subplot(1, 2, 1) #1 row, 2 cols\n",
        "for lst in train_lossLst:\n",
        "  plt.plot(lst)\n",
        "fig.add_subplot(1, 2, 2) \n",
        "plt.boxplot(test_accuracyLst)\n",
        "plt.grid()\n",
        "plt.show()"
      ],
      "execution_count": 25,
      "outputs": [
        {
          "output_type": "display_data",
          "data": {
            "text/plain": [
              "<Figure size 1152x432 with 2 Axes>"
            ],
            "image/png": "[encoded data removed]"
          },
          "metadata": {
            "needs_background": "light"
          }
        }
      ]
    }
  ]
}