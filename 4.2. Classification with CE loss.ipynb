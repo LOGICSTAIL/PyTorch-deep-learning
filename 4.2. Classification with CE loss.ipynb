{
  "nbformat": 4,
  "nbformat_minor": 0,
  "metadata": {
    "colab": {
      "name": "1. 2.1. MLP regression (3 Layers).ipynb",
      "provenance": [],
      "collapsed_sections": []
    },
    "kernelspec": {
      "display_name": "Python 3",
      "language": "python",
      "name": "python3"
    },
    "language_info": {
      "codemirror_mode": {
        "name": "ipython",
        "version": 3
      },
      "file_extension": ".py",
      "mimetype": "text/x-python",
      "name": "python",
      "nbconvert_exporter": "python",
      "pygments_lexer": "ipython3",
      "version": "3.6.10"
    },
    "accelerator": "GPU"
  },
  "cells": [
    {
      "cell_type": "code",
      "metadata": {
        "id": "__UqpfWmZk_M"
      },
      "source": [
        "import torch\n",
        "import torch.nn as nn\n",
        "import torch.utils.data as Data\n",
        "from torchsummary import summary\n",
        "import random\n",
        "import numpy as np\n",
        "from sklearn.model_selection import train_test_split\n",
        "import matplotlib.pyplot as plt"
      ],
      "execution_count": 1,
      "outputs": []
    },
    {
      "cell_type": "code",
      "metadata": {
        "colab": {
          "base_uri": "https://localhost:8080/"
        },
        "id": "ABW0dcklZddi",
        "outputId": "a7ebf84a-150e-43f4-ca69-86549a5e4941"
      },
      "source": [
        "if(torch.cuda.is_available()):\n",
        "    device = torch.device(\"cuda\")\n",
        "    print(device, torch.cuda.get_device_name(0))\n",
        "else:\n",
        "    device= torch.device(\"cpu\")\n",
        "    print(device)"
      ],
      "execution_count": 2,
      "outputs": [
        {
          "output_type": "stream",
          "text": [
            "cuda Tesla T4\n"
          ],
          "name": "stdout"
        }
      ]
    },
    {
      "cell_type": "markdown",
      "metadata": {
        "id": "i76WN5NAuZh6"
      },
      "source": [
        "# Generate data list X1, Y, X20, X21"
      ]
    },
    {
      "cell_type": "code",
      "metadata": {
        "colab": {
          "base_uri": "https://localhost:8080/"
        },
        "id": "TMjkMMh8qXpL",
        "outputId": "e5dec3cf-fd70-4d61-a54c-d3322a99ce44"
      },
      "source": [
        "# x1: -10 to 10, step 0.25, 80 data points\n",
        "# y = cubic function of x1\n",
        "lstX1 = []\n",
        "lstY1 = []\n",
        "x = -10\n",
        "while(x<10):\n",
        "  y=3*x*x*x + 2*x*x + 5*x\n",
        "  lstY1.append(y)\n",
        "  lstX1.append(x)\n",
        "  x = x + 0.25\n",
        "print(len(lstX1), len(lstY1))\n",
        "\n",
        "#normalized to [0,1]\n",
        "lstX1= [(float(i)-min(lstX1))/(max(lstX1)-min(lstX1)) for i in lstX1]\n",
        "lstY1= [(float(i)-min(lstY1))/(max(lstY1)-min(lstY1)) for i in lstY1]"
      ],
      "execution_count": 3,
      "outputs": [
        {
          "output_type": "stream",
          "text": [
            "80 80\n"
          ],
          "name": "stdout"
        }
      ]
    },
    {
      "cell_type": "code",
      "metadata": {
        "id": "tPoP01sEqi2p",
        "colab": {
          "base_uri": "https://localhost:8080/",
          "height": 374
        },
        "outputId": "d72a74ed-f79b-4e68-c28e-e2207f5a8aaf"
      },
      "source": [
        "#for each x1, generate one data for class 0 and one data for class 1\n",
        "#class 0: x2=y+random (above the cubic curve, green)\n",
        "#class 1: x2=y-random (below the cubic curve, red)\n",
        "lstX20 = []\n",
        "lstX21 = []\n",
        "for i in range(len(lstX1)): \n",
        "  lstX20.append(lstY1[i] + random.uniform(-0.1, 0.3))\n",
        "  lstX21.append(lstY1[i] - random.uniform(-0.1, 0.3))\n",
        "  \n",
        "fig=plt.figure(figsize=(12, 6))\n",
        "plt.scatter(lstX1, lstY1, color = \"blue\")\n",
        "plt.scatter(lstX1, lstX20, color = \"green\")\n",
        "plt.scatter(lstX1, lstX21, color = \"red\")\n",
        "plt.show()"
      ],
      "execution_count": 4,
      "outputs": [
        {
          "output_type": "display_data",
          "data": {
            "image/png": "[encoded data removed]",
            "text/plain": [
              "<Figure size 864x432 with 1 Axes>"
            ]
          },
          "metadata": {
            "tags": [],
            "needs_background": "light"
          }
        }
      ]
    },
    {
      "cell_type": "markdown",
      "metadata": {
        "id": "lko6arfGA7Iv"
      },
      "source": [
        "# Combine (x1, x20), (x1, x21) to generate X"
      ]
    },
    {
      "cell_type": "code",
      "metadata": {
        "colab": {
          "base_uri": "https://localhost:8080/"
        },
        "id": "bQlvAYEar3vw",
        "outputId": "e115a44a-4f02-4647-e32a-8624f8eca801"
      },
      "source": [
        "lstX=[]\n",
        "lstY=[]\n",
        "for i in range(len(lstX1)):\n",
        "  lstX.append([lstX1[i],lstX20[i]])\n",
        "  lstY.append(0)\n",
        "  lstX.append([lstX1[i],lstX21[i]])\n",
        "  lstY.append(1)\n",
        "numpyX = np.array(lstX)\n",
        "numpyY = np.array(lstY)\n",
        "print(numpyX.shape, numpyY.shape)"
      ],
      "execution_count": 5,
      "outputs": [
        {
          "output_type": "stream",
          "text": [
            "(160, 2) (160,)\n"
          ],
          "name": "stdout"
        }
      ]
    },
    {
      "cell_type": "code",
      "metadata": {
        "colab": {
          "base_uri": "https://localhost:8080/"
        },
        "id": "VfrEBnJ_uye6",
        "outputId": "8dbb23bb-b930-4c35-a10a-f76e61f36cf7"
      },
      "source": [
        "trainX, testX, trainY_hat, testY_hat = train_test_split(numpyX, numpyY, test_size=0.20, random_state=0)\n",
        "print(trainX.shape, trainY_hat.shape, testX.shape, testY_hat.shape)"
      ],
      "execution_count": 6,
      "outputs": [
        {
          "output_type": "stream",
          "text": [
            "(128, 2) (128,) (32, 2) (32,)\n"
          ],
          "name": "stdout"
        }
      ]
    },
    {
      "cell_type": "markdown",
      "metadata": {
        "id": "86h5UOo6pLTc"
      },
      "source": [
        "# Define NN"
      ]
    },
    {
      "cell_type": "code",
      "metadata": {
        "id": "tZfGzjhKo7hU"
      },
      "source": [
        "MyNet = nn.Sequential(\n",
        "    nn.Linear(2, 50),\n",
        "    nn.ReLU(),\n",
        "    nn.Linear(50, 100),\n",
        "    nn.ReLU(),\n",
        "    nn.Linear(100, 50),\n",
        "    nn.ReLU(),\n",
        "    nn.Linear(50, 2),\n",
        ")\n",
        "MyNet.to(device)\n",
        "loss_func = nn.CrossEntropyLoss()\n",
        "optimizer = torch.optim.Adam(MyNet.parameters(), lr=0.005)"
      ],
      "execution_count": 7,
      "outputs": []
    },
    {
      "cell_type": "code",
      "metadata": {
        "colab": {
          "base_uri": "https://localhost:8080/"
        },
        "id": "BxFApqudo8O8",
        "outputId": "9cb5b205-3dc5-4b21-dd3f-29c6aeafe9c4"
      },
      "source": [
        "BATCH_SIZE = 30\n",
        "summary(MyNet, input_size=(BATCH_SIZE, 2))"
      ],
      "execution_count": 8,
      "outputs": [
        {
          "output_type": "stream",
          "text": [
            "----------------------------------------------------------------\n",
            "        Layer (type)               Output Shape         Param #\n",
            "================================================================\n",
            "            Linear-1               [-1, 30, 50]             150\n",
            "              ReLU-2               [-1, 30, 50]               0\n",
            "            Linear-3              [-1, 30, 100]           5,100\n",
            "              ReLU-4              [-1, 30, 100]               0\n",
            "            Linear-5               [-1, 30, 50]           5,050\n",
            "              ReLU-6               [-1, 30, 50]               0\n",
            "            Linear-7                [-1, 30, 2]             102\n",
            "================================================================\n",
            "Total params: 10,402\n",
            "Trainable params: 10,402\n",
            "Non-trainable params: 0\n",
            "----------------------------------------------------------------\n",
            "Input size (MB): 0.00\n",
            "Forward/backward pass size (MB): 0.09\n",
            "Params size (MB): 0.04\n",
            "Estimated Total Size (MB): 0.13\n",
            "----------------------------------------------------------------\n"
          ],
          "name": "stdout"
        }
      ]
    },
    {
      "cell_type": "markdown",
      "metadata": {
        "id": "OvMjbanty0Dq"
      },
      "source": [
        "# Practice with mini-batch and cross-entropy loss function "
      ]
    },
    {
      "cell_type": "code",
      "metadata": {
        "colab": {
          "base_uri": "https://localhost:8080/"
        },
        "id": "eZGusApcsy26",
        "outputId": "e4f46ca4-00b2-440e-d14a-837bafdc4cfb"
      },
      "source": [
        "tensorX = torch.FloatTensor(trainX).to(device)\n",
        "tensorY_hat = torch.LongTensor(trainY_hat).to(device)\n",
        "print(tensorX.shape, tensorY_hat.shape)"
      ],
      "execution_count": 9,
      "outputs": [
        {
          "output_type": "stream",
          "text": [
            "torch.Size([128, 2]) torch.Size([128])\n"
          ],
          "name": "stdout"
        }
      ]
    },
    {
      "cell_type": "code",
      "metadata": {
        "id": "ynJMBp0BuoTy"
      },
      "source": [
        "torch_dataset = Data.TensorDataset(tensorX, tensorY_hat)"
      ],
      "execution_count": 10,
      "outputs": []
    },
    {
      "cell_type": "code",
      "metadata": {
        "id": "yq7GbVtxsxBu"
      },
      "source": [
        "loader = Data.DataLoader(\n",
        "    dataset=torch_dataset,  \n",
        "    batch_size=5,      \n",
        "    shuffle=True,       \n",
        "    num_workers=0,    # subprocesses for loading data\n",
        ")"
      ],
      "execution_count": 11,
      "outputs": []
    },
    {
      "cell_type": "code",
      "metadata": {
        "colab": {
          "base_uri": "https://localhost:8080/"
        },
        "id": "hY7bDaeQIUYg",
        "outputId": "99d7ff75-03c8-4628-8310-85074944390b"
      },
      "source": [
        "for (batchX, batchY_hat) in loader:\n",
        "    break\n",
        "print(batchX.shape, batchY_hat)"
      ],
      "execution_count": 12,
      "outputs": [
        {
          "output_type": "stream",
          "text": [
            "torch.Size([5, 2]) tensor([0, 0, 0, 1, 1], device='cuda:0')\n"
          ],
          "name": "stdout"
        }
      ]
    },
    {
      "cell_type": "markdown",
      "metadata": {
        "id": "x8_86O_sLepJ"
      },
      "source": [
        "#### Send batchX to NN"
      ]
    },
    {
      "cell_type": "code",
      "metadata": {
        "colab": {
          "base_uri": "https://localhost:8080/"
        },
        "id": "LUCjPXDoI79-",
        "outputId": "1f2f65f8-2c15-4a63-b57d-3d22f773968a"
      },
      "source": [
        "tensorY = MyNet(batchX)\n",
        "print(tensorY.shape,\"\\n\", tensorY)"
      ],
      "execution_count": 13,
      "outputs": [
        {
          "output_type": "stream",
          "text": [
            "torch.Size([5, 2]) \n",
            " tensor([[-0.0180,  0.0855],\n",
            "        [-0.0244,  0.0741],\n",
            "        [-0.0187,  0.0850],\n",
            "        [-0.0258,  0.0687],\n",
            "        [-0.0267,  0.0617]], device='cuda:0', grad_fn=<AddmmBackward>)\n"
          ],
          "name": "stdout"
        }
      ]
    },
    {
      "cell_type": "markdown",
      "metadata": {
        "id": "MfC-DkxELlpN"
      },
      "source": [
        "#### Calculate cross entropy between y and y-hat"
      ]
    },
    {
      "cell_type": "code",
      "metadata": {
        "colab": {
          "base_uri": "https://localhost:8080/"
        },
        "id": "2rylhTLSIUlV",
        "outputId": "51efeaf8-9f02-4b08-e4b7-f5dbf90af4e1"
      },
      "source": [
        "loss = loss_func(tensorY, batchY_hat)\n",
        "print(tensorY.shape, batchY_hat.shape, loss)"
      ],
      "execution_count": 14,
      "outputs": [
        {
          "output_type": "stream",
          "text": [
            "torch.Size([5, 2]) torch.Size([5]) tensor(0.7066, device='cuda:0', grad_fn=<NllLossBackward>)\n"
          ],
          "name": "stdout"
        }
      ]
    },
    {
      "cell_type": "markdown",
      "metadata": {
        "id": "VkQsP560LpoC"
      },
      "source": [
        "#### Calculate accuracy"
      ]
    },
    {
      "cell_type": "code",
      "metadata": {
        "id": "RL7y3ugME1an",
        "outputId": "b9c5321a-12e4-4645-973a-6ae85fd54da1",
        "colab": {
          "base_uri": "https://localhost:8080/"
        }
      },
      "source": [
        "print(tensorY.shape,\"\\n\", tensorY)"
      ],
      "execution_count": 15,
      "outputs": [
        {
          "output_type": "stream",
          "text": [
            "torch.Size([5, 2]) \n",
            " tensor([[-0.0180,  0.0855],\n",
            "        [-0.0244,  0.0741],\n",
            "        [-0.0187,  0.0850],\n",
            "        [-0.0258,  0.0687],\n",
            "        [-0.0267,  0.0617]], device='cuda:0', grad_fn=<AddmmBackward>)\n"
          ],
          "name": "stdout"
        }
      ]
    },
    {
      "cell_type": "code",
      "metadata": {
        "colab": {
          "base_uri": "https://localhost:8080/"
        },
        "id": "FLZMAqY-I2qx",
        "outputId": "a1d7ca92-311e-4a02-a84a-3be46ef34170"
      },
      "source": [
        "# apply softmax\n",
        "tensorY = torch.softmax(tensorY, 1)\n",
        "print(tensorY.shape,\"\\n\", tensorY)"
      ],
      "execution_count": 16,
      "outputs": [
        {
          "output_type": "stream",
          "text": [
            "torch.Size([5, 2]) \n",
            " tensor([[0.4742, 0.5258],\n",
            "        [0.4754, 0.5246],\n",
            "        [0.4741, 0.5259],\n",
            "        [0.4764, 0.5236],\n",
            "        [0.4779, 0.5221]], device='cuda:0', grad_fn=<SoftmaxBackward>)\n"
          ],
          "name": "stdout"
        }
      ]
    },
    {
      "cell_type": "code",
      "metadata": {
        "colab": {
          "base_uri": "https://localhost:8080/"
        },
        "id": "xlWcGbIqKvFa",
        "outputId": "a3a4ca68-8379-485f-aee9-e17489628b0f"
      },
      "source": [
        "MaxOfEachRow = torch.max(tensorY, 1)\n",
        "print(MaxOfEachRow)"
      ],
      "execution_count": 17,
      "outputs": [
        {
          "output_type": "stream",
          "text": [
            "torch.return_types.max(\n",
            "values=tensor([0.5258, 0.5246, 0.5259, 0.5236, 0.5221], device='cuda:0',\n",
            "       grad_fn=<MaxBackward0>),\n",
            "indices=tensor([1, 1, 1, 1, 1], device='cuda:0'))\n"
          ],
          "name": "stdout"
        }
      ]
    },
    {
      "cell_type": "code",
      "metadata": {
        "colab": {
          "base_uri": "https://localhost:8080/"
        },
        "id": "OnfWJVunzjg0",
        "outputId": "0ad78a2c-6743-4d93-835a-983e3689c958"
      },
      "source": [
        "MaxIdxOfEachRow = torch.max(tensorY, 1)[1]\n",
        "print(MaxIdxOfEachRow)"
      ],
      "execution_count": 18,
      "outputs": [
        {
          "output_type": "stream",
          "text": [
            "tensor([1, 1, 1, 1, 1], device='cuda:0')\n"
          ],
          "name": "stdout"
        }
      ]
    },
    {
      "cell_type": "code",
      "metadata": {
        "colab": {
          "base_uri": "https://localhost:8080/"
        },
        "id": "IFbZpEAzLBUi",
        "outputId": "4222ea6a-0418-40fc-825c-6b17fead67b6"
      },
      "source": [
        "correct = 0\n",
        "MaxIdxOfEachRow = torch.max(tensorY, 1)[1]\n",
        "for i in range(batchY_hat.shape[0]):\n",
        "  print(int(MaxIdxOfEachRow[i]), int(batchY_hat[i]), end=\"==>\")\n",
        "  if (int(MaxIdxOfEachRow[i]) == int(batchY_hat[i])):\n",
        "    print(\"correct\")\n",
        "    correct += 1\n",
        "  else:\n",
        "    print(\"wrong\")\n",
        "print(correct)\n",
        "accuracy = correct/batchY_hat.shape[0]\n",
        "print(\"%.2f\" % accuracy)"
      ],
      "execution_count": 19,
      "outputs": [
        {
          "output_type": "stream",
          "text": [
            "1 0==>wrong\n",
            "1 0==>wrong\n",
            "1 0==>wrong\n",
            "1 1==>correct\n",
            "1 1==>correct\n",
            "2\n",
            "0.40\n"
          ],
          "name": "stdout"
        }
      ]
    },
    {
      "cell_type": "markdown",
      "metadata": {
        "id": "K0QkKwwwKLxV"
      },
      "source": [
        "# Mini-batch training loop"
      ]
    },
    {
      "cell_type": "code",
      "metadata": {
        "id": "SewBZswxKPXz"
      },
      "source": [
        "loader = Data.DataLoader(\n",
        "    dataset=torch_dataset,  \n",
        "    batch_size=BATCH_SIZE,      \n",
        "    shuffle=True,       \n",
        "    num_workers=0,    # subprocesses for loading data\n",
        ")"
      ],
      "execution_count": 20,
      "outputs": []
    },
    {
      "cell_type": "code",
      "metadata": {
        "colab": {
          "base_uri": "https://localhost:8080/",
          "height": 374
        },
        "id": "cu8gM7chwT7t",
        "outputId": "65701b54-0e08-4e11-8def-a0cad06fc721"
      },
      "source": [
        "# initialize NN weights\n",
        "for name, param in MyNet.named_parameters():\n",
        "  if(param.requires_grad):\n",
        "    torch.nn.init.normal_(param, mean=0.0, std=0.02)\n",
        "\n",
        "lossLst = []\n",
        "accuracyLst = []\n",
        "for epoch in range(1, 500):\n",
        "  for (batchX, batchY_hat) in loader:\n",
        "    tensorY = MyNet(batchX)\n",
        "    loss = loss_func(tensorY, batchY_hat)\n",
        "    lossLst.append(float(loss))\n",
        "    optimizer.zero_grad()\n",
        "    loss.backward()\n",
        "    optimizer.step()\n",
        "\n",
        "    correct = 0\n",
        "    tensorY = torch.softmax(tensorY, 1)\n",
        "    MaxIdxOfEachRow = torch.max(tensorY, 1)[1]\n",
        "    for i in range(batchY_hat.shape[0]):\n",
        "      if (int(MaxIdxOfEachRow[i]) == int(batchY_hat[i])):\n",
        "        correct += 1\n",
        "    accuracy = correct/batchY_hat.shape[0]\n",
        "    accuracyLst.append(accuracy)\n",
        "\n",
        "fig=plt.figure(figsize=(18, 6))\n",
        "fig.add_subplot(1, 2, 1) \n",
        "plt.plot(lossLst)\n",
        "plt.grid()\n",
        "\n",
        "fig.add_subplot(1, 2, 2) \n",
        "plt.plot(accuracyLst)\n",
        "plt.grid()\n",
        "plt.show()"
      ],
      "execution_count": 21,
      "outputs": [
        {
          "output_type": "display_data",
          "data": {
            "image/png": "[encoded data removed]",
            "text/plain": [
              "<Figure size 1296x432 with 2 Axes>"
            ]
          },
          "metadata": {
            "tags": [],
            "needs_background": "light"
          }
        }
      ]
    },
    {
      "cell_type": "markdown",
      "metadata": {
        "id": "l05YftmMPUnj"
      },
      "source": [
        "# Test performance"
      ]
    },
    {
      "cell_type": "code",
      "metadata": {
        "colab": {
          "base_uri": "https://localhost:8080/"
        },
        "id": "meL0DKYmyQ_1",
        "outputId": "0841d834-4728-4d3d-aa5c-3cd7a6d6ab54"
      },
      "source": [
        "tensorX = torch.FloatTensor(testX).to(device)\n",
        "tensorY_hat = torch.LongTensor(testY_hat).to(device)\n",
        "tensorY = MyNet(tensorX)\n",
        "loss = loss_func(tensorY, tensorY_hat)\n",
        "print(\"Test loss: %.2f\" % (float(loss)))\n",
        "print(testY_hat.shape, tensorY_hat.shape, tensorY.shape)"
      ],
      "execution_count": 22,
      "outputs": [
        {
          "output_type": "stream",
          "text": [
            "Test loss: 0.48\n",
            "(32,) torch.Size([32]) torch.Size([32, 2])\n"
          ],
          "name": "stdout"
        }
      ]
    },
    {
      "cell_type": "code",
      "metadata": {
        "id": "dmzXy7kB4D8u",
        "colab": {
          "base_uri": "https://localhost:8080/",
          "height": 408
        },
        "outputId": "aa3f50d2-fe61-4014-a694-1291674d8f5c"
      },
      "source": [
        "# show original classification\n",
        "fig=plt.figure(figsize=(18, 6))\n",
        "lstColor = []\n",
        "for i in range(testY_hat.size):\n",
        "  if(testY_hat[i]==0):\n",
        "    lstColor.append(\"green\")\n",
        "  else:\n",
        "    lstColor.append(\"red\")\n",
        "fig.add_subplot(1, 2, 1) \n",
        "plt.scatter(lstX1, lstY1, color = \"blue\")\n",
        "plt.scatter(testX[:, 0], testX[:, 1], c=lstColor)\n",
        "\n",
        "# show model predicted classification\n",
        "lstColor = []\n",
        "correctNo = 0\n",
        "tensorY = torch.softmax(tensorY, 1)\n",
        "MaxIdxOfEachRow = torch.max(tensorY, 1)[1]\n",
        "for i in range(tensorY.shape[0]):\n",
        "  if (int(MaxIdxOfEachRow[i]) == 0):\n",
        "    lstColor.append(\"green\")\n",
        "    if(int(testY_hat[i])==0):\n",
        "      correctNo += 1\n",
        "  else:\n",
        "    lstColor.append(\"red\")\n",
        "    if(testY_hat[i]==1):\n",
        "      correctNo = correctNo + 1  \n",
        "print(correctNo)\n",
        "accuracy = correctNo/tensorY.shape[0]\n",
        "fig.add_subplot(1, 2, 2) \n",
        "plt.scatter(lstX1, lstY1, color = \"blue\")\n",
        "plt.scatter(testX[:, 0], testX[:, 1], c=lstColor)\n",
        "plt.show()\n",
        "print(\"correct No.=\", correctNo, \", accuracy = \", accuracy)"
      ],
      "execution_count": 23,
      "outputs": [
        {
          "output_type": "stream",
          "text": [
            "23\n"
          ],
          "name": "stdout"
        },
        {
          "output_type": "display_data",
          "data": {
            "image/png": "[encoded data removed]",
            "text/plain": [
              "<Figure size 1296x432 with 2 Axes>"
            ]
          },
          "metadata": {
            "tags": [],
            "needs_background": "light"
          }
        },
        {
          "output_type": "stream",
          "text": [
            "correct No.= 23 , accuracy =  0.71875\n"
          ],
          "name": "stdout"
        }
      ]
    },
    {
      "cell_type": "markdown",
      "metadata": {
        "id": "RBTBSzqPuwxj"
      },
      "source": [
        "#Collect variance of model's predicting errors"
      ]
    },
    {
      "cell_type": "code",
      "metadata": {
        "colab": {
          "base_uri": "https://localhost:8080/"
        },
        "id": "fsdltVZNrnOw",
        "outputId": "6d5b1d65-3c7f-45a4-8ccb-7cdecec6936d"
      },
      "source": [
        "lossLst = []\n",
        "accuracyLst = []\n",
        "\n",
        "for i in range(15): #randomly split data N times\n",
        "  print(i+1, end = \" ,\")\n",
        "  trainX, testX, trainY_hat, testY_hat = train_test_split(numpyX, numpyY, test_size=0.20, random_state=0)\n",
        "  tensorX = torch.FloatTensor(trainX).to(device)\n",
        "  tensorY_hat = torch.LongTensor(trainY_hat).to(device)\n",
        "\n",
        "  # define loader for mini-batch training\n",
        "  torch_dataset = Data.TensorDataset(tensorX, tensorY_hat)\n",
        "  loader = Data.DataLoader(\n",
        "      dataset=torch_dataset,  \n",
        "      batch_size=BATCH_SIZE,      \n",
        "      shuffle=True,       \n",
        "      num_workers=0,    \n",
        "  )\n",
        "\n",
        "  # initialize NN weights\n",
        "  for name, param in MyNet.named_parameters():\n",
        "    if(param.requires_grad):\n",
        "      torch.nn.init.normal_(param, mean=0.0, std=0.02)\n",
        "\n",
        "  # train NN\n",
        "  for epoch in range(1, 200):\n",
        "    for (batchX, batchY_hat) in loader:\n",
        "      tensorY = MyNet(batchX)\n",
        "      loss = loss_func(tensorY, batchY_hat)\n",
        "      optimizer.zero_grad()\n",
        "      loss.backward()\n",
        "      optimizer.step()\n",
        "\n",
        "  # after training, get test performance\n",
        "  tensorX = torch.FloatTensor(testX).to(device)\n",
        "  tensorY_hat = torch.LongTensor(testY_hat).to(device)\n",
        "  tensorY = MyNet(tensorX)\n",
        "  loss = loss_func(tensorY, tensorY_hat)\n",
        "  lossLst.append(float(loss))\n",
        "\n",
        "  correctNo = 0\n",
        "  tensorY = torch.softmax(tensorY, 1)\n",
        "  MaxIdxOfEachRow = torch.max(tensorY, 1)[1]\n",
        "  for i in range(tensorY.shape[0]):\n",
        "    if (int(MaxIdxOfEachRow[i]) == 0):\n",
        "      lstColor.append(\"green\")\n",
        "      if(int(testY_hat[i])==0):\n",
        "        correctNo += 1\n",
        "    else:\n",
        "      lstColor.append(\"red\")\n",
        "      if(testY_hat[i]==1):\n",
        "        correctNo = correctNo + 1  \n",
        "  accuracy = correctNo/tensorY.shape[0]\n",
        "  accuracyLst.append(accuracy)"
      ],
      "execution_count": 24,
      "outputs": [
        {
          "output_type": "stream",
          "text": [
            "1 ,2 ,3 ,4 ,5 ,6 ,7 ,8 ,9 ,10 ,11 ,12 ,13 ,14 ,15 ,"
          ],
          "name": "stdout"
        }
      ]
    },
    {
      "cell_type": "code",
      "metadata": {
        "colab": {
          "base_uri": "https://localhost:8080/",
          "height": 374
        },
        "id": "NXeTeZhVvFCY",
        "outputId": "01760107-37b3-485f-daff-aeb295a10805"
      },
      "source": [
        "fig=plt.figure(figsize=(18, 6))\n",
        "fig.add_subplot(1, 2, 1) \n",
        "plt.boxplot(lossLst)\n",
        "plt.grid()\n",
        "\n",
        "fig.add_subplot(1, 2, 2) \n",
        "plt.boxplot(accuracyLst)\n",
        "plt.grid()\n",
        "plt.show()"
      ],
      "execution_count": 25,
      "outputs": [
        {
          "output_type": "display_data",
          "data": {
            "image/png": "[encoded data removed]",
            "text/plain": [
              "<Figure size 1296x432 with 2 Axes>"
            ]
          },
          "metadata": {
            "tags": [],
            "needs_background": "light"
          }
        }
      ]
    },
    {
      "cell_type": "code",
      "metadata": {
        "id": "RbrJwQT3G1g-"
      },
      "source": [
        ""
      ],
      "execution_count": null,
      "outputs": []
    }
  ]
}