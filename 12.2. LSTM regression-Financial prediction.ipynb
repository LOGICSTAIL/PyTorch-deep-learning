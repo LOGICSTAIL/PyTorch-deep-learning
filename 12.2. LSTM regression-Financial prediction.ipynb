{
 "cells": [
  {
   "cell_type": "markdown",
   "metadata": {},
   "source": [
    "The csv file nasdaq100_padding is downloaded from https://github.com/prarora/Dual-Stage-Attention-RNN"
   ]
  },
  {
   "cell_type": "markdown",
   "metadata": {},
   "source": [
    "Ref: http://chandlerzuo.github.io/blog/2017/11/darnn"
   ]
  },
  {
   "cell_type": "code",
   "execution_count": 1,
   "metadata": {},
   "outputs": [],
   "source": [
    "import torch\n",
    "from torch import nn\n",
    "from torch.autograd import Variable\n",
    "from torch import optim\n",
    "import torch.utils.data as Data\n",
    "\n",
    "import matplotlib\n",
    "import pandas as pd\n",
    "import matplotlib.pyplot as plt\n",
    "import numpy as np"
   ]
  },
  {
   "cell_type": "code",
   "execution_count": 2,
   "metadata": {},
   "outputs": [
    {
     "name": "stdout",
     "output_type": "stream",
     "text": [
      "cuda\n"
     ]
    }
   ],
   "source": [
    "use_cuda = torch.cuda.is_available()\n",
    "device   = torch.device(\"cuda\" if use_cuda else \"cpu\")\n",
    "print(device)"
   ]
  },
  {
   "cell_type": "code",
   "execution_count": 3,
   "metadata": {},
   "outputs": [
    {
     "name": "stdout",
     "output_type": "stream",
     "text": [
      "(40560, 82)\n"
     ]
    },
    {
     "data": {
      "text/html": [
       "<div>\n",
       "<style scoped>\n",
       "    .dataframe tbody tr th:only-of-type {\n",
       "        vertical-align: middle;\n",
       "    }\n",
       "\n",
       "    .dataframe tbody tr th {\n",
       "        vertical-align: top;\n",
       "    }\n",
       "\n",
       "    .dataframe thead th {\n",
       "        text-align: right;\n",
       "    }\n",
       "</style>\n",
       "<table border=\"1\" class=\"dataframe\">\n",
       "  <thead>\n",
       "    <tr style=\"text-align: right;\">\n",
       "      <th></th>\n",
       "      <th>AAL</th>\n",
       "      <th>AAPL</th>\n",
       "      <th>ADBE</th>\n",
       "      <th>ADI</th>\n",
       "      <th>ADP</th>\n",
       "      <th>ADSK</th>\n",
       "      <th>AKAM</th>\n",
       "      <th>ALXN</th>\n",
       "      <th>AMAT</th>\n",
       "      <th>AMGN</th>\n",
       "      <th>...</th>\n",
       "      <th>TXN</th>\n",
       "      <th>VIAB</th>\n",
       "      <th>VOD</th>\n",
       "      <th>VRTX</th>\n",
       "      <th>WBA</th>\n",
       "      <th>WDC</th>\n",
       "      <th>WFM</th>\n",
       "      <th>XLNX</th>\n",
       "      <th>YHOO</th>\n",
       "      <th>NDX</th>\n",
       "    </tr>\n",
       "  </thead>\n",
       "  <tbody>\n",
       "    <tr>\n",
       "      <th>0</th>\n",
       "      <td>35.9800</td>\n",
       "      <td>96.80</td>\n",
       "      <td>97.80</td>\n",
       "      <td>61.15</td>\n",
       "      <td>95.4000</td>\n",
       "      <td>58.180000</td>\n",
       "      <td>58.00</td>\n",
       "      <td>127.04</td>\n",
       "      <td>26.680</td>\n",
       "      <td>165.8100</td>\n",
       "      <td>...</td>\n",
       "      <td>70.73</td>\n",
       "      <td>45.230</td>\n",
       "      <td>31.1701</td>\n",
       "      <td>95.270</td>\n",
       "      <td>81.365</td>\n",
       "      <td>52.16</td>\n",
       "      <td>33.95</td>\n",
       "      <td>48.61</td>\n",
       "      <td>38.01</td>\n",
       "      <td>4665.054</td>\n",
       "    </tr>\n",
       "    <tr>\n",
       "      <th>1</th>\n",
       "      <td>35.9310</td>\n",
       "      <td>96.89</td>\n",
       "      <td>97.80</td>\n",
       "      <td>61.61</td>\n",
       "      <td>95.4115</td>\n",
       "      <td>58.190000</td>\n",
       "      <td>58.12</td>\n",
       "      <td>126.06</td>\n",
       "      <td>26.730</td>\n",
       "      <td>165.9101</td>\n",
       "      <td>...</td>\n",
       "      <td>70.69</td>\n",
       "      <td>45.010</td>\n",
       "      <td>31.1900</td>\n",
       "      <td>94.170</td>\n",
       "      <td>81.540</td>\n",
       "      <td>52.15</td>\n",
       "      <td>34.10</td>\n",
       "      <td>48.74</td>\n",
       "      <td>38.14</td>\n",
       "      <td>4665.054</td>\n",
       "    </tr>\n",
       "    <tr>\n",
       "      <th>2</th>\n",
       "      <td>35.9044</td>\n",
       "      <td>96.95</td>\n",
       "      <td>97.57</td>\n",
       "      <td>61.98</td>\n",
       "      <td>95.5100</td>\n",
       "      <td>58.203333</td>\n",
       "      <td>57.95</td>\n",
       "      <td>126.51</td>\n",
       "      <td>26.712</td>\n",
       "      <td>166.1800</td>\n",
       "      <td>...</td>\n",
       "      <td>71.30</td>\n",
       "      <td>45.015</td>\n",
       "      <td>31.2100</td>\n",
       "      <td>94.749</td>\n",
       "      <td>81.530</td>\n",
       "      <td>52.27</td>\n",
       "      <td>34.01</td>\n",
       "      <td>48.99</td>\n",
       "      <td>38.15</td>\n",
       "      <td>4665.826</td>\n",
       "    </tr>\n",
       "  </tbody>\n",
       "</table>\n",
       "<p>3 rows × 82 columns</p>\n",
       "</div>"
      ],
      "text/plain": [
       "       AAL   AAPL   ADBE    ADI      ADP       ADSK   AKAM    ALXN    AMAT  \\\n",
       "0  35.9800  96.80  97.80  61.15  95.4000  58.180000  58.00  127.04  26.680   \n",
       "1  35.9310  96.89  97.80  61.61  95.4115  58.190000  58.12  126.06  26.730   \n",
       "2  35.9044  96.95  97.57  61.98  95.5100  58.203333  57.95  126.51  26.712   \n",
       "\n",
       "       AMGN  ...    TXN    VIAB      VOD    VRTX     WBA    WDC    WFM   XLNX  \\\n",
       "0  165.8100  ...  70.73  45.230  31.1701  95.270  81.365  52.16  33.95  48.61   \n",
       "1  165.9101  ...  70.69  45.010  31.1900  94.170  81.540  52.15  34.10  48.74   \n",
       "2  166.1800  ...  71.30  45.015  31.2100  94.749  81.530  52.27  34.01  48.99   \n",
       "\n",
       "    YHOO       NDX  \n",
       "0  38.01  4665.054  \n",
       "1  38.14  4665.054  \n",
       "2  38.15  4665.826  \n",
       "\n",
       "[3 rows x 82 columns]"
      ]
     },
     "execution_count": 3,
     "metadata": {},
     "output_type": "execute_result"
    }
   ],
   "source": [
    "df = pd.read_csv(\"nasdaq100_padding.csv\") \n",
    "print(df.shape)\n",
    "df.head(3)"
   ]
  },
  {
   "cell_type": "code",
   "execution_count": 4,
   "metadata": {},
   "outputs": [
    {
     "data": {
      "text/plain": [
       "(40560,)"
      ]
     },
     "execution_count": 4,
     "metadata": {},
     "output_type": "execute_result"
    }
   ],
   "source": [
    "# NDX as Y, all other features as X\n",
    "dfY = df['NDX']\n",
    "dfY.shape"
   ]
  },
  {
   "cell_type": "code",
   "execution_count": 5,
   "metadata": {},
   "outputs": [
    {
     "data": {
      "text/plain": [
       "(40560, 81)"
      ]
     },
     "execution_count": 5,
     "metadata": {},
     "output_type": "execute_result"
    }
   ],
   "source": [
    "dfX = df.drop(['NDX'], axis=1)\n",
    "dfX.shape"
   ]
  },
  {
   "cell_type": "code",
   "execution_count": 6,
   "metadata": {},
   "outputs": [],
   "source": [
    "# how many past time series data to consider\n",
    "TIME_STEPS = 20\n",
    "BATCH_SIZE = 400"
   ]
  },
  {
   "cell_type": "code",
   "execution_count": 7,
   "metadata": {},
   "outputs": [
    {
     "name": "stdout",
     "output_type": "stream",
     "text": [
      "40560\n"
     ]
    }
   ],
   "source": [
    "total_rows = len(df.index)\n",
    "print (total_rows)"
   ]
  },
  {
   "cell_type": "code",
   "execution_count": 8,
   "metadata": {},
   "outputs": [],
   "source": [
    "xLst = []\n",
    "yLst = []\n",
    "for i in range(total_rows - TIME_STEPS):\n",
    "    xLst1 = dfX[i:i+TIME_STEPS].values.tolist() \n",
    "    yLst1 = dfY[i:i+TIME_STEPS].mean()\n",
    "    xLst.append(xLst1)\n",
    "    yLst.append(yLst1)"
   ]
  },
  {
   "cell_type": "code",
   "execution_count": 9,
   "metadata": {},
   "outputs": [
    {
     "name": "stdout",
     "output_type": "stream",
     "text": [
      "torch.Size([40540, 20, 81]) torch.Size([40540])\n"
     ]
    }
   ],
   "source": [
    "TensorX = torch.FloatTensor(xLst)\n",
    "TensorY = torch.FloatTensor(yLst)\n",
    "print(TensorX.shape, TensorY.shape)"
   ]
  },
  {
   "cell_type": "code",
   "execution_count": 10,
   "metadata": {},
   "outputs": [
    {
     "name": "stdout",
     "output_type": "stream",
     "text": [
      "torch.Size([40540, 81, 20])\n"
     ]
    }
   ],
   "source": [
    "TensorX = TensorX.view(40540, 81, 20)\n",
    "print(TensorX.shape)"
   ]
  },
  {
   "cell_type": "code",
   "execution_count": 11,
   "metadata": {},
   "outputs": [
    {
     "name": "stdout",
     "output_type": "stream",
     "text": [
      "torch.Size([35000, 81, 20]) torch.Size([35000])\n"
     ]
    }
   ],
   "source": [
    "TrainX = TensorX[:35000]\n",
    "TrainY = TensorY[:35000]\n",
    "print(TrainX.shape, TrainY.shape)"
   ]
  },
  {
   "cell_type": "code",
   "execution_count": 12,
   "metadata": {},
   "outputs": [
    {
     "name": "stdout",
     "output_type": "stream",
     "text": [
      "torch.Size([5540, 81, 20]) torch.Size([5540])\n"
     ]
    }
   ],
   "source": [
    "TestX = TensorX[35000:]\n",
    "TestY = TensorY[35000:]\n",
    "print(TestX.shape, TestY.shape)"
   ]
  },
  {
   "cell_type": "code",
   "execution_count": 13,
   "metadata": {},
   "outputs": [],
   "source": [
    "dataset = Data.TensorDataset(TrainX, TrainY)"
   ]
  },
  {
   "cell_type": "code",
   "execution_count": 14,
   "metadata": {},
   "outputs": [],
   "source": [
    "loader = Data.DataLoader(\n",
    "    dataset=dataset,      # torch TensorDataset format\n",
    "    batch_size=BATCH_SIZE,       # mini batch size\n",
    "    shuffle=True,         # random shuffle for training\n",
    "    num_workers=2,        # subprocesses for loading data\n",
    ")"
   ]
  },
  {
   "cell_type": "markdown",
   "metadata": {},
   "source": [
    "# Define LSTM network"
   ]
  },
  {
   "cell_type": "code",
   "execution_count": 15,
   "metadata": {},
   "outputs": [],
   "source": [
    "class Sequence(nn.Module):\n",
    "    def __init__(self):\n",
    "        super(Sequence, self).__init__()\n",
    "        self.lstm1 = nn.LSTMCell(81, 128) \n",
    "        self.lstm2 = nn.LSTMCell(128, 128)\n",
    "        self.linear = nn.Linear(128, 1)\n",
    "\n",
    "    def forward(self, x):\n",
    "        # input x = (BATCH_SIZE, features, TIME_STEPS), h,c.shape=(BATCH_SIZE, 128)\n",
    "        h1 = torch.zeros(BATCH_SIZE, 128).to(device) \n",
    "        c1 = torch.zeros(BATCH_SIZE, 128).to(device)\n",
    "        h2 = torch.zeros(BATCH_SIZE, 128).to(device)\n",
    "        c2 = torch.zeros(BATCH_SIZE, 128).to(device)\n",
    "        \n",
    "        # iterate through time steps\n",
    "        for i in range(TIME_STEPS):\n",
    "            h1, c1 = self.lstm1(x[:, :, i], (h1, c1))\n",
    "            h2, c2 = self.lstm2(h1, (h2, c2))\n",
    "            output = self.linear(h2)\n",
    "        return output"
   ]
  },
  {
   "cell_type": "code",
   "execution_count": 16,
   "metadata": {},
   "outputs": [],
   "source": [
    "# build the model\n",
    "seq = Sequence().to(device)\n",
    "criterion = nn.MSELoss()\n",
    "optimizer = optim.Adam(seq.parameters(), lr=0.005)"
   ]
  },
  {
   "cell_type": "code",
   "execution_count": 17,
   "metadata": {},
   "outputs": [
    {
     "data": {
      "text/plain": [
       "Sequence(\n",
       "  (lstm1): LSTMCell(81, 128)\n",
       "  (lstm2): LSTMCell(128, 128)\n",
       "  (linear): Linear(in_features=128, out_features=1, bias=True)\n",
       ")"
      ]
     },
     "execution_count": 17,
     "metadata": {},
     "output_type": "execute_result"
    }
   ],
   "source": [
    "seq"
   ]
  },
  {
   "cell_type": "markdown",
   "metadata": {},
   "source": [
    "# If first time, go to Appendix to practice training loop step by step"
   ]
  },
  {
   "cell_type": "code",
   "execution_count": 28,
   "metadata": {
    "scrolled": true
   },
   "outputs": [
    {
     "name": "stdout",
     "output_type": "stream",
     "text": [
      "Epoch 0  Loss:1980783330.00\n",
      "Epoch 1  Loss:1933576332.00\n",
      "Epoch 2  Loss:1888228896.00\n",
      "Epoch 3  Loss:1843993164.00\n",
      "Epoch 4  Loss:1800604060.00\n",
      "Epoch 5  Loss:1758047026.00\n",
      "Epoch 6  Loss:1716269666.00\n",
      "Epoch 7  Loss:1675227896.00\n",
      "Epoch 8  Loss:1634917086.00\n",
      "Epoch 9  Loss:1595274038.00\n",
      "Epoch 10  Loss:1556309260.00\n",
      "Epoch 11  Loss:1518103654.00\n",
      "Epoch 12  Loss:1480455494.00\n",
      "Epoch 13  Loss:1443552939.00\n",
      "Epoch 14  Loss:1407204341.00\n",
      "Epoch 15  Loss:1371525993.00\n",
      "Epoch 16  Loss:1336440635.00\n",
      "Epoch 17  Loss:1301993060.00\n",
      "Epoch 18  Loss:1268079336.00\n",
      "Epoch 19  Loss:1234793496.00\n",
      "Epoch 20  Loss:1202110467.00\n",
      "Epoch 21  Loss:1169965668.00\n",
      "Epoch 22  Loss:1138417300.00\n",
      "Epoch 23  Loss:1107386772.00\n",
      "Epoch 24  Loss:1076903885.00\n",
      "Epoch 25  Loss:1046997437.00\n",
      "Epoch 26  Loss:1017574360.00\n",
      "Epoch 27  Loss:988719538.00\n",
      "Epoch 28  Loss:960391336.00\n",
      "Epoch 29  Loss:932552364.00\n",
      "Epoch 30  Loss:905216280.00\n",
      "Epoch 31  Loss:878396311.00\n",
      "Epoch 32  Loss:852093949.00\n",
      "Epoch 33  Loss:826262232.00\n",
      "Epoch 34  Loss:800931904.00\n",
      "Epoch 35  Loss:776092235.00\n",
      "Epoch 36  Loss:751725999.00\n",
      "Epoch 37  Loss:727826955.00\n",
      "Epoch 38  Loss:704419715.50\n",
      "Epoch 39  Loss:681472988.00\n",
      "Epoch 40  Loss:658962690.50\n",
      "Epoch 41  Loss:636944488.50\n",
      "Epoch 42  Loss:615343435.50\n",
      "Epoch 43  Loss:594238422.00\n",
      "Epoch 44  Loss:573527618.00\n",
      "Epoch 45  Loss:553295324.50\n",
      "Epoch 46  Loss:533499757.50\n",
      "Epoch 47  Loss:514143118.00\n",
      "Epoch 48  Loss:495175804.00\n",
      "Epoch 49  Loss:476699824.50\n"
     ]
    }
   ],
   "source": [
    "#begin to train\n",
    "lossLst = []\n",
    "for i in range(50):\n",
    "    epoch_loss = 0.0\n",
    "    for step, (batch_x, batch_y) in enumerate(loader): \n",
    "        # last batch, batch size may be less than BATCH_SIZE\n",
    "        if(batch_x.size(0) != BATCH_SIZE):\n",
    "            break;\n",
    "        VarX, VarY = Variable(batch_x).to(device), Variable(batch_y).to(device)\n",
    "        VarY = VarY.unsqueeze(dim=1)\n",
    "        out = seq(VarX)\n",
    "        loss = criterion(out, VarY)\n",
    "        epoch_loss += float(loss)\n",
    "        optimizer.zero_grad()\n",
    "        loss.backward()\n",
    "        optimizer.step()\n",
    "    print(\"Epoch {}  Loss:{:.2f}\".format(i, epoch_loss))\n",
    "    lossLst.append(epoch_loss)"
   ]
  },
  {
   "cell_type": "code",
   "execution_count": 29,
   "metadata": {},
   "outputs": [
    {
     "data": {
      "image/png": "[encoded data removed]",
      "text/plain": [
       "<Figure size 864x216 with 1 Axes>"
      ]
     },
     "metadata": {
      "needs_background": "light"
     },
     "output_type": "display_data"
    }
   ],
   "source": [
    "plt.figure(figsize=(12,3))\n",
    "plt.plot(lossLst)\n",
    "plt.show()"
   ]
  },
  {
   "cell_type": "code",
   "execution_count": 30,
   "metadata": {},
   "outputs": [
    {
     "name": "stdout",
     "output_type": "stream",
     "text": [
      "40, 41, 42, 43, 44, 45, 46, 47, 48, 49, 50, 51, 52, 53, 54, 55, 56, 57, 58, 59, 60, 61, 62, 63, 64, 65, 66, 67, 68, 69, 70, 71, 72, 73, 74, 75, 76, 77, 78, 79, 80, 81, 82, 83, 84, 85, 86, 87, 88, 89, 90, 91, 92, 93, 94, 95, 96, 97, 98, 99, 100, 101, 102, 103, 104, 105, 106, 107, 108, 109, 110, 111, 112, 113, 114, 115, 116, 117, 118, 119, 120, 121, 122, 123, 124, 125, 126, 127, 128, 129, 130, 131, 132, 133, 134, 135, 136, 137, 138, 139, 140, 141, 142, 143, 144, 145, 146, 147, 148, 149, 150, 151, 152, 153, 154, 155, 156, 157, 158, 159, 160, 161, 162, 163, 164, 165, 166, 167, 168, 169, 170, 171, 172, 173, 174, 175, 176, 177, 178, 179, 180, 181, 182, 183, 184, 185, 186, 187, 188, 189, 190, 191, 192, 193, 194, 195, 196, 197, 198, 199, "
     ]
    }
   ],
   "source": [
    "# try more training epoches without printing\n",
    "for i in range(40, 200):\n",
    "    print(i, end=\", \")\n",
    "    epoch_loss = 0.0\n",
    "    for step, (batch_x, batch_y) in enumerate(loader): \n",
    "        if(batch_x.size(0) != BATCH_SIZE):\n",
    "            break;\n",
    "        VarX, VarY = Variable(batch_x).to(device), Variable(batch_y).to(device)\n",
    "        VarY = VarY.unsqueeze(dim=1)\n",
    "        out = seq(VarX)\n",
    "        loss = criterion(out, VarY)\n",
    "        epoch_loss += float(loss)\n",
    "        optimizer.zero_grad()\n",
    "        loss.backward()\n",
    "        optimizer.step()\n",
    "    lossLst.append(epoch_loss)"
   ]
  },
  {
   "cell_type": "code",
   "execution_count": 31,
   "metadata": {},
   "outputs": [
    {
     "data": {
      "image/png": "[encoded data removed]",
      "text/plain": [
       "<Figure size 864x216 with 1 Axes>"
      ]
     },
     "metadata": {
      "needs_background": "light"
     },
     "output_type": "display_data"
    }
   ],
   "source": [
    "plt.figure(figsize=(12,3))\n",
    "plt.plot(lossLst)\n",
    "plt.show()"
   ]
  },
  {
   "cell_type": "markdown",
   "metadata": {},
   "source": [
    "# Practice -  use test data to test model accuracy"
   ]
  },
  {
   "cell_type": "code",
   "execution_count": null,
   "metadata": {},
   "outputs": [],
   "source": [
    "# Add your code here"
   ]
  },
  {
   "cell_type": "markdown",
   "metadata": {},
   "source": [
    "# Appendix \n",
    "Send a batch of input data to LSTM step by step"
   ]
  },
  {
   "cell_type": "code",
   "execution_count": 18,
   "metadata": {},
   "outputs": [
    {
     "name": "stdout",
     "output_type": "stream",
     "text": [
      "torch.Size([400, 81, 20]) torch.Size([400])\n"
     ]
    }
   ],
   "source": [
    "for step, (batch_x, batch_y) in enumerate(loader): \n",
    "    VarX, VarY = Variable(batch_x).to(device), Variable(batch_y).to(device)\n",
    "    break\n",
    "print(VarX.shape, VarY.shape)"
   ]
  },
  {
   "cell_type": "code",
   "execution_count": 19,
   "metadata": {},
   "outputs": [],
   "source": [
    "h1 = torch.zeros(BATCH_SIZE, 128).to(device) \n",
    "c1 = torch.zeros(BATCH_SIZE, 128).to(device)\n",
    "h2 = torch.zeros(BATCH_SIZE, 128).to(device)\n",
    "c2 = torch.zeros(BATCH_SIZE, 128).to(device)"
   ]
  },
  {
   "cell_type": "code",
   "execution_count": 20,
   "metadata": {},
   "outputs": [],
   "source": [
    "h1, c1 = seq.lstm1(VarX[:, :, 0], (h1, c1))"
   ]
  },
  {
   "cell_type": "code",
   "execution_count": 21,
   "metadata": {},
   "outputs": [],
   "source": [
    "h2, c2 = seq.lstm2(h1, (h2, c2))"
   ]
  },
  {
   "cell_type": "code",
   "execution_count": 22,
   "metadata": {},
   "outputs": [
    {
     "name": "stdout",
     "output_type": "stream",
     "text": [
      "torch.Size([400, 1])\n"
     ]
    }
   ],
   "source": [
    "output = seq.linear(h2)\n",
    "print(output.shape)"
   ]
  },
  {
   "cell_type": "code",
   "execution_count": 23,
   "metadata": {},
   "outputs": [],
   "source": [
    "for i in range(TIME_STEPS):\n",
    "    h1, c1 = seq.lstm1(VarX[:, :, i], (h1, c1))\n",
    "    h2, c2 = seq.lstm2(h1, (h2, c2))\n",
    "    output = seq.linear(h2)"
   ]
  },
  {
   "cell_type": "code",
   "execution_count": 24,
   "metadata": {},
   "outputs": [
    {
     "name": "stdout",
     "output_type": "stream",
     "text": [
      "torch.Size([400, 1])\n"
     ]
    }
   ],
   "source": [
    "VarY = VarY.unsqueeze(dim=1)\n",
    "print(VarY.shape)"
   ]
  },
  {
   "cell_type": "code",
   "execution_count": 25,
   "metadata": {},
   "outputs": [
    {
     "name": "stdout",
     "output_type": "stream",
     "text": [
      "23093268.0\n"
     ]
    }
   ],
   "source": [
    "loss = criterion(output, VarY)\n",
    "print(float(loss))"
   ]
  },
  {
   "cell_type": "code",
   "execution_count": 26,
   "metadata": {},
   "outputs": [],
   "source": [
    "out = seq(VarX)"
   ]
  },
  {
   "cell_type": "code",
   "execution_count": 27,
   "metadata": {},
   "outputs": [
    {
     "data": {
      "text/plain": [
       "torch.Size([400, 1])"
      ]
     },
     "execution_count": 27,
     "metadata": {},
     "output_type": "execute_result"
    }
   ],
   "source": [
    "out.shape"
   ]
  },
  {
   "cell_type": "code",
   "execution_count": null,
   "metadata": {},
   "outputs": [],
   "source": []
  }
 ],
 "metadata": {
  "kernelspec": {
   "display_name": "Python 3",
   "language": "python",
   "name": "python3"
  },
  "language_info": {
   "codemirror_mode": {
    "name": "ipython",
    "version": 3
   },
   "file_extension": ".py",
   "mimetype": "text/x-python",
   "name": "python",
   "nbconvert_exporter": "python",
   "pygments_lexer": "ipython3",
   "version": "3.7.6"
  }
 },
 "nbformat": 4,
 "nbformat_minor": 2
}
