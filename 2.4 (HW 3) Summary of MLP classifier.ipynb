{
  "cells": [
    {
      "cell_type": "code",
      "execution_count": 1,
      "metadata": {
        "id": "__UqpfWmZk_M"
      },
      "outputs": [],
      "source": [
        "import torch\n",
        "import torch.nn as nn\n",
        "import torch.utils.data as Data\n",
        "import numpy as np\n",
        "import pandas as pd\n",
        "from sklearn.model_selection import train_test_split\n",
        "from sklearn.metrics import confusion_matrix\n",
        "import matplotlib.pyplot as plt\n",
        "import datetime\n",
        "import seaborn as sns"
      ]
    },
    {
      "cell_type": "code",
      "execution_count": 2,
      "metadata": {
        "colab": {
          "base_uri": "https://localhost:8080/"
        },
        "id": "ABW0dcklZddi",
        "outputId": "57f58063-3923-4f7b-cfd6-61078c6ef73a"
      },
      "outputs": [
        {
          "name": "stdout",
          "output_type": "stream",
          "text": [
            "cuda GeForce GTX 1660 SUPER\n"
          ]
        }
      ],
      "source": [
        "if(torch.cuda.is_available()):\n",
        "    device = torch.device(\"cuda\")\n",
        "    print(device, torch.cuda.get_device_name(0))\n",
        "else:\n",
        "    device= torch.device(\"cpu\")\n",
        "    print(device)"
      ]
    },
    {
      "attachments": {},
      "cell_type": "markdown",
      "metadata": {},
      "source": [
        "### Read data file to dataframe --> convert to numpy array"
      ]
    },
    {
      "cell_type": "code",
      "execution_count": 3,
      "metadata": {
        "colab": {
          "base_uri": "https://localhost:8080/"
        },
        "id": "tPoP01sEqi2p",
        "outputId": "6745f5ea-3bd3-4853-e17d-735215abcf18"
      },
      "outputs": [
        {
          "data": {
            "text/html": [
              "<div>\n",
              "<style scoped>\n",
              "    .dataframe tbody tr th:only-of-type {\n",
              "        vertical-align: middle;\n",
              "    }\n",
              "\n",
              "    .dataframe tbody tr th {\n",
              "        vertical-align: top;\n",
              "    }\n",
              "\n",
              "    .dataframe thead th {\n",
              "        text-align: right;\n",
              "    }\n",
              "</style>\n",
              "<table border=\"1\" class=\"dataframe\">\n",
              "  <thead>\n",
              "    <tr style=\"text-align: right;\">\n",
              "      <th></th>\n",
              "      <th>Sepal.Length</th>\n",
              "      <th>Sepal.Width</th>\n",
              "      <th>Petal.Length</th>\n",
              "      <th>Petal.Width</th>\n",
              "      <th>Species</th>\n",
              "    </tr>\n",
              "  </thead>\n",
              "  <tbody>\n",
              "    <tr>\n",
              "      <th>0</th>\n",
              "      <td>5.1</td>\n",
              "      <td>3.5</td>\n",
              "      <td>1.4</td>\n",
              "      <td>0.2</td>\n",
              "      <td>setosa</td>\n",
              "    </tr>\n",
              "    <tr>\n",
              "      <th>1</th>\n",
              "      <td>4.9</td>\n",
              "      <td>3.0</td>\n",
              "      <td>1.4</td>\n",
              "      <td>0.2</td>\n",
              "      <td>setosa</td>\n",
              "    </tr>\n",
              "    <tr>\n",
              "      <th>2</th>\n",
              "      <td>4.7</td>\n",
              "      <td>3.2</td>\n",
              "      <td>1.3</td>\n",
              "      <td>0.2</td>\n",
              "      <td>setosa</td>\n",
              "    </tr>\n",
              "    <tr>\n",
              "      <th>3</th>\n",
              "      <td>4.6</td>\n",
              "      <td>3.1</td>\n",
              "      <td>1.5</td>\n",
              "      <td>0.2</td>\n",
              "      <td>setosa</td>\n",
              "    </tr>\n",
              "    <tr>\n",
              "      <th>4</th>\n",
              "      <td>5.0</td>\n",
              "      <td>3.6</td>\n",
              "      <td>1.4</td>\n",
              "      <td>0.2</td>\n",
              "      <td>setosa</td>\n",
              "    </tr>\n",
              "  </tbody>\n",
              "</table>\n",
              "</div>"
            ],
            "text/plain": [
              "   Sepal.Length  Sepal.Width  Petal.Length  Petal.Width Species\n",
              "0           5.1          3.5           1.4          0.2  setosa\n",
              "1           4.9          3.0           1.4          0.2  setosa\n",
              "2           4.7          3.2           1.3          0.2  setosa\n",
              "3           4.6          3.1           1.5          0.2  setosa\n",
              "4           5.0          3.6           1.4          0.2  setosa"
            ]
          },
          "execution_count": 3,
          "metadata": {},
          "output_type": "execute_result"
        }
      ],
      "source": [
        "fname = \"1. Data - Iris.xlsx\"  #the data file is located at the same directory\n",
        "df=pd.read_excel(fname)\n",
        "df.head(5)"
      ]
    },
    {
      "cell_type": "code",
      "execution_count": 4,
      "metadata": {
        "colab": {
          "base_uri": "https://localhost:8080/"
        },
        "id": "6f5J7g26-3GK",
        "outputId": "da35d889-81cc-406f-ed81-7273aff1b82e"
      },
      "outputs": [
        {
          "data": {
            "text/plain": [
              "Index(['Sepal.Length', 'Sepal.Width', 'Petal.Length', 'Petal.Width',\n",
              "       'Species'],\n",
              "      dtype='object')"
            ]
          },
          "execution_count": 4,
          "metadata": {},
          "output_type": "execute_result"
        }
      ],
      "source": [
        "df.columns"
      ]
    },
    {
      "cell_type": "code",
      "execution_count": 5,
      "metadata": {
        "id": "SXs5l856-3Jf"
      },
      "outputs": [],
      "source": [
        "dfX = df[['Sepal.Length', 'Sepal.Width', 'Petal.Length', 'Petal.Width']]\n",
        "dfY = df['Species']"
      ]
    },
    {
      "cell_type": "code",
      "execution_count": 6,
      "metadata": {
        "id": "gl-S_NMuA8aP"
      },
      "outputs": [],
      "source": [
        "#convert dfY from string to integer 0, 1, 2\n",
        "lstY1 = dfY.values.tolist()\n",
        "lstY = []\n",
        "for elt in lstY1:\n",
        "  if(elt == 'setosa'):\n",
        "    lstY.append(0)\n",
        "  elif (elt == 'versicolor'):\n",
        "    lstY.append(1)\n",
        "  elif (elt == 'virginica'):\n",
        "    lstY.append(2)\n",
        "  else:\n",
        "    print(\"Wrong label\", elt)"
      ]
    },
    {
      "cell_type": "code",
      "execution_count": 7,
      "metadata": {
        "colab": {
          "base_uri": "https://localhost:8080/"
        },
        "id": "uZurYc6p-3NK",
        "outputId": "f2f89336-fea5-4724-b4d1-e269b421ae8f"
      },
      "outputs": [
        {
          "name": "stdout",
          "output_type": "stream",
          "text": [
            "(150, 4) (150,)\n"
          ]
        }
      ],
      "source": [
        "#convert data to numpy array\n",
        "numpyX = np.array(dfX.values)\n",
        "numpyY = np.array(lstY)\n",
        "print(numpyX.shape, numpyY.shape)"
      ]
    },
    {
      "attachments": {},
      "cell_type": "markdown",
      "metadata": {
        "id": "_E4EzPvy_ERK"
      },
      "source": [
        "### Split input data to train and test data"
      ]
    },
    {
      "cell_type": "code",
      "execution_count": 8,
      "metadata": {
        "colab": {
          "base_uri": "https://localhost:8080/"
        },
        "id": "5z2hMCAG_DgX",
        "outputId": "ccad1f57-2e74-4a99-f6be-643b9fcde2fa"
      },
      "outputs": [
        {
          "name": "stdout",
          "output_type": "stream",
          "text": [
            "(120, 4) (30, 4) (120,) (30,)\n"
          ]
        }
      ],
      "source": [
        "trainX, testX, trainY, testY = train_test_split(numpyX, numpyY, test_size=0.20, random_state=0)\n",
        "print(trainX.shape, testX.shape, trainY.shape, testY.shape)"
      ]
    },
    {
      "attachments": {},
      "cell_type": "markdown",
      "metadata": {
        "id": "86h5UOo6pLTc"
      },
      "source": [
        "### Define NN"
      ]
    },
    {
      "cell_type": "code",
      "execution_count": 9,
      "metadata": {
        "colab": {
          "base_uri": "https://localhost:8080/"
        },
        "id": "tZfGzjhKo7hU",
        "outputId": "0d772e96-c241-4897-c112-3c14bbbefaba"
      },
      "outputs": [
        {
          "data": {
            "text/plain": [
              "Sequential(\n",
              "  (0): Linear(in_features=4, out_features=56, bias=True)\n",
              "  (1): Dropout(p=0.5, inplace=False)\n",
              "  (2): Sigmoid()\n",
              "  (3): Linear(in_features=56, out_features=56, bias=True)\n",
              "  (4): Dropout(p=0.5, inplace=False)\n",
              "  (5): Sigmoid()\n",
              "  (6): Linear(in_features=56, out_features=3, bias=True)\n",
              ")"
            ]
          },
          "execution_count": 9,
          "metadata": {},
          "output_type": "execute_result"
        }
      ],
      "source": [
        "MyNet = nn.Sequential(\n",
        "    nn.Linear(4, 56),\n",
        "    nn.Dropout(p=0.5),\n",
        "    nn.Sigmoid(),\n",
        "    nn.Linear(56, 56),\n",
        "    nn.Dropout(p=0.5),\n",
        "    nn.Sigmoid(),\n",
        "    nn.Linear(56, 3),\n",
        ")\n",
        "MyNet.to(device)"
      ]
    },
    {
      "attachments": {},
      "cell_type": "markdown",
      "metadata": {
        "id": "Z6k46RM6YKls"
      },
      "source": [
        "### Train NN"
      ]
    },
    {
      "cell_type": "code",
      "execution_count": 10,
      "metadata": {},
      "outputs": [],
      "source": [
        "train_lossLst = []\n",
        "validation_lossLst = []"
      ]
    },
    {
      "cell_type": "code",
      "execution_count": 11,
      "metadata": {},
      "outputs": [],
      "source": [
        "# split training data to train and validation\n",
        "trainX, validationX, trainY, validationY = train_test_split(trainX, trainY, test_size=0.20, random_state=0)\n",
        "tensor_trainX = torch.FloatTensor(trainX).to(device)\n",
        "tensor_trainY = torch.LongTensor(trainY).to(device)\n",
        "\n",
        "tensor_validationX = torch.FloatTensor(validationX).to(device)\n",
        "tensor_validationY = torch.LongTensor(validationY).to(device)"
      ]
    },
    {
      "cell_type": "code",
      "execution_count": 12,
      "metadata": {},
      "outputs": [
        {
          "name": "stdout",
          "output_type": "stream",
          "text": [
            "torch.Size([96, 4]) torch.Size([96]) torch.Size([24, 4]) torch.Size([24])\n"
          ]
        }
      ],
      "source": [
        "print(tensor_trainX.shape, tensor_trainY.shape, tensor_validationX.shape, tensor_validationY.shape)"
      ]
    },
    {
      "cell_type": "code",
      "execution_count": 13,
      "metadata": {},
      "outputs": [],
      "source": [
        "BATCH_SIZE = 16   #try 1/5, 1/10, 1/15 of the training data"
      ]
    },
    {
      "cell_type": "code",
      "execution_count": 14,
      "metadata": {},
      "outputs": [],
      "source": [
        "# define data loader\n",
        "torch_dataset = Data.TensorDataset(tensor_trainX, tensor_trainY)\n",
        "loader = Data.DataLoader(\n",
        "    dataset=torch_dataset,  \n",
        "    batch_size=BATCH_SIZE,      \n",
        "    shuffle=True,       \n",
        "    num_workers=0,   \n",
        ")"
      ]
    },
    {
      "cell_type": "code",
      "execution_count": 15,
      "metadata": {},
      "outputs": [],
      "source": [
        "# initialize NN weights\n",
        "for name, param in MyNet.named_parameters():\n",
        "  if(param.requires_grad):\n",
        "    torch.nn.init.normal_(param, mean=0.0, std=0.02)\n",
        "loss_func = torch.nn.CrossEntropyLoss()\n",
        "optimizer = torch.optim.Adam(MyNet.parameters(), lr=0.0003)"
      ]
    },
    {
      "cell_type": "code",
      "execution_count": 16,
      "metadata": {},
      "outputs": [
        {
          "name": "stdout",
          "output_type": "stream",
          "text": [
            "100,200,300,400,"
          ]
        }
      ],
      "source": [
        "# train NN \n",
        "epoch_lossLst=[]\n",
        "for epoch in range(1, 500):\n",
        "  if(epoch%100 == 0):\n",
        "    print(epoch, end=\",\")\n",
        "  for (batchX, batchY) in loader:\n",
        "    batchY_hat = MyNet(batchX)\n",
        "    loss = loss_func(batchY_hat, batchY)\n",
        "    epoch_lossLst.append(float(loss))\n",
        "    optimizer.zero_grad()\n",
        "    loss.backward()\n",
        "    optimizer.step()\n",
        "\n",
        "  avg = sum(epoch_lossLst) / len(epoch_lossLst)\n",
        "  train_lossLst.append(avg) \n",
        "\n",
        "  with torch.no_grad():\n",
        "      tensor_validationY_hat = MyNet(tensor_validationX)\n",
        "      tensor_validationY = tensor_validationY.view(-1)\n",
        "      validatiion_loss = loss_func(tensor_validationY_hat, tensor_validationY)\n",
        "      validation_lossLst.append(float(validatiion_loss))"
      ]
    },
    {
      "cell_type": "code",
      "execution_count": 17,
      "metadata": {},
      "outputs": [
        {
          "name": "stdout",
          "output_type": "stream",
          "text": [
            "05-07-09-22-40\n"
          ]
        }
      ],
      "source": [
        "current_time = datetime.datetime.now()\n",
        "formatted_time = current_time.strftime(\"%m-%d-%H-%M-%S\")\n",
        "print(formatted_time)"
      ]
    },
    {
      "cell_type": "code",
      "execution_count": 18,
      "metadata": {},
      "outputs": [],
      "source": [
        "# save model of this training\n",
        "fname = formatted_time + \".pth\"\n",
        "torch.save(MyNet.state_dict(), fname)"
      ]
    },
    {
      "cell_type": "code",
      "execution_count": 20,
      "metadata": {},
      "outputs": [
        {
          "data": {
            "image/png": "[encoded data removed]",
            "text/plain": [
              "<Figure size 1200x600 with 1 Axes>"
            ]
          },
          "metadata": {},
          "output_type": "display_data"
        }
      ],
      "source": [
        "fig=plt.figure(figsize=(12, 6))\n",
        "plt.plot(train_lossLst, color='blue')\n",
        "plt.plot(validation_lossLst, color='orange')\n",
        "plt.show()"
      ]
    },
    {
      "attachments": {},
      "cell_type": "markdown",
      "metadata": {},
      "source": [
        "### Mannually go back to train again --> observe train, validation loss --> train again..."
      ]
    },
    {
      "attachments": {},
      "cell_type": "markdown",
      "metadata": {},
      "source": [
        "### After train several times, pick up the best model"
      ]
    },
    {
      "cell_type": "code",
      "execution_count": 21,
      "metadata": {},
      "outputs": [
        {
          "data": {
            "text/plain": [
              "<All keys matched successfully>"
            ]
          },
          "execution_count": 21,
          "metadata": {},
          "output_type": "execute_result"
        }
      ],
      "source": [
        "# Load the best model\n",
        "MyNet.load_state_dict(torch.load('05-07-09-22-40.pth'))"
      ]
    },
    {
      "cell_type": "code",
      "execution_count": 22,
      "metadata": {},
      "outputs": [
        {
          "data": {
            "text/plain": [
              "Sequential(\n",
              "  (0): Linear(in_features=4, out_features=56, bias=True)\n",
              "  (1): Dropout(p=0.5, inplace=False)\n",
              "  (2): Sigmoid()\n",
              "  (3): Linear(in_features=56, out_features=56, bias=True)\n",
              "  (4): Dropout(p=0.5, inplace=False)\n",
              "  (5): Sigmoid()\n",
              "  (6): Linear(in_features=56, out_features=3, bias=True)\n",
              ")"
            ]
          },
          "execution_count": 22,
          "metadata": {},
          "output_type": "execute_result"
        }
      ],
      "source": [
        "MyNet.eval()\n",
        "MyNet.to(device)"
      ]
    },
    {
      "cell_type": "code",
      "execution_count": 24,
      "metadata": {},
      "outputs": [],
      "source": [
        "tensor_testX = torch.FloatTensor(testX).to(device)\n",
        "tensor_testY = torch.LongTensor(testY).to(device)"
      ]
    },
    {
      "cell_type": "code",
      "execution_count": 25,
      "metadata": {},
      "outputs": [],
      "source": [
        "tensor_testY_hat = MyNet(tensor_testX)\n",
        "tensor_testY_hat = torch.softmax(tensor_testY_hat, 1)\n",
        "MaxIdxOfEachRow = torch.max(tensor_testY_hat, 1)[1]"
      ]
    },
    {
      "cell_type": "code",
      "execution_count": 26,
      "metadata": {},
      "outputs": [],
      "source": [
        "conf_matrix = confusion_matrix(tensor_testY.cpu().numpy(), MaxIdxOfEachRow.cpu().numpy())"
      ]
    },
    {
      "cell_type": "code",
      "execution_count": 27,
      "metadata": {},
      "outputs": [
        {
          "data": {
            "text/plain": [
              "<Axes: >"
            ]
          },
          "execution_count": 27,
          "metadata": {},
          "output_type": "execute_result"
        },
        {
          "data": {
            "image/png": "[encoded data removed]",
            "text/plain": [
              "<Figure size 640x480 with 2 Axes>"
            ]
          },
          "metadata": {},
          "output_type": "display_data"
        }
      ],
      "source": [
        "sns.heatmap(conf_matrix, annot=True, cmap='Blues', fmt='g')"
      ]
    }
  ],
  "metadata": {
    "accelerator": "GPU",
    "colab": {
      "name": "1. 2.1. MLP regression (3 Layers).ipynb",
      "provenance": []
    },
    "kernelspec": {
      "display_name": "Python 3",
      "language": "python",
      "name": "python3"
    },
    "language_info": {
      "codemirror_mode": {
        "name": "ipython",
        "version": 3
      },
      "file_extension": ".py",
      "mimetype": "text/x-python",
      "name": "python",
      "nbconvert_exporter": "python",
      "pygments_lexer": "ipython3",
      "version": "3.10.10"
    }
  },
  "nbformat": 4,
  "nbformat_minor": 0
}
