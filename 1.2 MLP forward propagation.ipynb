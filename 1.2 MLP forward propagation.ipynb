{
  "nbformat": 4,
  "nbformat_minor": 0,
  "metadata": {
    "colab": {
      "name": "1. 1. Understand MLP .ipynb",
      "provenance": [],
      "collapsed_sections": [],
      "include_colab_link": true
    },
    "kernelspec": {
      "display_name": "Python 3",
      "language": "python",
      "name": "python3"
    },
    "language_info": {
      "codemirror_mode": {
        "name": "ipython",
        "version": 3
      },
      "file_extension": ".py",
      "mimetype": "text/x-python",
      "name": "python",
      "nbconvert_exporter": "python",
      "pygments_lexer": "ipython3",
      "version": "3.6.10"
    }
  },
  "cells": [
    {
      "cell_type": "markdown",
      "metadata": {
        "id": "view-in-github",
        "colab_type": "text"
      },
      "source": [
        "<a href=\"https://colab.research.google.com/github/TienLungSun/PyTorch-deep-learning/blob/main/1.2%20MLP%20forward%20propagation.ipynb\" target=\"_parent\"><img src=\"https://colab.research.google.com/assets/colab-badge.svg\" alt=\"Open In Colab\"/></a>"
      ]
    },
    {
      "cell_type": "code",
      "metadata": {
        "id": "a1kFKiHzQajW"
      },
      "source": [
        "import torch\n",
        "import torch.nn as nn"
      ],
      "execution_count": 1,
      "outputs": []
    },
    {
      "cell_type": "code",
      "metadata": {
        "colab": {
          "base_uri": "https://localhost:8080/"
        },
        "id": "-MvLGgYaQajy",
        "outputId": "1bcb2e06-0e0b-42da-a029-7c51cbc912ae"
      },
      "source": [
        "MyNet = nn.Sequential(\n",
        "  nn.Linear(2, 3),\n",
        "  nn.Linear(3, 2),\n",
        "  nn.Linear(2, 1)\n",
        ")\n",
        "print(MyNet)"
      ],
      "execution_count": 2,
      "outputs": [
        {
          "output_type": "stream",
          "name": "stdout",
          "text": [
            "Sequential(\n",
            "  (0): Linear(in_features=2, out_features=3, bias=True)\n",
            "  (1): Linear(in_features=3, out_features=2, bias=True)\n",
            "  (2): Linear(in_features=2, out_features=1, bias=True)\n",
            ")\n"
          ]
        }
      ]
    },
    {
      "cell_type": "code",
      "metadata": {
        "colab": {
          "base_uri": "https://localhost:8080/"
        },
        "id": "h9pgtjB2Qaj0",
        "outputId": "1ad79e6d-4bec-488e-c068-b33fddd5581d"
      },
      "source": [
        "for name, params in MyNet.named_parameters():\n",
        "    if params.requires_grad:\n",
        "        print(name, params.data)"
      ],
      "execution_count": 3,
      "outputs": [
        {
          "output_type": "stream",
          "name": "stdout",
          "text": [
            "0.weight tensor([[-0.4092, -0.0522],\n",
            "        [-0.3581, -0.5720],\n",
            "        [ 0.5493,  0.5701]])\n",
            "0.bias tensor([ 0.6820,  0.5795, -0.1028])\n",
            "1.weight tensor([[ 0.1976, -0.1876, -0.2304],\n",
            "        [ 0.3506, -0.5113, -0.3481]])\n",
            "1.bias tensor([ 0.2052, -0.0102])\n",
            "2.weight tensor([[0.6875, 0.1049]])\n",
            "2.bias tensor([0.1040])\n"
          ]
        }
      ]
    },
    {
      "cell_type": "markdown",
      "metadata": {
        "id": "kWycYWx1P3-D"
      },
      "source": [
        "### Prepare input data"
      ]
    },
    {
      "cell_type": "code",
      "metadata": {
        "colab": {
          "base_uri": "https://localhost:8080/"
        },
        "id": "TfDLpOKCQajk",
        "outputId": "dad40536-df2d-41a2-ef6d-2975004191f8"
      },
      "source": [
        "lstX = [[1, 2], [2, 3], [10, 5]]\n",
        "tensorX = torch.FloatTensor(lstX)\n",
        "print(tensorX, \"\\n\", tensorX.shape)"
      ],
      "execution_count": 4,
      "outputs": [
        {
          "output_type": "stream",
          "name": "stdout",
          "text": [
            "tensor([[ 1.,  2.],\n",
            "        [ 2.,  3.],\n",
            "        [10.,  5.]]) \n",
            " torch.Size([3, 2])\n"
          ]
        }
      ]
    },
    {
      "cell_type": "markdown",
      "metadata": {
        "id": "9r8UKLpHQaj6"
      },
      "source": [
        "### Forward propagation"
      ]
    },
    {
      "cell_type": "code",
      "metadata": {
        "colab": {
          "base_uri": "https://localhost:8080/"
        },
        "id": "SOa9AGDkQaj9",
        "outputId": "bf84cee7-db9b-4415-d844-5e2222da33d3"
      },
      "source": [
        "W0 = MyNet[0].weight\n",
        "b0 = MyNet[0].bias   \n",
        "print(W0, W0.shape, b0)"
      ],
      "execution_count": 5,
      "outputs": [
        {
          "output_type": "stream",
          "name": "stdout",
          "text": [
            "Parameter containing:\n",
            "tensor([[-0.4092, -0.0522],\n",
            "        [-0.3581, -0.5720],\n",
            "        [ 0.5493,  0.5701]], requires_grad=True) torch.Size([3, 2]) Parameter containing:\n",
            "tensor([ 0.6820,  0.5795, -0.1028], requires_grad=True)\n"
          ]
        }
      ]
    },
    {
      "cell_type": "code",
      "metadata": {
        "colab": {
          "base_uri": "https://localhost:8080/"
        },
        "id": "nLdkJ4COQaj_",
        "outputId": "f964507b-c4a6-4868-e8d9-3b87a2c75e44"
      },
      "source": [
        "#Calculate n3, n4, n5 using Pytorch matrix operation\n",
        "Layer1_1 = tensorX.mm(torch.transpose(W0, 1, 0)) + b0\n",
        "print(Layer1_1)"
      ],
      "execution_count": 6,
      "outputs": [
        {
          "output_type": "stream",
          "name": "stdout",
          "text": [
            "tensor([[ 0.1684, -0.9227,  1.5867],\n",
            "        [-0.2930, -1.8529,  2.7061],\n",
            "        [-3.6708, -5.8621,  8.2408]], grad_fn=<AddBackward0>)\n"
          ]
        }
      ]
    },
    {
      "cell_type": "code",
      "metadata": {
        "colab": {
          "base_uri": "https://localhost:8080/"
        },
        "id": "tan3fAtiQaj6",
        "outputId": "43b1fd50-18f7-4a2d-9c62-d9284308d63f"
      },
      "source": [
        "#Verify\n",
        "Layer1 = MyNet[0](tensorX)  \n",
        "print(Layer1)"
      ],
      "execution_count": 7,
      "outputs": [
        {
          "output_type": "stream",
          "name": "stdout",
          "text": [
            "tensor([[ 0.1684, -0.9227,  1.5867],\n",
            "        [-0.2930, -1.8529,  2.7061],\n",
            "        [-3.6708, -5.8621,  8.2408]], grad_fn=<AddmmBackward0>)\n"
          ]
        }
      ]
    },
    {
      "cell_type": "markdown",
      "metadata": {
        "id": "xfyfqEtEq-U4"
      },
      "source": [
        "###Hidden layer 2: n6, n7"
      ]
    },
    {
      "cell_type": "code",
      "metadata": {
        "colab": {
          "base_uri": "https://localhost:8080/"
        },
        "id": "pGw5IXeiQakE",
        "outputId": "0295a45b-e0ea-4b83-f339-73af3663b149"
      },
      "source": [
        "#Calculate n6, n7 using PyTorch matrix operation\n",
        "W1 = MyNet[1].weight\n",
        "b1 = MyNet[1].bias  \n",
        "Layer2_1 = Layer1.mm(torch.transpose(W1, 1, 0)) +b1\n",
        "print(Layer2_1)"
      ],
      "execution_count": 8,
      "outputs": [
        {
          "output_type": "stream",
          "name": "stdout",
          "text": [
            "tensor([[ 0.0459, -0.0318],\n",
            "        [-0.1288, -0.1076],\n",
            "        [-1.3198, -1.1685]], grad_fn=<AddBackward0>)\n"
          ]
        }
      ]
    },
    {
      "cell_type": "code",
      "metadata": {
        "colab": {
          "base_uri": "https://localhost:8080/"
        },
        "id": "huI72Ze6QakC",
        "outputId": "fc2e2fbe-e2dc-423b-fc93-8d68399c4d43"
      },
      "source": [
        "#verify \n",
        "Layer2 = MyNet[1](Layer1)\n",
        "print(Layer2)"
      ],
      "execution_count": 9,
      "outputs": [
        {
          "output_type": "stream",
          "name": "stdout",
          "text": [
            "tensor([[ 0.0459, -0.0318],\n",
            "        [-0.1288, -0.1076],\n",
            "        [-1.3198, -1.1685]], grad_fn=<AddmmBackward0>)\n"
          ]
        }
      ]
    },
    {
      "cell_type": "markdown",
      "metadata": {
        "id": "6diNvzFQrEPg"
      },
      "source": [
        "###Output layer"
      ]
    },
    {
      "cell_type": "code",
      "metadata": {
        "colab": {
          "base_uri": "https://localhost:8080/"
        },
        "id": "9R2ciSdmUG4C",
        "outputId": "d925413f-d1a2-4eda-bb05-cc0914079106"
      },
      "source": [
        "#Calculate y by matrix operation\n",
        "W2 = MyNet[2].weight\n",
        "b2 = MyNet[2].bias  \n",
        "tensorY_1 = Layer2.mm(torch.transpose(W2, 1, 0)) +b2\n",
        "print(tensorY_1)"
      ],
      "execution_count": 10,
      "outputs": [
        {
          "output_type": "stream",
          "name": "stdout",
          "text": [
            "tensor([[ 0.1322],\n",
            "        [ 0.0041],\n",
            "        [-0.9261]], grad_fn=<AddBackward0>)\n"
          ]
        }
      ]
    },
    {
      "cell_type": "code",
      "metadata": {
        "colab": {
          "base_uri": "https://localhost:8080/"
        },
        "id": "csq95L-dT-KF",
        "outputId": "6e1556fd-54f9-4372-8fc9-fc6ecb10dea3"
      },
      "source": [
        "#verify \n",
        "tensorY= MyNet[2](Layer2)\n",
        "print(tensorY)"
      ],
      "execution_count": 11,
      "outputs": [
        {
          "output_type": "stream",
          "name": "stdout",
          "text": [
            "tensor([[ 0.1322],\n",
            "        [ 0.0041],\n",
            "        [-0.9261]], grad_fn=<AddmmBackward0>)\n"
          ]
        }
      ]
    },
    {
      "cell_type": "markdown",
      "metadata": {
        "id": "oHGnIlWnrKbp"
      },
      "source": [
        "### y=NN(x) in one step"
      ]
    },
    {
      "cell_type": "code",
      "metadata": {
        "colab": {
          "base_uri": "https://localhost:8080/"
        },
        "id": "8flPoiKRUR5h",
        "outputId": "6f5e258c-befb-4639-a57a-f2849183f947"
      },
      "source": [
        "#Directly calculate y\n",
        "tensorY= MyNet(tensorX)\n",
        "print(tensorY)"
      ],
      "execution_count": 12,
      "outputs": [
        {
          "output_type": "stream",
          "name": "stdout",
          "text": [
            "tensor([[ 0.1322],\n",
            "        [ 0.0041],\n",
            "        [-0.9261]], grad_fn=<AddmmBackward0>)\n"
          ]
        }
      ]
    },
    {
      "cell_type": "code",
      "metadata": {
        "id": "far_fuhNrVCe"
      },
      "source": [
        ""
      ],
      "execution_count": null,
      "outputs": []
    }
  ]
}