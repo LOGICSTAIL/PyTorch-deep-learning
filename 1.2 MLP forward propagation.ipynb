{
  "nbformat": 4,
  "nbformat_minor": 0,
  "metadata": {
    "colab": {
      "name": "1. 1. Understand MLP .ipynb",
      "provenance": [],
      "collapsed_sections": [],
      "include_colab_link": true
    },
    "kernelspec": {
      "display_name": "Python 3",
      "language": "python",
      "name": "python3"
    },
    "language_info": {
      "codemirror_mode": {
        "name": "ipython",
        "version": 3
      },
      "file_extension": ".py",
      "mimetype": "text/x-python",
      "name": "python",
      "nbconvert_exporter": "python",
      "pygments_lexer": "ipython3",
      "version": "3.6.10"
    }
  },
  "cells": [
    {
      "cell_type": "markdown",
      "metadata": {
        "id": "view-in-github",
        "colab_type": "text"
      },
      "source": [
        "<a href=\"https://colab.research.google.com/github/TienLungSun/PyTorch-Colab/blob/main/1.2%20MLP%20forward%20propagation.ipynb\" target=\"_parent\"><img src=\"https://colab.research.google.com/assets/colab-badge.svg\" alt=\"Open In Colab\"/></a>"
      ]
    },
    {
      "cell_type": "code",
      "metadata": {
        "id": "a1kFKiHzQajW"
      },
      "source": [
        "import torch\n",
        "import torch.nn as nn"
      ],
      "execution_count": 1,
      "outputs": []
    },
    {
      "cell_type": "markdown",
      "metadata": {
        "id": "4s4g_ujnQajv"
      },
      "source": [
        "# Build NN"
      ]
    },
    {
      "cell_type": "code",
      "metadata": {
        "colab": {
          "base_uri": "https://localhost:8080/"
        },
        "id": "-MvLGgYaQajy",
        "outputId": "38503914-0a1f-4f91-c425-1e36ff118315"
      },
      "source": [
        "MyNet = nn.Sequential(\n",
        "  nn.Linear(2, 3),\n",
        "  nn.Linear(3, 2),\n",
        "  nn.Linear(2, 1)\n",
        ")\n",
        "print(MyNet)"
      ],
      "execution_count": 2,
      "outputs": [
        {
          "output_type": "stream",
          "name": "stdout",
          "text": [
            "Sequential(\n",
            "  (0): Linear(in_features=2, out_features=3, bias=True)\n",
            "  (1): Linear(in_features=3, out_features=2, bias=True)\n",
            "  (2): Linear(in_features=2, out_features=1, bias=True)\n",
            ")\n"
          ]
        }
      ]
    },
    {
      "cell_type": "code",
      "metadata": {
        "colab": {
          "base_uri": "https://localhost:8080/"
        },
        "id": "h9pgtjB2Qaj0",
        "outputId": "1718c7f4-989f-4500-d3e0-5df00d4c22dc"
      },
      "source": [
        "for name, params in MyNet.named_parameters():\n",
        "    if params.requires_grad:\n",
        "        print(name, params.data)"
      ],
      "execution_count": 3,
      "outputs": [
        {
          "output_type": "stream",
          "name": "stdout",
          "text": [
            "0.weight tensor([[ 0.0063, -0.6690],\n",
            "        [-0.6892, -0.5403],\n",
            "        [ 0.5074, -0.6063]])\n",
            "0.bias tensor([0.2862, 0.5153, 0.3472])\n",
            "1.weight tensor([[ 0.4099, -0.2223,  0.4006],\n",
            "        [ 0.4599, -0.2916, -0.4060]])\n",
            "1.bias tensor([0.5159, 0.2593])\n",
            "2.weight tensor([[ 0.3448, -0.2068]])\n",
            "2.bias tensor([-0.2380])\n"
          ]
        }
      ]
    },
    {
      "cell_type": "markdown",
      "metadata": {
        "id": "kWycYWx1P3-D"
      },
      "source": [
        "# Prepare input data"
      ]
    },
    {
      "cell_type": "code",
      "metadata": {
        "colab": {
          "base_uri": "https://localhost:8080/"
        },
        "id": "TfDLpOKCQajk",
        "outputId": "946f9729-1794-47f6-c513-1752feecf1a9"
      },
      "source": [
        "lstX = [[1, 2], [2, 3], [10, 5]]\n",
        "tensorX = torch.FloatTensor(lstX)\n",
        "print(tensorX, \"\\n\", tensorX.shape)"
      ],
      "execution_count": 4,
      "outputs": [
        {
          "output_type": "stream",
          "name": "stdout",
          "text": [
            "tensor([[ 1.,  2.],\n",
            "        [ 2.,  3.],\n",
            "        [10.,  5.]]) \n",
            " torch.Size([3, 2])\n"
          ]
        }
      ]
    },
    {
      "cell_type": "code",
      "metadata": {
        "colab": {
          "base_uri": "https://localhost:8080/"
        },
        "id": "ltYcOMMzQajp",
        "outputId": "f02db596-8806-4bd8-97e1-f2c5c6fabdd7"
      },
      "source": [
        "lstY = [[7], [12], [40]]  # y=3x1+2x2\n",
        "tensorY_hat = torch.FloatTensor(lstY)\n",
        "print(tensorY_hat, '\\n', tensorY_hat.shape)"
      ],
      "execution_count": 5,
      "outputs": [
        {
          "output_type": "stream",
          "name": "stdout",
          "text": [
            "tensor([[ 7.],\n",
            "        [12.],\n",
            "        [40.]]) \n",
            " torch.Size([3, 1])\n"
          ]
        }
      ]
    },
    {
      "cell_type": "markdown",
      "metadata": {
        "id": "9r8UKLpHQaj6"
      },
      "source": [
        "# Forward propagation"
      ]
    },
    {
      "cell_type": "markdown",
      "metadata": {
        "id": "IJzWbi_Nq2gZ"
      },
      "source": [
        "###Hidden layer 1: n3, n4, n5 "
      ]
    },
    {
      "cell_type": "code",
      "metadata": {
        "colab": {
          "base_uri": "https://localhost:8080/"
        },
        "id": "SOa9AGDkQaj9",
        "outputId": "de65cb7d-900b-46aa-a765-e7441c3f105a"
      },
      "source": [
        "W0 = MyNet[0].weight\n",
        "b0 = MyNet[0].bias   \n",
        "print(W0, W0.shape, b0)"
      ],
      "execution_count": 6,
      "outputs": [
        {
          "output_type": "stream",
          "name": "stdout",
          "text": [
            "Parameter containing:\n",
            "tensor([[ 0.0063, -0.6690],\n",
            "        [-0.6892, -0.5403],\n",
            "        [ 0.5074, -0.6063]], requires_grad=True) torch.Size([3, 2]) Parameter containing:\n",
            "tensor([0.2862, 0.5153, 0.3472], requires_grad=True)\n"
          ]
        }
      ]
    },
    {
      "cell_type": "code",
      "metadata": {
        "colab": {
          "base_uri": "https://localhost:8080/"
        },
        "id": "tan3fAtiQaj6",
        "outputId": "313090f8-f22b-4bd5-dca5-6404212a640e"
      },
      "source": [
        "#Calculate n3, n4, n5\n",
        "Layer1 = MyNet[0](tensorX)  \n",
        "print(Layer1)"
      ],
      "execution_count": 8,
      "outputs": [
        {
          "output_type": "stream",
          "name": "stdout",
          "text": [
            "tensor([[-1.0455, -1.2545, -0.3579],\n",
            "        [-1.7082, -2.4840, -0.4568],\n",
            "        [-2.9958, -9.0781,  2.3898]], grad_fn=<AddmmBackward>)\n"
          ]
        }
      ]
    },
    {
      "cell_type": "code",
      "metadata": {
        "colab": {
          "base_uri": "https://localhost:8080/"
        },
        "id": "nLdkJ4COQaj_",
        "outputId": "e51cb39b-2bb1-4f89-f470-e4fcea8b1d2f"
      },
      "source": [
        "#Calculate n3, n4, n5 using Pytorch matrix operation\n",
        "Layer1_1 = tensorX.mm(torch.transpose(W0, 1, 0)) + b0\n",
        "print(Layer1_1)"
      ],
      "execution_count": 9,
      "outputs": [
        {
          "output_type": "stream",
          "name": "stdout",
          "text": [
            "tensor([[-1.0455, -1.2545, -0.3579],\n",
            "        [-1.7082, -2.4840, -0.4568],\n",
            "        [-2.9958, -9.0781,  2.3898]], grad_fn=<AddBackward0>)\n"
          ]
        }
      ]
    },
    {
      "cell_type": "markdown",
      "metadata": {
        "id": "xfyfqEtEq-U4"
      },
      "source": [
        "###Hidden layer 2: n6, n7"
      ]
    },
    {
      "cell_type": "code",
      "metadata": {
        "colab": {
          "base_uri": "https://localhost:8080/"
        },
        "id": "huI72Ze6QakC",
        "outputId": "42ee159a-fee5-411b-f5ea-c8cf7d56ae0c"
      },
      "source": [
        "#Calculate n6, n7\n",
        "Layer2 = MyNet[1](Layer1)\n",
        "print(Layer2)"
      ],
      "execution_count": 10,
      "outputs": [
        {
          "output_type": "stream",
          "name": "stdout",
          "text": [
            "tensor([[0.2228, 0.2897],\n",
            "        [0.1848, 0.3836],\n",
            "        [2.2630, 0.5587]], grad_fn=<AddmmBackward>)\n"
          ]
        }
      ]
    },
    {
      "cell_type": "code",
      "metadata": {
        "colab": {
          "base_uri": "https://localhost:8080/"
        },
        "id": "pGw5IXeiQakE",
        "outputId": "806fb97c-b5b9-49d1-f9ef-dcba9f40c336"
      },
      "source": [
        "#Calculate n6, n7 using PyTorch matrix operation\n",
        "W1 = MyNet[1].weight\n",
        "b1 = MyNet[1].bias  \n",
        "Layer2_1 = Layer1.mm(torch.transpose(W1, 1, 0)) +b1\n",
        "print(Layer2_1)"
      ],
      "execution_count": 11,
      "outputs": [
        {
          "output_type": "stream",
          "name": "stdout",
          "text": [
            "tensor([[0.2228, 0.2897],\n",
            "        [0.1848, 0.3836],\n",
            "        [2.2630, 0.5587]], grad_fn=<AddBackward0>)\n"
          ]
        }
      ]
    },
    {
      "cell_type": "markdown",
      "metadata": {
        "id": "6diNvzFQrEPg"
      },
      "source": [
        "###Output layer"
      ]
    },
    {
      "cell_type": "code",
      "metadata": {
        "colab": {
          "base_uri": "https://localhost:8080/"
        },
        "id": "csq95L-dT-KF",
        "outputId": "19849a5f-6e23-4fee-edc2-b28341260632"
      },
      "source": [
        "#Calculate y\n",
        "tensorY= MyNet[2](Layer2)\n",
        "print(tensorY)"
      ],
      "execution_count": 12,
      "outputs": [
        {
          "output_type": "stream",
          "name": "stdout",
          "text": [
            "tensor([[-0.2211],\n",
            "        [-0.2537],\n",
            "        [ 0.4266]], grad_fn=<AddmmBackward>)\n"
          ]
        }
      ]
    },
    {
      "cell_type": "code",
      "metadata": {
        "colab": {
          "base_uri": "https://localhost:8080/"
        },
        "id": "9R2ciSdmUG4C",
        "outputId": "5f74e93c-dadd-410b-a0c2-96737df7b4b3"
      },
      "source": [
        "#Calculate y by matrix operation\n",
        "W2 = MyNet[2].weight\n",
        "b2 = MyNet[2].bias  \n",
        "tensorY_1 = Layer2.mm(torch.transpose(W2, 1, 0)) +b2\n",
        "print(tensorY_1)"
      ],
      "execution_count": 13,
      "outputs": [
        {
          "output_type": "stream",
          "name": "stdout",
          "text": [
            "tensor([[-0.2211],\n",
            "        [-0.2537],\n",
            "        [ 0.4266]], grad_fn=<AddBackward0>)\n"
          ]
        }
      ]
    },
    {
      "cell_type": "markdown",
      "metadata": {
        "id": "oHGnIlWnrKbp"
      },
      "source": [
        "#calculate y=NN(x) in one step"
      ]
    },
    {
      "cell_type": "code",
      "metadata": {
        "colab": {
          "base_uri": "https://localhost:8080/"
        },
        "id": "8flPoiKRUR5h",
        "outputId": "7fe3413f-0133-41db-ded8-33c03c1c2fcc"
      },
      "source": [
        "#Directly calculate y\n",
        "tensorY= MyNet(tensorX)\n",
        "print(tensorY)"
      ],
      "execution_count": 14,
      "outputs": [
        {
          "output_type": "stream",
          "name": "stdout",
          "text": [
            "tensor([[-0.2211],\n",
            "        [-0.2537],\n",
            "        [ 0.4266]], grad_fn=<AddmmBackward>)\n"
          ]
        }
      ]
    },
    {
      "cell_type": "code",
      "metadata": {
        "id": "far_fuhNrVCe"
      },
      "source": [
        ""
      ],
      "execution_count": null,
      "outputs": []
    }
  ]
}