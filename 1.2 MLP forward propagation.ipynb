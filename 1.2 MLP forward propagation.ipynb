{
  "nbformat": 4,
  "nbformat_minor": 0,
  "metadata": {
    "colab": {
      "name": "1. 1. Understand MLP .ipynb",
      "provenance": [],
      "collapsed_sections": [],
      "include_colab_link": true
    },
    "kernelspec": {
      "display_name": "Python 3",
      "language": "python",
      "name": "python3"
    },
    "language_info": {
      "codemirror_mode": {
        "name": "ipython",
        "version": 3
      },
      "file_extension": ".py",
      "mimetype": "text/x-python",
      "name": "python",
      "nbconvert_exporter": "python",
      "pygments_lexer": "ipython3",
      "version": "3.6.10"
    }
  },
  "cells": [
    {
      "cell_type": "markdown",
      "metadata": {
        "id": "view-in-github",
        "colab_type": "text"
      },
      "source": [
        "<a href=\"https://colab.research.google.com/github/TienLungSun/PyTorch-Colab/blob/main/1.2%20MLP%20forward%20propagation.ipynb\" target=\"_parent\"><img src=\"https://colab.research.google.com/assets/colab-badge.svg\" alt=\"Open In Colab\"/></a>"
      ]
    },
    {
      "cell_type": "code",
      "metadata": {
        "id": "a1kFKiHzQajW"
      },
      "source": [
        "import torch\n",
        "import torch.nn as nn"
      ],
      "execution_count": 1,
      "outputs": []
    },
    {
      "cell_type": "markdown",
      "metadata": {
        "id": "4s4g_ujnQajv"
      },
      "source": [
        "### Build MLP"
      ]
    },
    {
      "cell_type": "code",
      "metadata": {
        "colab": {
          "base_uri": "https://localhost:8080/"
        },
        "id": "-MvLGgYaQajy",
        "outputId": "23ff70fb-efe3-42ac-9ccd-e72c22b4f6b5"
      },
      "source": [
        "MyNet = nn.Sequential(\n",
        "  nn.Linear(2, 3),\n",
        "  nn.Linear(3, 2),\n",
        "  nn.Linear(2, 1)\n",
        ")\n",
        "print(MyNet)"
      ],
      "execution_count": 2,
      "outputs": [
        {
          "output_type": "stream",
          "name": "stdout",
          "text": [
            "Sequential(\n",
            "  (0): Linear(in_features=2, out_features=3, bias=True)\n",
            "  (1): Linear(in_features=3, out_features=2, bias=True)\n",
            "  (2): Linear(in_features=2, out_features=1, bias=True)\n",
            ")\n"
          ]
        }
      ]
    },
    {
      "cell_type": "code",
      "metadata": {
        "colab": {
          "base_uri": "https://localhost:8080/"
        },
        "id": "h9pgtjB2Qaj0",
        "outputId": "7fdba359-26fc-46af-bfa4-a5444be34ce8"
      },
      "source": [
        "for name, params in MyNet.named_parameters():\n",
        "    if params.requires_grad:\n",
        "        print(name, params.data)"
      ],
      "execution_count": 3,
      "outputs": [
        {
          "output_type": "stream",
          "name": "stdout",
          "text": [
            "0.weight tensor([[ 0.6779, -0.0679],\n",
            "        [ 0.2236,  0.2271],\n",
            "        [-0.3528, -0.5507]])\n",
            "0.bias tensor([-0.0836, -0.3327, -0.1703])\n",
            "1.weight tensor([[-0.1510, -0.3248, -0.2973],\n",
            "        [-0.5697,  0.0443, -0.0558]])\n",
            "1.bias tensor([ 0.4943, -0.0836])\n",
            "2.weight tensor([[-0.1826, -0.6647]])\n",
            "2.bias tensor([0.4295])\n"
          ]
        }
      ]
    },
    {
      "cell_type": "markdown",
      "metadata": {
        "id": "kWycYWx1P3-D"
      },
      "source": [
        "### Prepare input data"
      ]
    },
    {
      "cell_type": "code",
      "metadata": {
        "colab": {
          "base_uri": "https://localhost:8080/"
        },
        "id": "TfDLpOKCQajk",
        "outputId": "c1493a1f-7dd9-4a31-9123-5107771722e2"
      },
      "source": [
        "lstX = [[1, 2], [2, 3], [10, 5]]\n",
        "tensorX = torch.FloatTensor(lstX)\n",
        "print(tensorX, \"\\n\", tensorX.shape)"
      ],
      "execution_count": 4,
      "outputs": [
        {
          "output_type": "stream",
          "name": "stdout",
          "text": [
            "tensor([[ 1.,  2.],\n",
            "        [ 2.,  3.],\n",
            "        [10.,  5.]]) \n",
            " torch.Size([3, 2])\n"
          ]
        }
      ]
    },
    {
      "cell_type": "markdown",
      "metadata": {
        "id": "9r8UKLpHQaj6"
      },
      "source": [
        "### Forward propagation"
      ]
    },
    {
      "cell_type": "code",
      "metadata": {
        "colab": {
          "base_uri": "https://localhost:8080/"
        },
        "id": "SOa9AGDkQaj9",
        "outputId": "a0125417-b3e7-45f7-b798-9323d17b6d76"
      },
      "source": [
        "W0 = MyNet[0].weight\n",
        "b0 = MyNet[0].bias   \n",
        "print(W0, W0.shape, b0)"
      ],
      "execution_count": 5,
      "outputs": [
        {
          "output_type": "stream",
          "name": "stdout",
          "text": [
            "Parameter containing:\n",
            "tensor([[ 0.6779, -0.0679],\n",
            "        [ 0.2236,  0.2271],\n",
            "        [-0.3528, -0.5507]], requires_grad=True) torch.Size([3, 2]) Parameter containing:\n",
            "tensor([-0.0836, -0.3327, -0.1703], requires_grad=True)\n"
          ]
        }
      ]
    },
    {
      "cell_type": "code",
      "metadata": {
        "colab": {
          "base_uri": "https://localhost:8080/"
        },
        "id": "nLdkJ4COQaj_",
        "outputId": "947547d9-4b09-4f92-e928-ccb334dd0f57"
      },
      "source": [
        "#Calculate n3, n4, n5 using Pytorch matrix operation\n",
        "Layer1_1 = tensorX.mm(torch.transpose(W0, 1, 0)) + b0\n",
        "print(Layer1_1)"
      ],
      "execution_count": 6,
      "outputs": [
        {
          "output_type": "stream",
          "name": "stdout",
          "text": [
            "tensor([[ 0.4585,  0.3450, -1.6244],\n",
            "        [ 1.0685,  0.7957, -2.5278],\n",
            "        [ 6.3557,  3.0385, -6.4514]], grad_fn=<AddBackward0>)\n"
          ]
        }
      ]
    },
    {
      "cell_type": "code",
      "metadata": {
        "colab": {
          "base_uri": "https://localhost:8080/"
        },
        "id": "tan3fAtiQaj6",
        "outputId": "f05f2052-2c88-48cc-b799-616804db57d0"
      },
      "source": [
        "#Verify\n",
        "Layer1 = MyNet[0](tensorX)  \n",
        "print(Layer1)"
      ],
      "execution_count": 7,
      "outputs": [
        {
          "output_type": "stream",
          "name": "stdout",
          "text": [
            "tensor([[ 0.4585,  0.3450, -1.6244],\n",
            "        [ 1.0685,  0.7957, -2.5278],\n",
            "        [ 6.3557,  3.0385, -6.4514]], grad_fn=<AddmmBackward>)\n"
          ]
        }
      ]
    },
    {
      "cell_type": "markdown",
      "metadata": {
        "id": "xfyfqEtEq-U4"
      },
      "source": [
        "###Hidden layer 2: n6, n7"
      ]
    },
    {
      "cell_type": "code",
      "metadata": {
        "colab": {
          "base_uri": "https://localhost:8080/"
        },
        "id": "pGw5IXeiQakE",
        "outputId": "96c862f2-bf2e-4eb7-ec4e-be50a6780cdb"
      },
      "source": [
        "#Calculate n6, n7 using PyTorch matrix operation\n",
        "W1 = MyNet[1].weight\n",
        "b1 = MyNet[1].bias  \n",
        "Layer2_1 = Layer1.mm(torch.transpose(W1, 1, 0)) +b1\n",
        "print(Layer2_1)"
      ],
      "execution_count": 8,
      "outputs": [
        {
          "output_type": "stream",
          "name": "stdout",
          "text": [
            "tensor([[ 0.7959, -0.2388],\n",
            "        [ 0.8260, -0.5158],\n",
            "        [ 0.4656, -3.2092]], grad_fn=<AddBackward0>)\n"
          ]
        }
      ]
    },
    {
      "cell_type": "code",
      "metadata": {
        "colab": {
          "base_uri": "https://localhost:8080/"
        },
        "id": "huI72Ze6QakC",
        "outputId": "c04ddb69-9809-43c9-9a98-77d4272d6df0"
      },
      "source": [
        "#verify \n",
        "Layer2 = MyNet[1](Layer1)\n",
        "print(Layer2)"
      ],
      "execution_count": 9,
      "outputs": [
        {
          "output_type": "stream",
          "name": "stdout",
          "text": [
            "tensor([[ 0.7959, -0.2388],\n",
            "        [ 0.8260, -0.5158],\n",
            "        [ 0.4656, -3.2092]], grad_fn=<AddmmBackward>)\n"
          ]
        }
      ]
    },
    {
      "cell_type": "markdown",
      "metadata": {
        "id": "6diNvzFQrEPg"
      },
      "source": [
        "###Output layer"
      ]
    },
    {
      "cell_type": "code",
      "metadata": {
        "colab": {
          "base_uri": "https://localhost:8080/"
        },
        "id": "9R2ciSdmUG4C",
        "outputId": "3970fdd6-3753-4aa9-a788-ed5a2f88498b"
      },
      "source": [
        "#Calculate y by matrix operation\n",
        "W2 = MyNet[2].weight\n",
        "b2 = MyNet[2].bias  \n",
        "tensorY_1 = Layer2.mm(torch.transpose(W2, 1, 0)) +b2\n",
        "print(tensorY_1)"
      ],
      "execution_count": 10,
      "outputs": [
        {
          "output_type": "stream",
          "name": "stdout",
          "text": [
            "tensor([[0.4429],\n",
            "        [0.6216],\n",
            "        [2.4779]], grad_fn=<AddBackward0>)\n"
          ]
        }
      ]
    },
    {
      "cell_type": "code",
      "metadata": {
        "colab": {
          "base_uri": "https://localhost:8080/"
        },
        "id": "csq95L-dT-KF",
        "outputId": "c59c979a-d1ab-4d32-8767-0082817483a8"
      },
      "source": [
        "#verify \n",
        "tensorY= MyNet[2](Layer2)\n",
        "print(tensorY)"
      ],
      "execution_count": 11,
      "outputs": [
        {
          "output_type": "stream",
          "name": "stdout",
          "text": [
            "tensor([[0.4429],\n",
            "        [0.6216],\n",
            "        [2.4779]], grad_fn=<AddmmBackward>)\n"
          ]
        }
      ]
    },
    {
      "cell_type": "markdown",
      "metadata": {
        "id": "oHGnIlWnrKbp"
      },
      "source": [
        "### y=NN(x) in one step"
      ]
    },
    {
      "cell_type": "code",
      "metadata": {
        "colab": {
          "base_uri": "https://localhost:8080/"
        },
        "id": "8flPoiKRUR5h",
        "outputId": "b7a4998a-f883-4f35-8642-0e678d06c56e"
      },
      "source": [
        "#Directly calculate y\n",
        "tensorY= MyNet(tensorX)\n",
        "print(tensorY)"
      ],
      "execution_count": 12,
      "outputs": [
        {
          "output_type": "stream",
          "name": "stdout",
          "text": [
            "tensor([[0.4429],\n",
            "        [0.6216],\n",
            "        [2.4779]], grad_fn=<AddmmBackward>)\n"
          ]
        }
      ]
    },
    {
      "cell_type": "code",
      "metadata": {
        "id": "far_fuhNrVCe"
      },
      "source": [
        ""
      ],
      "execution_count": null,
      "outputs": []
    }
  ]
}