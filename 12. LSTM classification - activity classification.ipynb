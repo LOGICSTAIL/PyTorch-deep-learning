{
 "cells": [
  {
   "cell_type": "code",
   "execution_count": 1,
   "metadata": {},
   "outputs": [],
   "source": [
    "import torch\n",
    "import torch.utils.data as Data\n",
    "import torch.nn as nn\n",
    "from sklearn.model_selection import train_test_split\n",
    "import pandas as pd\n",
    "import numpy as np\n",
    "import matplotlib.pyplot as plt\n",
    "from sklearn.metrics import confusion_matrix\n",
    "import seaborn as sns"
   ]
  },
  {
   "cell_type": "code",
   "execution_count": 2,
   "metadata": {},
   "outputs": [
    {
     "name": "stdout",
     "output_type": "stream",
     "text": [
      "cuda NVIDIA GeForce RTX 3060\n"
     ]
    }
   ],
   "source": [
    "if(torch.cuda.is_available()):\n",
    "    device = torch.device(\"cuda\")\n",
    "    print(device, torch.cuda.get_device_name(0))\n",
    "else:\n",
    "    device= torch.device(\"cpu\")\n",
    "    print(device)"
   ]
  },
  {
   "attachments": {},
   "cell_type": "markdown",
   "metadata": {},
   "source": [
    "### Read training data and prepare numpy array input for LSTM NN"
   ]
  },
  {
   "cell_type": "code",
   "execution_count": 3,
   "metadata": {},
   "outputs": [],
   "source": [
    "fname1 = \"body_acc_x_train.xlsx\"  #the data file is located at the same directory\n",
    "dfX1=pd.read_excel(fname1, header=None)"
   ]
  },
  {
   "cell_type": "code",
   "execution_count": 4,
   "metadata": {},
   "outputs": [],
   "source": [
    "fname2 = \"body_acc_y_train.xlsx\"  #the data file is located at the same directory\n",
    "dfX2=pd.read_excel(fname2, header=None)"
   ]
  },
  {
   "cell_type": "code",
   "execution_count": 5,
   "metadata": {},
   "outputs": [],
   "source": [
    "fname3 = \"body_acc_z_train.xlsx\"  #the data file is located at the same directory\n",
    "dfX3=pd.read_excel(fname3, header=None)"
   ]
  },
  {
   "cell_type": "code",
   "execution_count": 6,
   "metadata": {},
   "outputs": [],
   "source": [
    "fname4 = \"y_train.xlsx\"  #the data file is located at the same directory\n",
    "dfY=pd.read_excel(fname4, header=None)"
   ]
  },
  {
   "cell_type": "code",
   "execution_count": 7,
   "metadata": {},
   "outputs": [
    {
     "name": "stdout",
     "output_type": "stream",
     "text": [
      "(7352, 128) (7352, 128) (7352, 128) (7352, 1)\n"
     ]
    }
   ],
   "source": [
    "print(dfX1.shape, dfX2.shape, dfX3.shape, dfY.shape)"
   ]
  },
  {
   "cell_type": "code",
   "execution_count": 8,
   "metadata": {},
   "outputs": [
    {
     "name": "stdout",
     "output_type": "stream",
     "text": [
      "7352 128\n"
     ]
    }
   ],
   "source": [
    "# 練習: get the number of rows and columns of a data frame\n",
    "print(dfX1.shape[0], dfX1.shape[1])"
   ]
  },
  {
   "cell_type": "code",
   "execution_count": 9,
   "metadata": {},
   "outputs": [
    {
     "data": {
      "text/html": [
       "<div>\n",
       "<style scoped>\n",
       "    .dataframe tbody tr th:only-of-type {\n",
       "        vertical-align: middle;\n",
       "    }\n",
       "\n",
       "    .dataframe tbody tr th {\n",
       "        vertical-align: top;\n",
       "    }\n",
       "\n",
       "    .dataframe thead th {\n",
       "        text-align: right;\n",
       "    }\n",
       "</style>\n",
       "<table border=\"1\" class=\"dataframe\">\n",
       "  <thead>\n",
       "    <tr style=\"text-align: right;\">\n",
       "      <th></th>\n",
       "      <th>0</th>\n",
       "      <th>1</th>\n",
       "      <th>2</th>\n",
       "      <th>3</th>\n",
       "      <th>4</th>\n",
       "      <th>5</th>\n",
       "      <th>6</th>\n",
       "      <th>7</th>\n",
       "      <th>8</th>\n",
       "      <th>9</th>\n",
       "      <th>...</th>\n",
       "      <th>118</th>\n",
       "      <th>119</th>\n",
       "      <th>120</th>\n",
       "      <th>121</th>\n",
       "      <th>122</th>\n",
       "      <th>123</th>\n",
       "      <th>124</th>\n",
       "      <th>125</th>\n",
       "      <th>126</th>\n",
       "      <th>127</th>\n",
       "    </tr>\n",
       "  </thead>\n",
       "  <tbody>\n",
       "    <tr>\n",
       "      <th>0</th>\n",
       "      <td>0.000181</td>\n",
       "      <td>0.010139</td>\n",
       "      <td>0.009276</td>\n",
       "      <td>0.005066</td>\n",
       "      <td>0.010810</td>\n",
       "      <td>0.004045</td>\n",
       "      <td>0.004757</td>\n",
       "      <td>0.006214</td>\n",
       "      <td>0.003307</td>\n",
       "      <td>0.007572</td>\n",
       "      <td>...</td>\n",
       "      <td>0.001412</td>\n",
       "      <td>-0.001509</td>\n",
       "      <td>0.000060</td>\n",
       "      <td>0.000435</td>\n",
       "      <td>-0.000819</td>\n",
       "      <td>0.000228</td>\n",
       "      <td>-0.000300</td>\n",
       "      <td>-0.001147</td>\n",
       "      <td>-0.000222</td>\n",
       "      <td>0.001576</td>\n",
       "    </tr>\n",
       "    <tr>\n",
       "      <th>1</th>\n",
       "      <td>0.001094</td>\n",
       "      <td>0.004550</td>\n",
       "      <td>0.002879</td>\n",
       "      <td>0.002247</td>\n",
       "      <td>0.003305</td>\n",
       "      <td>0.002416</td>\n",
       "      <td>0.001619</td>\n",
       "      <td>0.000981</td>\n",
       "      <td>0.000009</td>\n",
       "      <td>-0.000363</td>\n",
       "      <td>...</td>\n",
       "      <td>-0.000104</td>\n",
       "      <td>-0.000141</td>\n",
       "      <td>0.001333</td>\n",
       "      <td>0.001541</td>\n",
       "      <td>0.001077</td>\n",
       "      <td>-0.000736</td>\n",
       "      <td>-0.003767</td>\n",
       "      <td>-0.004646</td>\n",
       "      <td>-0.002941</td>\n",
       "      <td>-0.001599</td>\n",
       "    </tr>\n",
       "  </tbody>\n",
       "</table>\n",
       "<p>2 rows × 128 columns</p>\n",
       "</div>"
      ],
      "text/plain": [
       "        0         1         2         3         4         5         6    \\\n",
       "0  0.000181  0.010139  0.009276  0.005066  0.010810  0.004045  0.004757   \n",
       "1  0.001094  0.004550  0.002879  0.002247  0.003305  0.002416  0.001619   \n",
       "\n",
       "        7         8         9    ...       118       119       120       121  \\\n",
       "0  0.006214  0.003307  0.007572  ...  0.001412 -0.001509  0.000060  0.000435   \n",
       "1  0.000981  0.000009 -0.000363  ... -0.000104 -0.000141  0.001333  0.001541   \n",
       "\n",
       "        122       123       124       125       126       127  \n",
       "0 -0.000819  0.000228 -0.000300 -0.001147 -0.000222  0.001576  \n",
       "1  0.001077 -0.000736 -0.003767 -0.004646 -0.002941 -0.001599  \n",
       "\n",
       "[2 rows x 128 columns]"
      ]
     },
     "execution_count": 9,
     "metadata": {},
     "output_type": "execute_result"
    }
   ],
   "source": [
    "# 練習: print first two rows\n",
    "dfX1.head(2)"
   ]
  },
  {
   "cell_type": "code",
   "execution_count": 10,
   "metadata": {},
   "outputs": [
    {
     "name": "stdout",
     "output_type": "stream",
     "text": [
      "0.002415886\n"
     ]
    }
   ],
   "source": [
    "# 練習: get the value at the ith column and jth row of a data frame\n",
    "ColumnIdx = 5  # column index\n",
    "RowIdx = 1  # row index\n",
    "\n",
    "value = dfX1.iloc[RowIdx, ColumnIdx]\n",
    "print(value)"
   ]
  },
  {
   "cell_type": "code",
   "execution_count": 11,
   "metadata": {},
   "outputs": [],
   "source": [
    "# Input: 7352 data, each data contains 3 time-series (acceleartion x, y, z) with 128 time steps\n",
    "NoOfData = dfX1.shape[0]\n",
    "NoOfFeatures = 3  #x, y, z\n",
    "TIME_STEPS = dfX1.shape[1]"
   ]
  },
  {
   "attachments": {},
   "cell_type": "markdown",
   "metadata": {},
   "source": [
    "Input to LSTM: x = [No of data, No. of features, Time steps] <br>\n",
    "Each data contains No_of_features time series. The length of each time series is Time_steps "
   ]
  },
  {
   "cell_type": "code",
   "execution_count": 12,
   "metadata": {},
   "outputs": [
    {
     "name": "stdout",
     "output_type": "stream",
     "text": [
      "(128, 3)\n"
     ]
    }
   ],
   "source": [
    "# 練習: get one data, which contains No. of features time series data of length Time steps\n",
    "# [No. of features, Time steps] = [3, 128]\n",
    "xLst = []\n",
    "RowIdx = 0 # the first row of each data file\n",
    "for ColumnIdx in range(TIME_STEPS): #loop through the 128 columns of each file\n",
    "        xLst1 = [dfX1.iloc[RowIdx, ColumnIdx], dfX2.iloc[RowIdx, ColumnIdx], dfX3.iloc[RowIdx, ColumnIdx]]\n",
    "        xLst.append(xLst1)\n",
    "numpyX = np.array(xLst)\n",
    "print(numpyX.shape)"
   ]
  },
  {
   "cell_type": "code",
   "execution_count": 13,
   "metadata": {},
   "outputs": [
    {
     "name": "stdout",
     "output_type": "stream",
     "text": [
      "(3, 128)\n"
     ]
    }
   ],
   "source": [
    "numpyX = np.transpose(numpyX)\n",
    "print(numpyX.shape)"
   ]
  },
  {
   "cell_type": "code",
   "execution_count": 14,
   "metadata": {},
   "outputs": [],
   "source": [
    "# loop to prepare input to LSTM: x = [No of data, No. of features, Time steps] <br>\n",
    "xLst = []\n",
    "yLst = []\n",
    "for RowIdx in range(NoOfData): #each data\n",
    "    xLst1 = []\n",
    "    for ColumnIdx in range(TIME_STEPS): #each time step\n",
    "        xLst2 = [dfX1.iloc[RowIdx, ColumnIdx], dfX2.iloc[RowIdx, ColumnIdx], dfX3.iloc[RowIdx, ColumnIdx]]\n",
    "        xLst1.append(xLst2)\n",
    "    xLst.append(xLst1)\n",
    "    yLst.append(dfY.iloc[RowIdx, 0])"
   ]
  },
  {
   "cell_type": "code",
   "execution_count": 15,
   "metadata": {},
   "outputs": [
    {
     "name": "stdout",
     "output_type": "stream",
     "text": [
      "(7352, 128, 3) (7352,)\n"
     ]
    }
   ],
   "source": [
    "numpyX = np.array(xLst)\n",
    "numpyY = np.array(yLst)\n",
    "print(numpyX.shape, numpyY.shape)"
   ]
  },
  {
   "cell_type": "code",
   "execution_count": 16,
   "metadata": {},
   "outputs": [
    {
     "name": "stdout",
     "output_type": "stream",
     "text": [
      "(7352, 3, 128)\n"
     ]
    }
   ],
   "source": [
    "numpyX = numpyX.transpose((0, 2, 1))\n",
    "print(numpyX.shape)"
   ]
  },
  {
   "attachments": {},
   "cell_type": "markdown",
   "metadata": {},
   "source": [
    "### Define LSTM NN\n",
    "\n",
    "Ref: http://chandlerzuo.github.io/blog/2017/11/darnn"
   ]
  },
  {
   "cell_type": "code",
   "execution_count": 17,
   "metadata": {},
   "outputs": [],
   "source": [
    "BATCH_SIZE = 512  #1/10 of training data, 7352*0.8*0.1=588"
   ]
  },
  {
   "cell_type": "code",
   "execution_count": 18,
   "metadata": {},
   "outputs": [],
   "source": [
    "class Sequence(nn.Module):\n",
    "    def __init__(self):\n",
    "        super(Sequence, self).__init__()\n",
    "        self.lstm1 = nn.LSTMCell(3, 64) #NoOfFeatures=3\n",
    "        self.lstm2 = nn.LSTMCell(64, 64)\n",
    "        self.linear = nn.Linear(64, 6) # 6 activities\n",
    "\n",
    "    def forward(self, x):\n",
    "        # input x = (BATCH_SIZE, features, TIME_STEPS), h,c.shape=(BATCH_SIZE, 64)\n",
    "        h1 = torch.zeros(BATCH_SIZE, 64).to(device) \n",
    "        c1 = torch.zeros(BATCH_SIZE, 64).to(device)\n",
    "        h2 = torch.zeros(BATCH_SIZE, 64).to(device)\n",
    "        c2 = torch.zeros(BATCH_SIZE, 64).to(device)\n",
    "        \n",
    "        # iterate through time steps\n",
    "        for i in range(TIME_STEPS):\n",
    "            h1, c1 = self.lstm1(x[:, :, i], (h1, c1))\n",
    "            h2, c2 = self.lstm2(h1, (h2, c2))\n",
    "            output = self.linear(h2)\n",
    "        return output"
   ]
  },
  {
   "cell_type": "code",
   "execution_count": 19,
   "metadata": {},
   "outputs": [],
   "source": [
    "model = Sequence().to(device)\n",
    "loss_func = nn.CrossEntropyLoss()\n",
    "optimizer = torch.optim.Adam(model.parameters(), lr=0.0001)"
   ]
  },
  {
   "attachments": {},
   "cell_type": "markdown",
   "metadata": {},
   "source": [
    "### For the 1st time, go to Appendix to practice training loop step by step"
   ]
  },
  {
   "attachments": {},
   "cell_type": "markdown",
   "metadata": {},
   "source": [
    "### Training loop\n"
   ]
  },
  {
   "cell_type": "code",
   "execution_count": 35,
   "metadata": {},
   "outputs": [],
   "source": [
    "num_epochs = 500"
   ]
  },
  {
   "cell_type": "code",
   "execution_count": 42,
   "metadata": {},
   "outputs": [],
   "source": [
    "train_lossLst = []\n",
    "validation_lossLst = []"
   ]
  },
  {
   "cell_type": "code",
   "execution_count": 43,
   "metadata": {},
   "outputs": [],
   "source": [
    "# split training data to train and validation\n",
    "trainX, validationX, trainY, validationY = train_test_split(numpyX, numpyY, test_size=0.20, random_state=0)"
   ]
  },
  {
   "cell_type": "code",
   "execution_count": 44,
   "metadata": {},
   "outputs": [],
   "source": [
    "tensor_trainX = torch.FloatTensor(trainX).to(device)\n",
    "tensor_validationX = torch.FloatTensor(validationX).to(device)\n",
    "tensor_trainY = torch.LongTensor(trainY).to(device)\n",
    "tensor_validationY = torch.LongTensor(validationY).to(device)"
   ]
  },
  {
   "cell_type": "code",
   "execution_count": 45,
   "metadata": {},
   "outputs": [],
   "source": [
    "train_dataset = Data.TensorDataset(tensor_trainX, tensor_trainY)\n",
    "train_loader = Data.DataLoader(\n",
    "    dataset=train_dataset,  \n",
    "    batch_size=BATCH_SIZE,      \n",
    "    shuffle=True,       \n",
    "    num_workers=0,   \n",
    ")"
   ]
  },
  {
   "cell_type": "code",
   "execution_count": 46,
   "metadata": {},
   "outputs": [],
   "source": [
    "validation_dataset = Data.TensorDataset(tensor_validationX, tensor_validationY)\n",
    "validation_loader = Data.DataLoader(\n",
    "    dataset=validation_dataset,  \n",
    "    batch_size=BATCH_SIZE,      \n",
    "    shuffle=True,       \n",
    "    num_workers=0,   \n",
    ")"
   ]
  },
  {
   "cell_type": "code",
   "execution_count": 48,
   "metadata": {
    "scrolled": true
   },
   "outputs": [
    {
     "name": "stdout",
     "output_type": "stream",
     "text": [
      "0,50,100,150,200,250,300,350,400,450,"
     ]
    }
   ],
   "source": [
    "for epoch in range(num_epochs):\n",
    "    if(epoch%50 == 0):\n",
    "      print(epoch, end=\",\")\n",
    "      \n",
    "    epoch_lossLst=[]\n",
    "    for batchX, batchY in train_loader:\n",
    "        # last batch, batch size may be less than BATCH_SIZE\n",
    "        if(batchX.size(0) != BATCH_SIZE):\n",
    "            break\n",
    "        batchX = batchX.to(device)\n",
    "        batchY = batchY.to(device)\n",
    "        batchY = batchY-1   # y has to be 0~5\n",
    "        output = model(batchX)\n",
    "        loss = loss_func(output, batchY)\n",
    "        epoch_lossLst.append(float(loss))\n",
    "        optimizer.zero_grad()\n",
    "        loss.backward ()\n",
    "        optimizer.step()\n",
    "    avg = sum(epoch_lossLst)/len(epoch_lossLst)\n",
    "    train_lossLst.append(avg) \n",
    "\n",
    "    #test with validation data\n",
    "    epoch_lossLst=[]\n",
    "    for batchX, batchY in validation_loader:\n",
    "        # last batch, batch size may be less than BATCH_SIZE\n",
    "        if(batchX.size(0) != BATCH_SIZE):\n",
    "            break\n",
    "        batchX = batchX.to(device)\n",
    "        batchY = batchY.to(device)\n",
    "        batchY = batchY-1   # y has to be 0~5\n",
    "        output = model(batchX)\n",
    "        loss = loss_func(output, batchY)\n",
    "        epoch_lossLst.append(float(loss))\n",
    "    avg = sum(epoch_lossLst)/len(epoch_lossLst)\n",
    "    validation_lossLst.append(avg) "
   ]
  },
  {
   "cell_type": "code",
   "execution_count": 49,
   "metadata": {},
   "outputs": [
    {
     "data": {
      "image/png": "[encoded data removed]",
      "text/plain": [
       "<Figure size 1200x600 with 1 Axes>"
      ]
     },
     "metadata": {},
     "output_type": "display_data"
    }
   ],
   "source": [
    "fig=plt.figure(figsize=(12, 6))\n",
    "plt.plot(train_lossLst, color='blue')\n",
    "plt.plot(validation_lossLst, color='orange')\n",
    "plt.show()"
   ]
  },
  {
   "attachments": {},
   "cell_type": "markdown",
   "metadata": {},
   "source": [
    "Note: You should repeat training several times and observe train-validataion loss plot"
   ]
  },
  {
   "attachments": {},
   "cell_type": "markdown",
   "metadata": {},
   "source": [
    "# Test"
   ]
  },
  {
   "cell_type": "code",
   "execution_count": 50,
   "metadata": {},
   "outputs": [],
   "source": [
    "fname1 = \"body_acc_x_test.xlsx\"  #the data file is located at the same directory\n",
    "dfX1=pd.read_excel(fname1, header=None)\n",
    "\n",
    "fname2 = \"body_acc_y_test.xlsx\"  #the data file is located at the same directory\n",
    "dfX2=pd.read_excel(fname2, header=None)\n",
    "\n",
    "fname3 = \"body_acc_z_test.xlsx\"  #the data file is located at the same directory\n",
    "dfX3=pd.read_excel(fname3, header=None)\n",
    "\n",
    "fname4 = \"y_test.xlsx\"  #the data file is located at the same directory\n",
    "dfY=pd.read_excel(fname4, header=None)"
   ]
  },
  {
   "cell_type": "code",
   "execution_count": 51,
   "metadata": {},
   "outputs": [
    {
     "name": "stdout",
     "output_type": "stream",
     "text": [
      "(2947, 128) (2947, 128) (2947, 128) (2947, 1)\n"
     ]
    }
   ],
   "source": [
    "# make sure data consistency\n",
    "print(dfX1.shape, dfX2.shape, dfX3.shape, dfY.shape)"
   ]
  },
  {
   "cell_type": "code",
   "execution_count": 52,
   "metadata": {},
   "outputs": [],
   "source": [
    "NoOfData = dfX1.shape[0]\n",
    "NoOfFeatures = 3  #x, y, z\n",
    "TIME_STEPS = dfX1.shape[1]"
   ]
  },
  {
   "cell_type": "code",
   "execution_count": 53,
   "metadata": {},
   "outputs": [],
   "source": [
    "# loop to prepare input to LSTM: x = [No of data, No. of features, Time steps] \n",
    "xLst = []\n",
    "yLst = []\n",
    "for RowIdx in range(NoOfData): #each data\n",
    "    xLst1 = []\n",
    "    for ColumnIdx in range(TIME_STEPS): #each time step\n",
    "        xLst2 = [dfX1.iloc[RowIdx, ColumnIdx], dfX2.iloc[RowIdx, ColumnIdx], dfX3.iloc[RowIdx, ColumnIdx]]\n",
    "        xLst1.append(xLst2)\n",
    "    xLst.append(xLst1)\n",
    "    yLst.append(dfY.iloc[RowIdx, 0])"
   ]
  },
  {
   "cell_type": "code",
   "execution_count": 54,
   "metadata": {},
   "outputs": [
    {
     "name": "stdout",
     "output_type": "stream",
     "text": [
      "(2947, 3, 128) (2947,)\n"
     ]
    }
   ],
   "source": [
    "numpyX = np.array(xLst)\n",
    "numpyY = np.array(yLst)\n",
    "\n",
    "numpyX = numpyX.transpose((0, 2, 1))\n",
    "print(numpyX.shape, numpyY.shape)"
   ]
  },
  {
   "cell_type": "code",
   "execution_count": 55,
   "metadata": {},
   "outputs": [],
   "source": [
    "tensor_testX = torch.FloatTensor(numpyX).to(device)\n",
    "tensor_testY = torch.LongTensor(numpyY).to(device)"
   ]
  },
  {
   "cell_type": "code",
   "execution_count": 56,
   "metadata": {},
   "outputs": [],
   "source": [
    "BATCH_SIZE = 512 "
   ]
  },
  {
   "cell_type": "code",
   "execution_count": 57,
   "metadata": {},
   "outputs": [],
   "source": [
    "test_dataset = Data.TensorDataset(tensor_testX, tensor_testY)\n",
    "test_loader = Data.DataLoader(\n",
    "    dataset=train_dataset,  \n",
    "    batch_size=BATCH_SIZE,      \n",
    "    shuffle=True,       \n",
    "    num_workers=0,   \n",
    ")"
   ]
  },
  {
   "cell_type": "code",
   "execution_count": 58,
   "metadata": {},
   "outputs": [],
   "source": [
    "for batchX, batchY in test_loader:\n",
    "    break"
   ]
  },
  {
   "cell_type": "code",
   "execution_count": 59,
   "metadata": {},
   "outputs": [],
   "source": [
    "batchY = batchY-1"
   ]
  },
  {
   "cell_type": "code",
   "execution_count": 60,
   "metadata": {},
   "outputs": [
    {
     "name": "stdout",
     "output_type": "stream",
     "text": [
      "tensor([4, 3, 5, 0, 5, 1, 1, 0, 5, 2], device='cuda:0')\n"
     ]
    }
   ],
   "source": [
    "# 練習: take a look at first 10 data\n",
    "print(batchY[:10])"
   ]
  },
  {
   "cell_type": "code",
   "execution_count": 61,
   "metadata": {},
   "outputs": [
    {
     "name": "stdout",
     "output_type": "stream",
     "text": [
      "torch.Size([512, 6])\n"
     ]
    }
   ],
   "source": [
    "batchY_hat = model(batchX)\n",
    "print(batchY_hat.shape)"
   ]
  },
  {
   "cell_type": "code",
   "execution_count": 62,
   "metadata": {},
   "outputs": [],
   "source": [
    "batchY_hat = torch.softmax(batchY_hat, 1)\n",
    "MaxIdxOfEachRow = torch.max(batchY_hat, 1)[1]"
   ]
  },
  {
   "cell_type": "code",
   "execution_count": 64,
   "metadata": {},
   "outputs": [],
   "source": [
    "conf_matrix = confusion_matrix(batchY.cpu().numpy(), MaxIdxOfEachRow.cpu().numpy())"
   ]
  },
  {
   "cell_type": "code",
   "execution_count": 65,
   "metadata": {},
   "outputs": [
    {
     "data": {
      "text/plain": [
       "<Axes: >"
      ]
     },
     "execution_count": 65,
     "metadata": {},
     "output_type": "execute_result"
    },
    {
     "data": {
      "image/png": "[encoded data removed]",
      "text/plain": [
       "<Figure size 640x480 with 2 Axes>"
      ]
     },
     "metadata": {},
     "output_type": "display_data"
    }
   ],
   "source": [
    "sns.heatmap(conf_matrix, annot=True, cmap='Blues', fmt='g')"
   ]
  },
  {
   "attachments": {},
   "cell_type": "markdown",
   "metadata": {},
   "source": [
    "you can get another batch of test data and check the confusion matrix"
   ]
  },
  {
   "attachments": {},
   "cell_type": "markdown",
   "metadata": {},
   "source": [
    "# Appendix \n",
    "練習: Send a batch of input data to LSTM step by step"
   ]
  },
  {
   "cell_type": "code",
   "execution_count": 20,
   "metadata": {},
   "outputs": [
    {
     "name": "stdout",
     "output_type": "stream",
     "text": [
      "(5881, 3, 128) (1471, 3, 128) (5881,) (1471,)\n"
     ]
    }
   ],
   "source": [
    "# split training data to train and validation\n",
    "trainX, validationX, trainY, validationY = train_test_split(numpyX, numpyY, test_size=0.20, random_state=0)\n",
    "print(trainX.shape, validationX.shape, trainY.shape, validationY.shape)"
   ]
  },
  {
   "cell_type": "code",
   "execution_count": 21,
   "metadata": {},
   "outputs": [],
   "source": [
    "tensor_trainX = torch.FloatTensor(trainX).to(device)\n",
    "tensor_trainY = torch.LongTensor(trainY).to(device)"
   ]
  },
  {
   "cell_type": "code",
   "execution_count": 22,
   "metadata": {},
   "outputs": [],
   "source": [
    "# define data loader\n",
    "train_dataset = Data.TensorDataset(tensor_trainX, tensor_trainY)\n",
    "train_loader = Data.DataLoader(\n",
    "    dataset=train_dataset,  \n",
    "    batch_size=BATCH_SIZE,      \n",
    "    shuffle=True,       \n",
    "    num_workers=0,   \n",
    ")"
   ]
  },
  {
   "cell_type": "code",
   "execution_count": 23,
   "metadata": {},
   "outputs": [
    {
     "name": "stdout",
     "output_type": "stream",
     "text": [
      "torch.Size([512, 3, 128]) torch.Size([512])\n"
     ]
    }
   ],
   "source": [
    "# 練習: get a batch of data\n",
    "for batchX, batchY in train_loader:\n",
    "        batchX = batchX.to(device)\n",
    "        batchY = batchY.to(device)\n",
    "        break\n",
    "print(batchX.shape, batchY.shape)"
   ]
  },
  {
   "cell_type": "code",
   "execution_count": 24,
   "metadata": {},
   "outputs": [],
   "source": [
    "# 練習: LSTM cell details\n",
    "h1 = torch.zeros(BATCH_SIZE, 64).to(device) \n",
    "c1 = torch.zeros(BATCH_SIZE, 64).to(device)\n",
    "h2 = torch.zeros(BATCH_SIZE, 64).to(device)\n",
    "c2 = torch.zeros(BATCH_SIZE, 64).to(device)"
   ]
  },
  {
   "cell_type": "code",
   "execution_count": 25,
   "metadata": {},
   "outputs": [],
   "source": [
    "h1, c1 = model.lstm1(batchX[:, :, 0], (h1, c1))"
   ]
  },
  {
   "cell_type": "code",
   "execution_count": 26,
   "metadata": {},
   "outputs": [],
   "source": [
    "h2, c2 = model.lstm2(h1, (h2, c2))"
   ]
  },
  {
   "cell_type": "code",
   "execution_count": 27,
   "metadata": {},
   "outputs": [
    {
     "name": "stdout",
     "output_type": "stream",
     "text": [
      "torch.Size([512, 6])\n"
     ]
    }
   ],
   "source": [
    "output = model.linear(h2)\n",
    "print(output.shape)"
   ]
  },
  {
   "cell_type": "code",
   "execution_count": 28,
   "metadata": {},
   "outputs": [],
   "source": [
    "# 練習: LSTM cell details\n",
    "for i in range(TIME_STEPS):\n",
    "    h1, c1 = model.lstm1(batchX[:, :, i], (h1, c1))\n",
    "    h2, c2 = model.lstm2(h1, (h2, c2))\n",
    "    output = model.linear(h2)"
   ]
  },
  {
   "attachments": {},
   "cell_type": "markdown",
   "metadata": {},
   "source": [
    "練習: pass batchX to model, calculate loss, backward propagation"
   ]
  },
  {
   "cell_type": "code",
   "execution_count": 29,
   "metadata": {},
   "outputs": [
    {
     "name": "stdout",
     "output_type": "stream",
     "text": [
      "torch.Size([512, 3, 128]) torch.Size([512])\n"
     ]
    }
   ],
   "source": [
    "# 練習: get a batch of data\n",
    "for batchX, batchY in train_loader:\n",
    "        batchX = batchX.to(device)\n",
    "        batchY = batchY.to(device)\n",
    "        break\n",
    "print(batchX.shape, batchY.shape)"
   ]
  },
  {
   "cell_type": "code",
   "execution_count": 30,
   "metadata": {},
   "outputs": [
    {
     "name": "stdout",
     "output_type": "stream",
     "text": [
      "tensor(1, device='cuda:0') tensor(6, device='cuda:0')\n"
     ]
    }
   ],
   "source": [
    "print(torch.min(batchY), torch.max(batchY))"
   ]
  },
  {
   "cell_type": "code",
   "execution_count": 31,
   "metadata": {},
   "outputs": [
    {
     "name": "stdout",
     "output_type": "stream",
     "text": [
      "tensor(0, device='cuda:0') tensor(5, device='cuda:0')\n"
     ]
    }
   ],
   "source": [
    "# y has to be 0~5\n",
    "batchY = batchY-1\n",
    "print(torch.min(batchY), torch.max(batchY))"
   ]
  },
  {
   "cell_type": "code",
   "execution_count": 32,
   "metadata": {},
   "outputs": [
    {
     "name": "stdout",
     "output_type": "stream",
     "text": [
      "torch.Size([512, 6])\n"
     ]
    }
   ],
   "source": [
    "# 練習: pass batchX to model\n",
    "batchY_hat = model(batchX)\n",
    "print(batchY_hat.shape)"
   ]
  },
  {
   "cell_type": "code",
   "execution_count": 33,
   "metadata": {},
   "outputs": [
    {
     "name": "stdout",
     "output_type": "stream",
     "text": [
      "1.7916897535324097\n"
     ]
    }
   ],
   "source": [
    "loss = loss_func(batchY_hat, batchY)\n",
    "print(float(loss))"
   ]
  },
  {
   "cell_type": "code",
   "execution_count": 34,
   "metadata": {},
   "outputs": [],
   "source": [
    "optimizer.zero_grad()\n",
    "loss.backward()\n",
    "optimizer.step()"
   ]
  }
 ],
 "metadata": {
  "kernelspec": {
   "display_name": "Python 3",
   "language": "python",
   "name": "python3"
  },
  "language_info": {
   "codemirror_mode": {
    "name": "ipython",
    "version": 3
   },
   "file_extension": ".py",
   "mimetype": "text/x-python",
   "name": "python",
   "nbconvert_exporter": "python",
   "pygments_lexer": "ipython3",
   "version": "3.10.11"
  }
 },
 "nbformat": 4,
 "nbformat_minor": 2
}
