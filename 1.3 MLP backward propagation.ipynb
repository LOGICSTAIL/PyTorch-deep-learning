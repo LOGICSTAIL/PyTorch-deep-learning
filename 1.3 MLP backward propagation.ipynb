{
  "nbformat": 4,
  "nbformat_minor": 0,
  "metadata": {
    "colab": {
      "name": "1. 1. Understand MLP .ipynb",
      "provenance": [],
      "collapsed_sections": [],
      "include_colab_link": true
    },
    "kernelspec": {
      "display_name": "Python 3",
      "language": "python",
      "name": "python3"
    },
    "language_info": {
      "codemirror_mode": {
        "name": "ipython",
        "version": 3
      },
      "file_extension": ".py",
      "mimetype": "text/x-python",
      "name": "python",
      "nbconvert_exporter": "python",
      "pygments_lexer": "ipython3",
      "version": "3.6.10"
    }
  },
  "cells": [
    {
      "cell_type": "markdown",
      "metadata": {
        "id": "view-in-github",
        "colab_type": "text"
      },
      "source": [
        "<a href=\"https://colab.research.google.com/github/TienLungSun/PyTorch-deep-learning/blob/main/1.3%20MLP%20backward%20propagation.ipynb\" target=\"_parent\"><img src=\"https://colab.research.google.com/assets/colab-badge.svg\" alt=\"Open In Colab\"/></a>"
      ]
    },
    {
      "cell_type": "code",
      "metadata": {
        "id": "a1kFKiHzQajW"
      },
      "source": [
        "import torch\n",
        "import torch.nn as nn"
      ],
      "execution_count": 1,
      "outputs": []
    },
    {
      "cell_type": "code",
      "metadata": {
        "colab": {
          "base_uri": "https://localhost:8080/"
        },
        "id": "-MvLGgYaQajy",
        "outputId": "9c366349-0e14-419b-822a-de558dc358af"
      },
      "source": [
        "MyNet = nn.Sequential(\n",
        "  nn.Linear(2, 3),\n",
        "  nn.Linear(3, 2),\n",
        "  nn.Linear(2, 1)\n",
        ")\n",
        "print(MyNet)"
      ],
      "execution_count": 2,
      "outputs": [
        {
          "output_type": "stream",
          "name": "stdout",
          "text": [
            "Sequential(\n",
            "  (0): Linear(in_features=2, out_features=3, bias=True)\n",
            "  (1): Linear(in_features=3, out_features=2, bias=True)\n",
            "  (2): Linear(in_features=2, out_features=1, bias=True)\n",
            ")\n"
          ]
        }
      ]
    },
    {
      "cell_type": "code",
      "metadata": {
        "id": "far_fuhNrVCe"
      },
      "source": [
        "loss_func = torch.nn.MSELoss()"
      ],
      "execution_count": 3,
      "outputs": []
    },
    {
      "cell_type": "code",
      "metadata": {
        "id": "TfDLpOKCQajk",
        "colab": {
          "base_uri": "https://localhost:8080/"
        },
        "outputId": "2375e6aa-1003-4468-957f-721f1ab0f024"
      },
      "source": [
        "lstX = [[1, 2], [2, 3], [10, 5]]\n",
        "lstY = [[7], [12], [40]]  # y=3x1+2x2\n",
        "tensorX = torch.FloatTensor(lstX)\n",
        "tensorY_hat = torch.FloatTensor(lstY)\n",
        "\n",
        "tensorY= MyNet(tensorX)\n",
        "print(tensorY)"
      ],
      "execution_count": 4,
      "outputs": [
        {
          "output_type": "stream",
          "name": "stdout",
          "text": [
            "tensor([[-0.0905],\n",
            "        [-0.1268],\n",
            "        [-0.2452]], grad_fn=<AddmmBackward0>)\n"
          ]
        }
      ]
    },
    {
      "cell_type": "code",
      "metadata": {
        "id": "-lj3uxEmi4BL",
        "colab": {
          "base_uri": "https://localhost:8080/"
        },
        "outputId": "b1fe8615-982d-4ce1-e9e6-4cbe85b58ac4"
      },
      "source": [
        "loss = loss_func(tensorY , tensorY_hat)\n",
        "print(loss)"
      ],
      "execution_count": 5,
      "outputs": [
        {
          "output_type": "stream",
          "name": "stdout",
          "text": [
            "tensor(605.6697, grad_fn=<MseLossBackward0>)\n"
          ]
        }
      ]
    },
    {
      "cell_type": "code",
      "metadata": {
        "id": "BcT_8KzfblD5",
        "colab": {
          "base_uri": "https://localhost:8080/"
        },
        "outputId": "f1bd9eea-fba7-4033-8edd-941d75612bf3"
      },
      "source": [
        "for name, param in MyNet.named_parameters():\n",
        "    if param.requires_grad:\n",
        "        print(name, param.data, param.grad)"
      ],
      "execution_count": 6,
      "outputs": [
        {
          "output_type": "stream",
          "name": "stdout",
          "text": [
            "0.weight tensor([[-0.0829, -0.2703],\n",
            "        [ 0.1157, -0.1009],\n",
            "        [ 0.0747, -0.0340]]) None\n",
            "0.bias tensor([-0.3277,  0.6826,  0.1023]) None\n",
            "1.weight tensor([[-0.4139, -0.2645,  0.3256],\n",
            "        [-0.3659,  0.3474, -0.0009]]) None\n",
            "1.bias tensor([0.5277, 0.4159]) None\n",
            "2.weight tensor([[-0.2142, -0.0227]]) None\n",
            "2.bias tensor([0.1028]) None\n"
          ]
        }
      ]
    },
    {
      "cell_type": "code",
      "metadata": {
        "id": "s2o9dPxJUsYX"
      },
      "source": [
        "MyNet.zero_grad()"
      ],
      "execution_count": 7,
      "outputs": []
    },
    {
      "cell_type": "code",
      "metadata": {
        "id": "d_Ocof33VKZG"
      },
      "source": [
        "loss.backward()"
      ],
      "execution_count": 8,
      "outputs": []
    },
    {
      "cell_type": "code",
      "metadata": {
        "id": "Mj676suZb0dX",
        "colab": {
          "base_uri": "https://localhost:8080/"
        },
        "outputId": "ee79dcf3-db61-460e-f1f9-b2b3e48171f9"
      },
      "source": [
        "for name, param in MyNet.named_parameters():\n",
        "    if param.requires_grad:\n",
        "        print(name, param.data, param.grad)"
      ],
      "execution_count": 9,
      "outputs": [
        {
          "output_type": "stream",
          "name": "stdout",
          "text": [
            "0.weight tensor([[-0.0829, -0.2703],\n",
            "        [ 0.1157, -0.1009],\n",
            "        [ 0.0747, -0.0340]]) tensor([[-28.0469, -16.2792],\n",
            "        [-14.1108,  -8.1903],\n",
            "        [ 20.1668,  11.7054]])\n",
            "0.bias tensor([-0.3277,  0.6826,  0.1023]) tensor([-3.8445, -1.9342,  2.7644])\n",
            "1.weight tensor([[-0.4139, -0.2645,  0.3256],\n",
            "        [-0.3659,  0.3474, -0.0009]]) tensor([[-17.6404,   9.3406,   4.2757],\n",
            "        [ -1.8674,   0.9888,   0.4526]])\n",
            "1.bias tensor([0.5277, 0.4159]) tensor([8.4931, 0.8991])\n",
            "2.weight tensor([[-0.2142, -0.0227]]) tensor([[-49.9679, -61.7403]])\n",
            "2.bias tensor([0.1028]) tensor([-39.6416])\n"
          ]
        }
      ]
    },
    {
      "cell_type": "code",
      "metadata": {
        "id": "1E-8IbMNjs9s"
      },
      "source": [
        "learning_rate=0.005"
      ],
      "execution_count": 10,
      "outputs": []
    },
    {
      "cell_type": "code",
      "metadata": {
        "id": "g4GG6ps1XRLW"
      },
      "source": [
        "for name, param in MyNet.named_parameters():\n",
        "    if param.requires_grad:\n",
        "      param = param - learning_rate*param.grad\n",
        "      \n",
        "      nameLst = name.split(\".\")  #\"0.weight\" -> ['0', 'weight']\n",
        "      layerNo = int(nameLst[0])\n",
        "      s = nameLst[1]\n",
        "      if(s==\"weight\"):\n",
        "        MyNet[layerNo].weight = torch.nn.parameter.Parameter(param)\n",
        "      elif(s==\"bias\"):\n",
        "        MyNet[layerNo].bias = torch.nn.parameter.Parameter(param)\n",
        "      else:\n",
        "        print(\"wrong label\")"
      ],
      "execution_count": 11,
      "outputs": []
    },
    {
      "cell_type": "code",
      "metadata": {
        "id": "6y9ln-W8j3CL",
        "colab": {
          "base_uri": "https://localhost:8080/"
        },
        "outputId": "1721b3a7-1038-4c20-d380-3c6b7856ef88"
      },
      "source": [
        "print(\"previous y =\", tensorY, \", previous loss =\", loss)\n",
        "tensorY= MyNet(tensorX)\n",
        "print(tensorY)\n",
        "loss = loss_func(tensorY , tensorY_hat)\n",
        "print(loss)"
      ],
      "execution_count": 12,
      "outputs": [
        {
          "output_type": "stream",
          "name": "stdout",
          "text": [
            "previous y = tensor([[-0.0905],\n",
            "        [-0.1268],\n",
            "        [-0.2452]], grad_fn=<AddmmBackward0>) , previous loss = tensor(605.6697, grad_fn=<MseLossBackward0>)\n",
            "tensor([[0.5721],\n",
            "        [0.5968],\n",
            "        [0.7028]], grad_fn=<AddmmBackward0>)\n",
            "tensor(571.8744, grad_fn=<MseLossBackward0>)\n"
          ]
        }
      ]
    },
    {
      "cell_type": "code",
      "metadata": {
        "id": "IuSgB8OpkAzj"
      },
      "source": [
        ""
      ],
      "execution_count": null,
      "outputs": []
    }
  ]
}