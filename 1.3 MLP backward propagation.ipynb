{
  "nbformat": 4,
  "nbformat_minor": 0,
  "metadata": {
    "colab": {
      "name": "1. 1. Understand MLP .ipynb",
      "provenance": [],
      "collapsed_sections": [],
      "include_colab_link": true
    },
    "kernelspec": {
      "display_name": "Python 3",
      "language": "python",
      "name": "python3"
    },
    "language_info": {
      "codemirror_mode": {
        "name": "ipython",
        "version": 3
      },
      "file_extension": ".py",
      "mimetype": "text/x-python",
      "name": "python",
      "nbconvert_exporter": "python",
      "pygments_lexer": "ipython3",
      "version": "3.6.10"
    }
  },
  "cells": [
    {
      "cell_type": "markdown",
      "metadata": {
        "id": "view-in-github",
        "colab_type": "text"
      },
      "source": [
        "<a href=\"https://colab.research.google.com/github/TienLungSun/PyTorch-Colab/blob/main/1.3%20MLP%20backward%20propagation.ipynb\" target=\"_parent\"><img src=\"https://colab.research.google.com/assets/colab-badge.svg\" alt=\"Open In Colab\"/></a>"
      ]
    },
    {
      "cell_type": "code",
      "metadata": {
        "id": "a1kFKiHzQajW"
      },
      "source": [
        "import torch\n",
        "import torch.nn as nn"
      ],
      "execution_count": 1,
      "outputs": []
    },
    {
      "cell_type": "code",
      "metadata": {
        "colab": {
          "base_uri": "https://localhost:8080/"
        },
        "id": "-MvLGgYaQajy",
        "outputId": "d74a5cef-0997-44d6-a7a3-0fb5839d7bb4"
      },
      "source": [
        "MyNet = nn.Sequential(\n",
        "  nn.Linear(2, 3),\n",
        "  nn.Linear(3, 2),\n",
        "  nn.Linear(2, 1)\n",
        ")\n",
        "print(MyNet)"
      ],
      "execution_count": 2,
      "outputs": [
        {
          "output_type": "stream",
          "name": "stdout",
          "text": [
            "Sequential(\n",
            "  (0): Linear(in_features=2, out_features=3, bias=True)\n",
            "  (1): Linear(in_features=3, out_features=2, bias=True)\n",
            "  (2): Linear(in_features=2, out_features=1, bias=True)\n",
            ")\n"
          ]
        }
      ]
    },
    {
      "cell_type": "code",
      "metadata": {
        "id": "far_fuhNrVCe"
      },
      "source": [
        "loss_func = torch.nn.MSELoss()"
      ],
      "execution_count": 3,
      "outputs": []
    },
    {
      "cell_type": "code",
      "metadata": {
        "id": "TfDLpOKCQajk",
        "outputId": "56bae623-f658-45cb-eb8f-8b72c2a8ef4f",
        "colab": {
          "base_uri": "https://localhost:8080/"
        }
      },
      "source": [
        "lstX = [[1, 2], [2, 3], [10, 5]]\n",
        "lstY = [[7], [12], [40]]  # y=3x1+2x2\n",
        "tensorX = torch.FloatTensor(lstX)\n",
        "tensorY_hat = torch.FloatTensor(lstY)\n",
        "\n",
        "tensorY= MyNet(tensorX)\n",
        "print(tensorY)"
      ],
      "execution_count": 4,
      "outputs": [
        {
          "output_type": "stream",
          "name": "stdout",
          "text": [
            "tensor([[-0.8962],\n",
            "        [-0.8990],\n",
            "        [-0.6934]], grad_fn=<AddmmBackward>)\n"
          ]
        }
      ]
    },
    {
      "cell_type": "code",
      "metadata": {
        "id": "-lj3uxEmi4BL",
        "outputId": "8934719d-eedb-4f4f-e582-ea87794824e1",
        "colab": {
          "base_uri": "https://localhost:8080/"
        }
      },
      "source": [
        "loss = loss_func(tensorY , tensorY_hat)\n",
        "print(loss)"
      ],
      "execution_count": 5,
      "outputs": [
        {
          "output_type": "stream",
          "name": "stdout",
          "text": [
            "tensor(628.2281, grad_fn=<MseLossBackward>)\n"
          ]
        }
      ]
    },
    {
      "cell_type": "code",
      "metadata": {
        "id": "BcT_8KzfblD5",
        "outputId": "96c02b20-d092-4d16-9f31-7be26f2faa9b",
        "colab": {
          "base_uri": "https://localhost:8080/"
        }
      },
      "source": [
        "for name, param in MyNet.named_parameters():\n",
        "    if param.requires_grad:\n",
        "        print(name, param.data, param.grad)"
      ],
      "execution_count": 6,
      "outputs": [
        {
          "output_type": "stream",
          "name": "stdout",
          "text": [
            "0.weight tensor([[-0.1106, -0.3014],\n",
            "        [ 0.1583,  0.0133],\n",
            "        [ 0.3657, -0.2059]]) None\n",
            "0.bias tensor([ 0.3706, -0.5602,  0.0177]) None\n",
            "1.weight tensor([[0.5130, 0.5332, 0.0728],\n",
            "        [0.2354, 0.2699, 0.3716]]) None\n",
            "1.bias tensor([-0.5177, -0.5182]) None\n",
            "2.weight tensor([[0.0428, 0.2153]]) None\n",
            "2.bias tensor([-0.7049]) None\n"
          ]
        }
      ]
    },
    {
      "cell_type": "code",
      "metadata": {
        "id": "s2o9dPxJUsYX"
      },
      "source": [
        "MyNet.zero_grad()"
      ],
      "execution_count": 7,
      "outputs": []
    },
    {
      "cell_type": "code",
      "metadata": {
        "id": "d_Ocof33VKZG"
      },
      "source": [
        "loss.backward(retain_graph=True)"
      ],
      "execution_count": 8,
      "outputs": []
    },
    {
      "cell_type": "code",
      "metadata": {
        "id": "Mj676suZb0dX",
        "outputId": "4db58a66-c7da-4045-d9c3-0db954ec9e44",
        "colab": {
          "base_uri": "https://localhost:8080/"
        }
      },
      "source": [
        "for name, param in MyNet.named_parameters():\n",
        "    if param.requires_grad:\n",
        "        print(name, param.data, param.grad)"
      ],
      "execution_count": 9,
      "outputs": [
        {
          "output_type": "stream",
          "name": "stdout",
          "text": [
            "0.weight tensor([[-0.1106, -0.3014],\n",
            "        [ 0.1583,  0.0133],\n",
            "        [ 0.3657, -0.2059]]) tensor([[-21.3371, -12.4914],\n",
            "        [-23.7728, -13.9173],\n",
            "        [-24.4191, -14.2956]])\n",
            "0.bias tensor([ 0.3706, -0.5602,  0.0177]) tensor([-2.9775, -3.3174, -3.4076])\n",
            "1.weight tensor([[0.5130, 0.5332, 0.0728],\n",
            "        [0.2354, 0.2699, 0.3716]]) tensor([[  2.9579,  -1.1053,  -3.1125],\n",
            "        [ 14.8869,  -5.5630, -15.6649]])\n",
            "1.bias tensor([-0.5177, -0.5182]) tensor([-1.7537, -8.8262])\n",
            "2.weight tensor([[0.0428, 0.2153]]) tensor([[37.6201,  3.5099]])\n",
            "2.bias tensor([-0.7049]) tensor([-40.9924])\n"
          ]
        }
      ]
    },
    {
      "cell_type": "code",
      "metadata": {
        "id": "1E-8IbMNjs9s"
      },
      "source": [
        "learning_rate=0.005"
      ],
      "execution_count": 10,
      "outputs": []
    },
    {
      "cell_type": "code",
      "metadata": {
        "id": "g4GG6ps1XRLW"
      },
      "source": [
        "for name, param in MyNet.named_parameters():\n",
        "    if param.requires_grad:\n",
        "      param = param - learning_rate*param.grad\n",
        "      \n",
        "      nameLst = name.split(\".\")  #\"0.weight\" -> ['0', 'weight']\n",
        "      layerNo = int(nameLst[0])\n",
        "      s = nameLst[1]\n",
        "      if(s==\"weight\"):\n",
        "        MyNet[layerNo].weight = torch.nn.parameter.Parameter(param)\n",
        "      elif(s==\"bias\"):\n",
        "        MyNet[layerNo].bias = torch.nn.parameter.Parameter(param)\n",
        "      else:\n",
        "        print(\"wrong label\")"
      ],
      "execution_count": 11,
      "outputs": []
    },
    {
      "cell_type": "code",
      "metadata": {
        "id": "6y9ln-W8j3CL",
        "outputId": "54e9220a-b5a0-4fb3-ed1d-fcbe76aedd1c",
        "colab": {
          "base_uri": "https://localhost:8080/"
        }
      },
      "source": [
        "print(\"previous y =\", tensorY, \", previous loss =\", loss)\n",
        "tensorY= MyNet(tensorX)\n",
        "print(tensorY)\n",
        "loss = loss_func(tensorY , tensorY_hat)\n",
        "print(loss)"
      ],
      "execution_count": 12,
      "outputs": [
        {
          "output_type": "stream",
          "name": "stdout",
          "text": [
            "previous y = tensor([[-0.8962],\n",
            "        [-0.8990],\n",
            "        [-0.6934]], grad_fn=<AddmmBackward>) , previous loss = tensor(628.2281, grad_fn=<MseLossBackward>)\n",
            "tensor([[-0.4945],\n",
            "        [-0.4647],\n",
            "        [-0.2136]], grad_fn=<AddmmBackward>)\n",
            "tensor(609.5574, grad_fn=<MseLossBackward>)\n"
          ]
        }
      ]
    },
    {
      "cell_type": "code",
      "metadata": {
        "id": "IuSgB8OpkAzj"
      },
      "source": [
        ""
      ],
      "execution_count": null,
      "outputs": []
    }
  ]
}