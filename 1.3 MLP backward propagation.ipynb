{
  "nbformat": 4,
  "nbformat_minor": 0,
  "metadata": {
    "colab": {
      "name": "1. 1. Understand MLP .ipynb",
      "provenance": [],
      "collapsed_sections": [],
      "include_colab_link": true
    },
    "kernelspec": {
      "display_name": "Python 3",
      "language": "python",
      "name": "python3"
    },
    "language_info": {
      "codemirror_mode": {
        "name": "ipython",
        "version": 3
      },
      "file_extension": ".py",
      "mimetype": "text/x-python",
      "name": "python",
      "nbconvert_exporter": "python",
      "pygments_lexer": "ipython3",
      "version": "3.6.10"
    }
  },
  "cells": [
    {
      "cell_type": "markdown",
      "metadata": {
        "id": "view-in-github",
        "colab_type": "text"
      },
      "source": [
        "<a href=\"https://colab.research.google.com/github/TienLungSun/PyTorch-Colab/blob/main/1.3%20MLP%20backward%20propagation.ipynb\" target=\"_parent\"><img src=\"https://colab.research.google.com/assets/colab-badge.svg\" alt=\"Open In Colab\"/></a>"
      ]
    },
    {
      "cell_type": "code",
      "metadata": {
        "id": "a1kFKiHzQajW"
      },
      "source": [
        "import torch\n",
        "import torch.nn as nn"
      ],
      "execution_count": 1,
      "outputs": []
    },
    {
      "cell_type": "code",
      "metadata": {
        "colab": {
          "base_uri": "https://localhost:8080/"
        },
        "id": "-MvLGgYaQajy",
        "outputId": "cda534e8-0beb-478e-f6f1-82c0497608ab"
      },
      "source": [
        "MyNet = nn.Sequential(\n",
        "  nn.Linear(2, 3),\n",
        "  nn.Linear(3, 2),\n",
        "  nn.Linear(2, 1)\n",
        ")\n",
        "print(MyNet)"
      ],
      "execution_count": 2,
      "outputs": [
        {
          "output_type": "stream",
          "name": "stdout",
          "text": [
            "Sequential(\n",
            "  (0): Linear(in_features=2, out_features=3, bias=True)\n",
            "  (1): Linear(in_features=3, out_features=2, bias=True)\n",
            "  (2): Linear(in_features=2, out_features=1, bias=True)\n",
            ")\n"
          ]
        }
      ]
    },
    {
      "cell_type": "code",
      "metadata": {
        "id": "far_fuhNrVCe"
      },
      "source": [
        "loss_func = torch.nn.MSELoss()"
      ],
      "execution_count": 3,
      "outputs": []
    },
    {
      "cell_type": "code",
      "metadata": {
        "id": "TfDLpOKCQajk",
        "colab": {
          "base_uri": "https://localhost:8080/"
        },
        "outputId": "19e0147f-20f9-468e-bac8-9b243cdb9869"
      },
      "source": [
        "lstX = [[1, 2], [2, 3], [10, 5]]\n",
        "lstY = [[7], [12], [40]]  # y=3x1+2x2\n",
        "tensorX = torch.FloatTensor(lstX)\n",
        "tensorY_hat = torch.FloatTensor(lstY)\n",
        "\n",
        "tensorY= MyNet(tensorX)\n",
        "print(tensorY)"
      ],
      "execution_count": 4,
      "outputs": [
        {
          "output_type": "stream",
          "name": "stdout",
          "text": [
            "tensor([[-1.0213],\n",
            "        [-1.4387],\n",
            "        [-3.5096]], grad_fn=<AddmmBackward>)\n"
          ]
        }
      ]
    },
    {
      "cell_type": "code",
      "metadata": {
        "id": "-lj3uxEmi4BL",
        "colab": {
          "base_uri": "https://localhost:8080/"
        },
        "outputId": "35a0c60d-8fc6-45fd-e88b-0554a69ef701"
      },
      "source": [
        "loss = loss_func(tensorY , tensorY_hat)\n",
        "print(loss)"
      ],
      "execution_count": 5,
      "outputs": [
        {
          "output_type": "stream",
          "name": "stdout",
          "text": [
            "tensor(712.6746, grad_fn=<MseLossBackward>)\n"
          ]
        }
      ]
    },
    {
      "cell_type": "code",
      "metadata": {
        "id": "BcT_8KzfblD5",
        "colab": {
          "base_uri": "https://localhost:8080/"
        },
        "outputId": "d76c9058-208a-4515-edfe-bca75290cdfc"
      },
      "source": [
        "for name, param in MyNet.named_parameters():\n",
        "    if param.requires_grad:\n",
        "        print(name, param.data, param.grad)"
      ],
      "execution_count": 6,
      "outputs": [
        {
          "output_type": "stream",
          "name": "stdout",
          "text": [
            "0.weight tensor([[-0.5867, -0.6337],\n",
            "        [ 0.3814,  0.2226],\n",
            "        [-0.6688, -0.2809]]) None\n",
            "0.bias tensor([0.2658, 0.1736, 0.2439]) None\n",
            "1.weight tensor([[-0.3194, -0.4141, -0.1529],\n",
            "        [ 0.5374, -0.0559,  0.0865]]) None\n",
            "1.bias tensor([-0.4321, -0.3396]) None\n",
            "2.weight tensor([[-0.5285,  0.3458]]) None\n",
            "2.bias tensor([-0.6594]) None\n"
          ]
        }
      ]
    },
    {
      "cell_type": "code",
      "metadata": {
        "id": "s2o9dPxJUsYX"
      },
      "source": [
        "MyNet.zero_grad()"
      ],
      "execution_count": 7,
      "outputs": []
    },
    {
      "cell_type": "code",
      "metadata": {
        "id": "d_Ocof33VKZG"
      },
      "source": [
        "loss.backward()"
      ],
      "execution_count": 8,
      "outputs": []
    },
    {
      "cell_type": "code",
      "metadata": {
        "id": "Mj676suZb0dX",
        "colab": {
          "base_uri": "https://localhost:8080/"
        },
        "outputId": "2e1ad2f5-6eca-46b3-ef62-7e7699af7603"
      },
      "source": [
        "for name, param in MyNet.named_parameters():\n",
        "    if param.requires_grad:\n",
        "        print(name, param.data, param.grad)"
      ],
      "execution_count": 9,
      "outputs": [
        {
          "output_type": "stream",
          "name": "stdout",
          "text": [
            "0.weight tensor([[-0.5867, -0.6337],\n",
            "        [ 0.3814,  0.2226],\n",
            "        [-0.6688, -0.2809]]) tensor([[-111.1157,  -64.7568],\n",
            "        [ -62.5252,  -36.4389],\n",
            "        [ -34.6870,  -20.2151]])\n",
            "0.bias tensor([0.2658, 0.1736, 0.2439]) tensor([-15.3601,  -8.6432,  -4.7950])\n",
            "1.weight tensor([[-0.3194, -0.4141, -0.1529],\n",
            "        [ 0.5374, -0.0559,  0.0865]]) tensor([[-152.2366,   88.6175, -132.2779],\n",
            "        [  99.6079,  -57.9821,   86.5490]])\n",
            "1.bias tensor([-0.4321, -0.3396]) tensor([ 22.8917, -14.9780])\n",
            "2.weight tensor([[-0.5285,  0.3458]]) tensor([[-42.0923, 200.5329]])\n",
            "2.bias tensor([-0.6594]) tensor([-43.3131])\n"
          ]
        }
      ]
    },
    {
      "cell_type": "code",
      "metadata": {
        "id": "1E-8IbMNjs9s"
      },
      "source": [
        "learning_rate=0.005"
      ],
      "execution_count": 10,
      "outputs": []
    },
    {
      "cell_type": "code",
      "metadata": {
        "id": "g4GG6ps1XRLW"
      },
      "source": [
        "for name, param in MyNet.named_parameters():\n",
        "    if param.requires_grad:\n",
        "      param = param - learning_rate*param.grad\n",
        "      \n",
        "      nameLst = name.split(\".\")  #\"0.weight\" -> ['0', 'weight']\n",
        "      layerNo = int(nameLst[0])\n",
        "      s = nameLst[1]\n",
        "      if(s==\"weight\"):\n",
        "        MyNet[layerNo].weight = torch.nn.parameter.Parameter(param)\n",
        "      elif(s==\"bias\"):\n",
        "        MyNet[layerNo].bias = torch.nn.parameter.Parameter(param)\n",
        "      else:\n",
        "        print(\"wrong label\")"
      ],
      "execution_count": 11,
      "outputs": []
    },
    {
      "cell_type": "code",
      "metadata": {
        "id": "6y9ln-W8j3CL",
        "colab": {
          "base_uri": "https://localhost:8080/"
        },
        "outputId": "db88ffbc-73b2-45a4-d779-b443c472c1f3"
      },
      "source": [
        "print(\"previous y =\", tensorY, \", previous loss =\", loss)\n",
        "tensorY= MyNet(tensorX)\n",
        "print(tensorY)\n",
        "loss = loss_func(tensorY , tensorY_hat)\n",
        "print(loss)"
      ],
      "execution_count": 12,
      "outputs": [
        {
          "output_type": "stream",
          "name": "stdout",
          "text": [
            "previous y = tensor([[-1.0213],\n",
            "        [-1.4387],\n",
            "        [-3.5096]], grad_fn=<AddmmBackward>) , previous loss = tensor(712.6746, grad_fn=<MseLossBackward>)\n",
            "tensor([[0.1223],\n",
            "        [0.2654],\n",
            "        [0.8826]], grad_fn=<AddmmBackward>)\n",
            "tensor(571.7249, grad_fn=<MseLossBackward>)\n"
          ]
        }
      ]
    },
    {
      "cell_type": "code",
      "metadata": {
        "id": "IuSgB8OpkAzj"
      },
      "source": [
        ""
      ],
      "execution_count": null,
      "outputs": []
    }
  ]
}