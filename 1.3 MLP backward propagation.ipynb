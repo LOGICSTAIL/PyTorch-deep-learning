{
  "nbformat": 4,
  "nbformat_minor": 0,
  "metadata": {
    "colab": {
      "name": "1. 1. Understand MLP .ipynb",
      "provenance": [],
      "collapsed_sections": [],
      "include_colab_link": true
    },
    "kernelspec": {
      "display_name": "Python 3",
      "language": "python",
      "name": "python3"
    },
    "language_info": {
      "codemirror_mode": {
        "name": "ipython",
        "version": 3
      },
      "file_extension": ".py",
      "mimetype": "text/x-python",
      "name": "python",
      "nbconvert_exporter": "python",
      "pygments_lexer": "ipython3",
      "version": "3.6.10"
    }
  },
  "cells": [
    {
      "cell_type": "markdown",
      "metadata": {
        "id": "view-in-github",
        "colab_type": "text"
      },
      "source": [
        "<a href=\"https://colab.research.google.com/github/TienLungSun/PyTorch-deep-learning/blob/main/1.3%20MLP%20backward%20propagation.ipynb\" target=\"_parent\"><img src=\"https://colab.research.google.com/assets/colab-badge.svg\" alt=\"Open In Colab\"/></a>"
      ]
    },
    {
      "cell_type": "code",
      "metadata": {
        "id": "a1kFKiHzQajW"
      },
      "source": [
        "import torch\n",
        "import torch.nn as nn"
      ],
      "execution_count": 1,
      "outputs": []
    },
    {
      "cell_type": "code",
      "metadata": {
        "colab": {
          "base_uri": "https://localhost:8080/"
        },
        "id": "-MvLGgYaQajy",
        "outputId": "06cb02ba-f30c-4079-c0a9-4dfc535abf19"
      },
      "source": [
        "MyNet = nn.Sequential(\n",
        "  nn.Linear(2, 3),\n",
        "  nn.Linear(3, 2),\n",
        "  nn.Linear(2, 1)\n",
        ")\n",
        "print(MyNet)"
      ],
      "execution_count": 2,
      "outputs": [
        {
          "output_type": "stream",
          "name": "stdout",
          "text": [
            "Sequential(\n",
            "  (0): Linear(in_features=2, out_features=3, bias=True)\n",
            "  (1): Linear(in_features=3, out_features=2, bias=True)\n",
            "  (2): Linear(in_features=2, out_features=1, bias=True)\n",
            ")\n"
          ]
        }
      ]
    },
    {
      "cell_type": "code",
      "metadata": {
        "id": "far_fuhNrVCe"
      },
      "source": [
        "loss_func = torch.nn.MSELoss()"
      ],
      "execution_count": 3,
      "outputs": []
    },
    {
      "cell_type": "code",
      "metadata": {
        "id": "TfDLpOKCQajk",
        "colab": {
          "base_uri": "https://localhost:8080/"
        },
        "outputId": "586dffb5-0855-4ca8-dff4-2d19cf0f448e"
      },
      "source": [
        "lstX = [[1, 2], [2, 3], [10, 5]]\n",
        "lstY = [[7], [12], [40]]  # y=3x1+2x2\n",
        "tensorX = torch.FloatTensor(lstX)\n",
        "tensorY = torch.FloatTensor(lstY)\n",
        "\n",
        "tensorY_hat= MyNet(tensorX)\n",
        "print(tensorY, '\\n', tensorY_hat)"
      ],
      "execution_count": 4,
      "outputs": [
        {
          "output_type": "stream",
          "name": "stdout",
          "text": [
            "tensor([[ 7.],\n",
            "        [12.],\n",
            "        [40.]]) \n",
            " tensor([[ 0.2441],\n",
            "        [ 0.0221],\n",
            "        [-1.1948]], grad_fn=<AddmmBackward0>)\n"
          ]
        }
      ]
    },
    {
      "cell_type": "code",
      "metadata": {
        "id": "-lj3uxEmi4BL",
        "colab": {
          "base_uri": "https://localhost:8080/"
        },
        "outputId": "db3806ec-3816-4898-ec3b-aae6d95f6925"
      },
      "source": [
        "loss = loss_func(tensorY , tensorY_hat)\n",
        "print(loss)"
      ],
      "execution_count": 5,
      "outputs": [
        {
          "output_type": "stream",
          "name": "stdout",
          "text": [
            "tensor(628.7084, grad_fn=<MseLossBackward0>)\n"
          ]
        }
      ]
    },
    {
      "cell_type": "code",
      "metadata": {
        "id": "BcT_8KzfblD5",
        "colab": {
          "base_uri": "https://localhost:8080/"
        },
        "outputId": "4bab1d0d-254b-49c8-b7ad-4f2fa68fb792"
      },
      "source": [
        "for name, param in MyNet.named_parameters():\n",
        "    if param.requires_grad:\n",
        "        print(name, '\\n', param.data, '\\n', param.grad)"
      ],
      "execution_count": 6,
      "outputs": [
        {
          "output_type": "stream",
          "name": "stdout",
          "text": [
            "0.weight \n",
            " tensor([[-0.2506, -0.5361],\n",
            "        [ 0.1660, -0.5131],\n",
            "        [-0.3070, -0.2919]]) \n",
            " None\n",
            "0.bias \n",
            " tensor([-0.2662,  0.3062,  0.1193]) \n",
            " None\n",
            "1.weight \n",
            " tensor([[-0.3080, -0.1521,  0.4635],\n",
            "        [-0.3924, -0.2087, -0.3637]]) \n",
            " None\n",
            "1.bias \n",
            " tensor([-0.1657, -0.0058]) \n",
            " None\n",
            "2.weight \n",
            " tensor([[ 0.6691, -0.3901]]) \n",
            " None\n",
            "2.bias \n",
            " tensor([0.6058]) \n",
            " None\n"
          ]
        }
      ]
    },
    {
      "cell_type": "code",
      "metadata": {
        "id": "s2o9dPxJUsYX"
      },
      "source": [
        "MyNet.zero_grad()\n",
        "loss.backward()"
      ],
      "execution_count": 7,
      "outputs": []
    },
    {
      "cell_type": "code",
      "source": [
        "for name, param in MyNet.named_parameters():\n",
        "    if param.requires_grad:\n",
        "        print(name, '\\n', param.data, '\\n', param.grad)"
      ],
      "metadata": {
        "id": "YmW7Zpf7DXn8",
        "outputId": "00a27ab6-1979-48b5-e9ae-6270d824ab7f",
        "colab": {
          "base_uri": "https://localhost:8080/"
        }
      },
      "execution_count": 8,
      "outputs": [
        {
          "output_type": "stream",
          "name": "stdout",
          "text": [
            "0.weight \n",
            " tensor([[-0.2506, -0.5361],\n",
            "        [ 0.1660, -0.5131],\n",
            "        [-0.3070, -0.2919]]) \n",
            " tensor([[  15.6560,    9.0337],\n",
            "        [   6.0021,    3.4633],\n",
            "        [-133.3875,  -76.9660]])\n",
            "0.bias \n",
            " tensor([-0.2662,  0.3062,  0.1193]) \n",
            " tensor([  2.1196,   0.8126, -18.0584])\n",
            "1.weight \n",
            " tensor([[-0.3080, -0.1521,  0.4635],\n",
            "        [-0.3924, -0.2087, -0.3637]]) \n",
            " tensor([[117.6885,  17.5010,  90.6973],\n",
            "        [-68.6092, -10.2026, -52.8741]])\n",
            "1.bias \n",
            " tensor([-0.1657, -0.0058]) \n",
            " tensor([-26.7334,  15.5849])\n",
            "2.weight \n",
            " tensor([[ 0.6691, -0.3901]]) \n",
            " tensor([[  11.2891, -123.5339]])\n",
            "2.bias \n",
            " tensor([0.6058]) \n",
            " tensor([-39.9524])\n"
          ]
        }
      ]
    },
    {
      "cell_type": "code",
      "metadata": {
        "id": "g4GG6ps1XRLW"
      },
      "source": [
        "learning_rate=0.005\n",
        "for name, param in MyNet.named_parameters():\n",
        "    if param.requires_grad:\n",
        "      param = param - learning_rate*param.grad\n",
        "      \n",
        "      nameLst = name.split(\".\")  #\"0.weight\" -> ['0', 'weight']\n",
        "      layerNo = int(nameLst[0])\n",
        "      s = nameLst[1]\n",
        "      #update weight and bias\n",
        "      if(s==\"weight\"):\n",
        "        MyNet[layerNo].weight = torch.nn.parameter.Parameter(param)\n",
        "      elif(s==\"bias\"):\n",
        "        MyNet[layerNo].bias = torch.nn.parameter.Parameter(param)\n",
        "      else:\n",
        "        print(\"wrong label\")"
      ],
      "execution_count": 9,
      "outputs": []
    },
    {
      "cell_type": "code",
      "metadata": {
        "id": "6y9ln-W8j3CL",
        "colab": {
          "base_uri": "https://localhost:8080/"
        },
        "outputId": "42bb93f9-7dd3-459d-f2b8-ee41231bd01c"
      },
      "source": [
        "tensorY_hat= MyNet(tensorX)\n",
        "print(tensorY)\n",
        "loss = loss_func(tensorY , tensorY_hat)\n",
        "print(loss)"
      ],
      "execution_count": 10,
      "outputs": [
        {
          "output_type": "stream",
          "name": "stdout",
          "text": [
            "tensor([[ 7.],\n",
            "        [12.],\n",
            "        [40.]])\n",
            "tensor(459.2752, grad_fn=<MseLossBackward0>)\n"
          ]
        }
      ]
    },
    {
      "cell_type": "code",
      "metadata": {
        "id": "IuSgB8OpkAzj"
      },
      "source": [
        ""
      ],
      "execution_count": null,
      "outputs": []
    }
  ]
}